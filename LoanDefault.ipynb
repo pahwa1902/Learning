{
  "nbformat": 4,
  "nbformat_minor": 0,
  "metadata": {
    "colab": {
      "name": "LoanDefault.ipynb",
      "provenance": [],
      "include_colab_link": true
    },
    "kernelspec": {
      "name": "python3",
      "display_name": "Python 3"
    },
    "accelerator": "TPU"
  },
  "cells": [
    {
      "cell_type": "markdown",
      "metadata": {
        "id": "view-in-github",
        "colab_type": "text"
      },
      "source": [
        "<a href=\"https://colab.research.google.com/github/pahwa1902/Learning/blob/master/LoanDefault.ipynb\" target=\"_parent\"><img src=\"https://colab.research.google.com/assets/colab-badge.svg\" alt=\"Open In Colab\"/></a>"
      ]
    },
    {
      "cell_type": "code",
      "metadata": {
        "id": "tGmCg0Ob_BQO",
        "colab_type": "code",
        "colab": {
          "base_uri": "https://localhost:8080/",
          "height": 122
        },
        "outputId": "e5b28bd0-65b6-4589-b39e-e361ff11e7d6"
      },
      "source": [
        "from google.colab import drive\n",
        "drive.mount('/content/drive')"
      ],
      "execution_count": 1,
      "outputs": [
        {
          "output_type": "stream",
          "text": [
            "Go to this URL in a browser: https://accounts.google.com/o/oauth2/auth?client_id=947318989803-6bn6qk8qdgf4n4g3pfee6491hc0brc4i.apps.googleusercontent.com&redirect_uri=urn%3aietf%3awg%3aoauth%3a2.0%3aoob&response_type=code&scope=email%20https%3a%2f%2fwww.googleapis.com%2fauth%2fdocs.test%20https%3a%2f%2fwww.googleapis.com%2fauth%2fdrive%20https%3a%2f%2fwww.googleapis.com%2fauth%2fdrive.photos.readonly%20https%3a%2f%2fwww.googleapis.com%2fauth%2fpeopleapi.readonly\n",
            "\n",
            "Enter your authorization code:\n",
            "··········\n",
            "Mounted at /content/drive\n"
          ],
          "name": "stdout"
        }
      ]
    },
    {
      "cell_type": "code",
      "metadata": {
        "id": "0N7OHTysnhcq",
        "colab_type": "code",
        "colab": {}
      },
      "source": [
        "import pandas as pd\n",
        "import matplotlib.pyplot as plt\n",
        "import numpy as np\n",
        "import seaborn as sns\n",
        "import gensim\n",
        "import nltk\n",
        "nltk.download('punkt')\n",
        "nltk.download('stopwords')\n",
        "nltk.download('wordnet')\n",
        "from nltk import tokenize\n",
        "from nltk.corpus import stopwords\n",
        "import math\n",
        "from nltk.stem import WordNetLemmatizer\n",
        "from nltk import RegexpTokenizer\n",
        "from sklearn.decomposition import PCA"
      ],
      "execution_count": null,
      "outputs": []
    },
    {
      "cell_type": "code",
      "metadata": {
        "id": "m8o7XI06NoP4",
        "colab_type": "code",
        "colab": {}
      },
      "source": [
        "stop_words = set(stopwords.words('english'))"
      ],
      "execution_count": 3,
      "outputs": []
    },
    {
      "cell_type": "code",
      "metadata": {
        "id": "xqzFvJBnPX0T",
        "colab_type": "code",
        "colab": {
          "base_uri": "https://localhost:8080/",
          "height": 71
        },
        "outputId": "14d4500f-6f8c-4120-dbe4-f01315e63358"
      },
      "source": [
        "embedding = gensim.models.KeyedVectors.load_word2vec_format('/content/drive/My Drive/GoogleNews-vectors-negative300.bin.gz',binary=True,unicode_errors='ignore')"
      ],
      "execution_count": 4,
      "outputs": [
        {
          "output_type": "stream",
          "text": [
            "/usr/local/lib/python3.6/dist-packages/smart_open/smart_open_lib.py:254: UserWarning: This function is deprecated, use smart_open.open instead. See the migration notes for details: https://github.com/RaRe-Technologies/smart_open/blob/master/README.rst#migrating-to-the-new-open-function\n",
            "  'See the migration notes for details: %s' % _MIGRATION_NOTES_URL\n"
          ],
          "name": "stderr"
        }
      ]
    },
    {
      "cell_type": "code",
      "metadata": {
        "id": "488TBwCepMKV",
        "colab_type": "code",
        "colab": {}
      },
      "source": [
        "data = pd.read_csv('/content/drive/My Drive/train_indessa.csv')"
      ],
      "execution_count": 5,
      "outputs": []
    },
    {
      "cell_type": "code",
      "metadata": {
        "id": "a8bq77Dx1kqg",
        "colab_type": "code",
        "colab": {}
      },
      "source": [
        "nan_title=data[data['emp_title'].isnull()].index.tolist()"
      ],
      "execution_count": 6,
      "outputs": []
    },
    {
      "cell_type": "code",
      "metadata": {
        "id": "9sNcp-qA2XEZ",
        "colab_type": "code",
        "colab": {}
      },
      "source": [
        "data.drop(nan_title,inplace=True)"
      ],
      "execution_count": 7,
      "outputs": []
    },
    {
      "cell_type": "code",
      "metadata": {
        "id": "uxoBcnDnW1QZ",
        "colab_type": "code",
        "colab": {}
      },
      "source": [
        "pca = PCA(n_components=20)"
      ],
      "execution_count": 8,
      "outputs": []
    },
    {
      "cell_type": "code",
      "metadata": {
        "id": "U7nLQA80ajva",
        "colab_type": "code",
        "colab": {}
      },
      "source": [
        "data['desc'] = data['desc'].replace(np.nan,'',regex=True)"
      ],
      "execution_count": 9,
      "outputs": []
    },
    {
      "cell_type": "code",
      "metadata": {
        "id": "whj3EJ4kyCAj",
        "colab_type": "code",
        "colab": {}
      },
      "source": [
        "data['emp_title'] = data['emp_title'].replace(np.nan,\"\",regex=True)"
      ],
      "execution_count": 10,
      "outputs": []
    },
    {
      "cell_type": "code",
      "metadata": {
        "id": "d5mFcjb8OoKg",
        "colab_type": "code",
        "colab": {}
      },
      "source": [
        "lemmatizer = WordNetLemmatizer()"
      ],
      "execution_count": 11,
      "outputs": []
    },
    {
      "cell_type": "code",
      "metadata": {
        "id": "hF2sdDiVf3Nu",
        "colab_type": "code",
        "colab": {}
      },
      "source": [
        "tokenizer = RegexpTokenizer(r'\\w+')"
      ],
      "execution_count": 12,
      "outputs": []
    },
    {
      "cell_type": "code",
      "metadata": {
        "id": "rJhVHYJ1YLf8",
        "colab_type": "code",
        "colab": {}
      },
      "source": [
        "a = set(data['desc'].tolist())\n",
        "full_string=''\n",
        "for i in a:\n",
        "  full_string = full_string+i"
      ],
      "execution_count": 13,
      "outputs": []
    },
    {
      "cell_type": "code",
      "metadata": {
        "id": "iMwePQ14hF7k",
        "colab_type": "code",
        "colab": {}
      },
      "source": [
        "words = list(set(tokenizer.tokenize(full_string)))"
      ],
      "execution_count": 14,
      "outputs": []
    },
    {
      "cell_type": "code",
      "metadata": {
        "id": "QiLbKbtuiUM6",
        "colab_type": "code",
        "colab": {}
      },
      "source": [
        "lemma_words=[]\n",
        "for i in words:\n",
        "  lemma_words.append(lemmatizer.lemmatize(i))"
      ],
      "execution_count": 15,
      "outputs": []
    },
    {
      "cell_type": "code",
      "metadata": {
        "id": "gomB4q5mijW0",
        "colab_type": "code",
        "colab": {}
      },
      "source": [
        "lemma_unique_words = list(set(lemma_words))\n"
      ],
      "execution_count": 16,
      "outputs": []
    },
    {
      "cell_type": "code",
      "metadata": {
        "id": "_hV4l4OPQJqI",
        "colab_type": "code",
        "colab": {
          "base_uri": "https://localhost:8080/",
          "height": 34
        },
        "outputId": "7638015b-7f72-4f71-908d-ccf24b6671b3"
      },
      "source": [
        "len(lemma_unique_words)"
      ],
      "execution_count": 54,
      "outputs": [
        {
          "output_type": "execute_result",
          "data": {
            "text/plain": [
              "31556"
            ]
          },
          "metadata": {
            "tags": []
          },
          "execution_count": 54
        }
      ]
    },
    {
      "cell_type": "code",
      "metadata": {
        "id": "YJuhJVkTIeKJ",
        "colab_type": "code",
        "colab": {}
      },
      "source": [
        "word_dict={}"
      ],
      "execution_count": 17,
      "outputs": []
    },
    {
      "cell_type": "code",
      "metadata": {
        "id": "gVGMapsJix3f",
        "colab_type": "code",
        "colab": {}
      },
      "source": [
        "embedding_vec = []\n",
        "iter = 0\n",
        "for i,v in enumerate(lemma_unique_words):\n",
        "  if(v in embedding.index2entity):\n",
        "    word_dict[v]=iter\n",
        "    iter+=1\n",
        "    embedding_vec.append(embedding.get_vector(v))"
      ],
      "execution_count": 18,
      "outputs": []
    },
    {
      "cell_type": "code",
      "metadata": {
        "id": "UWH2h3IZsZiP",
        "colab_type": "code",
        "colab": {}
      },
      "source": [
        "word_dict"
      ],
      "execution_count": null,
      "outputs": []
    },
    {
      "cell_type": "code",
      "metadata": {
        "id": "qQvkN9y1rQaI",
        "colab_type": "code",
        "colab": {
          "base_uri": "https://localhost:8080/",
          "height": 34
        },
        "outputId": "80dd5fc8-e646-4fc0-9d7e-f064f42efe9b"
      },
      "source": [
        "embedding_vec = np.array(embedding_vec)\n",
        "embedding_vec.shape"
      ],
      "execution_count": 56,
      "outputs": [
        {
          "output_type": "execute_result",
          "data": {
            "text/plain": [
              "(23304, 300)"
            ]
          },
          "metadata": {
            "tags": []
          },
          "execution_count": 56
        }
      ]
    },
    {
      "cell_type": "code",
      "metadata": {
        "id": "6su6figcneZ2",
        "colab_type": "code",
        "colab": {}
      },
      "source": [
        "principalcomponents=pca.fit_transform(embedding_vec)"
      ],
      "execution_count": 57,
      "outputs": []
    },
    {
      "cell_type": "code",
      "metadata": {
        "id": "vXYirYMkIFgU",
        "colab_type": "code",
        "colab": {
          "base_uri": "https://localhost:8080/",
          "height": 34
        },
        "outputId": "9c2871f8-7133-4648-bfb6-d94060f95f87"
      },
      "source": [
        "principalcomponents.shape"
      ],
      "execution_count": 58,
      "outputs": [
        {
          "output_type": "execute_result",
          "data": {
            "text/plain": [
              "(23304, 20)"
            ]
          },
          "metadata": {
            "tags": []
          },
          "execution_count": 58
        }
      ]
    },
    {
      "cell_type": "code",
      "metadata": {
        "id": "d9ND_bJpMufn",
        "colab_type": "code",
        "colab": {}
      },
      "source": [
        "def words_tokenize(x):\n",
        "  if(x):\n",
        "    x=\" \".join(i for i in x.split() if i not in stop_words)\n",
        "    x=tokenizer.tokenize(x)\n",
        "    \n",
        "    return x\n",
        "data['desc'] = data['desc'].apply(lambda x: words_tokenize(x))"
      ],
      "execution_count": 59,
      "outputs": []
    },
    {
      "cell_type": "code",
      "metadata": {
        "id": "qwVrgBF4NNwe",
        "colab_type": "code",
        "colab": {}
      },
      "source": [
        "def lemma_words(x):\n",
        "  if(x):\n",
        "    words = [lemmatizer.lemmatize(i) for i in x]\n",
        "    return words\n",
        "\n",
        "data['desc'] = data['desc'].apply(lambda x : lemma_words(x))"
      ],
      "execution_count": 60,
      "outputs": []
    },
    {
      "cell_type": "code",
      "metadata": {
        "id": "wIKX3Q-2Uxy8",
        "colab_type": "code",
        "colab": {}
      },
      "source": [
        "embed = []"
      ],
      "execution_count": 75,
      "outputs": []
    },
    {
      "cell_type": "code",
      "metadata": {
        "id": "9YwF8awaUE3B",
        "colab_type": "code",
        "colab": {}
      },
      "source": [
        "def embedding_desc(x):\n",
        "  if(x['desc']):\n",
        "    \n",
        "    embd = [principalcomponents[word_dict[i]] if i in word_dict.keys() else 0 for i in x['desc']]\n",
        "    \n",
        "    emdb_1 = np.mean(np.array(embd),axis=0)\n",
        "    embed.append(emdb_1)\n",
        "    \n",
        "\n",
        "data.apply(embedding_desc,axis=1)"
      ],
      "execution_count": null,
      "outputs": []
    },
    {
      "cell_type": "code",
      "metadata": {
        "id": "Cdoy2V3-k4zO",
        "colab_type": "code",
        "colab": {}
      },
      "source": [
        "columns_embd=['embed'+str(i) for i in range(20)]"
      ],
      "execution_count": 77,
      "outputs": []
    },
    {
      "cell_type": "code",
      "metadata": {
        "id": "EQTKeYnZsN-6",
        "colab_type": "code",
        "colab": {}
      },
      "source": [
        "shapes = [arr.shape for arr in embed]"
      ],
      "execution_count": 122,
      "outputs": []
    },
    {
      "cell_type": "code",
      "metadata": {
        "id": "J7AbjXuRuDqt",
        "colab_type": "code",
        "colab": {}
      },
      "source": [
        "emp_list=[]"
      ],
      "execution_count": 111,
      "outputs": []
    },
    {
      "cell_type": "code",
      "metadata": {
        "id": "9P8Zpy6TupBe",
        "colab_type": "code",
        "colab": {
          "base_uri": "https://localhost:8080/",
          "height": 34
        },
        "outputId": "48928a69-347c-4c22-8878-ac6ab8d2310d"
      },
      "source": [
        "emp_list"
      ],
      "execution_count": 120,
      "outputs": [
        {
          "output_type": "execute_result",
          "data": {
            "text/plain": [
              "[37474, 69777]"
            ]
          },
          "metadata": {
            "tags": []
          },
          "execution_count": 120
        }
      ]
    },
    {
      "cell_type": "code",
      "metadata": {
        "id": "3Vru_ef1sYUo",
        "colab_type": "code",
        "colab": {}
      },
      "source": [
        "for i in range(len(shapes)):\n",
        "  if(shapes[i]==()):\n",
        "    print(i)\n",
        "  \n"
      ],
      "execution_count": 123,
      "outputs": []
    },
    {
      "cell_type": "code",
      "metadata": {
        "id": "ilXwjN_gthiV",
        "colab_type": "code",
        "colab": {}
      },
      "source": [
        "del embed[69776]"
      ],
      "execution_count": 121,
      "outputs": []
    },
    {
      "cell_type": "code",
      "metadata": {
        "id": "oxbPapfKnm5H",
        "colab_type": "code",
        "colab": {}
      },
      "source": [
        "embed_stack = np.stack(embed,axis=0)"
      ],
      "execution_count": 124,
      "outputs": []
    },
    {
      "cell_type": "code",
      "metadata": {
        "id": "rdc9IATxuyTe",
        "colab_type": "code",
        "colab": {}
      },
      "source": [
        "data.drop(emp_list,inplace=True)"
      ],
      "execution_count": 125,
      "outputs": []
    },
    {
      "cell_type": "code",
      "metadata": {
        "id": "VDamewAan3sD",
        "colab_type": "code",
        "colab": {}
      },
      "source": [
        "embed"
      ],
      "execution_count": null,
      "outputs": []
    },
    {
      "cell_type": "code",
      "metadata": {
        "id": "KpqZMUmJlE4y",
        "colab_type": "code",
        "colab": {}
      },
      "source": [
        "df_embd = pd.DataFrame(embed_stack,columns=columns_embd)"
      ],
      "execution_count": 126,
      "outputs": []
    },
    {
      "cell_type": "code",
      "metadata": {
        "id": "VyXfD5pnu7rv",
        "colab_type": "code",
        "colab": {}
      },
      "source": [
        "data = pd.concat([data,df_embd],axis=1)"
      ],
      "execution_count": 127,
      "outputs": []
    },
    {
      "cell_type": "code",
      "metadata": {
        "id": "e9HdOMVRvOlB",
        "colab_type": "code",
        "colab": {}
      },
      "source": [
        "data.head()"
      ],
      "execution_count": null,
      "outputs": []
    },
    {
      "cell_type": "code",
      "metadata": {
        "id": "eUwAH9pQpeW4",
        "colab_type": "code",
        "colab": {}
      },
      "source": [
        "data_status = data.groupby('loan_status').size()\n",
        "data_status"
      ],
      "execution_count": null,
      "outputs": []
    },
    {
      "cell_type": "code",
      "metadata": {
        "id": "JkfPb7YJqFci",
        "colab_type": "code",
        "colab": {
          "base_uri": "https://localhost:8080/",
          "height": 316
        },
        "outputId": "0b4dbba2-fa0d-46fd-b3d9-c7cac4c697cb"
      },
      "source": [
        "plt.pie(data_status)"
      ],
      "execution_count": null,
      "outputs": [
        {
          "output_type": "execute_result",
          "data": {
            "text/plain": [
              "([<matplotlib.patches.Wedge at 0x7fb74a22e358>,\n",
              "  <matplotlib.patches.Wedge at 0x7fb74a22e828>],\n",
              " [Text(-0.8105012894960076, 0.7436986350164353, ''),\n",
              "  Text(0.8105012198659126, -0.7436987109010395, '')])"
            ]
          },
          "metadata": {
            "tags": []
          },
          "execution_count": 24
        },
        {
          "output_type": "display_data",
          "data": {
            "image/png": "[encoded data removed]",
            "text/plain": [
              "<Figure size 432x288 with 1 Axes>"
            ]
          },
          "metadata": {
            "tags": []
          }
        }
      ]
    },
    {
      "cell_type": "code",
      "metadata": {
        "id": "WrE5C8g-sDbl",
        "colab_type": "code",
        "colab": {
          "base_uri": "https://localhost:8080/",
          "height": 462
        },
        "outputId": "5d50e454-6046-4557-859a-bfaebcfd8dee"
      },
      "source": [
        "data.head()"
      ],
      "execution_count": null,
      "outputs": [
        {
          "output_type": "execute_result",
          "data": {
            "text/html": [
              "<div>\n",
              "<style scoped>\n",
              "    .dataframe tbody tr th:only-of-type {\n",
              "        vertical-align: middle;\n",
              "    }\n",
              "\n",
              "    .dataframe tbody tr th {\n",
              "        vertical-align: top;\n",
              "    }\n",
              "\n",
              "    .dataframe thead th {\n",
              "        text-align: right;\n",
              "    }\n",
              "</style>\n",
              "<table border=\"1\" class=\"dataframe\">\n",
              "  <thead>\n",
              "    <tr style=\"text-align: right;\">\n",
              "      <th></th>\n",
              "      <th>member_id</th>\n",
              "      <th>loan_amnt</th>\n",
              "      <th>funded_amnt</th>\n",
              "      <th>funded_amnt_inv</th>\n",
              "      <th>term</th>\n",
              "      <th>batch_enrolled</th>\n",
              "      <th>int_rate</th>\n",
              "      <th>grade</th>\n",
              "      <th>sub_grade</th>\n",
              "      <th>emp_title</th>\n",
              "      <th>emp_length</th>\n",
              "      <th>annual_inc</th>\n",
              "      <th>verification_status</th>\n",
              "      <th>pymnt_plan</th>\n",
              "      <th>desc</th>\n",
              "      <th>purpose</th>\n",
              "      <th>title</th>\n",
              "      <th>zip_code</th>\n",
              "      <th>addr_state</th>\n",
              "      <th>dti</th>\n",
              "      <th>delinq_2yrs</th>\n",
              "      <th>inq_last_6mths</th>\n",
              "      <th>mths_since_last_delinq</th>\n",
              "      <th>mths_since_last_record</th>\n",
              "      <th>open_acc</th>\n",
              "      <th>pub_rec</th>\n",
              "      <th>revol_bal</th>\n",
              "      <th>revol_util</th>\n",
              "      <th>total_acc</th>\n",
              "      <th>initial_list_status</th>\n",
              "      <th>total_rec_int</th>\n",
              "      <th>total_rec_late_fee</th>\n",
              "      <th>recoveries</th>\n",
              "      <th>collection_recovery_fee</th>\n",
              "      <th>collections_12_mths_ex_med</th>\n",
              "      <th>mths_since_last_major_derog</th>\n",
              "      <th>application_type</th>\n",
              "      <th>verification_status_joint</th>\n",
              "      <th>last_week_pay</th>\n",
              "      <th>acc_now_delinq</th>\n",
              "      <th>tot_coll_amt</th>\n",
              "      <th>tot_cur_bal</th>\n",
              "      <th>total_rev_hi_lim</th>\n",
              "      <th>loan_status</th>\n",
              "      <th>Motgage</th>\n",
              "      <th>Own</th>\n",
              "      <th>Rent</th>\n",
              "      <th>None</th>\n",
              "      <th>Other</th>\n",
              "    </tr>\n",
              "  </thead>\n",
              "  <tbody>\n",
              "    <tr>\n",
              "      <th>0</th>\n",
              "      <td>58189336</td>\n",
              "      <td>14350</td>\n",
              "      <td>14350</td>\n",
              "      <td>14350.0</td>\n",
              "      <td>36 months</td>\n",
              "      <td></td>\n",
              "      <td>19.19</td>\n",
              "      <td>2</td>\n",
              "      <td>E3</td>\n",
              "      <td>clerk</td>\n",
              "      <td>9.0</td>\n",
              "      <td>28700.0</td>\n",
              "      <td>Source Verified</td>\n",
              "      <td>n</td>\n",
              "      <td>NaN</td>\n",
              "      <td>debt_consolidation</td>\n",
              "      <td>Debt consolidation</td>\n",
              "      <td>349xx</td>\n",
              "      <td>FL</td>\n",
              "      <td>33.88</td>\n",
              "      <td>0.0</td>\n",
              "      <td>1.0</td>\n",
              "      <td>50.0</td>\n",
              "      <td>75.0</td>\n",
              "      <td>14.0</td>\n",
              "      <td>1.0</td>\n",
              "      <td>22515.0</td>\n",
              "      <td>73.1</td>\n",
              "      <td>28.0</td>\n",
              "      <td>f</td>\n",
              "      <td>1173.84</td>\n",
              "      <td>0.0</td>\n",
              "      <td>0.0</td>\n",
              "      <td>0.0</td>\n",
              "      <td>0.0</td>\n",
              "      <td>74.0</td>\n",
              "      <td>INDIVIDUAL</td>\n",
              "      <td>NaN</td>\n",
              "      <td>26th week</td>\n",
              "      <td>0.0</td>\n",
              "      <td>0.0</td>\n",
              "      <td>28699.0</td>\n",
              "      <td>30800.0</td>\n",
              "      <td>0</td>\n",
              "      <td>0</td>\n",
              "      <td>1</td>\n",
              "      <td>0</td>\n",
              "      <td>0</td>\n",
              "      <td>0</td>\n",
              "    </tr>\n",
              "    <tr>\n",
              "      <th>1</th>\n",
              "      <td>70011223</td>\n",
              "      <td>4800</td>\n",
              "      <td>4800</td>\n",
              "      <td>4800.0</td>\n",
              "      <td>36 months</td>\n",
              "      <td>BAT1586599</td>\n",
              "      <td>10.99</td>\n",
              "      <td>5</td>\n",
              "      <td>B4</td>\n",
              "      <td>Human Resources Specialist</td>\n",
              "      <td>0.0</td>\n",
              "      <td>65000.0</td>\n",
              "      <td>Source Verified</td>\n",
              "      <td>n</td>\n",
              "      <td>NaN</td>\n",
              "      <td>home_improvement</td>\n",
              "      <td>Home improvement</td>\n",
              "      <td>209xx</td>\n",
              "      <td>MD</td>\n",
              "      <td>3.64</td>\n",
              "      <td>0.0</td>\n",
              "      <td>1.0</td>\n",
              "      <td>NaN</td>\n",
              "      <td>NaN</td>\n",
              "      <td>6.0</td>\n",
              "      <td>0.0</td>\n",
              "      <td>7624.0</td>\n",
              "      <td>23.2</td>\n",
              "      <td>13.0</td>\n",
              "      <td>w</td>\n",
              "      <td>83.95</td>\n",
              "      <td>0.0</td>\n",
              "      <td>0.0</td>\n",
              "      <td>0.0</td>\n",
              "      <td>0.0</td>\n",
              "      <td>NaN</td>\n",
              "      <td>INDIVIDUAL</td>\n",
              "      <td>NaN</td>\n",
              "      <td>9th week</td>\n",
              "      <td>0.0</td>\n",
              "      <td>0.0</td>\n",
              "      <td>9974.0</td>\n",
              "      <td>32900.0</td>\n",
              "      <td>0</td>\n",
              "      <td>1</td>\n",
              "      <td>0</td>\n",
              "      <td>0</td>\n",
              "      <td>0</td>\n",
              "      <td>0</td>\n",
              "    </tr>\n",
              "    <tr>\n",
              "      <th>2</th>\n",
              "      <td>70255675</td>\n",
              "      <td>10000</td>\n",
              "      <td>10000</td>\n",
              "      <td>10000.0</td>\n",
              "      <td>36 months</td>\n",
              "      <td>BAT1586599</td>\n",
              "      <td>7.26</td>\n",
              "      <td>6</td>\n",
              "      <td>A4</td>\n",
              "      <td>Driver</td>\n",
              "      <td>2.0</td>\n",
              "      <td>45000.0</td>\n",
              "      <td>Not Verified</td>\n",
              "      <td>n</td>\n",
              "      <td>NaN</td>\n",
              "      <td>debt_consolidation</td>\n",
              "      <td>Debt consolidation</td>\n",
              "      <td>447xx</td>\n",
              "      <td>OH</td>\n",
              "      <td>18.42</td>\n",
              "      <td>0.0</td>\n",
              "      <td>0.0</td>\n",
              "      <td>NaN</td>\n",
              "      <td>NaN</td>\n",
              "      <td>5.0</td>\n",
              "      <td>0.0</td>\n",
              "      <td>10877.0</td>\n",
              "      <td>31.2</td>\n",
              "      <td>19.0</td>\n",
              "      <td>w</td>\n",
              "      <td>56.47</td>\n",
              "      <td>0.0</td>\n",
              "      <td>0.0</td>\n",
              "      <td>0.0</td>\n",
              "      <td>0.0</td>\n",
              "      <td>NaN</td>\n",
              "      <td>INDIVIDUAL</td>\n",
              "      <td>NaN</td>\n",
              "      <td>9th week</td>\n",
              "      <td>0.0</td>\n",
              "      <td>65.0</td>\n",
              "      <td>38295.0</td>\n",
              "      <td>34900.0</td>\n",
              "      <td>0</td>\n",
              "      <td>0</td>\n",
              "      <td>1</td>\n",
              "      <td>0</td>\n",
              "      <td>0</td>\n",
              "      <td>0</td>\n",
              "    </tr>\n",
              "    <tr>\n",
              "      <th>3</th>\n",
              "      <td>1893936</td>\n",
              "      <td>15000</td>\n",
              "      <td>15000</td>\n",
              "      <td>15000.0</td>\n",
              "      <td>36 months</td>\n",
              "      <td>BAT4808022</td>\n",
              "      <td>19.72</td>\n",
              "      <td>3</td>\n",
              "      <td>D5</td>\n",
              "      <td>Us office of Personnel Management</td>\n",
              "      <td>NaN</td>\n",
              "      <td>105000.0</td>\n",
              "      <td>Not Verified</td>\n",
              "      <td>n</td>\n",
              "      <td>&gt; My goal is to obtain a loan to pay off my hi...</td>\n",
              "      <td>debt_consolidation</td>\n",
              "      <td>Debt consolidation</td>\n",
              "      <td>221xx</td>\n",
              "      <td>VA</td>\n",
              "      <td>14.97</td>\n",
              "      <td>0.0</td>\n",
              "      <td>2.0</td>\n",
              "      <td>46.0</td>\n",
              "      <td>NaN</td>\n",
              "      <td>10.0</td>\n",
              "      <td>0.0</td>\n",
              "      <td>13712.0</td>\n",
              "      <td>55.5</td>\n",
              "      <td>21.0</td>\n",
              "      <td>f</td>\n",
              "      <td>4858.62</td>\n",
              "      <td>0.0</td>\n",
              "      <td>0.0</td>\n",
              "      <td>0.0</td>\n",
              "      <td>0.0</td>\n",
              "      <td>NaN</td>\n",
              "      <td>INDIVIDUAL</td>\n",
              "      <td>NaN</td>\n",
              "      <td>135th week</td>\n",
              "      <td>0.0</td>\n",
              "      <td>0.0</td>\n",
              "      <td>55564.0</td>\n",
              "      <td>24700.0</td>\n",
              "      <td>0</td>\n",
              "      <td>0</td>\n",
              "      <td>0</td>\n",
              "      <td>1</td>\n",
              "      <td>0</td>\n",
              "      <td>0</td>\n",
              "    </tr>\n",
              "    <tr>\n",
              "      <th>4</th>\n",
              "      <td>7652106</td>\n",
              "      <td>16000</td>\n",
              "      <td>16000</td>\n",
              "      <td>16000.0</td>\n",
              "      <td>36 months</td>\n",
              "      <td>BAT2833642</td>\n",
              "      <td>10.64</td>\n",
              "      <td>5</td>\n",
              "      <td>B2</td>\n",
              "      <td>LAUSD-HOLLYWOOD HIGH SCHOOL</td>\n",
              "      <td>NaN</td>\n",
              "      <td>52000.0</td>\n",
              "      <td>Verified</td>\n",
              "      <td>n</td>\n",
              "      <td>NaN</td>\n",
              "      <td>credit_card</td>\n",
              "      <td>refi</td>\n",
              "      <td>900xx</td>\n",
              "      <td>CA</td>\n",
              "      <td>20.16</td>\n",
              "      <td>0.0</td>\n",
              "      <td>0.0</td>\n",
              "      <td>NaN</td>\n",
              "      <td>NaN</td>\n",
              "      <td>11.0</td>\n",
              "      <td>0.0</td>\n",
              "      <td>35835.0</td>\n",
              "      <td>76.2</td>\n",
              "      <td>27.0</td>\n",
              "      <td>w</td>\n",
              "      <td>2296.41</td>\n",
              "      <td>0.0</td>\n",
              "      <td>0.0</td>\n",
              "      <td>0.0</td>\n",
              "      <td>0.0</td>\n",
              "      <td>NaN</td>\n",
              "      <td>INDIVIDUAL</td>\n",
              "      <td>NaN</td>\n",
              "      <td>96th week</td>\n",
              "      <td>0.0</td>\n",
              "      <td>0.0</td>\n",
              "      <td>47159.0</td>\n",
              "      <td>47033.0</td>\n",
              "      <td>0</td>\n",
              "      <td>0</td>\n",
              "      <td>0</td>\n",
              "      <td>1</td>\n",
              "      <td>0</td>\n",
              "      <td>0</td>\n",
              "    </tr>\n",
              "  </tbody>\n",
              "</table>\n",
              "</div>"
            ],
            "text/plain": [
              "   member_id  loan_amnt  funded_amnt  funded_amnt_inv  ... Own Rent  None  Other\n",
              "0   58189336      14350        14350          14350.0  ...   1    0     0      0\n",
              "1   70011223       4800         4800           4800.0  ...   0    0     0      0\n",
              "2   70255675      10000        10000          10000.0  ...   1    0     0      0\n",
              "3    1893936      15000        15000          15000.0  ...   0    1     0      0\n",
              "4    7652106      16000        16000          16000.0  ...   0    1     0      0\n",
              "\n",
              "[5 rows x 49 columns]"
            ]
          },
          "metadata": {
            "tags": []
          },
          "execution_count": 113
        }
      ]
    },
    {
      "cell_type": "code",
      "metadata": {
        "id": "-oZDEOK9ukSV",
        "colab_type": "code",
        "colab": {}
      },
      "source": [
        "def replace_grade(x):\n",
        "  if(x=='G'):\n",
        "    return 0\n",
        "  if(x=='F'):\n",
        "    return 1\n",
        "  if(x=='E'):\n",
        "    return 2\n",
        "  if(x=='D'):\n",
        "    return 3\n",
        "  if(x=='C'):\n",
        "    return 4\n",
        "  if(x=='B'):\n",
        "    return 5\n",
        "  if(x=='A'):\n",
        "    return 6"
      ],
      "execution_count": 130,
      "outputs": []
    },
    {
      "cell_type": "code",
      "metadata": {
        "id": "Zrwz0SCnyDmR",
        "colab_type": "code",
        "colab": {}
      },
      "source": [
        "grade= data['grade'].apply(lambda x:replace_grade(x))"
      ],
      "execution_count": 131,
      "outputs": []
    },
    {
      "cell_type": "code",
      "metadata": {
        "id": "Q6A35umWyNZi",
        "colab_type": "code",
        "colab": {}
      },
      "source": [
        "data['grade'] = grade"
      ],
      "execution_count": 132,
      "outputs": []
    },
    {
      "cell_type": "code",
      "metadata": {
        "id": "uhYHW6KFyUwz",
        "colab_type": "code",
        "colab": {}
      },
      "source": [
        "def experience(x):\n",
        "  if(x=='< 1 year'):\n",
        "    return 0\n",
        "  if(x=='1 year'):\n",
        "    return 1\n",
        "  if(x=='2 years'):\n",
        "    return 2\n",
        "  if(x=='3 years'):\n",
        "    return 3\n",
        "  if(x=='4 years'):\n",
        "    return 4\n",
        "  if(x=='5 years'):\n",
        "    return 5\n",
        "  if(x=='6 years'):\n",
        "    return 6\n",
        "  if(x=='7 years'):\n",
        "    return 7\n",
        "  if(x=='8 years'):\n",
        "    return 8\n",
        "  if(x=='9 years'):\n",
        "    return 9\n"
      ],
      "execution_count": 133,
      "outputs": []
    },
    {
      "cell_type": "code",
      "metadata": {
        "id": "0ByMX-I36YhI",
        "colab_type": "code",
        "colab": {}
      },
      "source": [
        "experience = data['emp_length'].apply(lambda x:experience(x))"
      ],
      "execution_count": 134,
      "outputs": []
    },
    {
      "cell_type": "code",
      "metadata": {
        "id": "-qgd2_3J6oRP",
        "colab_type": "code",
        "colab": {}
      },
      "source": [
        "data['emp_length']=experience"
      ],
      "execution_count": 135,
      "outputs": []
    },
    {
      "cell_type": "code",
      "metadata": {
        "id": "OTDaEhNp7Eis",
        "colab_type": "code",
        "colab": {}
      },
      "source": [
        "data_experience = data.groupby('emp_length').size()"
      ],
      "execution_count": 136,
      "outputs": []
    },
    {
      "cell_type": "code",
      "metadata": {
        "id": "eLXf98YK74iX",
        "colab_type": "code",
        "colab": {}
      },
      "source": [
        "plt.pie(data_experience,labels=['< 1 year','1 year','2 years','3 years','4 years','5 years','6 years','7 years','8 years','9 years'])"
      ],
      "execution_count": null,
      "outputs": []
    },
    {
      "cell_type": "code",
      "metadata": {
        "id": "BkFCzsd48BMg",
        "colab_type": "code",
        "colab": {}
      },
      "source": [
        "data_grade = data.groupby('grade').size()\n",
        "plt.pie(data_grade,labels=[\"G\",'F','E','D','C','B','A'])"
      ],
      "execution_count": null,
      "outputs": []
    },
    {
      "cell_type": "code",
      "metadata": {
        "id": "2qyOMo6z8rHu",
        "colab_type": "code",
        "colab": {
          "base_uri": "https://localhost:8080/",
          "height": 68
        },
        "outputId": "9ad7fd58-a268-49aa-e48e-ab78b4095813"
      },
      "source": [
        "status_grade = data[data['grade']==0]['loan_status']\n",
        "status_grade.value_counts()/len(status_grade)"
      ],
      "execution_count": null,
      "outputs": [
        {
          "output_type": "execute_result",
          "data": {
            "text/plain": [
              "0    0.764048\n",
              "1    0.235952\n",
              "Name: loan_status, dtype: float64"
            ]
          },
          "metadata": {
            "tags": []
          },
          "execution_count": 9
        }
      ]
    },
    {
      "cell_type": "code",
      "metadata": {
        "id": "eNpIOoH68SNU",
        "colab_type": "code",
        "colab": {
          "base_uri": "https://localhost:8080/",
          "height": 153
        },
        "outputId": "e3b5b100-f32f-4746-cad4-778812b49d17"
      },
      "source": [
        "data.groupby('home_ownership').size()"
      ],
      "execution_count": null,
      "outputs": [
        {
          "output_type": "execute_result",
          "data": {
            "text/plain": [
              "home_ownership\n",
              "ANY              3\n",
              "MORTGAGE    265940\n",
              "NONE            36\n",
              "OTHER          117\n",
              "OWN          52664\n",
              "RENT        213668\n",
              "dtype: int64"
            ]
          },
          "metadata": {
            "tags": []
          },
          "execution_count": 10
        }
      ]
    },
    {
      "cell_type": "code",
      "metadata": {
        "id": "TxRW-bmD_wqX",
        "colab_type": "code",
        "colab": {}
      },
      "source": [
        "any_index = data[data['home_ownership']=='ANY'].index\n",
        "data.drop(any_index,inplace=True)"
      ],
      "execution_count": 137,
      "outputs": []
    },
    {
      "cell_type": "code",
      "metadata": {
        "id": "wBZg5OXyAStW",
        "colab_type": "code",
        "colab": {}
      },
      "source": [
        "data=data.reindex(columns=data.columns.tolist()+['Motgage','Own','Rent','None','Other'])"
      ],
      "execution_count": 138,
      "outputs": []
    },
    {
      "cell_type": "code",
      "metadata": {
        "id": "7N5uJulsCQrY",
        "colab_type": "code",
        "colab": {}
      },
      "source": [
        "data_morg = []\n",
        "data_own = []\n",
        "data_rent = []\n",
        "data_none =[]\n",
        "data_other = []\n",
        "def home(x,data,value):\n",
        "  if(x==value):\n",
        "    data.append(1)\n",
        "  else:\n",
        "    data.append(0)"
      ],
      "execution_count": 139,
      "outputs": []
    },
    {
      "cell_type": "code",
      "metadata": {
        "id": "QEOEz7lfDBHF",
        "colab_type": "code",
        "colab": {}
      },
      "source": [
        "data['home_ownership'].apply(lambda x:home(x,data_morg,'MORTGAGE'))\n",
        "data['home_ownership'].apply(lambda x:home(x,data_own,'OWN'))\n",
        "data['home_ownership'].apply(lambda x:home(x,data_rent,'RENT'))\n",
        "data['home_ownership'].apply(lambda x:home(x,data_none,'NONE'))\n",
        "data['home_ownership'].apply(lambda x:home(x,data_other,'OTHER'))"
      ],
      "execution_count": null,
      "outputs": []
    },
    {
      "cell_type": "code",
      "metadata": {
        "id": "DFTnYfWjEaUZ",
        "colab_type": "code",
        "colab": {}
      },
      "source": [
        "data['Motgage']=data_morg\n",
        "data['Own'] = data_own\n",
        "data['Rent']=data_rent\n",
        "data['None'] = data_none\n",
        "data['Other'] = data_other"
      ],
      "execution_count": 141,
      "outputs": []
    },
    {
      "cell_type": "code",
      "metadata": {
        "id": "HCokRcqiFDo6",
        "colab_type": "code",
        "colab": {}
      },
      "source": [
        "data.drop(['home_ownership'],axis=1,inplace=True)"
      ],
      "execution_count": 142,
      "outputs": []
    },
    {
      "cell_type": "code",
      "metadata": {
        "id": "kIgBoWquFXAl",
        "colab_type": "code",
        "colab": {}
      },
      "source": [
        "data.groupby('verification_status').size()"
      ],
      "execution_count": null,
      "outputs": []
    },
    {
      "cell_type": "code",
      "metadata": {
        "id": "L3x3Wm0wI4Vm",
        "colab_type": "code",
        "colab": {}
      },
      "source": [
        "data_ver=[]\n",
        "data_notver=[]\n",
        "data_source=[]\n",
        "\n",
        "data['verification_status'].apply(lambda x:home(x,data_ver,'Verified'))\n",
        "data['verification_status'].apply(lambda x:home(x,data_notver,'Not Verified'))\n",
        "data['verification_status'].apply(lambda x:home(x,data_source,'Source Verified'))\n",
        "\n",
        "data = data.reindex(columns = data.columns.tolist()+['Verified','Not Verified','Source Verified'])\n",
        "data['Verified']=data_ver\n",
        "data['Not Verified'] = data_notver\n",
        "data['Source Verified'] = data_source"
      ],
      "execution_count": 143,
      "outputs": []
    },
    {
      "cell_type": "code",
      "metadata": {
        "id": "Uo8UY1lGJ35s",
        "colab_type": "code",
        "colab": {}
      },
      "source": [
        "data.drop(['verification_status'],axis=1,inplace=True)"
      ],
      "execution_count": 144,
      "outputs": []
    },
    {
      "cell_type": "code",
      "metadata": {
        "id": "6n7jgRm2J_UV",
        "colab_type": "code",
        "colab": {}
      },
      "source": [
        "data.head()"
      ],
      "execution_count": null,
      "outputs": []
    },
    {
      "cell_type": "code",
      "metadata": {
        "id": "6O12UID0KH-L",
        "colab_type": "code",
        "colab": {
          "base_uri": "https://localhost:8080/",
          "height": 316
        },
        "outputId": "898080f0-e689-43a2-dd3d-61937d1250f1"
      },
      "source": [
        "payment_data = data.groupby('pymnt_plan').size()\n",
        "plt.pie(payment_data,labels=['y','n'],colors=['orange','blue'])\n",
        "payment_data"
      ],
      "execution_count": null,
      "outputs": [
        {
          "output_type": "execute_result",
          "data": {
            "text/plain": [
              "pymnt_plan\n",
              "n    532417\n",
              "y         8\n",
              "dtype: int64"
            ]
          },
          "metadata": {
            "tags": []
          },
          "execution_count": 64
        },
        {
          "output_type": "display_data",
          "data": {
            "image/png": "[encoded data removed]",
            "text/plain": [
              "<Figure size 432x288 with 1 Axes>"
            ]
          },
          "metadata": {
            "tags": []
          }
        }
      ]
    },
    {
      "cell_type": "code",
      "metadata": {
        "id": "XNVHENYWq-0O",
        "colab_type": "code",
        "colab": {}
      },
      "source": [
        "data.drop(['pymnt_plan'],axis=1,inplace=True)"
      ],
      "execution_count": 145,
      "outputs": []
    },
    {
      "cell_type": "code",
      "metadata": {
        "id": "2xmqxAWBrs4i",
        "colab_type": "code",
        "colab": {
          "base_uri": "https://localhost:8080/",
          "height": 68
        },
        "outputId": "09582bbf-4f82-49bb-fd78-af3c0feb9ac2"
      },
      "source": [
        "type = data[data['application_type']=='JOINT']['loan_status']\n",
        "type.value_counts()"
      ],
      "execution_count": null,
      "outputs": [
        {
          "output_type": "execute_result",
          "data": {
            "text/plain": [
              "0    304\n",
              "1      1\n",
              "Name: loan_status, dtype: int64"
            ]
          },
          "metadata": {
            "tags": []
          },
          "execution_count": 22
        }
      ]
    },
    {
      "cell_type": "code",
      "metadata": {
        "id": "pJLqJsgHse7z",
        "colab_type": "code",
        "colab": {}
      },
      "source": [
        "def type(x):\n",
        "  if(x=='JOINT'):\n",
        "    return 0\n",
        "  else:\n",
        "    return 1\n",
        "\n",
        "type_data = data['application_type'].apply(lambda x: type(x))\n",
        "data['application_type'] = type_data\n"
      ],
      "execution_count": 146,
      "outputs": []
    },
    {
      "cell_type": "code",
      "metadata": {
        "id": "ik6g9xkRtE6l",
        "colab_type": "code",
        "colab": {}
      },
      "source": [
        "data.head()"
      ],
      "execution_count": null,
      "outputs": []
    },
    {
      "cell_type": "code",
      "metadata": {
        "id": "RUlhHViE_PRm",
        "colab_type": "code",
        "colab": {
          "base_uri": "https://localhost:8080/",
          "height": 308
        },
        "outputId": "97af1fa7-ac0a-4e37-a18d-97711d93b9cf"
      },
      "source": [
        "sns.distplot(data['annual_inc'],bins=5)"
      ],
      "execution_count": null,
      "outputs": [
        {
          "output_type": "execute_result",
          "data": {
            "text/plain": [
              "<matplotlib.axes._subplots.AxesSubplot at 0x7f1f089bc438>"
            ]
          },
          "metadata": {
            "tags": []
          },
          "execution_count": 80
        },
        {
          "output_type": "display_data",
          "data": {
            "image/png": "[encoded data removed]",
            "text/plain": [
              "<Figure size 432x288 with 1 Axes>"
            ]
          },
          "metadata": {
            "tags": [],
            "needs_background": "light"
          }
        }
      ]
    },
    {
      "cell_type": "code",
      "metadata": {
        "id": "hBpZf6r2Cgb7",
        "colab_type": "code",
        "colab": {
          "base_uri": "https://localhost:8080/",
          "height": 297
        },
        "outputId": "b465cf66-b762-4ab8-aab3-67a20f52b0e2"
      },
      "source": [
        "data_log = np.log(data['annual_inc'])\n",
        "sns.distplot(data_log,bins=5)"
      ],
      "execution_count": null,
      "outputs": [
        {
          "output_type": "execute_result",
          "data": {
            "text/plain": [
              "<matplotlib.axes._subplots.AxesSubplot at 0x7f1f0839bbe0>"
            ]
          },
          "metadata": {
            "tags": []
          },
          "execution_count": 116
        },
        {
          "output_type": "display_data",
          "data": {
            "image/png": "[encoded data removed]",
            "text/plain": [
              "<Figure size 432x288 with 1 Axes>"
            ]
          },
          "metadata": {
            "tags": [],
            "needs_background": "light"
          }
        }
      ]
    },
    {
      "cell_type": "code",
      "metadata": {
        "id": "_i5OdADZDzUw",
        "colab_type": "code",
        "colab": {}
      },
      "source": [
        "data_bin = pd.qcut(data['annual_inc'],10)\n"
      ],
      "execution_count": 147,
      "outputs": []
    },
    {
      "cell_type": "code",
      "metadata": {
        "id": "wO7fZ9V1jx7s",
        "colab_type": "code",
        "colab": {}
      },
      "source": [
        "income_data=data['annual_inc']\n",
        "data['annual_inc']=data_bin"
      ],
      "execution_count": 148,
      "outputs": []
    },
    {
      "cell_type": "code",
      "metadata": {
        "id": "TKZwhPNKEt5t",
        "colab_type": "code",
        "colab": {}
      },
      "source": [
        "bin_list = data_bin.unique()\n",
        "column_income = [\"income\"+str(i) for i in bin_list]\n",
        "data = data.reindex(columns=data.columns.tolist()+column_income)\n"
      ],
      "execution_count": 149,
      "outputs": []
    },
    {
      "cell_type": "code",
      "metadata": {
        "id": "-VTsal6w4GbQ",
        "colab_type": "code",
        "colab": {}
      },
      "source": [
        "for i in column_income[:-1]:\n",
        "  data[i]=0"
      ],
      "execution_count": 150,
      "outputs": []
    },
    {
      "cell_type": "code",
      "metadata": {
        "id": "9Csezl7oNMoi",
        "colab_type": "code",
        "colab": {}
      },
      "source": [
        "data.drop(['incomenan'],axis=1,inplace=True)"
      ],
      "execution_count": 151,
      "outputs": []
    },
    {
      "cell_type": "code",
      "metadata": {
        "id": "TdHGvB2mO6Xo",
        "colab_type": "code",
        "colab": {}
      },
      "source": [
        "def income(x):\n",
        "  value = str(x['annual_inc'])\n",
        "  if(value != 'nan'):\n",
        "    data[\"income\"+value].loc[x.name]=1\n",
        "\n",
        "  \n",
        "  \n",
        "data.apply(income,axis=1)"
      ],
      "execution_count": null,
      "outputs": []
    },
    {
      "cell_type": "code",
      "metadata": {
        "id": "qpyMPVXNuc1H",
        "colab_type": "code",
        "colab": {}
      },
      "source": [
        "data.head()"
      ],
      "execution_count": null,
      "outputs": []
    },
    {
      "cell_type": "code",
      "metadata": {
        "id": "U4BEV0_ZV_Aa",
        "colab_type": "code",
        "colab": {
          "base_uri": "https://localhost:8080/",
          "height": 289
        },
        "outputId": "83c10654-f13e-440d-8e92-9b2d006b3bbe"
      },
      "source": [
        "(data.groupby('purpose').size())"
      ],
      "execution_count": null,
      "outputs": [
        {
          "output_type": "execute_result",
          "data": {
            "text/plain": [
              "purpose\n",
              "car                     5266\n",
              "credit_card           123670\n",
              "debt_consolidation    314987\n",
              "educational              260\n",
              "home_improvement       31087\n",
              "house                   2170\n",
              "major_purchase         10284\n",
              "medical                 5117\n",
              "moving                  3243\n",
              "other                  25651\n",
              "renewable_energy         331\n",
              "small_business          6146\n",
              "vacation                2812\n",
              "wedding                 1401\n",
              "dtype: int64"
            ]
          },
          "metadata": {
            "tags": []
          },
          "execution_count": 26
        }
      ]
    },
    {
      "cell_type": "code",
      "metadata": {
        "id": "StVtqwZxXWHm",
        "colab_type": "code",
        "colab": {}
      },
      "source": [
        "purpose_data = data['purpose'].unique()\n",
        "renewable_energy = np.argwhere(purpose_data=='renewable_energy')\n",
        "education = np.argwhere(purpose_data=='educational')\n",
        "\n",
        "purpose_data = np.delete(purpose_data,int(renewable_energy))\n",
        "purpose_data = np.delete(purpose_data,int(education)-1)\n"
      ],
      "execution_count": 153,
      "outputs": []
    },
    {
      "cell_type": "code",
      "metadata": {
        "id": "it_Uh3jOawqH",
        "colab_type": "code",
        "colab": {}
      },
      "source": [
        "data=data.reindex(columns=data.columns.tolist()+list(purpose_data))\n",
        "for i in purpose_data:\n",
        "  data[i]=0\n"
      ],
      "execution_count": 154,
      "outputs": []
    },
    {
      "cell_type": "code",
      "metadata": {
        "id": "SYl5dByx-e-1",
        "colab_type": "code",
        "colab": {}
      },
      "source": [
        "data.columns"
      ],
      "execution_count": null,
      "outputs": []
    },
    {
      "cell_type": "code",
      "metadata": {
        "id": "hpVuB0S6cNYy",
        "colab_type": "code",
        "colab": {}
      },
      "source": [
        "def purpose(x):\n",
        "  purp = x['purpose']\n",
        "  if(purp=='educational'):\n",
        "    data['other'].loc[x.name] = 1\n",
        "  if(purp=='renewable_energy'):\n",
        "    data['other'].loc[x.name] = 1\n",
        "  if(purp!='educational' and purp!='renewable_energy'):\n",
        "    data[purp].loc[x.name] = 1\n",
        "\n",
        "data.apply(purpose,axis=1)"
      ],
      "execution_count": null,
      "outputs": []
    },
    {
      "cell_type": "code",
      "metadata": {
        "id": "LrSY0KCn_Zh6",
        "colab_type": "code",
        "colab": {}
      },
      "source": [
        "data.drop(['purpose'],axis=1,inplace=True)"
      ],
      "execution_count": 156,
      "outputs": []
    },
    {
      "cell_type": "code",
      "metadata": {
        "id": "sHgAIeV2_0uK",
        "colab_type": "code",
        "colab": {}
      },
      "source": [
        "data.head()"
      ],
      "execution_count": null,
      "outputs": []
    },
    {
      "cell_type": "code",
      "metadata": {
        "id": "nmdvSbZVC1LG",
        "colab_type": "code",
        "colab": {}
      },
      "source": [
        "data=data.reindex(columns=data.columns.tolist()+['amount_per_income'])\n"
      ],
      "execution_count": 157,
      "outputs": []
    },
    {
      "cell_type": "code",
      "metadata": {
        "id": "vJ5uZQwLNTK3",
        "colab_type": "code",
        "colab": {}
      },
      "source": [
        "data['amount_per_income'] = np.divide(data['loan_amnt'],income_data)"
      ],
      "execution_count": 158,
      "outputs": []
    },
    {
      "cell_type": "code",
      "metadata": {
        "id": "5nSZBwMzpBq2",
        "colab_type": "code",
        "colab": {}
      },
      "source": [
        "data = data.reindex(columns=data.columns.tolist()+['open_acc_rev_bal'])"
      ],
      "execution_count": 159,
      "outputs": []
    },
    {
      "cell_type": "code",
      "metadata": {
        "id": "V1oNUPJWLDy5",
        "colab_type": "code",
        "colab": {}
      },
      "source": [
        "data['open_acc_rev_bal'] = np.divide(data['revol_bal'],data['open_acc'])"
      ],
      "execution_count": 160,
      "outputs": []
    },
    {
      "cell_type": "code",
      "metadata": {
        "id": "BzZRaYCOL8HY",
        "colab_type": "code",
        "colab": {}
      },
      "source": [
        "data = data.reindex(columns=data.columns.tolist()+['open_acc_ratio'])"
      ],
      "execution_count": 161,
      "outputs": []
    },
    {
      "cell_type": "code",
      "metadata": {
        "id": "ghQ13bKcMj56",
        "colab_type": "code",
        "colab": {}
      },
      "source": [
        "data['open_acc_ratio'] = np.divide(data['open_acc'],data['total_acc'])"
      ],
      "execution_count": 162,
      "outputs": []
    },
    {
      "cell_type": "code",
      "metadata": {
        "id": "7WdFuFafOGm_",
        "colab_type": "code",
        "colab": {}
      },
      "source": [
        "data=data.reindex(columns=data.columns.tolist()+['deliq_rate'])"
      ],
      "execution_count": 163,
      "outputs": []
    },
    {
      "cell_type": "code",
      "metadata": {
        "id": "yUCRE-_GPBB8",
        "colab_type": "code",
        "colab": {}
      },
      "source": [
        "data['deliq_rate'] = np.divide(data['acc_now_delinq'],data['open_acc'])"
      ],
      "execution_count": 164,
      "outputs": []
    },
    {
      "cell_type": "code",
      "metadata": {
        "id": "EtL9Hlu3PuoN",
        "colab_type": "code",
        "colab": {}
      },
      "source": [
        "data = data.reindex(columns=data.columns.tolist()+['revolve_rate'])"
      ],
      "execution_count": 165,
      "outputs": []
    },
    {
      "cell_type": "code",
      "metadata": {
        "id": "Enr8mNhrTSzh",
        "colab_type": "code",
        "colab": {}
      },
      "source": [
        "data['revolve_rate'] = np.divide(data['open_acc'],data['total_rev_hi_lim'])"
      ],
      "execution_count": 166,
      "outputs": []
    },
    {
      "cell_type": "code",
      "metadata": {
        "id": "Hcfj8Ok7TSxe",
        "colab_type": "code",
        "colab": {}
      },
      "source": [
        "data.drop(['annual_inc'],axis=1,inplace=True)\n",
        "data.drop(['title'],axis=1,inplace=True)"
      ],
      "execution_count": 167,
      "outputs": []
    },
    {
      "cell_type": "code",
      "metadata": {
        "id": "ntRflYqRXHow",
        "colab_type": "code",
        "colab": {}
      },
      "source": [
        "emp_data = data.groupby('emp_title').size()\n",
        "sorted_data = np.sort(emp_data)\n",
        "len(sorted_data[sorted_data>500])"
      ],
      "execution_count": null,
      "outputs": []
    },
    {
      "cell_type": "code",
      "metadata": {
        "id": "36l4Dx7BwilG",
        "colab_type": "code",
        "colab": {}
      },
      "source": [
        "emp_df = pd.DataFrame(emp_data)\n",
        "emp_df.reset_index(inplace=True)\n"
      ],
      "execution_count": 169,
      "outputs": []
    },
    {
      "cell_type": "code",
      "metadata": {
        "id": "TRTxJ1JdxQJE",
        "colab_type": "code",
        "colab": {}
      },
      "source": [
        "emp_df.columns=['emp_title','freq']\n",
        "emp_df_freq = emp_df[emp_df['freq']>500]\n",
        "emp_less_freq = emp_df[emp_df['freq']<=500]['emp_title'].tolist()"
      ],
      "execution_count": 170,
      "outputs": []
    },
    {
      "cell_type": "code",
      "metadata": {
        "id": "FsX4X89rx9r-",
        "colab_type": "code",
        "colab": {}
      },
      "source": [
        "emp_title_freq = emp_df_freq['emp_title'].tolist()\n",
        "emp_title_freq.append('other')\n"
      ],
      "execution_count": 171,
      "outputs": []
    },
    {
      "cell_type": "code",
      "metadata": {
        "id": "MbjbUokUxXLy",
        "colab_type": "code",
        "colab": {}
      },
      "source": [
        "data = data.reindex(columns=data.columns.tolist()+['count_title'])"
      ],
      "execution_count": 172,
      "outputs": []
    },
    {
      "cell_type": "code",
      "metadata": {
        "id": "WNmgj6Wk5ZI3",
        "colab_type": "code",
        "colab": {}
      },
      "source": [
        "dict_title = dict(data.groupby('emp_title').size())"
      ],
      "execution_count": 173,
      "outputs": []
    },
    {
      "cell_type": "code",
      "metadata": {
        "id": "U3IFJVpRxsMJ",
        "colab_type": "code",
        "colab": {}
      },
      "source": [
        "data['emp_title']"
      ],
      "execution_count": null,
      "outputs": []
    },
    {
      "cell_type": "code",
      "metadata": {
        "id": "qbr8vljfdP9F",
        "colab_type": "code",
        "colab": {}
      },
      "source": [
        "def count_item(x):\n",
        "  if(x):\n",
        "    return dict_title[x]\n",
        "\n",
        "data['count_title'] = data['emp_title'].apply(lambda x:count_item(x))"
      ],
      "execution_count": 178,
      "outputs": []
    },
    {
      "cell_type": "code",
      "metadata": {
        "id": "ctcVMf2upvNA",
        "colab_type": "code",
        "colab": {}
      },
      "source": [
        "from sklearn.feature_extraction import FeatureHasher"
      ],
      "execution_count": 12,
      "outputs": []
    },
    {
      "cell_type": "code",
      "metadata": {
        "id": "6T4y7HNvqad_",
        "colab_type": "code",
        "colab": {}
      },
      "source": [
        "feature_title = FeatureHasher(n_features=20,input_type='string')"
      ],
      "execution_count": 13,
      "outputs": []
    },
    {
      "cell_type": "code",
      "metadata": {
        "id": "QBQL4Qj_sqQn",
        "colab_type": "code",
        "colab": {}
      },
      "source": [
        "data['emp_title']=data['emp_title'].astype(str)"
      ],
      "execution_count": 14,
      "outputs": []
    },
    {
      "cell_type": "code",
      "metadata": {
        "id": "jYae5LdWqq5X",
        "colab_type": "code",
        "colab": {}
      },
      "source": [
        "title = feature_title.fit_transform(data['emp_title'])\n"
      ],
      "execution_count": 18,
      "outputs": []
    },
    {
      "cell_type": "code",
      "metadata": {
        "id": "virUnLMkf1Jm",
        "colab_type": "code",
        "colab": {}
      },
      "source": [
        "title = title.toarray()"
      ],
      "execution_count": 20,
      "outputs": []
    },
    {
      "cell_type": "code",
      "metadata": {
        "id": "2rTA2-6mXSyE",
        "colab_type": "code",
        "colab": {}
      },
      "source": [
        "columns_title = ['title '+str(i) for i in range(20)]"
      ],
      "execution_count": 16,
      "outputs": []
    },
    {
      "cell_type": "code",
      "metadata": {
        "id": "Yw0kyHyifI61",
        "colab_type": "code",
        "colab": {}
      },
      "source": [
        "df_title = pd.DataFrame(title,columns=columns_title)"
      ],
      "execution_count": 17,
      "outputs": []
    },
    {
      "cell_type": "code",
      "metadata": {
        "id": "iJcMlqCgtXfm",
        "colab_type": "code",
        "colab": {}
      },
      "source": [
        "data = pd.concat([data,df_title],axis=1)"
      ],
      "execution_count": null,
      "outputs": []
    },
    {
      "cell_type": "code",
      "metadata": {
        "id": "uOAJp2Keybm8",
        "colab_type": "code",
        "colab": {}
      },
      "source": [
        "emp_title = ['emp_title '+i for i in emp_title_freq]\n",
        "data = data.reindex(columns=data.columns.tolist()+emp_title)\n"
      ],
      "execution_count": 179,
      "outputs": []
    },
    {
      "cell_type": "code",
      "metadata": {
        "id": "z_FDJ5Ab12EO",
        "colab_type": "code",
        "colab": {}
      },
      "source": [
        "for i in emp_title:\n",
        "  data[i]=0"
      ],
      "execution_count": 180,
      "outputs": []
    },
    {
      "cell_type": "code",
      "metadata": {
        "id": "PY_R8yv8Qvh1",
        "colab_type": "code",
        "colab": {}
      },
      "source": [
        "item=data.columns\n",
        "item[-80:]"
      ],
      "execution_count": null,
      "outputs": []
    },
    {
      "cell_type": "code",
      "metadata": {
        "id": "eFUkDZ8czmpI",
        "colab_type": "code",
        "colab": {}
      },
      "source": [
        "def emp(x):\n",
        " \n",
        "  if(x['emp_title'] not in emp_title_freq):\n",
        "    data['emp_title '+'other'].loc[x.name]=1\n",
        "  else:\n",
        "    \n",
        "    data['emp_title '+x['emp_title']].loc[x.name]=1\n",
        "    \n",
        "data.apply(emp,axis=1)\n"
      ],
      "execution_count": null,
      "outputs": []
    },
    {
      "cell_type": "code",
      "metadata": {
        "id": "bcGU32M8oncq",
        "colab_type": "code",
        "colab": {}
      },
      "source": [
        "data.head()"
      ],
      "execution_count": null,
      "outputs": []
    },
    {
      "cell_type": "code",
      "metadata": {
        "id": "Bh-mFyxGUUup",
        "colab_type": "code",
        "colab": {}
      },
      "source": [
        "data = data.reindex(columns=data.columns.tolist()+['balance_per_account'])"
      ],
      "execution_count": 183,
      "outputs": []
    },
    {
      "cell_type": "code",
      "metadata": {
        "id": "VeM5GUJzU2Bp",
        "colab_type": "code",
        "colab": {}
      },
      "source": [
        "data['balance_per_account'] = np.divide(data['tot_cur_bal'],data['open_acc'])"
      ],
      "execution_count": 184,
      "outputs": []
    },
    {
      "cell_type": "code",
      "metadata": {
        "id": "PrS6lE6oVVAP",
        "colab_type": "code",
        "colab": {}
      },
      "source": [
        "data = data.reindex(columns=data.columns.tolist()+['delinq_per_acc'])"
      ],
      "execution_count": 185,
      "outputs": []
    },
    {
      "cell_type": "code",
      "metadata": {
        "id": "OChddkuVXdLc",
        "colab_type": "code",
        "colab": {}
      },
      "source": [
        "data['delinq_per_acc'] = np.divide(data['delinq_2yrs'],data['open_acc'])"
      ],
      "execution_count": 186,
      "outputs": []
    },
    {
      "cell_type": "code",
      "metadata": {
        "id": "Iu6XKRKodJ2T",
        "colab_type": "code",
        "colab": {}
      },
      "source": [
        "data = data.reindex(columns=data.columns.tolist()+['emi_per_term'])"
      ],
      "execution_count": 187,
      "outputs": []
    },
    {
      "cell_type": "code",
      "metadata": {
        "id": "7HRq-tB4gorq",
        "colab_type": "code",
        "colab": {}
      },
      "source": [
        "data.drop(data[data['last_week_pay']=='NAth week'].index,axis=0,inplace=True)"
      ],
      "execution_count": 188,
      "outputs": []
    },
    {
      "cell_type": "code",
      "metadata": {
        "id": "xTV9uVo9t6Nj",
        "colab_type": "code",
        "colab": {}
      },
      "source": [
        "data['term'] = data['term'].astype(str)"
      ],
      "execution_count": 189,
      "outputs": []
    },
    {
      "cell_type": "code",
      "metadata": {
        "id": "l1jrbQoDuXp7",
        "colab_type": "code",
        "colab": {}
      },
      "source": [
        "a = data[data['term']=='nan'].index\n",
        "data.drop(a,axis=0,inplace=True)"
      ],
      "execution_count": 190,
      "outputs": []
    },
    {
      "cell_type": "code",
      "metadata": {
        "id": "JYlC-eEtfpOt",
        "colab_type": "code",
        "colab": {}
      },
      "source": [
        "def clear_data(x):\n",
        "  a = int(x['term'].split()[0])\n",
        "  b = x['last_week_pay'].split()[0]\n",
        "  c = int(b.split('t')[0])\n",
        "\n",
        "  return (c*7)/(a*30)\n",
        "\n",
        "data_emi_per_term = data.apply(clear_data,axis=1)\n",
        "\n"
      ],
      "execution_count": 191,
      "outputs": []
    },
    {
      "cell_type": "code",
      "metadata": {
        "id": "lJzlYL4YfKfD",
        "colab_type": "code",
        "colab": {}
      },
      "source": [
        "data['emi_per_term'] = data_emi_per_term"
      ],
      "execution_count": 192,
      "outputs": []
    },
    {
      "cell_type": "code",
      "metadata": {
        "id": "xFosFQ07jVbS",
        "colab_type": "code",
        "colab": {}
      },
      "source": [
        "data.drop(['emp_title'],axis=1,inplace=True)\n",
        "data.drop(['desc'],axis=1,inplace=True)\n",
        "data.drop(['sub_grade'],axis=1,inplace=True)"
      ],
      "execution_count": 193,
      "outputs": []
    },
    {
      "cell_type": "code",
      "metadata": {
        "id": "2Rp4bBWtk355",
        "colab_type": "code",
        "colab": {
          "base_uri": "https://localhost:8080/",
          "height": 34
        },
        "outputId": "14e734f2-d23c-4c8b-bd2f-b88dc8f23c1e"
      },
      "source": [
        "data['term'].unique()"
      ],
      "execution_count": null,
      "outputs": [
        {
          "output_type": "execute_result",
          "data": {
            "text/plain": [
              "array(['36 months', '60 months'], dtype=object)"
            ]
          },
          "metadata": {
            "tags": []
          },
          "execution_count": 102
        }
      ]
    },
    {
      "cell_type": "code",
      "metadata": {
        "id": "NMo15vBXkFQ-",
        "colab_type": "code",
        "colab": {}
      },
      "source": [
        "def term(x):\n",
        "  if(x['term']=='36 months'):\n",
        "    return 0\n",
        "  else:\n",
        "    return 1\n",
        "\n",
        "term_data = data.apply(term,axis=1)"
      ],
      "execution_count": 194,
      "outputs": []
    },
    {
      "cell_type": "code",
      "metadata": {
        "id": "Vu5Wd2mNmbvf",
        "colab_type": "code",
        "colab": {}
      },
      "source": [
        "data['term'] = term_data"
      ],
      "execution_count": 195,
      "outputs": []
    },
    {
      "cell_type": "code",
      "metadata": {
        "id": "0j9sHArVmy_4",
        "colab_type": "code",
        "colab": {}
      },
      "source": [
        "def week(x):\n",
        "  b = x['last_week_pay'].split()[0]\n",
        "  c = int(b.split('t')[0])\n",
        "\n",
        "  return c\n",
        "\n",
        "week_data = data.apply(week,axis=1)"
      ],
      "execution_count": 196,
      "outputs": []
    },
    {
      "cell_type": "code",
      "metadata": {
        "id": "1xFFaOhYnnor",
        "colab_type": "code",
        "colab": {}
      },
      "source": [
        "data['last_week_pay'] = week_data"
      ],
      "execution_count": 197,
      "outputs": []
    },
    {
      "cell_type": "code",
      "metadata": {
        "id": "okZUHFQUnxEP",
        "colab_type": "code",
        "colab": {}
      },
      "source": [
        "data.drop(['batch_enrolled'],axis=1,inplace=True)"
      ],
      "execution_count": 198,
      "outputs": []
    },
    {
      "cell_type": "code",
      "metadata": {
        "id": "gcsY-WdnoR7m",
        "colab_type": "code",
        "colab": {}
      },
      "source": [
        "def status(x):\n",
        "  if(x['initial_list_status']=='f'):\n",
        "    return 1\n",
        "  else:\n",
        "    return 0\n",
        "\n",
        "status_data = data.apply(status,axis=1)\n",
        "\n",
        "data['initial_list_status'] = status_data"
      ],
      "execution_count": 199,
      "outputs": []
    },
    {
      "cell_type": "code",
      "metadata": {
        "id": "m7oBuGXRtJHg",
        "colab_type": "code",
        "colab": {}
      },
      "source": [
        "a = [(row['zip_code'],row['addr_state']) for index, row in data.iterrows()]\n"
      ],
      "execution_count": 200,
      "outputs": []
    },
    {
      "cell_type": "code",
      "metadata": {
        "id": "btY1eN78M-Am",
        "colab_type": "code",
        "colab": {}
      },
      "source": [
        "data=data.reindex(columns=data.columns.tolist()+['location'])"
      ],
      "execution_count": 201,
      "outputs": []
    },
    {
      "cell_type": "code",
      "metadata": {
        "id": "NrWHIdxMNFsJ",
        "colab_type": "code",
        "colab": {}
      },
      "source": [
        "data['location'] = [str(i) for i in a]"
      ],
      "execution_count": 202,
      "outputs": []
    },
    {
      "cell_type": "code",
      "metadata": {
        "id": "nL8RxyKMWlnr",
        "colab_type": "code",
        "colab": {}
      },
      "source": [
        "location_dict = dict(data.groupby('location').size())"
      ],
      "execution_count": 203,
      "outputs": []
    },
    {
      "cell_type": "code",
      "metadata": {
        "id": "XESb6cpLWbQW",
        "colab_type": "code",
        "colab": {}
      },
      "source": [
        "data = data.reindex(columns=data.columns.tolist()+['location_count'])"
      ],
      "execution_count": 204,
      "outputs": []
    },
    {
      "cell_type": "code",
      "metadata": {
        "id": "0cJS8hYDHTDT",
        "colab_type": "code",
        "colab": {}
      },
      "source": [
        "def location(x):\n",
        "  return location_dict[x]\n",
        "\n",
        "data['location_count'] = data['location'].apply(lambda x:location(x))"
      ],
      "execution_count": 205,
      "outputs": []
    },
    {
      "cell_type": "code",
      "metadata": {
        "id": "MGS-MlawfQSh",
        "colab_type": "code",
        "colab": {
          "base_uri": "https://localhost:8080/",
          "height": 35
        },
        "outputId": "8adba5da-a4ad-45ae-90eb-52b7a6384655"
      },
      "source": [
        "data['location'].loc[0]"
      ],
      "execution_count": null,
      "outputs": [
        {
          "output_type": "execute_result",
          "data": {
            "application/vnd.google.colaboratory.intrinsic+json": {
              "type": "string"
            },
            "text/plain": [
              "\"('349xx', 'FL')\""
            ]
          },
          "metadata": {
            "tags": []
          },
          "execution_count": 229
        }
      ]
    },
    {
      "cell_type": "code",
      "metadata": {
        "id": "w7WeIf4RNeEP",
        "colab_type": "code",
        "colab": {}
      },
      "source": [
        "features = FeatureHasher(n_features=10,input_type='string')"
      ],
      "execution_count": 206,
      "outputs": []
    },
    {
      "cell_type": "code",
      "metadata": {
        "id": "HVVwSWmMNwTE",
        "colab_type": "code",
        "colab": {}
      },
      "source": [
        "hashed_feature = features.fit_transform(data['location'])\n",
        "hashed_feature = hashed_feature.toarray()"
      ],
      "execution_count": 207,
      "outputs": []
    },
    {
      "cell_type": "code",
      "metadata": {
        "id": "PkyFrnejf38n",
        "colab_type": "code",
        "colab": {}
      },
      "source": [
        "data = pd.concat([data,pd.DataFrame(hashed_feature)],axis=1)"
      ],
      "execution_count": 208,
      "outputs": []
    },
    {
      "cell_type": "code",
      "metadata": {
        "id": "go4lupnVgTd1",
        "colab_type": "code",
        "colab": {}
      },
      "source": [
        "data.drop(['location'],axis=1,inplace=True)\n",
        "data.drop(['zip_code'],axis=1,inplace=True)\n",
        "data.drop(['addr_state'],axis=1,inplace=True)"
      ],
      "execution_count": 209,
      "outputs": []
    },
    {
      "cell_type": "code",
      "metadata": {
        "id": "mG-gIXIChUvS",
        "colab_type": "code",
        "colab": {}
      },
      "source": [
        "columns_verification = data['verification_status_joint'].unique().tolist()\n",
        "columns_joint = ['joint_status '+str(i) for i in columns_verification]\n",
        "#data = data.reindex(columns=data.columns.tolist()+columns_joint)"
      ],
      "execution_count": 210,
      "outputs": []
    },
    {
      "cell_type": "code",
      "metadata": {
        "id": "_zezbJtMi9_5",
        "colab_type": "code",
        "colab": {}
      },
      "source": [
        "for i in columns_joint:\n",
        "  data[i]=0"
      ],
      "execution_count": 211,
      "outputs": []
    },
    {
      "cell_type": "code",
      "metadata": {
        "id": "4hc1DzO4iqfJ",
        "colab_type": "code",
        "colab": {}
      },
      "source": [
        "def verification(x):\n",
        "  data['joint_status '+str(x['verification_status_joint'])].loc[x.name] = 1\n",
        "\n",
        "data.apply(verification,axis=1)"
      ],
      "execution_count": null,
      "outputs": []
    },
    {
      "cell_type": "code",
      "metadata": {
        "id": "IHlYiJ7gmkRZ",
        "colab_type": "code",
        "colab": {}
      },
      "source": [
        "data.drop(['verification_status_joint'],axis=1,inplace=True)"
      ],
      "execution_count": 213,
      "outputs": []
    },
    {
      "cell_type": "code",
      "metadata": {
        "id": "aC_n8j77riew",
        "colab_type": "code",
        "colab": {}
      },
      "source": [
        "data.head()"
      ],
      "execution_count": null,
      "outputs": []
    },
    {
      "cell_type": "code",
      "metadata": {
        "id": "837LOVjtrVFA",
        "colab_type": "code",
        "colab": {}
      },
      "source": [
        "dict_na={}\n",
        "for i in data.columns:\n",
        "  dict_na[i]=data[i].isna().sum()"
      ],
      "execution_count": null,
      "outputs": []
    },
    {
      "cell_type": "code",
      "metadata": {
        "id": "ActEE_hNrzAe",
        "colab_type": "code",
        "colab": {}
      },
      "source": [
        "for i in data.columns:\n",
        "  \n",
        "  mean = data[i].mean()\n",
        "  data[i].fillna(mean,inplace=True)"
      ],
      "execution_count": 242,
      "outputs": []
    },
    {
      "cell_type": "code",
      "metadata": {
        "id": "shzM4NjXt986",
        "colab_type": "code",
        "colab": {}
      },
      "source": [
        "data.drop(['member_id'],axis=1,inplace=True)"
      ],
      "execution_count": 215,
      "outputs": []
    },
    {
      "cell_type": "code",
      "metadata": {
        "id": "pSFjljR1bnQ8",
        "colab_type": "code",
        "colab": {}
      },
      "source": [
        "data_copy = data.copy()"
      ],
      "execution_count": null,
      "outputs": []
    },
    {
      "cell_type": "code",
      "metadata": {
        "id": "aIMgI3S9dKMC",
        "colab_type": "code",
        "colab": {}
      },
      "source": [
        "import regex as re"
      ],
      "execution_count": 216,
      "outputs": []
    },
    {
      "cell_type": "code",
      "metadata": {
        "id": "MYGUdsFpZ0J6",
        "colab_type": "code",
        "colab": {}
      },
      "source": [
        "data_copy.rename(columns={'income(1895.999, 35000.0]': 'income 1895.999 35000.0'},inplace=True)"
      ],
      "execution_count": null,
      "outputs": []
    },
    {
      "cell_type": "code",
      "metadata": {
        "id": "Z4gO7PgcbtGb",
        "colab_type": "code",
        "colab": {}
      },
      "source": [
        "def clean_feature(x):\n",
        "   x = re.sub(']|\\(','',x)\n",
        "   return x"
      ],
      "execution_count": 276,
      "outputs": []
    },
    {
      "cell_type": "code",
      "metadata": {
        "id": "PbRHCYpL_MHY",
        "colab_type": "code",
        "colab": {
          "base_uri": "https://localhost:8080/",
          "height": 35
        },
        "outputId": "e059678c-c134-43e7-8983-c408ef2f8b95"
      },
      "source": [
        "data.columns[58]"
      ],
      "execution_count": 283,
      "outputs": [
        {
          "output_type": "execute_result",
          "data": {
            "application/vnd.google.colaboratory.intrinsic+json": {
              "type": "string"
            },
            "text/plain": [
              "'income(1895.999, 35000.0]'"
            ]
          },
          "metadata": {
            "tags": []
          },
          "execution_count": 283
        }
      ]
    },
    {
      "cell_type": "code",
      "metadata": {
        "id": "9IAvye-UeiWW",
        "colab_type": "code",
        "colab": {}
      },
      "source": [
        "dict_income = {data.columns[i]:clean_feature(data.columns[i]) for i in range(58,67)}"
      ],
      "execution_count": 284,
      "outputs": []
    },
    {
      "cell_type": "code",
      "metadata": {
        "id": "v0oUp5bBe7E6",
        "colab_type": "code",
        "colab": {}
      },
      "source": [
        "data_copy.rename(columns=dict_income,inplace=True)"
      ],
      "execution_count": null,
      "outputs": []
    },
    {
      "cell_type": "code",
      "metadata": {
        "id": "o9dL8ukRfEEm",
        "colab_type": "code",
        "colab": {}
      },
      "source": [
        "data.rename(columns=dict_income,inplace=True)"
      ],
      "execution_count": 285,
      "outputs": []
    },
    {
      "cell_type": "code",
      "metadata": {
        "id": "Y5Ikhb6h_CKC",
        "colab_type": "code",
        "colab": {}
      },
      "source": [
        "data.columns.tolist()"
      ],
      "execution_count": null,
      "outputs": []
    },
    {
      "cell_type": "code",
      "metadata": {
        "id": "L-n2Cbacuzkv",
        "colab_type": "code",
        "colab": {}
      },
      "source": [
        "import xgboost as xgb"
      ],
      "execution_count": 220,
      "outputs": []
    },
    {
      "cell_type": "code",
      "metadata": {
        "id": "f3PmeIh5kVME",
        "colab_type": "code",
        "colab": {}
      },
      "source": [
        "y = data.pop('loan_status')"
      ],
      "execution_count": 221,
      "outputs": []
    },
    {
      "cell_type": "code",
      "metadata": {
        "id": "UOUlXdyKiE3D",
        "colab_type": "code",
        "colab": {
          "base_uri": "https://localhost:8080/",
          "height": 34
        },
        "outputId": "99206d2d-f1f0-4525-b383-44d0dedf0551"
      },
      "source": [
        "set(y)"
      ],
      "execution_count": 226,
      "outputs": [
        {
          "output_type": "execute_result",
          "data": {
            "text/plain": [
              "{0.0, 1.0}"
            ]
          },
          "metadata": {
            "tags": []
          },
          "execution_count": 226
        }
      ]
    },
    {
      "cell_type": "code",
      "metadata": {
        "id": "3E5Zd2RWkWuv",
        "colab_type": "code",
        "colab": {}
      },
      "source": [
        "a = y[y==0.24287779849797758]\n",
        "b = a.index\n"
      ],
      "execution_count": 223,
      "outputs": []
    },
    {
      "cell_type": "code",
      "metadata": {
        "id": "d-HqYmEfk5dG",
        "colab_type": "code",
        "colab": {}
      },
      "source": [
        "y.drop(b.tolist(),inplace=True)"
      ],
      "execution_count": 224,
      "outputs": []
    },
    {
      "cell_type": "code",
      "metadata": {
        "id": "eOvp5_5flCVs",
        "colab_type": "code",
        "colab": {}
      },
      "source": [
        "data.drop(b.tolist(),axis=0,inplace=True)"
      ],
      "execution_count": 225,
      "outputs": []
    },
    {
      "cell_type": "code",
      "metadata": {
        "id": "sVu83zQvXMfP",
        "colab_type": "code",
        "colab": {
          "base_uri": "https://localhost:8080/",
          "height": 34
        },
        "outputId": "c08436c2-b48b-42bf-a1f3-be6538f4ea8b"
      },
      "source": [
        "set(y)"
      ],
      "execution_count": 227,
      "outputs": [
        {
          "output_type": "execute_result",
          "data": {
            "text/plain": [
              "{0.0, 1.0}"
            ]
          },
          "metadata": {
            "tags": []
          },
          "execution_count": 227
        }
      ]
    },
    {
      "cell_type": "code",
      "metadata": {
        "id": "cjLyi1NhvEuR",
        "colab_type": "code",
        "colab": {}
      },
      "source": [
        "def normalize(x):\n",
        "  dataNorm=((x-x.min())/(x.max()-x.min()))\n",
        "    \n",
        "  return dataNorm"
      ],
      "execution_count": 228,
      "outputs": []
    },
    {
      "cell_type": "code",
      "metadata": {
        "id": "oyURry1L1h5s",
        "colab_type": "code",
        "colab": {}
      },
      "source": [
        "data = normalize(data)"
      ],
      "execution_count": 229,
      "outputs": []
    },
    {
      "cell_type": "code",
      "metadata": {
        "id": "C-r2NwBW1mJ9",
        "colab_type": "code",
        "colab": {}
      },
      "source": [
        "x_train = data[:int(0.9*len(data))]\n",
        "x_valid = data[int(0.9*len(data)):]"
      ],
      "execution_count": 287,
      "outputs": []
    },
    {
      "cell_type": "code",
      "metadata": {
        "id": "zAlPDOGqAKpF",
        "colab_type": "code",
        "colab": {}
      },
      "source": [
        "y_train = y[:int(0.9*len(data))]\n",
        "y_valid = y[int(0.9*len(data)):]"
      ],
      "execution_count": 288,
      "outputs": []
    },
    {
      "cell_type": "code",
      "metadata": {
        "id": "JfdWf7VSiPtP",
        "colab_type": "code",
        "colab": {}
      },
      "source": [
        "a = data.isnull().any().tolist()\n",
        "for i in range(len(a)):\n",
        "  if(a[i]==True):\n",
        "    print(i)"
      ],
      "execution_count": null,
      "outputs": []
    },
    {
      "cell_type": "code",
      "metadata": {
        "id": "D8ajb4NJ3Cpc",
        "colab_type": "code",
        "colab": {
          "base_uri": "https://localhost:8080/",
          "height": 34
        },
        "outputId": "744e17b8-570e-4717-8879-e686a0a9cf1b"
      },
      "source": [
        "data.isnull().any().unique()"
      ],
      "execution_count": 251,
      "outputs": [
        {
          "output_type": "execute_result",
          "data": {
            "text/plain": [
              "array([False])"
            ]
          },
          "metadata": {
            "tags": []
          },
          "execution_count": 251
        }
      ]
    },
    {
      "cell_type": "code",
      "metadata": {
        "id": "KOJa8P4C2vFG",
        "colab_type": "code",
        "colab": {}
      },
      "source": [
        "data.drop(data.columns[70],axis=1,inplace=True)"
      ],
      "execution_count": 250,
      "outputs": []
    },
    {
      "cell_type": "code",
      "metadata": {
        "id": "ufu-PosY2tV7",
        "colab_type": "code",
        "colab": {}
      },
      "source": [
        "clf = xgb.XGBClassifier()"
      ],
      "execution_count": 289,
      "outputs": []
    },
    {
      "cell_type": "code",
      "metadata": {
        "id": "5SKtUAaN3CBi",
        "colab_type": "code",
        "colab": {}
      },
      "source": [
        "data=data.replace([np.inf,-np.inf],np.nan)"
      ],
      "execution_count": 233,
      "outputs": []
    },
    {
      "cell_type": "code",
      "metadata": {
        "id": "jLjPi6RaXWEQ",
        "colab_type": "code",
        "colab": {}
      },
      "source": [
        "data.drop([5],axis=1,inplace=True)"
      ],
      "execution_count": 234,
      "outputs": []
    },
    {
      "cell_type": "code",
      "metadata": {
        "id": "tvABuv_9le-Y",
        "colab_type": "code",
        "colab": {}
      },
      "source": [
        "data.drop(['revolve_rate'],axis=1,inplace=True)"
      ],
      "execution_count": 235,
      "outputs": []
    },
    {
      "cell_type": "code",
      "metadata": {
        "id": "TJvcuFvGm9Ya",
        "colab_type": "code",
        "colab": {}
      },
      "source": [
        "data.drop(['income(35000.0, 43000.0]'],axis=1,inplace=True)"
      ],
      "execution_count": 237,
      "outputs": []
    },
    {
      "cell_type": "code",
      "metadata": {
        "id": "hvFCsXzPBb7h",
        "colab_type": "code",
        "colab": {}
      },
      "source": [
        "data = data.reindex(columns=data.columns.tolist()+['embed_sum'])"
      ],
      "execution_count": 298,
      "outputs": []
    },
    {
      "cell_type": "code",
      "metadata": {
        "id": "jz00xxEXB4U8",
        "colab_type": "code",
        "colab": {}
      },
      "source": [
        "def embedsum(x):\n",
        "  a = np.array(x)\n",
        "  return np.mean(a)\n",
        "\n",
        "data['embed_sum'] = data[columns_embd].apply(lambda x:embedsum(x))"
      ],
      "execution_count": null,
      "outputs": []
    },
    {
      "cell_type": "code",
      "metadata": {
        "id": "Jlh9Sk7k3PaO",
        "colab_type": "code",
        "colab": {}
      },
      "source": [
        "data.head()"
      ],
      "execution_count": null,
      "outputs": []
    },
    {
      "cell_type": "code",
      "metadata": {
        "id": "eVjC5x3AmnYT",
        "colab_type": "code",
        "colab": {
          "base_uri": "https://localhost:8080/",
          "height": 136
        },
        "outputId": "3feab7cc-7483-4710-b6b7-27adf7659782"
      },
      "source": [
        "clf.fit(x_train,y_train)"
      ],
      "execution_count": 290,
      "outputs": [
        {
          "output_type": "execute_result",
          "data": {
            "text/plain": [
              "XGBClassifier(base_score=0.5, booster='gbtree', colsample_bylevel=1,\n",
              "              colsample_bynode=1, colsample_bytree=1, gamma=0,\n",
              "              learning_rate=0.1, max_delta_step=0, max_depth=3,\n",
              "              min_child_weight=1, missing=None, n_estimators=100, n_jobs=1,\n",
              "              nthread=None, objective='binary:logistic', random_state=0,\n",
              "              reg_alpha=0, reg_lambda=1, scale_pos_weight=1, seed=None,\n",
              "              silent=None, subsample=1, verbosity=1)"
            ]
          },
          "metadata": {
            "tags": []
          },
          "execution_count": 290
        }
      ]
    },
    {
      "cell_type": "code",
      "metadata": {
        "id": "hhjd1wnXnR3Z",
        "colab_type": "code",
        "colab": {}
      },
      "source": [
        "predict = clf.predict(x_valid)"
      ],
      "execution_count": 291,
      "outputs": []
    },
    {
      "cell_type": "code",
      "metadata": {
        "id": "GVFM0mZynaiN",
        "colab_type": "code",
        "colab": {}
      },
      "source": [
        "from sklearn.metrics import accuracy_score"
      ],
      "execution_count": 265,
      "outputs": []
    },
    {
      "cell_type": "code",
      "metadata": {
        "id": "UFQK6DV7nhwA",
        "colab_type": "code",
        "colab": {
          "base_uri": "https://localhost:8080/",
          "height": 34
        },
        "outputId": "8053a5e2-79d9-4f04-bed4-6641af40bd10"
      },
      "source": [
        "accuracy_score(y_valid,predict)\n"
      ],
      "execution_count": 292,
      "outputs": [
        {
          "output_type": "execute_result",
          "data": {
            "text/plain": [
              "0.8284662626591288"
            ]
          },
          "metadata": {
            "tags": []
          },
          "execution_count": 292
        }
      ]
    },
    {
      "cell_type": "code",
      "metadata": {
        "id": "5RlPfeMbDYbm",
        "colab_type": "code",
        "colab": {}
      },
      "source": [
        "clf.feature_importances_"
      ],
      "execution_count": null,
      "outputs": []
    },
    {
      "cell_type": "code",
      "metadata": {
        "id": "J4pCqIIJNj9N",
        "colab_type": "code",
        "colab": {}
      },
      "source": [
        "columns = data.columns\n",
        "sorted_column=[]\n",
        "for i in b:\n",
        "  sorted_column.append(columns[i])"
      ],
      "execution_count": null,
      "outputs": []
    },
    {
      "cell_type": "code",
      "metadata": {
        "id": "4oqKtjWFNziP",
        "colab_type": "code",
        "colab": {
          "base_uri": "https://localhost:8080/",
          "height": 884
        },
        "outputId": "4b939572-b739-4d76-94f9-d92c9273c26b"
      },
      "source": [
        "sorted_column"
      ],
      "execution_count": null,
      "outputs": [
        {
          "output_type": "execute_result",
          "data": {
            "text/plain": [
              "[Index([                  'revol_util',                          'dti',\n",
              "                          'recoveries',                  'delinq_2yrs',\n",
              "                     'funded_amnt_inv',                'total_rec_int',\n",
              "                      'delinq_per_acc',      'collection_recovery_fee',\n",
              "                            'open_acc',                      'pub_rec',\n",
              "                      'open_acc_ratio',           'total_rec_late_fee',\n",
              "          'collections_12_mths_ex_med',                      'title 9',\n",
              "                                 'Own',                      'Motgage',\n",
              "                                'Rent',              'Source Verified',\n",
              "           'joint_status Not Verified',                'last_week_pay',\n",
              "                            'title 15',                     'Verified',\n",
              "               'joint_status Verified',                      'title 0',\n",
              "                        'Not Verified',    'income(1199.999, 34000.0]',\n",
              "                           'revol_bal',                     'title 13',\n",
              "                   'amount_per_income',             'joint_status nan',\n",
              "                    'application_type',             'open_acc_rev_bal',\n",
              "                    'home_improvement',                        'other',\n",
              "                             'title 7',  'mths_since_last_major_derog',\n",
              "            'income(34000.0, 42000.0]',                      'medical',\n",
              "                         'credit_card',               'acc_now_delinq',\n",
              "            'income(42000.0, 50000.0]',                        'house',\n",
              "                        'tot_coll_amt',                      'title 8',\n",
              "                  'debt_consolidation',               'small_business',\n",
              "              'mths_since_last_delinq',                       'moving',\n",
              "            'income(56000.0, 65000.0]',                     'title 18',\n",
              "            'income(50000.0, 56000.0]',                     'vacation',\n",
              "         'income(124800.0, 9500000.0]',                   'deliq_rate',\n",
              "        'joint_status Source Verified',                      'title 2',\n",
              "            'income(72000.0, 83500.0]',                     'title 11',\n",
              "                                'term',     'income(65000.0, 72000.0]',\n",
              "                             'title 1',                   'emp_length',\n",
              "           'income(98303.8, 124800.0]',     'income(83500.0, 98303.8]',\n",
              "                             'title 4',                              3,\n",
              "                                     8,                     'title 12',\n",
              "                                     4,                              1,\n",
              "                            'title 19',                              2,\n",
              "                             'title 5',                     'title 14',\n",
              "                      'major_purchase',                              0,\n",
              "                                     7,                              9,\n",
              "                            'title 16',                      'title 3',\n",
              "                             'title 6',                     'title 17',\n",
              "                                 'car',                     'title 10',\n",
              "                                     6,             'total_rev_hi_lim',\n",
              "                                'None',                      'wedding',\n",
              "              'mths_since_last_record',                        'Other',\n",
              "                 'initial_list_status',                  'funded_amnt',\n",
              "                 'balance_per_account',                    'total_acc',\n",
              "                         'tot_cur_bal',                    'loan_amnt',\n",
              "                        'emi_per_term',               'inq_last_6mths',\n",
              "                               'grade',                     'int_rate'],\n",
              "       dtype='object')]"
            ]
          },
          "metadata": {
            "tags": []
          },
          "execution_count": 171
        }
      ]
    },
    {
      "cell_type": "code",
      "metadata": {
        "id": "7Dt8pYEJDLY5",
        "colab_type": "code",
        "colab": {}
      },
      "source": [
        "from sklearn.ensemble import RandomForestClassifier"
      ],
      "execution_count": 260,
      "outputs": []
    },
    {
      "cell_type": "code",
      "metadata": {
        "id": "VDh3U8JVC2KO",
        "colab_type": "code",
        "colab": {}
      },
      "source": [
        "model = RandomForestClassifier(criterion='entropy')"
      ],
      "execution_count": 261,
      "outputs": []
    },
    {
      "cell_type": "code",
      "metadata": {
        "id": "kktzwqYVOxym",
        "colab_type": "code",
        "colab": {
          "base_uri": "https://localhost:8080/",
          "height": 153
        },
        "outputId": "2896a2dc-0244-4099-a24e-66bb739ce2b6"
      },
      "source": [
        "model.fit(x_train,y_train)"
      ],
      "execution_count": 262,
      "outputs": [
        {
          "output_type": "execute_result",
          "data": {
            "text/plain": [
              "RandomForestClassifier(bootstrap=True, ccp_alpha=0.0, class_weight=None,\n",
              "                       criterion='entropy', max_depth=None, max_features='auto',\n",
              "                       max_leaf_nodes=None, max_samples=None,\n",
              "                       min_impurity_decrease=0.0, min_impurity_split=None,\n",
              "                       min_samples_leaf=1, min_samples_split=2,\n",
              "                       min_weight_fraction_leaf=0.0, n_estimators=100,\n",
              "                       n_jobs=None, oob_score=False, random_state=None,\n",
              "                       verbose=0, warm_start=False)"
            ]
          },
          "metadata": {
            "tags": []
          },
          "execution_count": 262
        }
      ]
    },
    {
      "cell_type": "code",
      "metadata": {
        "id": "8A-OHKLfRUEs",
        "colab_type": "code",
        "colab": {}
      },
      "source": [
        "predict2=model.predict(x_valid)"
      ],
      "execution_count": 263,
      "outputs": []
    },
    {
      "cell_type": "code",
      "metadata": {
        "id": "8td6pjJWReH8",
        "colab_type": "code",
        "colab": {
          "base_uri": "https://localhost:8080/",
          "height": 34
        },
        "outputId": "5eb2d78d-afc4-4881-9099-6036355a764f"
      },
      "source": [
        "accuracy_score(y_valid,predict2)"
      ],
      "execution_count": 266,
      "outputs": [
        {
          "output_type": "execute_result",
          "data": {
            "text/plain": [
              "0.8357668686704356"
            ]
          },
          "metadata": {
            "tags": []
          },
          "execution_count": 266
        }
      ]
    },
    {
      "cell_type": "code",
      "metadata": {
        "id": "SoGHOIKnoyVB",
        "colab_type": "code",
        "colab": {}
      },
      "source": [
        "import tensorflow as tf"
      ],
      "execution_count": 267,
      "outputs": []
    },
    {
      "cell_type": "code",
      "metadata": {
        "id": "ioOOxtLnpe4v",
        "colab_type": "code",
        "colab": {}
      },
      "source": [
        "train_dataset = tf.data.Dataset.from_tensor_slices((x_train,y_train))"
      ],
      "execution_count": 268,
      "outputs": []
    },
    {
      "cell_type": "code",
      "metadata": {
        "id": "VAT00pwkppb9",
        "colab_type": "code",
        "colab": {}
      },
      "source": [
        "validate_dataset = tf.data.Dataset.from_tensor_slices((x_valid,y_valid))"
      ],
      "execution_count": 269,
      "outputs": []
    },
    {
      "cell_type": "code",
      "metadata": {
        "id": "yQ17r6-GrT2A",
        "colab_type": "code",
        "colab": {}
      },
      "source": [
        "train_dataset = train_dataset.batch(32).shuffle(True)\n",
        "validate_dataset = validate_dataset.batch(32)"
      ],
      "execution_count": 270,
      "outputs": []
    },
    {
      "cell_type": "code",
      "metadata": {
        "id": "hQ0GlOP2AYxQ",
        "colab_type": "code",
        "colab": {}
      },
      "source": [
        "tf.random.set_seed(0)"
      ],
      "execution_count": 271,
      "outputs": []
    },
    {
      "cell_type": "code",
      "metadata": {
        "id": "HSos_wz1pv3Z",
        "colab_type": "code",
        "colab": {}
      },
      "source": [
        "model = tf.keras.Sequential()\n",
        "\n",
        "model.add(tf.keras.layers.Dense(24,activation='relu',kernel_initializer=tf.keras.initializers.GlorotNormal()))\n",
        "model.add(tf.keras.layers.Dense(12,activation='relu',kernel_initializer=tf.keras.initializers.GlorotNormal()))\n",
        "model.add(tf.keras.layers.Dense(12,activation='relu',kernel_initializer=tf.keras.initializers.GlorotNormal()))\n",
        "model.add(tf.keras.layers.Dense(6,activation='relu',kernel_initializer=tf.keras.initializers.GlorotNormal()))\n",
        "model.add(tf.keras.layers.Dense(6,activation='relu',kernel_initializer=tf.keras.initializers.GlorotNormal()))\n",
        "model.add(tf.keras.layers.Dense(3,activation='relu',kernel_initializer=tf.keras.initializers.GlorotNormal()))\n",
        "model.add(tf.keras.layers.Dense(1,activation='sigmoid',kernel_initializer=tf.keras.initializers.GlorotNormal()))"
      ],
      "execution_count": 272,
      "outputs": []
    },
    {
      "cell_type": "code",
      "metadata": {
        "id": "974pdzvkrGr7",
        "colab_type": "code",
        "colab": {}
      },
      "source": [
        "loss = tf.keras.losses.BinaryCrossentropy()"
      ],
      "execution_count": 273,
      "outputs": []
    },
    {
      "cell_type": "code",
      "metadata": {
        "id": "7ogLg41fqfLC",
        "colab_type": "code",
        "colab": {}
      },
      "source": [
        "model.compile(optimizer='adam',loss=loss,metrics=['accuracy'])"
      ],
      "execution_count": 274,
      "outputs": []
    },
    {
      "cell_type": "code",
      "metadata": {
        "id": "zN7jURRprRPv",
        "colab_type": "code",
        "colab": {
          "base_uri": "https://localhost:8080/",
          "height": 496
        },
        "outputId": "6a7ab0ed-e721-457c-f77e-74808441170d"
      },
      "source": [
        "model.fit(train_dataset,epochs=10,validation_data=validate_dataset)"
      ],
      "execution_count": 275,
      "outputs": [
        {
          "output_type": "stream",
          "text": [
            "Epoch 1/10\n",
            "WARNING:tensorflow:Layer dense is casting an input tensor from dtype float64 to the layer's dtype of float32, which is new behavior in TensorFlow 2.  The layer has dtype float32 because its dtype defaults to floatx.\n",
            "\n",
            "If you intended to run this layer in float32, you can safely ignore this warning. If in doubt, this warning is likely only an issue if you are porting a TensorFlow 1.X model to TensorFlow 2.\n",
            "\n",
            "To change all layers to have dtype float64 by default, call `tf.keras.backend.set_floatx('float64')`. To change just this layer, pass dtype='float64' to the layer constructor. If you are the author of this layer, you can disable autocasting by passing autocast=False to the base Layer constructor.\n",
            "\n",
            "13831/13831 [==============================] - 19s 1ms/step - loss: 0.4981 - accuracy: 0.7798 - val_loss: 0.4667 - val_accuracy: 0.7893\n",
            "Epoch 2/10\n",
            "13831/13831 [==============================] - 20s 1ms/step - loss: 0.4535 - accuracy: 0.7951 - val_loss: 0.4370 - val_accuracy: 0.8055\n",
            "Epoch 3/10\n",
            "13831/13831 [==============================] - 20s 1ms/step - loss: 0.4375 - accuracy: 0.8045 - val_loss: 0.4271 - val_accuracy: 0.8119\n",
            "Epoch 4/10\n",
            "13831/13831 [==============================] - 21s 1ms/step - loss: 0.4304 - accuracy: 0.8083 - val_loss: 0.4243 - val_accuracy: 0.8147\n",
            "Epoch 5/10\n",
            "13831/13831 [==============================] - 20s 1ms/step - loss: 0.4269 - accuracy: 0.8107 - val_loss: 0.4222 - val_accuracy: 0.8158\n",
            "Epoch 6/10\n",
            "13831/13831 [==============================] - 20s 1ms/step - loss: 0.4245 - accuracy: 0.8122 - val_loss: 0.4215 - val_accuracy: 0.8159\n",
            "Epoch 7/10\n",
            "13831/13831 [==============================] - 20s 1ms/step - loss: 0.4225 - accuracy: 0.8134 - val_loss: 0.4208 - val_accuracy: 0.8164\n",
            "Epoch 8/10\n",
            "13831/13831 [==============================] - 20s 1ms/step - loss: 0.4204 - accuracy: 0.8150 - val_loss: 0.4220 - val_accuracy: 0.8165\n",
            "Epoch 9/10\n",
            "13831/13831 [==============================] - 20s 1ms/step - loss: 0.4188 - accuracy: 0.8162 - val_loss: 0.4220 - val_accuracy: 0.8147\n",
            "Epoch 10/10\n",
            "13831/13831 [==============================] - 20s 1ms/step - loss: 0.4174 - accuracy: 0.8170 - val_loss: 0.4188 - val_accuracy: 0.8180\n"
          ],
          "name": "stdout"
        },
        {
          "output_type": "execute_result",
          "data": {
            "text/plain": [
              "<tensorflow.python.keras.callbacks.History at 0x7fa871761c18>"
            ]
          },
          "metadata": {
            "tags": []
          },
          "execution_count": 275
        }
      ]
    }
  ]
}