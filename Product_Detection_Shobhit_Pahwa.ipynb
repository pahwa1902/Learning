{
  "nbformat": 4,
  "nbformat_minor": 0,
  "metadata": {
    "colab": {
      "name": "Product_Detection_Shobhit_Pahwa.ipynb",
      "provenance": [],
      "machine_shape": "hm",
      "authorship_tag": "ABX9TyMJgJOntLuHvknc3XQPmmHG",
      "include_colab_link": true
    },
    "kernelspec": {
      "name": "python3",
      "display_name": "Python 3"
    },
    "accelerator": "TPU"
  },
  "cells": [
    {
      "cell_type": "markdown",
      "metadata": {
        "id": "view-in-github",
        "colab_type": "text"
      },
      "source": [
        "<a href=\"https://colab.research.google.com/github/pahwa1902/Learning/blob/master/Product_Detection_Shobhit_Pahwa.ipynb\" target=\"_parent\"><img src=\"https://colab.research.google.com/assets/colab-badge.svg\" alt=\"Open In Colab\"/></a>"
      ]
    },
    {
      "cell_type": "code",
      "metadata": {
        "id": "TTwq9WhbTiVr",
        "colab_type": "code",
        "outputId": "ff529fb0-b2ac-43e6-b239-4a62cf276175",
        "colab": {
          "base_uri": "https://localhost:8080/",
          "height": 34
        }
      },
      "source": [
        "import cv2\n",
        "import os\n",
        "import tensorflow as tf\n",
        "import numpy as np\n",
        "from keras.models import Model\n",
        "from keras.layers import Conv2D, MaxPooling2D, BatchNormalization, LeakyReLU, ZeroPadding2D, Dense\n",
        "import matplotlib.pyplot as plt\n",
        "from sklearn.cluster import KMeans\n",
        "from keras import backend as K"
      ],
      "execution_count": 0,
      "outputs": [
        {
          "output_type": "stream",
          "text": [
            "Using TensorFlow backend.\n"
          ],
          "name": "stderr"
        }
      ]
    },
    {
      "cell_type": "code",
      "metadata": {
        "id": "sQNRYcAbfPJn",
        "colab_type": "code",
        "colab": {}
      },
      "source": [
        "labels = ['prod_0','prod_1','prod_2','prod_3','prod_4','prod_5','prod_6','prod_7','prod_8','prod_9','prod_10']\n"
      ],
      "execution_count": 0,
      "outputs": []
    },
    {
      "cell_type": "code",
      "metadata": {
        "id": "SpxcxqFIe6a9",
        "colab_type": "code",
        "colab": {}
      },
      "source": [
        "image_H,image_W = 720,720\n",
        "Grid_H, Grid_W = 12,12\n",
        "classes = len(labels)\n",
        "anchors=1\n",
        "batch_size=32\n",
        "RATE=0.001\n",
        "no_object_weight = 0.5\n",
        "cord_weight = 3\n",
        "beat_1=0.9\n",
        "beta_2=0.99\n",
        "threshold = 0.6"
      ],
      "execution_count": 0,
      "outputs": []
    },
    {
      "cell_type": "code",
      "metadata": {
        "id": "_Rem2So4S9gC",
        "colab_type": "code",
        "colab": {}
      },
      "source": [
        "y=[]\n",
        "for i in range(11):\n",
        "  y.append(str(i))\n"
      ],
      "execution_count": 0,
      "outputs": []
    },
    {
      "cell_type": "code",
      "metadata": {
        "id": "G2L3nK0levPX",
        "colab_type": "code",
        "colab": {}
      },
      "source": [
        "y_label=np.array(y)"
      ],
      "execution_count": 0,
      "outputs": []
    },
    {
      "cell_type": "code",
      "metadata": {
        "id": "Xz449kWiVHk6",
        "colab_type": "code",
        "colab": {}
      },
      "source": [
        "# mounting google drive to load images into colab\n",
        "from google.colab import drive\n",
        "drive.mount('/content/drive')"
      ],
      "execution_count": 0,
      "outputs": []
    },
    {
      "cell_type": "code",
      "metadata": {
        "id": "eQp17pWci9nr",
        "colab_type": "code",
        "colab": {}
      },
      "source": [
        "# number of images present of a product\n",
        "def size(path,label,length):\n",
        "  \n",
        "  for i in label:\n",
        "    length += (len(os.listdir('/content/drive/My Drive/GroceryDataset_part1/'+path+'/'+i)))\n",
        "  return length"
      ],
      "execution_count": 0,
      "outputs": []
    },
    {
      "cell_type": "code",
      "metadata": {
        "id": "T4WuIU7tlOXY",
        "colab_type": "code",
        "colab": {}
      },
      "source": [
        "length = 0"
      ],
      "execution_count": 0,
      "outputs": []
    },
    {
      "cell_type": "code",
      "metadata": {
        "id": "TSiKCQA7kQU-",
        "colab_type": "code",
        "colab": {}
      },
      "source": [
        "length = size('ProductImagesFromShelves',y_label,length)\n"
      ],
      "execution_count": 0,
      "outputs": []
    },
    {
      "cell_type": "code",
      "metadata": {
        "id": "gpstshmVleXz",
        "colab_type": "code",
        "colab": {}
      },
      "source": [
        "length = size('BrandImagesFromShelves',y_label[1:],length)"
      ],
      "execution_count": 0,
      "outputs": []
    },
    {
      "cell_type": "code",
      "metadata": {
        "id": "eVn6Kr00mNS3",
        "colab_type": "code",
        "colab": {}
      },
      "source": [
        "total_images = length"
      ],
      "execution_count": 0,
      "outputs": []
    },
    {
      "cell_type": "code",
      "metadata": {
        "id": "xY2o-XaAdzx7",
        "colab_type": "code",
        "colab": {}
      },
      "source": [
        "def box_iou(box1, box2):\n",
        "    intersect_w = _interval_overlap([box1.xmin, box1.xmax], [box2.xmin, box2.xmax])\n",
        "    intersect_h = _interval_overlap([box1.ymin, box1.ymax], [box2.ymin, box2.ymax])  \n",
        "    \n",
        "    intersect = intersect_w * intersect_h\n",
        "\n",
        "    w1, h1 = box1.xmax-box1.xmin, box1.ymax-box1.ymin\n",
        "    w2, h2 = box2.xmax-box2.xmin, box2.ymax-box2.ymin\n",
        "    \n",
        "    union = w1*h1 + w2*h2 - intersect\n",
        "    \n",
        "    return float(intersect) / union"
      ],
      "execution_count": 0,
      "outputs": []
    },
    {
      "cell_type": "code",
      "metadata": {
        "id": "TCgWTzVBLiWi",
        "colab_type": "code",
        "colab": {}
      },
      "source": [
        "list_ds = tf.data.Dataset.list_files(str('/content/drive/My Drive/GroceryDataset_part1/*/*/*'))"
      ],
      "execution_count": 0,
      "outputs": []
    },
    {
      "cell_type": "code",
      "metadata": {
        "id": "oQ36-oofPKBo",
        "colab_type": "code",
        "colab": {}
      },
      "source": [
        "# generating labels of image corresponding to a particular product\n",
        "def get_label(path):\n",
        "  parts = tf.strings.split(path,os.path.sep)\n",
        "  label = (parts[-2]== y_label)\n",
        "  return tf.cast(label,dtype=tf.int32)"
      ],
      "execution_count": 0,
      "outputs": []
    },
    {
      "cell_type": "code",
      "metadata": {
        "id": "VuXryS1hQhkb",
        "colab_type": "code",
        "colab": {}
      },
      "source": [
        "# transforming img to make training faster\n",
        "def transform(img):\n",
        "  img = tf.image.decode_png(img, channels=3)\n",
        "  img = tf.image.resize(img, [image_W, image_H])\n",
        "  img = tf.image.convert_image_dtype(img, tf.float32)\n",
        "  img = img/255\n",
        "  return img"
      ],
      "execution_count": 0,
      "outputs": []
    },
    {
      "cell_type": "code",
      "metadata": {
        "id": "zk-KaRG3RKCH",
        "colab_type": "code",
        "colab": {}
      },
      "source": [
        "# generating dataset to train\n",
        "def pre_process(path):\n",
        "  label = get_label(path)\n",
        "  img = tf.io.read_file(path)\n",
        "  img = transform(img)\n",
        "  return img,label"
      ],
      "execution_count": 0,
      "outputs": []
    },
    {
      "cell_type": "code",
      "metadata": {
        "id": "bcaxf-8xSGqL",
        "colab_type": "code",
        "colab": {}
      },
      "source": [
        "labeled_ds = list_ds.map(pre_process) # transformations and data generating applied to all product images"
      ],
      "execution_count": 0,
      "outputs": []
    },
    {
      "cell_type": "code",
      "metadata": {
        "id": "B_jmAZ7ng-lg",
        "colab_type": "code",
        "colab": {}
      },
      "source": [
        "# train, validation dataset split(90 and 10 percent)\n",
        "train_dataset = labeled_ds.take(int(.9*total_images))\n",
        "valid_dataset = labeled_ds.take(int(total_images-int(0.9*total_images)))"
      ],
      "execution_count": 0,
      "outputs": []
    },
    {
      "cell_type": "code",
      "metadata": {
        "id": "5NR2FBF5mvu0",
        "colab_type": "code",
        "colab": {}
      },
      "source": [
        "train_dataset = train_dataset.shuffle(1000).batch(batch_size)\n",
        "valid_dataset = valid_dataset.batch(batch_size)"
      ],
      "execution_count": 0,
      "outputs": []
    },
    {
      "cell_type": "code",
      "metadata": {
        "id": "lLHB1rQ-XOVj",
        "colab_type": "code",
        "colab": {}
      },
      "source": [
        "# get all the dimensions of object from annotations file of shelf images\n",
        "with open('/content/drive/My Drive/annotations.txt') as annot:\n",
        "  split_images=[]\n",
        "  for line in annot:\n",
        "    b = line.split(\" \")\n",
        "    split_images.append(b)\n",
        "   "
      ],
      "execution_count": 0,
      "outputs": []
    },
    {
      "cell_type": "code",
      "metadata": {
        "id": "1mZs11boXZK-",
        "colab_type": "code",
        "colab": {}
      },
      "source": [
        "# decide wheather to use anchor boxes or not by looking all the aspect ratios and scale of objects\n",
        "\n",
        "height_list=[]\n",
        "width_list=[]\n",
        "for i in split_images:\n",
        "  image = cv2.imread('/content/drive/My Drive/ShelfImages/ShelfImages/train/'+i[0])\n",
        "  c = i[2:]\n",
        "  for j in range(0,len(c),5):\n",
        "    \n",
        "    if(image is not None):\n",
        "      height_org,width_org,channel = image.shape\n",
        "      width = float(c[j+2])/float(width_org)\n",
        "    \n",
        "      height = float(c[j+3])/float(height_org)\n",
        "    \n",
        "      height_list.append(height)\n",
        "      width_list.append(width)"
      ],
      "execution_count": 0,
      "outputs": []
    },
    {
      "cell_type": "code",
      "metadata": {
        "id": "yUrUTwiZ6v1m",
        "colab_type": "code",
        "outputId": "fc6ad11b-6fe6-44b6-f705-836507a0f1e3",
        "colab": {
          "base_uri": "https://localhost:8080/",
          "height": 500
        }
      },
      "source": [
        "# graph analysis for variance of dimensions of height and width with respect to the image size\n",
        "plt.figure(figsize=(10,8))\n",
        "plt.scatter(width_list,height_list)"
      ],
      "execution_count": 0,
      "outputs": [
        {
          "output_type": "execute_result",
          "data": {
            "text/plain": [
              "<matplotlib.collections.PathCollection at 0x7f05e27f5390>"
            ]
          },
          "metadata": {
            "tags": []
          },
          "execution_count": 9
        },
        {
          "output_type": "display_data",
          "data": {
            "image/png": "[encoded data removed]",
            "text/plain": [
              "<Figure size 720x576 with 1 Axes>"
            ]
          },
          "metadata": {
            "tags": [],
            "needs_background": "light"
          }
        }
      ]
    },
    {
      "cell_type": "markdown",
      "metadata": {
        "id": "94D0nzHEY2FU",
        "colab_type": "text"
      },
      "source": [
        "After analyzing aspect ratio and scale of all the object in all the image it has been found that aspect ratio and scale of all the objects within an image is almost similar in most of the images and therefore no anchor boxes are required as there will be no problem to training."
      ]
    },
    {
      "cell_type": "code",
      "metadata": {
        "id": "7gfGQeK_9on-",
        "colab_type": "code",
        "colab": {}
      },
      "source": [
        "x = tuple(zip(width_list,height_list)) # preparing data for K means analysis of anchor box"
      ],
      "execution_count": 0,
      "outputs": []
    },
    {
      "cell_type": "code",
      "metadata": {
        "id": "r_BNkGNmBVds",
        "colab_type": "code",
        "colab": {}
      },
      "source": [
        "x = np.array(x)"
      ],
      "execution_count": 0,
      "outputs": []
    },
    {
      "cell_type": "code",
      "metadata": {
        "id": "OLOY2dZ_CouM",
        "colab_type": "code",
        "colab": {}
      },
      "source": [
        "# iou of bounding box with anchor boxes\n",
        "def iou(box, clusters):\n",
        "    \n",
        "    x = np.minimum(clusters[:, 0], box[0])\n",
        "    y = np.minimum(clusters[:, 1], box[1])\n",
        "    \n",
        "    intersection = x * y\n",
        "    box_area = box[0] * box[1]\n",
        "    cluster_area = clusters[:, 0] * clusters[:, 1]\n",
        "\n",
        "    iou_ = intersection / (box_area + cluster_area - intersection)\n",
        "\n",
        "    return iou_"
      ],
      "execution_count": 0,
      "outputs": []
    },
    {
      "cell_type": "code",
      "metadata": {
        "id": "YC6qH729DVvb",
        "colab_type": "code",
        "colab": {}
      },
      "source": [
        "def avg_iou(boxes, clusters):\n",
        "    \n",
        "    return np.mean([np.max(iou(boxes[i], clusters)) for i in range(boxes.shape[0])])"
      ],
      "execution_count": 0,
      "outputs": []
    },
    {
      "cell_type": "code",
      "metadata": {
        "id": "btvPv9dbEI0n",
        "colab_type": "code",
        "colab": {}
      },
      "source": [
        "# evaluating avg_iou with different numbers of anchor_boxes to get optimal value for number of anchor_boxes and there height and width\n",
        "avg_iou_list = []\n",
        "anchor_boxes = []\n",
        "for i in range(1,10):\n",
        "  nu_clusters = i\n",
        "  kmeans = KMeans(n_clusters=nu_clusters)\n",
        "  kmeans.fit(x)\n",
        "  center = kmeans.cluster_centers_\n",
        "  center = np.reshape(center,(nu_clusters,2))\n",
        "  avg_iou_list.append(avg_iou(x,center))\n",
        "  anchor_boxes.append(nu_clusters)\n"
      ],
      "execution_count": 0,
      "outputs": []
    },
    {
      "cell_type": "code",
      "metadata": {
        "id": "xXTz_qbzFNQf",
        "colab_type": "code",
        "outputId": "ec4f5e34-56f8-4ee3-eb45-8f6aae5a4f72",
        "colab": {
          "base_uri": "https://localhost:8080/",
          "height": 280
        }
      },
      "source": [
        "plt.plot(anchor_boxes,avg_iou_list) \n",
        "plt.xlabel('anchor_box')\n",
        "plt.ylabel('Avg_iou')\n",
        "plt.show()"
      ],
      "execution_count": 0,
      "outputs": [
        {
          "output_type": "display_data",
          "data": {
            "image/png": "[encoded data removed]",
            "text/plain": [
              "<Figure size 432x288 with 1 Axes>"
            ]
          },
          "metadata": {
            "tags": [],
            "needs_background": "light"
          }
        }
      ]
    },
    {
      "cell_type": "code",
      "metadata": {
        "id": "8GuoCxghGqSG",
        "colab_type": "code",
        "outputId": "8ea36341-fa17-4351-c3bb-79c0a5b6ef67",
        "colab": {
          "base_uri": "https://localhost:8080/",
          "height": 68
        }
      },
      "source": [
        "#centers for optimal number of anchor boxes\n",
        "kmean = KMeans(n_clusters=2)\n",
        "kmean.fit(x)"
      ],
      "execution_count": 0,
      "outputs": [
        {
          "output_type": "execute_result",
          "data": {
            "text/plain": [
              "KMeans(algorithm='auto', copy_x=True, init='k-means++', max_iter=300,\n",
              "       n_clusters=2, n_init=10, n_jobs=None, precompute_distances='auto',\n",
              "       random_state=None, tol=0.0001, verbose=0)"
            ]
          },
          "metadata": {
            "tags": []
          },
          "execution_count": 44
        }
      ]
    },
    {
      "cell_type": "code",
      "metadata": {
        "id": "_vZbYJpXHBXS",
        "colab_type": "code",
        "colab": {}
      },
      "source": [
        "anchor_boxes = kmean.cluster_centers_ # I am not using anchor boxes in my calculations because of time constraints and also avg_iou increment is from 0.675 to 0.74 and can be used in the architecture\n"
      ],
      "execution_count": 0,
      "outputs": []
    },
    {
      "cell_type": "code",
      "metadata": {
        "id": "T9qbj_3ojIv-",
        "colab_type": "code",
        "colab": {}
      },
      "source": [
        "anchors = anchor_boxes"
      ],
      "execution_count": 0,
      "outputs": []
    },
    {
      "cell_type": "markdown",
      "metadata": {
        "id": "jgUbfsu4Gdne",
        "colab_type": "text"
      },
      "source": [
        "Increasing number of anchor box from 1 to 2 increases avg_ious score significantly"
      ]
    },
    {
      "cell_type": "code",
      "metadata": {
        "id": "1cHW8Fht0d5r",
        "colab_type": "code",
        "colab": {}
      },
      "source": [
        "# rescaling images to make fast learning\n",
        "def preprocess(img_list,size):\n",
        "  img_data=[]\n",
        "  for img in img_list:\n",
        "    img = img/255\n",
        "    img = cv2.resize(img,dsize=size,interpolation = cv2.INTER_AREA)\n",
        "    img_data.append(img)\n",
        "  return img_data"
      ],
      "execution_count": 0,
      "outputs": []
    },
    {
      "cell_type": "code",
      "metadata": {
        "id": "7qhvoQqus1ck",
        "colab_type": "code",
        "colab": {}
      },
      "source": [
        "# list all the objects present in shelf images\n",
        "def object_image(image_name):\n",
        "  obj = {}\n",
        "  for prod in range(len(labels)):\n",
        "    for items in os.listdir(os.path.join(prod_dir,prod)):\n",
        "      file_name = items.split(\".\")\n",
        "      if(file_name[0] == image_name):\n",
        "        if(obj[prod]):\n",
        "          obj[prod] = [items]\n",
        "        else:\n",
        "          obj[prod].append(items)"
      ],
      "execution_count": 0,
      "outputs": []
    },
    {
      "cell_type": "code",
      "metadata": {
        "id": "vSNLX4TiuGcq",
        "colab_type": "code",
        "colab": {}
      },
      "source": [
        "# To get dimensions of objects in shelf images\n",
        "def get_dim(item):\n",
        "  prod_name = item.split(\"_\")# splitting according to given name format of product image from shelves\n",
        "  boxX = prod_name[5]\n",
        "  boxY = prod_name[6]\n",
        "  boxW = prod_name[7]\n",
        "  boxH = prod_name[8]\n",
        "  \n",
        "\n",
        "  box = (boxX,boxY,boxW,boxH)\n",
        "  return box"
      ],
      "execution_count": 0,
      "outputs": []
    },
    {
      "cell_type": "code",
      "metadata": {
        "id": "AavWyxXyIGk0",
        "colab_type": "code",
        "colab": {}
      },
      "source": [
        "# get list of paths of shelf images\n",
        "def file_list(path):\n",
        "  file = []\n",
        "  for item in os.listdir(path):\n",
        "    file.append(item)\n",
        "  return file"
      ],
      "execution_count": 0,
      "outputs": []
    },
    {
      "cell_type": "code",
      "metadata": {
        "id": "mKcFUj7JgCKC",
        "colab_type": "code",
        "colab": {}
      },
      "source": [
        "def scaled_box(w,h):\n",
        "  return 0-w/2.,0-h/2.,0+w/2.,0+h/2."
      ],
      "execution_count": 0,
      "outputs": []
    },
    {
      "cell_type": "code",
      "metadata": {
        "id": "PW-Sh9b1cgKn",
        "colab_type": "code",
        "colab": {}
      },
      "source": [
        "# generating training data for object detection without including anchor boxes information\n",
        "def batch_data(path):\n",
        "  x_data = np.zeros(((len(path)),image_H,image_W,len(anchors),3))\n",
        "  y_data = np.zeros(((len(path),Grid_H,Grid_W,len(anchors),4+1+classes))\n",
        "  for i in range(len(path)):\n",
        "    path_image = path[i]\n",
        "      \n",
        "    \n",
        "      \n",
        "    image = cv2.imread(GLOBAL_PATH+path_image)\n",
        "    original_img_size = image.shape\n",
        "    original_height, original_width,original_channel = original_img_size\n",
        "    ojb = object_images(image_name)\n",
        "    grid_list = []\n",
        "       \n",
        "    for prod,items in enumerate(obj):\n",
        "      for item in items:\n",
        "        obj_dim = get_dim(item)\n",
        "        boxX,boxY,boxW,boxH = obj_dim\n",
        "        adjX = (boxX*img_w)/original_width\n",
        "        adjY = (boxY*img_h)/original_height\n",
        "        adjW = (boxW*img_w)/original_width\n",
        "        adjH = (boxH*img_h)/original_height\n",
        "            \n",
        "        centre_X = (adjX+adjW)/2.0\n",
        "        centre_Y = (adjY+adjH)/2.0\n",
        "\n",
        "        centre_X_adj = centre_X/(float(image_W)/float(Grid_W))\n",
        "        centre_Y_adj = centre_Y/(float(image_H)/float(Grid_H))\n",
        "          \n",
        "        grid_X = np.float(centre_X_adj)\n",
        "        grid_Y = np.float(centre_Y_adj)\n",
        "            \n",
        "            \n",
        "        centre_X_grid = float(centre_X)/((grid_X+1)*float(image_W)/float(Grid_W))\n",
        "        centre_Y_grid = float(centre_Y)/((grid_Y+1)*float(image_W)/float(Grid_W))\n",
        "\n",
        "        box_W = boxW/(float(image_W))\n",
        "        box_H = boxH/(float(image_H))\n",
        "\n",
        "        box = [centre_X_grid,centre_Y_grid,box_W,box_H]\n",
        "        box_origin = [0,0,box_W,box_Y]\n",
        "        box_iou = [0-(box_W)/2.,0-(box_H)/2.,0+(box_W)/2.,0+(box_H)/2.]\n",
        "        \n",
        "        best_anchor = -1\n",
        "        max_iou = -1\n",
        "\n",
        "        for i in range(len(anchors)):\n",
        "          anchor = anchors[i]\n",
        "          iou_score = box_iou(scaled_box(anchor),box_iou)\n",
        "\n",
        "          if(iou_score>max_iou):\n",
        "            max_iou = iou_score\n",
        "            best_anchor = i\n",
        "\n",
        "        class_item = np.zeros((len(classes),))\n",
        "        class_item[prod]=1\n",
        "        y_data[idx,grid_X,grid_Y,best_anchor,0] = 1\n",
        "        y_data[idx,grid_X,grid_Y,best_anchor,1:5] = box\n",
        "        y_data[idx,grid_X,grid_Y,best_anchor,5:] = class_item\n",
        "\n",
        "    x_data[i] = cv2.resize(image,(image_H,image_W))\n",
        "  y_data = np.reshape(y_data,(len(path),Grid_H,Grid_W,len(anchor)*(5+classes)))\n",
        "  return x_data, y_data"
      ],
      "execution_count": 0,
      "outputs": []
    },
    {
      "cell_type": "code",
      "metadata": {
        "id": "NeVXf099ZkUm",
        "colab_type": "code",
        "colab": {}
      },
      "source": [
        "dataset, label = batch_data(file_list('/content/drive/My Drive/ShelfImages/ShelfImages/train'))"
      ],
      "execution_count": 0,
      "outputs": []
    },
    {
      "cell_type": "code",
      "metadata": {
        "id": "FvCOrNpi1G1c",
        "colab_type": "code",
        "colab": {}
      },
      "source": [
        "#splitting training and validation dataset\n",
        "train_data = dataset[:,int(0.9*len(path))]\n",
        "train_label = label[:,int(0.9*len(path))]\n",
        "validate_data = dataset[int(0.9*len(path)):]\n",
        "validate_label = label[int(0.9*len(path)):]"
      ],
      "execution_count": 0,
      "outputs": []
    },
    {
      "cell_type": "code",
      "metadata": {
        "id": "P34z8DFCji0I",
        "colab_type": "code",
        "colab": {}
      },
      "source": [
        "# converting output of conv network(y_output) for training\n",
        "def output(y_output):\n",
        "  anchors_tensor = K.reshape(K.variable(anchors), [1, 1, 1, num_anchors, 2])\n",
        "  cell_x = tf.to_float(tf.reshape(tf.tile(tf.range(Grid_W), [Grid_H]), (Grid_H, Grid_W, 1, 1)))\n",
        "  cell_y = tf.transpose(cell_x, (1,0,2,3))\n",
        "\n",
        "  cell_grid = tf.tile(tf.concat([cell_x,cell_y], -1), [1, 1, 5, 1])\n",
        "  pred_box_x = (tf.sigmoid(y_output[...,1]) + cell_grid)/Grid_W\n",
        "  pred_box_y = (tf.sigmoid(y_output[...,2]) + cell_grid)/Grid_H\n",
        "  pred_box_w = (tf.exp(y_output[...,3]*anchors_tensors)/Grid_W\n",
        "  pred_box_h = (tf.exp(y_output[...,4]*anchors_tensors)/Grid_H\n",
        "  confidence = tf.sigmoid(y_output[...,0])\n",
        "  class_prod = tf.softmax(y_output[...,5:])\n",
        "\n",
        "  return confidence, pred_box_x, pred_box_y, pred_box_w, pred_box_h, class_prob"
      ],
      "execution_count": 0,
      "outputs": []
    },
    {
      "cell_type": "code",
      "metadata": {
        "id": "fMc9_J7-IieP",
        "colab_type": "code",
        "colab": {}
      },
      "source": [
        "# Yolo custom loss can be tuned according to problem requirements\n",
        "def custom_loss(y_true,y_pred):\n",
        "  true_X = y_true[...,1]\n",
        "  true_Y = y_true[...,2]\n",
        "  true_W = y_true[...,3]\n",
        "  true_H = y_true[...,4]\n",
        "  conf = y_true[...,0]\n",
        "  prob = y_true[...,5:]\n",
        "\n",
        "  pred_conf, box_X,box_Y,box_W,box_H, pred_prob = output(y_pred)\n",
        "  lambda_object = np.zeros((Grid_H,Grid_W,1))\n",
        "  lambda_no_object = np.zeros((Grid_H,Grid_W,1))\n",
        "  no_object_cost = 0\n",
        "  object_cost=0\n",
        "  cord_cost=0\n",
        "  dim_cost = 0\n",
        "  class_cost = 0\n",
        "\n",
        "  for i in range(Grid_H):\n",
        "    for j in range(Grid_W):\n",
        "\n",
        "      lambda_object[i,j,:] = 1 if conf[i,j] ==1 else 0\n",
        "      lambda_no_object[i,j,:] = 1 if conf[i,j] != 1 else 0\n",
        "\n",
        "  no_object_cost = no_object_weight*np.reduce_sum(np.multiply(lambda_no_object,np.square(conf-pred_conf)))\n",
        "  object_cost = np.reduce_sum(np.multiply(lambda_object,np.square(conf-pred_conf)))\n",
        "  cord_cost = np.reduce_sum(np.multiply(lambda_object,np.subtract(np.square(true_X-box_X),np.square(true_Y,box_Y))))\n",
        "  dim_cost = np.reduce_sum(np.multiply(lambda_object,np.subtract(np.square(np.sqrt(true_W)-np.sqrt(box_W)),np.square(np.sqrt(true_H),np.sqrt(box_H)))))\n",
        "  \n",
        "  class_cost = np.reduce_sum(np.multiply(lambda_object,np.reduce_sum(np.square(prob-pred_prob))))\n",
        "\n",
        "  total_loss = no_object_cost + object_cost + cord_cost + dim_cost\n",
        "\n",
        "  return total_loss"
      ],
      "execution_count": 0,
      "outputs": []
    },
    {
      "cell_type": "code",
      "metadata": {
        "id": "jiaV0NRirTSo",
        "colab_type": "code",
        "outputId": "019e02d4-ef67-40ff-c854-0cc846290107",
        "colab": {
          "base_uri": "https://localhost:8080/",
          "height": 54
        }
      },
      "source": [
        "# pre trained conv network to use for product classification\n",
        "img_shape = (720,720,3)\n",
        "base_model = tf.keras.applications.MobileNetV2(input_shape=img_shape,\n",
        "                                               include_top=False,\n",
        "                                               weights='imagenet')"
      ],
      "execution_count": 0,
      "outputs": [
        {
          "output_type": "stream",
          "text": [
            "WARNING:tensorflow:`input_shape` is undefined or non-square, or `rows` is not in [96, 128, 160, 192, 224]. Weights for input shape (224, 224) will be loaded as the default.\n"
          ],
          "name": "stdout"
        }
      ]
    },
    {
      "cell_type": "code",
      "metadata": {
        "id": "s5QvWKpmroqy",
        "colab_type": "code",
        "colab": {}
      },
      "source": [
        "# Making 100 layers of base model untrainable \n",
        "layers_len = len(base_model.layers)\n",
        "for i in range(100,layers_len):\n",
        "  base_model.layers[i].trainable = True\n",
        "for j in range(100):\n",
        "  base_model.layers[j].trainable = False\n"
      ],
      "execution_count": 0,
      "outputs": []
    },
    {
      "cell_type": "code",
      "metadata": {
        "id": "m93vFy04p7RF",
        "colab_type": "code",
        "colab": {}
      },
      "source": [
        "base_model.summary()"
      ],
      "execution_count": 0,
      "outputs": []
    },
    {
      "cell_type": "code",
      "metadata": {
        "id": "9R-5B3NPruyH",
        "colab_type": "code",
        "colab": {}
      },
      "source": [
        "# adding three more layers on top of mobilenetv2 network\n",
        "conv_layer_1 = tf.keras.layers.Conv2D(920,(3,3))\n",
        "pool_layer= tf.keras.layers.GlobalAveragePooling2D()\n",
        "output_layer = tf.keras.layers.Dense(11,activation='softmax')"
      ],
      "execution_count": 0,
      "outputs": []
    },
    {
      "cell_type": "code",
      "metadata": {
        "id": "C1WToMYHHxBP",
        "colab_type": "code",
        "colab": {}
      },
      "source": [
        "model_class = tf.keras.Sequential([\n",
        "         base_model,\n",
        "         conv_layer_1,\n",
        "         pool_layer,\n",
        "         output_layer                    \n",
        "])"
      ],
      "execution_count": 0,
      "outputs": []
    },
    {
      "cell_type": "code",
      "metadata": {
        "id": "Jgo4xHauxcRJ",
        "colab_type": "code",
        "colab": {}
      },
      "source": [
        "precision = tf.keras.metrics.Precision()\n",
        "recall= tf.keras.metrics.Recall()\n",
        "optimizer = tf.keras.optimizers.Adam(learning_rate=RATE)"
      ],
      "execution_count": 0,
      "outputs": []
    },
    {
      "cell_type": "code",
      "metadata": {
        "id": "RSxHSBxwopII",
        "colab_type": "code",
        "colab": {}
      },
      "source": [
        "earlystopping = tf.keras.callbacks.EarlyStopping(monitor='val_loss',patience=3)"
      ],
      "execution_count": 0,
      "outputs": []
    },
    {
      "cell_type": "code",
      "metadata": {
        "id": "39c8jRs9DSZ7",
        "colab_type": "code",
        "colab": {}
      },
      "source": [
        "checkpoint_path = \"training_1/cp.ckpt\"\n",
        "checkpoint_dir = os.path.dirname(checkpoint_path)\n",
        "\n",
        "checkpoint = tf.keras.callbacks.ModelCheckpoint(checkpoint_path)"
      ],
      "execution_count": 0,
      "outputs": []
    },
    {
      "cell_type": "code",
      "metadata": {
        "id": "gJ6X08CrKb9a",
        "colab_type": "code",
        "colab": {}
      },
      "source": [
        "model_class.compile(optimizer=optimizer,loss='categorical_crossentropy',metrics=['accuracy',precision,recall])"
      ],
      "execution_count": 0,
      "outputs": []
    },
    {
      "cell_type": "code",
      "metadata": {
        "id": "BGdgAyFyExTf",
        "colab_type": "code",
        "colab": {}
      },
      "source": [
        "model_class.fit(train_dataset,epochs=20,validation_data = valid_dataset,callbacks=[earlystopping,checkpoint])"
      ],
      "execution_count": 0,
      "outputs": []
    },
    {
      "cell_type": "code",
      "metadata": {
        "id": "fBFAgN_R5F7Q",
        "colab_type": "code",
        "colab": {}
      },
      "source": [
        "input_x = model_class.layers[0].layers[-36].output # taking output of pretrained layer on product images as input so that the weights of that model can be used for this training\n",
        "X = Conv2D(128,(1,1),padding='valid')(input_x)\n",
        "X = Conv2D(256,(3,3),padding='same')(X)\n",
        "X = Conv2D(512,(1,1),padding='same')(X)\n",
        "X = BatchNormalization()(X)\n",
        "X = MaxPooling2D((2,2),stride=(2,2))(X)\n",
        "X = LeakyReLU()(X)\n",
        "\n",
        "X = Conv2D(128,(1,1),padding='valid')(X)\n",
        "X = Conv2D(256,(3,3),padding='same')(X)\n",
        "X = Conv2D(512,(1,1),padding='same')(X)\n",
        "X = BatchNormalization(X)\n",
        "X = MaxPooling2D((2,2),stride=(2,2))(X)\n",
        "X = LeakyRelu()(X)\n",
        "\n",
        "X = Conv2D(128,(1,1))(X)\n",
        "output = Conv2D(16,(1,1))(X)\n",
        "\n",
        "model_object = Model(input = input_x, output =  output) # creating the model for object detection by adding layers on top of pretrained model for product images"
      ],
      "execution_count": 0,
      "outputs": []
    },
    {
      "cell_type": "code",
      "metadata": {
        "id": "iwhis8ox1vz_",
        "colab_type": "code",
        "colab": {}
      },
      "source": [
        "Earlystopping = tf.keras.callbacks.EarlyStopping(monitor='val_loss',patience=3) # Monitoring val_loss to end trainig before completing epochs"
      ],
      "execution_count": 0,
      "outputs": []
    },
    {
      "cell_type": "code",
      "metadata": {
        "id": "18oqPv8a2GjH",
        "colab_type": "code",
        "colab": {}
      },
      "source": [
        "checkpath = '/training/chk-2'\n",
        "checkpoints = tf.keras.callbacks.ModelCheckpoint(checkpath)"
      ],
      "execution_count": 0,
      "outputs": []
    },
    {
      "cell_type": "code",
      "metadata": {
        "id": "oE-EleaCMLcR",
        "colab_type": "code",
        "colab": {}
      },
      "source": [
        "optimizer = tf.keras.optimizers.Adam(learning_rate=learning_rate,beta_1=beta_1, beta_2=beta_2)"
      ],
      "execution_count": 0,
      "outputs": []
    },
    {
      "cell_type": "code",
      "metadata": {
        "id": "HGgtuxgr4eC4",
        "colab_type": "code",
        "colab": {}
      },
      "source": [
        "model_object.compile(optimizer = optimizer, loss=custom_loss,metrics=['precision','recall'])"
      ],
      "execution_count": 0,
      "outputs": []
    },
    {
      "cell_type": "code",
      "metadata": {
        "id": "j0QVNHif6GR9",
        "colab_type": "code",
        "colab": {}
      },
      "source": [
        "model_object.fit([train_data,train_label],epoch=10,batch_size=batch_size,validation_data=[validation_data,validation_label],callbacks=[Earlystopping,checkpoints])"
      ],
      "execution_count": 0,
      "outputs": []
    },
    {
      "cell_type": "code",
      "metadata": {
        "id": "yfX_OvBuZWxt",
        "colab_type": "code",
        "colab": {}
      },
      "source": [
        "def filter_box(predict_y,threshold):\n",
        "  conf,x,y,w,h,class_prob = output(predict_y)\n",
        "\n",
        "  box_scores = box_confidence*box_class_probs\n",
        "  \n",
        "  box_classes = K.argmax(box_scores,axis=-1)\n",
        "  box_class_scores = K.max(box_scores,axis=-1)\n",
        "\n",
        "  filtering_mask = box_class_scores>threshold\n",
        "  scores = tf.boolean_mask(box_class_scores,filtering_mask,name='boolean_mask_scores')\n",
        "  boxes = tf.boolean_mask(boxes,filtering_mask,name='boolean_mask_box')\n",
        "  classes = tf.boolean_mask(box_classes,filtering_mask,name='boolean_mask_class')\n",
        "\n",
        "  return scores,boxes,classes"
      ],
      "execution_count": 0,
      "outputs": []
    },
    {
      "cell_type": "code",
      "metadata": {
        "id": "StUgcq-0Wv6G",
        "colab_type": "code",
        "colab": {}
      },
      "source": [
        "def predict(image):\n",
        "  decode_image = cv2.imdecode(image)\n",
        "  resize_image = cv2.resize(decode_image,(image_H,image_W))\n",
        "\n",
        "  predict = model_object.predict(resize_image)\n",
        "  return filter_box(predict,threshold)"
      ],
      "execution_count": 0,
      "outputs": []
    }
  ]
}