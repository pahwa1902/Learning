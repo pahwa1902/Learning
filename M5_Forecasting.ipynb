{
  "nbformat": 4,
  "nbformat_minor": 0,
  "metadata": {
    "colab": {
      "name": "M5-Forecasting.ipynb",
      "provenance": [],
      "authorship_tag": "ABX9TyNhE0us0Q5ivpPP6bdwxFNq",
      "include_colab_link": true
    },
    "kernelspec": {
      "name": "python3",
      "display_name": "Python 3"
    },
    "accelerator": "GPU"
  },
  "cells": [
    {
      "cell_type": "markdown",
      "metadata": {
        "id": "view-in-github",
        "colab_type": "text"
      },
      "source": [
        "<a href=\"https://colab.research.google.com/github/pahwa1902/Learning/blob/master/M5_Forecasting.ipynb\" target=\"_parent\"><img src=\"https://colab.research.google.com/assets/colab-badge.svg\" alt=\"Open In Colab\"/></a>"
      ]
    },
    {
      "cell_type": "code",
      "metadata": {
        "id": "_Y0Vh9z11jfp",
        "colab_type": "code",
        "colab": {
          "base_uri": "https://localhost:8080/",
          "height": 122
        },
        "outputId": "7e83e13a-ae28-4b23-ce6d-dd2dfe1f7e81"
      },
      "source": [
        "from google.colab import drive\n",
        "drive.mount('/content/drive')"
      ],
      "execution_count": 5,
      "outputs": [
        {
          "output_type": "stream",
          "text": [
            "Go to this URL in a browser: https://accounts.google.com/o/oauth2/auth?client_id=947318989803-6bn6qk8qdgf4n4g3pfee6491hc0brc4i.apps.googleusercontent.com&redirect_uri=urn%3aietf%3awg%3aoauth%3a2.0%3aoob&response_type=code&scope=email%20https%3a%2f%2fwww.googleapis.com%2fauth%2fdocs.test%20https%3a%2f%2fwww.googleapis.com%2fauth%2fdrive%20https%3a%2f%2fwww.googleapis.com%2fauth%2fdrive.photos.readonly%20https%3a%2f%2fwww.googleapis.com%2fauth%2fpeopleapi.readonly\n",
            "\n",
            "Enter your authorization code:\n",
            "··········\n",
            "Mounted at /content/drive\n"
          ],
          "name": "stdout"
        }
      ]
    },
    {
      "cell_type": "code",
      "metadata": {
        "id": "35TVHTzMlqao",
        "colab_type": "code",
        "colab": {
          "base_uri": "https://localhost:8080/",
          "height": 71
        },
        "outputId": "3677209b-c390-4b18-a34c-331cdb05066b"
      },
      "source": [
        "import pandas as pd\n",
        "import matplotlib.pyplot as plt\n",
        "import numpy as np\n",
        "from scipy import stats\n",
        "import statistics\n",
        "import math\n",
        "import seaborn as sns"
      ],
      "execution_count": 6,
      "outputs": [
        {
          "output_type": "stream",
          "text": [
            "/usr/local/lib/python3.6/dist-packages/statsmodels/tools/_testing.py:19: FutureWarning: pandas.util.testing is deprecated. Use the functions in the public API at pandas.testing instead.\n",
            "  import pandas.util.testing as tm\n"
          ],
          "name": "stderr"
        }
      ]
    },
    {
      "cell_type": "code",
      "metadata": {
        "id": "TDGQo28EmmmH",
        "colab_type": "code",
        "colab": {}
      },
      "source": [
        "!ls '/content/drive/My Drive/m5-forecasting-accuracy'"
      ],
      "execution_count": 0,
      "outputs": []
    },
    {
      "cell_type": "code",
      "metadata": {
        "id": "zdTVggDAlxCt",
        "colab_type": "code",
        "colab": {}
      },
      "source": [
        "sales_train = pd.read_csv('/content/drive/My Drive/m5-forecasting-accuracy/sales_train_validation.csv')"
      ],
      "execution_count": 0,
      "outputs": []
    },
    {
      "cell_type": "code",
      "metadata": {
        "id": "JJ5EuhFGnI7p",
        "colab_type": "code",
        "colab": {}
      },
      "source": [
        "sales_train_df = pd.DataFrame(sales_train)"
      ],
      "execution_count": 0,
      "outputs": []
    },
    {
      "cell_type": "code",
      "metadata": {
        "id": "MMoyXlfxoT7j",
        "colab_type": "code",
        "colab": {}
      },
      "source": [
        "prices_train = pd.read_csv('/content/drive/My Drive/m5-forecasting-accuracy/sell_prices.csv')"
      ],
      "execution_count": 0,
      "outputs": []
    },
    {
      "cell_type": "code",
      "metadata": {
        "id": "LeBrmlZ5V09F",
        "colab_type": "code",
        "colab": {}
      },
      "source": [
        "calendar = pd.read_csv('/content/drive/My Drive/m5-forecasting-accuracy/calendar.csv')"
      ],
      "execution_count": 0,
      "outputs": []
    },
    {
      "cell_type": "code",
      "metadata": {
        "id": "SJeavLxiWKS1",
        "colab_type": "code",
        "colab": {}
      },
      "source": [
        "calendar_train = pd.DataFrame(calendar)"
      ],
      "execution_count": 0,
      "outputs": []
    },
    {
      "cell_type": "code",
      "metadata": {
        "id": "lasmlm1Cxg9o",
        "colab_type": "code",
        "colab": {}
      },
      "source": [
        "calendar_train = calendar_train.iloc[:1913]"
      ],
      "execution_count": 0,
      "outputs": []
    },
    {
      "cell_type": "code",
      "metadata": {
        "id": "p5PDQzTRxbRW",
        "colab_type": "code",
        "colab": {}
      },
      "source": [
        "calendar_train=calendar_train.fillna(0)"
      ],
      "execution_count": 0,
      "outputs": []
    },
    {
      "cell_type": "code",
      "metadata": {
        "id": "h7GifRbJogzZ",
        "colab_type": "code",
        "colab": {}
      },
      "source": [
        "prices_train_df = pd.DataFrame(prices_train)"
      ],
      "execution_count": 0,
      "outputs": []
    },
    {
      "cell_type": "code",
      "metadata": {
        "id": "7Ri4q5FPosD7",
        "colab_type": "code",
        "outputId": "dcd17cd7-57a2-421a-a069-38ae4ebbcf1b",
        "colab": {
          "base_uri": "https://localhost:8080/",
          "height": 253
        }
      },
      "source": [
        "sales_train_df.head()"
      ],
      "execution_count": 8,
      "outputs": [
        {
          "output_type": "execute_result",
          "data": {
            "text/html": [
              "<div>\n",
              "<style scoped>\n",
              "    .dataframe tbody tr th:only-of-type {\n",
              "        vertical-align: middle;\n",
              "    }\n",
              "\n",
              "    .dataframe tbody tr th {\n",
              "        vertical-align: top;\n",
              "    }\n",
              "\n",
              "    .dataframe thead th {\n",
              "        text-align: right;\n",
              "    }\n",
              "</style>\n",
              "<table border=\"1\" class=\"dataframe\">\n",
              "  <thead>\n",
              "    <tr style=\"text-align: right;\">\n",
              "      <th></th>\n",
              "      <th>id</th>\n",
              "      <th>item_id</th>\n",
              "      <th>dept_id</th>\n",
              "      <th>cat_id</th>\n",
              "      <th>store_id</th>\n",
              "      <th>state_id</th>\n",
              "      <th>d_1</th>\n",
              "      <th>d_2</th>\n",
              "      <th>d_3</th>\n",
              "      <th>d_4</th>\n",
              "      <th>d_5</th>\n",
              "      <th>d_6</th>\n",
              "      <th>d_7</th>\n",
              "      <th>d_8</th>\n",
              "      <th>d_9</th>\n",
              "      <th>d_10</th>\n",
              "      <th>d_11</th>\n",
              "      <th>d_12</th>\n",
              "      <th>d_13</th>\n",
              "      <th>d_14</th>\n",
              "      <th>d_15</th>\n",
              "      <th>d_16</th>\n",
              "      <th>d_17</th>\n",
              "      <th>d_18</th>\n",
              "      <th>d_19</th>\n",
              "      <th>d_20</th>\n",
              "      <th>d_21</th>\n",
              "      <th>d_22</th>\n",
              "      <th>d_23</th>\n",
              "      <th>d_24</th>\n",
              "      <th>d_25</th>\n",
              "      <th>d_26</th>\n",
              "      <th>d_27</th>\n",
              "      <th>d_28</th>\n",
              "      <th>d_29</th>\n",
              "      <th>d_30</th>\n",
              "      <th>d_31</th>\n",
              "      <th>d_32</th>\n",
              "      <th>d_33</th>\n",
              "      <th>d_34</th>\n",
              "      <th>...</th>\n",
              "      <th>d_1874</th>\n",
              "      <th>d_1875</th>\n",
              "      <th>d_1876</th>\n",
              "      <th>d_1877</th>\n",
              "      <th>d_1878</th>\n",
              "      <th>d_1879</th>\n",
              "      <th>d_1880</th>\n",
              "      <th>d_1881</th>\n",
              "      <th>d_1882</th>\n",
              "      <th>d_1883</th>\n",
              "      <th>d_1884</th>\n",
              "      <th>d_1885</th>\n",
              "      <th>d_1886</th>\n",
              "      <th>d_1887</th>\n",
              "      <th>d_1888</th>\n",
              "      <th>d_1889</th>\n",
              "      <th>d_1890</th>\n",
              "      <th>d_1891</th>\n",
              "      <th>d_1892</th>\n",
              "      <th>d_1893</th>\n",
              "      <th>d_1894</th>\n",
              "      <th>d_1895</th>\n",
              "      <th>d_1896</th>\n",
              "      <th>d_1897</th>\n",
              "      <th>d_1898</th>\n",
              "      <th>d_1899</th>\n",
              "      <th>d_1900</th>\n",
              "      <th>d_1901</th>\n",
              "      <th>d_1902</th>\n",
              "      <th>d_1903</th>\n",
              "      <th>d_1904</th>\n",
              "      <th>d_1905</th>\n",
              "      <th>d_1906</th>\n",
              "      <th>d_1907</th>\n",
              "      <th>d_1908</th>\n",
              "      <th>d_1909</th>\n",
              "      <th>d_1910</th>\n",
              "      <th>d_1911</th>\n",
              "      <th>d_1912</th>\n",
              "      <th>d_1913</th>\n",
              "    </tr>\n",
              "  </thead>\n",
              "  <tbody>\n",
              "    <tr>\n",
              "      <th>0</th>\n",
              "      <td>HOBBIES_1_001_CA_1_validation</td>\n",
              "      <td>HOBBIES_1_001</td>\n",
              "      <td>HOBBIES_1</td>\n",
              "      <td>HOBBIES</td>\n",
              "      <td>CA_1</td>\n",
              "      <td>CA</td>\n",
              "      <td>0</td>\n",
              "      <td>0</td>\n",
              "      <td>0</td>\n",
              "      <td>0</td>\n",
              "      <td>0</td>\n",
              "      <td>0</td>\n",
              "      <td>0</td>\n",
              "      <td>0</td>\n",
              "      <td>0</td>\n",
              "      <td>0</td>\n",
              "      <td>0</td>\n",
              "      <td>0</td>\n",
              "      <td>0</td>\n",
              "      <td>0</td>\n",
              "      <td>0</td>\n",
              "      <td>0</td>\n",
              "      <td>0</td>\n",
              "      <td>0</td>\n",
              "      <td>0</td>\n",
              "      <td>0</td>\n",
              "      <td>0</td>\n",
              "      <td>0</td>\n",
              "      <td>0</td>\n",
              "      <td>0</td>\n",
              "      <td>0</td>\n",
              "      <td>0</td>\n",
              "      <td>0</td>\n",
              "      <td>0</td>\n",
              "      <td>0</td>\n",
              "      <td>0</td>\n",
              "      <td>0</td>\n",
              "      <td>0</td>\n",
              "      <td>0</td>\n",
              "      <td>0</td>\n",
              "      <td>...</td>\n",
              "      <td>1</td>\n",
              "      <td>1</td>\n",
              "      <td>3</td>\n",
              "      <td>1</td>\n",
              "      <td>3</td>\n",
              "      <td>1</td>\n",
              "      <td>2</td>\n",
              "      <td>2</td>\n",
              "      <td>0</td>\n",
              "      <td>1</td>\n",
              "      <td>1</td>\n",
              "      <td>1</td>\n",
              "      <td>1</td>\n",
              "      <td>0</td>\n",
              "      <td>0</td>\n",
              "      <td>0</td>\n",
              "      <td>0</td>\n",
              "      <td>0</td>\n",
              "      <td>1</td>\n",
              "      <td>0</td>\n",
              "      <td>4</td>\n",
              "      <td>2</td>\n",
              "      <td>3</td>\n",
              "      <td>0</td>\n",
              "      <td>1</td>\n",
              "      <td>2</td>\n",
              "      <td>0</td>\n",
              "      <td>0</td>\n",
              "      <td>0</td>\n",
              "      <td>1</td>\n",
              "      <td>1</td>\n",
              "      <td>3</td>\n",
              "      <td>0</td>\n",
              "      <td>1</td>\n",
              "      <td>1</td>\n",
              "      <td>1</td>\n",
              "      <td>3</td>\n",
              "      <td>0</td>\n",
              "      <td>1</td>\n",
              "      <td>1</td>\n",
              "    </tr>\n",
              "    <tr>\n",
              "      <th>1</th>\n",
              "      <td>HOBBIES_1_002_CA_1_validation</td>\n",
              "      <td>HOBBIES_1_002</td>\n",
              "      <td>HOBBIES_1</td>\n",
              "      <td>HOBBIES</td>\n",
              "      <td>CA_1</td>\n",
              "      <td>CA</td>\n",
              "      <td>0</td>\n",
              "      <td>0</td>\n",
              "      <td>0</td>\n",
              "      <td>0</td>\n",
              "      <td>0</td>\n",
              "      <td>0</td>\n",
              "      <td>0</td>\n",
              "      <td>0</td>\n",
              "      <td>0</td>\n",
              "      <td>0</td>\n",
              "      <td>0</td>\n",
              "      <td>0</td>\n",
              "      <td>0</td>\n",
              "      <td>0</td>\n",
              "      <td>0</td>\n",
              "      <td>0</td>\n",
              "      <td>0</td>\n",
              "      <td>0</td>\n",
              "      <td>0</td>\n",
              "      <td>0</td>\n",
              "      <td>0</td>\n",
              "      <td>0</td>\n",
              "      <td>0</td>\n",
              "      <td>0</td>\n",
              "      <td>0</td>\n",
              "      <td>0</td>\n",
              "      <td>0</td>\n",
              "      <td>0</td>\n",
              "      <td>0</td>\n",
              "      <td>0</td>\n",
              "      <td>0</td>\n",
              "      <td>0</td>\n",
              "      <td>0</td>\n",
              "      <td>0</td>\n",
              "      <td>...</td>\n",
              "      <td>0</td>\n",
              "      <td>0</td>\n",
              "      <td>0</td>\n",
              "      <td>0</td>\n",
              "      <td>0</td>\n",
              "      <td>0</td>\n",
              "      <td>0</td>\n",
              "      <td>0</td>\n",
              "      <td>1</td>\n",
              "      <td>1</td>\n",
              "      <td>1</td>\n",
              "      <td>1</td>\n",
              "      <td>1</td>\n",
              "      <td>0</td>\n",
              "      <td>0</td>\n",
              "      <td>0</td>\n",
              "      <td>0</td>\n",
              "      <td>0</td>\n",
              "      <td>0</td>\n",
              "      <td>0</td>\n",
              "      <td>0</td>\n",
              "      <td>0</td>\n",
              "      <td>0</td>\n",
              "      <td>0</td>\n",
              "      <td>0</td>\n",
              "      <td>0</td>\n",
              "      <td>0</td>\n",
              "      <td>0</td>\n",
              "      <td>0</td>\n",
              "      <td>0</td>\n",
              "      <td>0</td>\n",
              "      <td>0</td>\n",
              "      <td>0</td>\n",
              "      <td>0</td>\n",
              "      <td>0</td>\n",
              "      <td>1</td>\n",
              "      <td>0</td>\n",
              "      <td>0</td>\n",
              "      <td>0</td>\n",
              "      <td>0</td>\n",
              "    </tr>\n",
              "    <tr>\n",
              "      <th>2</th>\n",
              "      <td>HOBBIES_1_003_CA_1_validation</td>\n",
              "      <td>HOBBIES_1_003</td>\n",
              "      <td>HOBBIES_1</td>\n",
              "      <td>HOBBIES</td>\n",
              "      <td>CA_1</td>\n",
              "      <td>CA</td>\n",
              "      <td>0</td>\n",
              "      <td>0</td>\n",
              "      <td>0</td>\n",
              "      <td>0</td>\n",
              "      <td>0</td>\n",
              "      <td>0</td>\n",
              "      <td>0</td>\n",
              "      <td>0</td>\n",
              "      <td>0</td>\n",
              "      <td>0</td>\n",
              "      <td>0</td>\n",
              "      <td>0</td>\n",
              "      <td>0</td>\n",
              "      <td>0</td>\n",
              "      <td>0</td>\n",
              "      <td>0</td>\n",
              "      <td>0</td>\n",
              "      <td>0</td>\n",
              "      <td>0</td>\n",
              "      <td>0</td>\n",
              "      <td>0</td>\n",
              "      <td>0</td>\n",
              "      <td>0</td>\n",
              "      <td>0</td>\n",
              "      <td>0</td>\n",
              "      <td>0</td>\n",
              "      <td>0</td>\n",
              "      <td>0</td>\n",
              "      <td>0</td>\n",
              "      <td>0</td>\n",
              "      <td>0</td>\n",
              "      <td>0</td>\n",
              "      <td>0</td>\n",
              "      <td>0</td>\n",
              "      <td>...</td>\n",
              "      <td>0</td>\n",
              "      <td>0</td>\n",
              "      <td>1</td>\n",
              "      <td>0</td>\n",
              "      <td>0</td>\n",
              "      <td>0</td>\n",
              "      <td>0</td>\n",
              "      <td>0</td>\n",
              "      <td>0</td>\n",
              "      <td>1</td>\n",
              "      <td>1</td>\n",
              "      <td>0</td>\n",
              "      <td>0</td>\n",
              "      <td>0</td>\n",
              "      <td>0</td>\n",
              "      <td>0</td>\n",
              "      <td>0</td>\n",
              "      <td>0</td>\n",
              "      <td>1</td>\n",
              "      <td>0</td>\n",
              "      <td>0</td>\n",
              "      <td>0</td>\n",
              "      <td>1</td>\n",
              "      <td>0</td>\n",
              "      <td>0</td>\n",
              "      <td>0</td>\n",
              "      <td>0</td>\n",
              "      <td>0</td>\n",
              "      <td>1</td>\n",
              "      <td>2</td>\n",
              "      <td>2</td>\n",
              "      <td>1</td>\n",
              "      <td>2</td>\n",
              "      <td>1</td>\n",
              "      <td>1</td>\n",
              "      <td>1</td>\n",
              "      <td>0</td>\n",
              "      <td>1</td>\n",
              "      <td>1</td>\n",
              "      <td>1</td>\n",
              "    </tr>\n",
              "    <tr>\n",
              "      <th>3</th>\n",
              "      <td>HOBBIES_1_004_CA_1_validation</td>\n",
              "      <td>HOBBIES_1_004</td>\n",
              "      <td>HOBBIES_1</td>\n",
              "      <td>HOBBIES</td>\n",
              "      <td>CA_1</td>\n",
              "      <td>CA</td>\n",
              "      <td>0</td>\n",
              "      <td>0</td>\n",
              "      <td>0</td>\n",
              "      <td>0</td>\n",
              "      <td>0</td>\n",
              "      <td>0</td>\n",
              "      <td>0</td>\n",
              "      <td>0</td>\n",
              "      <td>0</td>\n",
              "      <td>0</td>\n",
              "      <td>0</td>\n",
              "      <td>0</td>\n",
              "      <td>0</td>\n",
              "      <td>0</td>\n",
              "      <td>0</td>\n",
              "      <td>0</td>\n",
              "      <td>0</td>\n",
              "      <td>0</td>\n",
              "      <td>0</td>\n",
              "      <td>0</td>\n",
              "      <td>0</td>\n",
              "      <td>0</td>\n",
              "      <td>0</td>\n",
              "      <td>0</td>\n",
              "      <td>0</td>\n",
              "      <td>0</td>\n",
              "      <td>0</td>\n",
              "      <td>0</td>\n",
              "      <td>0</td>\n",
              "      <td>0</td>\n",
              "      <td>0</td>\n",
              "      <td>0</td>\n",
              "      <td>0</td>\n",
              "      <td>0</td>\n",
              "      <td>...</td>\n",
              "      <td>1</td>\n",
              "      <td>3</td>\n",
              "      <td>4</td>\n",
              "      <td>2</td>\n",
              "      <td>1</td>\n",
              "      <td>4</td>\n",
              "      <td>1</td>\n",
              "      <td>3</td>\n",
              "      <td>5</td>\n",
              "      <td>0</td>\n",
              "      <td>6</td>\n",
              "      <td>6</td>\n",
              "      <td>0</td>\n",
              "      <td>0</td>\n",
              "      <td>0</td>\n",
              "      <td>0</td>\n",
              "      <td>3</td>\n",
              "      <td>1</td>\n",
              "      <td>2</td>\n",
              "      <td>1</td>\n",
              "      <td>3</td>\n",
              "      <td>1</td>\n",
              "      <td>0</td>\n",
              "      <td>2</td>\n",
              "      <td>5</td>\n",
              "      <td>4</td>\n",
              "      <td>2</td>\n",
              "      <td>0</td>\n",
              "      <td>3</td>\n",
              "      <td>0</td>\n",
              "      <td>1</td>\n",
              "      <td>0</td>\n",
              "      <td>5</td>\n",
              "      <td>4</td>\n",
              "      <td>1</td>\n",
              "      <td>0</td>\n",
              "      <td>1</td>\n",
              "      <td>3</td>\n",
              "      <td>7</td>\n",
              "      <td>2</td>\n",
              "    </tr>\n",
              "    <tr>\n",
              "      <th>4</th>\n",
              "      <td>HOBBIES_1_005_CA_1_validation</td>\n",
              "      <td>HOBBIES_1_005</td>\n",
              "      <td>HOBBIES_1</td>\n",
              "      <td>HOBBIES</td>\n",
              "      <td>CA_1</td>\n",
              "      <td>CA</td>\n",
              "      <td>0</td>\n",
              "      <td>0</td>\n",
              "      <td>0</td>\n",
              "      <td>0</td>\n",
              "      <td>0</td>\n",
              "      <td>0</td>\n",
              "      <td>0</td>\n",
              "      <td>0</td>\n",
              "      <td>0</td>\n",
              "      <td>0</td>\n",
              "      <td>0</td>\n",
              "      <td>0</td>\n",
              "      <td>0</td>\n",
              "      <td>0</td>\n",
              "      <td>0</td>\n",
              "      <td>0</td>\n",
              "      <td>0</td>\n",
              "      <td>0</td>\n",
              "      <td>0</td>\n",
              "      <td>0</td>\n",
              "      <td>0</td>\n",
              "      <td>0</td>\n",
              "      <td>0</td>\n",
              "      <td>0</td>\n",
              "      <td>0</td>\n",
              "      <td>0</td>\n",
              "      <td>0</td>\n",
              "      <td>0</td>\n",
              "      <td>0</td>\n",
              "      <td>0</td>\n",
              "      <td>0</td>\n",
              "      <td>0</td>\n",
              "      <td>0</td>\n",
              "      <td>0</td>\n",
              "      <td>...</td>\n",
              "      <td>1</td>\n",
              "      <td>0</td>\n",
              "      <td>3</td>\n",
              "      <td>2</td>\n",
              "      <td>2</td>\n",
              "      <td>2</td>\n",
              "      <td>3</td>\n",
              "      <td>1</td>\n",
              "      <td>0</td>\n",
              "      <td>0</td>\n",
              "      <td>0</td>\n",
              "      <td>0</td>\n",
              "      <td>1</td>\n",
              "      <td>0</td>\n",
              "      <td>4</td>\n",
              "      <td>4</td>\n",
              "      <td>0</td>\n",
              "      <td>1</td>\n",
              "      <td>4</td>\n",
              "      <td>0</td>\n",
              "      <td>1</td>\n",
              "      <td>0</td>\n",
              "      <td>1</td>\n",
              "      <td>0</td>\n",
              "      <td>1</td>\n",
              "      <td>1</td>\n",
              "      <td>2</td>\n",
              "      <td>0</td>\n",
              "      <td>1</td>\n",
              "      <td>1</td>\n",
              "      <td>2</td>\n",
              "      <td>1</td>\n",
              "      <td>1</td>\n",
              "      <td>0</td>\n",
              "      <td>1</td>\n",
              "      <td>1</td>\n",
              "      <td>2</td>\n",
              "      <td>2</td>\n",
              "      <td>2</td>\n",
              "      <td>4</td>\n",
              "    </tr>\n",
              "  </tbody>\n",
              "</table>\n",
              "<p>5 rows × 1919 columns</p>\n",
              "</div>"
            ],
            "text/plain": [
              "                              id        item_id  ... d_1912 d_1913\n",
              "0  HOBBIES_1_001_CA_1_validation  HOBBIES_1_001  ...      1      1\n",
              "1  HOBBIES_1_002_CA_1_validation  HOBBIES_1_002  ...      0      0\n",
              "2  HOBBIES_1_003_CA_1_validation  HOBBIES_1_003  ...      1      1\n",
              "3  HOBBIES_1_004_CA_1_validation  HOBBIES_1_004  ...      7      2\n",
              "4  HOBBIES_1_005_CA_1_validation  HOBBIES_1_005  ...      2      4\n",
              "\n",
              "[5 rows x 1919 columns]"
            ]
          },
          "metadata": {
            "tags": []
          },
          "execution_count": 8
        }
      ]
    },
    {
      "cell_type": "code",
      "metadata": {
        "id": "CrslhAByrpgl",
        "colab_type": "code",
        "outputId": "c175095b-905d-42a8-df43-d4ca880f3fbf",
        "colab": {
          "base_uri": "https://localhost:8080/",
          "height": 204
        }
      },
      "source": [
        "prices_train_df.head()"
      ],
      "execution_count": 0,
      "outputs": [
        {
          "output_type": "execute_result",
          "data": {
            "text/html": [
              "<div>\n",
              "<style scoped>\n",
              "    .dataframe tbody tr th:only-of-type {\n",
              "        vertical-align: middle;\n",
              "    }\n",
              "\n",
              "    .dataframe tbody tr th {\n",
              "        vertical-align: top;\n",
              "    }\n",
              "\n",
              "    .dataframe thead th {\n",
              "        text-align: right;\n",
              "    }\n",
              "</style>\n",
              "<table border=\"1\" class=\"dataframe\">\n",
              "  <thead>\n",
              "    <tr style=\"text-align: right;\">\n",
              "      <th></th>\n",
              "      <th>store_id</th>\n",
              "      <th>item_id</th>\n",
              "      <th>wm_yr_wk</th>\n",
              "      <th>sell_price</th>\n",
              "    </tr>\n",
              "  </thead>\n",
              "  <tbody>\n",
              "    <tr>\n",
              "      <th>0</th>\n",
              "      <td>CA_1</td>\n",
              "      <td>HOBBIES_1_001</td>\n",
              "      <td>11325</td>\n",
              "      <td>9.58</td>\n",
              "    </tr>\n",
              "    <tr>\n",
              "      <th>1</th>\n",
              "      <td>CA_1</td>\n",
              "      <td>HOBBIES_1_001</td>\n",
              "      <td>11326</td>\n",
              "      <td>9.58</td>\n",
              "    </tr>\n",
              "    <tr>\n",
              "      <th>2</th>\n",
              "      <td>CA_1</td>\n",
              "      <td>HOBBIES_1_001</td>\n",
              "      <td>11327</td>\n",
              "      <td>8.26</td>\n",
              "    </tr>\n",
              "    <tr>\n",
              "      <th>3</th>\n",
              "      <td>CA_1</td>\n",
              "      <td>HOBBIES_1_001</td>\n",
              "      <td>11328</td>\n",
              "      <td>8.26</td>\n",
              "    </tr>\n",
              "    <tr>\n",
              "      <th>4</th>\n",
              "      <td>CA_1</td>\n",
              "      <td>HOBBIES_1_001</td>\n",
              "      <td>11329</td>\n",
              "      <td>8.26</td>\n",
              "    </tr>\n",
              "  </tbody>\n",
              "</table>\n",
              "</div>"
            ],
            "text/plain": [
              "  store_id        item_id  wm_yr_wk  sell_price\n",
              "0     CA_1  HOBBIES_1_001     11325        9.58\n",
              "1     CA_1  HOBBIES_1_001     11326        9.58\n",
              "2     CA_1  HOBBIES_1_001     11327        8.26\n",
              "3     CA_1  HOBBIES_1_001     11328        8.26\n",
              "4     CA_1  HOBBIES_1_001     11329        8.26"
            ]
          },
          "metadata": {
            "tags": []
          },
          "execution_count": 8
        }
      ]
    },
    {
      "cell_type": "code",
      "metadata": {
        "id": "RXQ_q1kEmpkH",
        "colab_type": "code",
        "colab": {}
      },
      "source": [
        "data = sales_train_df.groupby(['state_id','store_id','cat_id','dept_id']).item_id"
      ],
      "execution_count": 0,
      "outputs": []
    },
    {
      "cell_type": "code",
      "metadata": {
        "id": "6DchzFtCYKV0",
        "colab_type": "code",
        "colab": {}
      },
      "source": [
        "data_df = prices_train_df[prices_train_df['item_id']=='HOBBIES_1_005']"
      ],
      "execution_count": 0,
      "outputs": []
    },
    {
      "cell_type": "code",
      "metadata": {
        "id": "Z0H7tGeRZt-L",
        "colab_type": "code",
        "colab": {}
      },
      "source": [
        "a = data_df[data_df['store_id']=='CA_1']['wm_yr_wk'].tolist()"
      ],
      "execution_count": 0,
      "outputs": []
    },
    {
      "cell_type": "code",
      "metadata": {
        "id": "r3NmPN91dfRS",
        "colab_type": "code",
        "colab": {}
      },
      "source": [
        "b = data_df[data_df['store_id']=='CA_1']['sell_price'].tolist()"
      ],
      "execution_count": 0,
      "outputs": []
    },
    {
      "cell_type": "code",
      "metadata": {
        "id": "szVvhGLWdyOD",
        "colab_type": "code",
        "colab": {}
      },
      "source": [
        "data_days=[]\n",
        "for i in range(1,1914):\n",
        "  data_days.append(\"d_\"+str(i))\n"
      ],
      "execution_count": 0,
      "outputs": []
    },
    {
      "cell_type": "code",
      "metadata": {
        "id": "czcKHsIHe4nP",
        "colab_type": "code",
        "colab": {}
      },
      "source": [
        "def sales(item,store):\n",
        "  data_train = sales_train_df[sales_train_df['item_id']==item]\n",
        "  plot_data=[]\n",
        "  for i in data:\n",
        "    plot_data.append(data_train[i].iloc[store])\n",
        "  return plot_data"
      ],
      "execution_count": 0,
      "outputs": []
    },
    {
      "cell_type": "code",
      "metadata": {
        "id": "UclpHBGOhskz",
        "colab_type": "code",
        "colab": {}
      },
      "source": [
        "plot_data_copy = plot_data\n"
      ],
      "execution_count": 0,
      "outputs": []
    },
    {
      "cell_type": "code",
      "metadata": {
        "id": "G7jw8sKnh9LN",
        "colab_type": "code",
        "colab": {}
      },
      "source": [
        "plot_data"
      ],
      "execution_count": 0,
      "outputs": []
    },
    {
      "cell_type": "code",
      "metadata": {
        "id": "-KCjBMZ7agi9",
        "colab_type": "code",
        "colab": {
          "base_uri": "https://localhost:8080/",
          "height": 609
        },
        "outputId": "95ff9231-5d51-43e8-bc23-be1bf5a4a5f2"
      },
      "source": [
        "plt.figure(figsize=(15,10))\n",
        "ax1 = plt.subplot(2,2,1)\n",
        "ax1.plot(range(900,1100),sales(\"HOBBIES_1_001\",0)[900:1100])\n",
        "ax2 = plt.subplot(2,2,2)\n",
        "ax2.plot(range(900,1100),sales(\"HOBBIES_1_001\",1)[900:1100])\n",
        "ax3 = plt.subplot(2,2,3)\n",
        "ax3.plot(range(900,1100),sales(\"HOBBIES_1_001\",2)[900:1100])\n",
        "ax4 = plt.subplot(2,2,4)\n",
        "ax4.plot(range(900,1100),sales(\"HOBBIES_1_001\",3)[900:1100])"
      ],
      "execution_count": 109,
      "outputs": [
        {
          "output_type": "execute_result",
          "data": {
            "text/plain": [
              "[<matplotlib.lines.Line2D at 0x7fb187865fd0>]"
            ]
          },
          "metadata": {
            "tags": []
          },
          "execution_count": 109
        },
        {
          "output_type": "display_data",
          "data": {
            "image/png": "[encoded data removed]",
            "text/plain": [
              "<Figure size 1080x720 with 4 Axes>"
            ]
          },
          "metadata": {
            "tags": []
          }
        }
      ]
    },
    {
      "cell_type": "code",
      "metadata": {
        "id": "G0SThmKGjoTi",
        "colab_type": "code",
        "colab": {
          "base_uri": "https://localhost:8080/",
          "height": 34
        },
        "outputId": "37d3c63d-bd50-4d1d-9113-ac864b00f47e"
      },
      "source": [
        "len(sales_train_df.columns.tolist())"
      ],
      "execution_count": 119,
      "outputs": [
        {
          "output_type": "execute_result",
          "data": {
            "text/plain": [
              "1919"
            ]
          },
          "metadata": {
            "tags": []
          },
          "execution_count": 119
        }
      ]
    },
    {
      "cell_type": "code",
      "metadata": {
        "id": "F0QdNnECmRpj",
        "colab_type": "code",
        "colab": {}
      },
      "source": [
        "calendar_train['event_name_1'].unique().tolist()"
      ],
      "execution_count": 0,
      "outputs": []
    },
    {
      "cell_type": "code",
      "metadata": {
        "id": "u8UTF5vjm2rq",
        "colab_type": "code",
        "colab": {}
      },
      "source": [
        "b = calendar_train['event_name_2'].unique().tolist()"
      ],
      "execution_count": 0,
      "outputs": []
    },
    {
      "cell_type": "code",
      "metadata": {
        "id": "m_06lWC6nMA2",
        "colab_type": "code",
        "colab": {
          "base_uri": "https://localhost:8080/",
          "height": 34
        },
        "outputId": "f24c1392-b2bd-47bc-a3e0-b0f6bb6be4e9"
      },
      "source": [
        "calendar_train['event_type_1'].unique()"
      ],
      "execution_count": 131,
      "outputs": [
        {
          "output_type": "execute_result",
          "data": {
            "text/plain": [
              "array([nan, 'Sporting', 'Cultural', 'National', 'Religious'], dtype=object)"
            ]
          },
          "metadata": {
            "tags": []
          },
          "execution_count": 131
        }
      ]
    },
    {
      "cell_type": "code",
      "metadata": {
        "id": "JbUQUEyPuwvi",
        "colab_type": "code",
        "colab": {}
      },
      "source": [
        "columns = ['day','sporting','cultural','National','Religious','event1','event2']"
      ],
      "execution_count": 0,
      "outputs": []
    },
    {
      "cell_type": "code",
      "metadata": {
        "id": "jZr1qcDqvU-z",
        "colab_type": "code",
        "colab": {}
      },
      "source": [
        "events_data = pd.DataFrame(columns=columns)"
      ],
      "execution_count": 0,
      "outputs": []
    },
    {
      "cell_type": "code",
      "metadata": {
        "id": "gUm585aAxoTv",
        "colab_type": "code",
        "colab": {}
      },
      "source": [
        "calendar_train['event_name_1'].unique()"
      ],
      "execution_count": 0,
      "outputs": []
    },
    {
      "cell_type": "code",
      "metadata": {
        "id": "U6Gg3tuQvabV",
        "colab_type": "code",
        "colab": {}
      },
      "source": [
        "data_event1 = []\n",
        "for i in range(len(calendar_train)):\n",
        "  if(calendar_train['event_name_1']==0).any():\n",
        "    data_event1.append(0)\n",
        "  if(calendar_train['event_name_1']!=1).any():\n",
        "    data_event1.append(1)"
      ],
      "execution_count": 0,
      "outputs": []
    },
    {
      "cell_type": "code",
      "metadata": {
        "id": "YcKsX7Evwn5M",
        "colab_type": "code",
        "colab": {}
      },
      "source": [
        "set(data_event1)"
      ],
      "execution_count": 0,
      "outputs": []
    },
    {
      "cell_type": "code",
      "metadata": {
        "id": "HIZeVoUIwP5a",
        "colab_type": "code",
        "colab": {
          "base_uri": "https://localhost:8080/",
          "height": 609
        },
        "outputId": "68544fd5-8291-4b60-87ce-f961ceea1495"
      },
      "source": [
        "plt.figure(figsize=(15,10))\n",
        "ax1 = plt.subplot(2,2,1)\n",
        "ax1.scatter(range(1100,1130),sales(\"HOBBIES_1_001\",0)[1100:1130])\n",
        "ax2 = plt.subplot(2,2,2)\n",
        "ax2.scatter(range(1100,1130),sales(\"HOBBIES_1_001\",1)[1100:1130])\n",
        "ax3 = plt.subplot(2,2,3)\n",
        "ax3.scatter(range(1100,1130),sales(\"HOBBIES_1_001\",2)[1100:1130])\n",
        "ax4 = plt.subplot(2,2,4)\n",
        "ax4.scatter(range(1100,1130),data_event1[1100:1130])"
      ],
      "execution_count": 174,
      "outputs": [
        {
          "output_type": "execute_result",
          "data": {
            "text/plain": [
              "<matplotlib.collections.PathCollection at 0x7fb186f4ba90>"
            ]
          },
          "metadata": {
            "tags": []
          },
          "execution_count": 174
        },
        {
          "output_type": "display_data",
          "data": {
            "image/png": "[encoded data removed]",
            "text/plain": [
              "<Figure size 1080x720 with 4 Axes>"
            ]
          },
          "metadata": {
            "tags": []
          }
        }
      ]
    },
    {
      "cell_type": "code",
      "metadata": {
        "id": "41xlDNSw0Blm",
        "colab_type": "code",
        "colab": {}
      },
      "source": [
        "column = ['day','item']"
      ],
      "execution_count": 0,
      "outputs": []
    },
    {
      "cell_type": "code",
      "metadata": {
        "id": "Kz9g4JGR0L4k",
        "colab_type": "code",
        "colab": {}
      },
      "source": [
        "sales_day = pd.DataFrame(columns=column)"
      ],
      "execution_count": 0,
      "outputs": []
    },
    {
      "cell_type": "code",
      "metadata": {
        "id": "12JlgJcd0TIX",
        "colab_type": "code",
        "colab": {}
      },
      "source": [
        "sales_day['day'] = data"
      ],
      "execution_count": 0,
      "outputs": []
    },
    {
      "cell_type": "code",
      "metadata": {
        "id": "zWu0xgMpMA0m",
        "colab_type": "code",
        "colab": {}
      },
      "source": [
        "sales_train_df['item_id'].unique().tolist()"
      ],
      "execution_count": 0,
      "outputs": []
    },
    {
      "cell_type": "code",
      "metadata": {
        "id": "RaqxlIZK1mm7",
        "colab_type": "code",
        "colab": {}
      },
      "source": [
        "sales_train_df[sales_train_df['item_id']=='HOBBIES_1_001'].iloc[0,6:].index.tolist()"
      ],
      "execution_count": 0,
      "outputs": []
    },
    {
      "cell_type": "code",
      "metadata": {
        "id": "zdQekKt50lFa",
        "colab_type": "code",
        "colab": {}
      },
      "source": [
        "data_item=[]\n",
        "data = sales_train_df[sales_train_df['item_id']=='HOUSEHOLD_1_001'].iloc[0,6:]\n",
        "for i in data.index.tolist():\n",
        "  data_item.append(data[i])"
      ],
      "execution_count": 0,
      "outputs": []
    },
    {
      "cell_type": "code",
      "metadata": {
        "id": "ypiM9KZxMreF",
        "colab_type": "code",
        "colab": {}
      },
      "source": [
        "data_item"
      ],
      "execution_count": 0,
      "outputs": []
    },
    {
      "cell_type": "code",
      "metadata": {
        "id": "a6SJxvsQ1czB",
        "colab_type": "code",
        "colab": {}
      },
      "source": [
        "sales_day['item'] = data_item"
      ],
      "execution_count": 0,
      "outputs": []
    },
    {
      "cell_type": "code",
      "metadata": {
        "id": "0zEuxM1y2YmN",
        "colab_type": "code",
        "colab": {}
      },
      "source": [
        "sales_day = sales_day.reindex(columns=sales_day.columns.tolist()+['pct_change'])\n"
      ],
      "execution_count": 0,
      "outputs": []
    },
    {
      "cell_type": "code",
      "metadata": {
        "id": "mFH02-vwRIo2",
        "colab_type": "code",
        "colab": {}
      },
      "source": [
        "sales_day['pct_change'] = sales_day['item'].diff()"
      ],
      "execution_count": 0,
      "outputs": []
    },
    {
      "cell_type": "code",
      "metadata": {
        "id": "iV_KmHDS2y-X",
        "colab_type": "code",
        "colab": {}
      },
      "source": [
        "sales_day.dropna(inplace=True)"
      ],
      "execution_count": 0,
      "outputs": []
    },
    {
      "cell_type": "code",
      "metadata": {
        "id": "PgrtErnRSUzl",
        "colab_type": "code",
        "colab": {}
      },
      "source": [
        "sales_day.sort_values('pct_change',inplace=True,ascending=False)"
      ],
      "execution_count": 0,
      "outputs": []
    },
    {
      "cell_type": "code",
      "metadata": {
        "id": "B3zid0WMK9Jz",
        "colab_type": "code",
        "colab": {
          "base_uri": "https://localhost:8080/",
          "height": 419
        },
        "outputId": "08ae99d6-e3a1-4e31-da69-e6594846271d"
      },
      "source": [
        "sales_day"
      ],
      "execution_count": 90,
      "outputs": [
        {
          "output_type": "execute_result",
          "data": {
            "text/html": [
              "<div>\n",
              "<style scoped>\n",
              "    .dataframe tbody tr th:only-of-type {\n",
              "        vertical-align: middle;\n",
              "    }\n",
              "\n",
              "    .dataframe tbody tr th {\n",
              "        vertical-align: top;\n",
              "    }\n",
              "\n",
              "    .dataframe thead th {\n",
              "        text-align: right;\n",
              "    }\n",
              "</style>\n",
              "<table border=\"1\" class=\"dataframe\">\n",
              "  <thead>\n",
              "    <tr style=\"text-align: right;\">\n",
              "      <th></th>\n",
              "      <th>day</th>\n",
              "      <th>item</th>\n",
              "      <th>pct_change</th>\n",
              "    </tr>\n",
              "  </thead>\n",
              "  <tbody>\n",
              "    <tr>\n",
              "      <th>1728</th>\n",
              "      <td>d_1729</td>\n",
              "      <td>4</td>\n",
              "      <td>4.0</td>\n",
              "    </tr>\n",
              "    <tr>\n",
              "      <th>1117</th>\n",
              "      <td>d_1118</td>\n",
              "      <td>4</td>\n",
              "      <td>4.0</td>\n",
              "    </tr>\n",
              "    <tr>\n",
              "      <th>1808</th>\n",
              "      <td>d_1809</td>\n",
              "      <td>3</td>\n",
              "      <td>3.0</td>\n",
              "    </tr>\n",
              "    <tr>\n",
              "      <th>1827</th>\n",
              "      <td>d_1828</td>\n",
              "      <td>3</td>\n",
              "      <td>3.0</td>\n",
              "    </tr>\n",
              "    <tr>\n",
              "      <th>1703</th>\n",
              "      <td>d_1704</td>\n",
              "      <td>3</td>\n",
              "      <td>3.0</td>\n",
              "    </tr>\n",
              "    <tr>\n",
              "      <th>...</th>\n",
              "      <td>...</td>\n",
              "      <td>...</td>\n",
              "      <td>...</td>\n",
              "    </tr>\n",
              "    <tr>\n",
              "      <th>1648</th>\n",
              "      <td>d_1649</td>\n",
              "      <td>0</td>\n",
              "      <td>-3.0</td>\n",
              "    </tr>\n",
              "    <tr>\n",
              "      <th>1157</th>\n",
              "      <td>d_1158</td>\n",
              "      <td>0</td>\n",
              "      <td>-3.0</td>\n",
              "    </tr>\n",
              "    <tr>\n",
              "      <th>1850</th>\n",
              "      <td>d_1851</td>\n",
              "      <td>0</td>\n",
              "      <td>-3.0</td>\n",
              "    </tr>\n",
              "    <tr>\n",
              "      <th>1</th>\n",
              "      <td>d_2</td>\n",
              "      <td>0</td>\n",
              "      <td>-3.0</td>\n",
              "    </tr>\n",
              "    <tr>\n",
              "      <th>1709</th>\n",
              "      <td>d_1710</td>\n",
              "      <td>0</td>\n",
              "      <td>-4.0</td>\n",
              "    </tr>\n",
              "  </tbody>\n",
              "</table>\n",
              "<p>1912 rows × 3 columns</p>\n",
              "</div>"
            ],
            "text/plain": [
              "         day  item  pct_change\n",
              "1728  d_1729     4         4.0\n",
              "1117  d_1118     4         4.0\n",
              "1808  d_1809     3         3.0\n",
              "1827  d_1828     3         3.0\n",
              "1703  d_1704     3         3.0\n",
              "...      ...   ...         ...\n",
              "1648  d_1649     0        -3.0\n",
              "1157  d_1158     0        -3.0\n",
              "1850  d_1851     0        -3.0\n",
              "1        d_2     0        -3.0\n",
              "1709  d_1710     0        -4.0\n",
              "\n",
              "[1912 rows x 3 columns]"
            ]
          },
          "metadata": {
            "tags": []
          },
          "execution_count": 90
        }
      ]
    },
    {
      "cell_type": "code",
      "metadata": {
        "id": "rdQM-JGERUhC",
        "colab_type": "code",
        "colab": {}
      },
      "source": [
        "def total_sales(a,m,n,p):\n",
        " if(a['cat_id']=='FOODS'):\n",
        "    for i in data_days:\n",
        "      n[i] += a[i]\n",
        " if(a['cat_id']=='HOUSEHOLD'):\n",
        "   for i in data_days:\n",
        "      m[i] += a[i]\n",
        " if(a['cat_id']=='HOBBIES'):\n",
        "   for i in data_days:\n",
        "      p[i] += a[i]\n",
        "\n"
      ],
      "execution_count": 0,
      "outputs": []
    },
    {
      "cell_type": "code",
      "metadata": {
        "id": "4LTvI4dFT9T6",
        "colab_type": "code",
        "colab": {}
      },
      "source": [
        "sales_train_df.apply(lambda row : total_sales(row,'HOUSEHOLD'),axis=1)"
      ],
      "execution_count": 0,
      "outputs": []
    },
    {
      "cell_type": "code",
      "metadata": {
        "id": "68XwLBCLc0dB",
        "colab_type": "code",
        "colab": {}
      },
      "source": [
        "calendar_train"
      ],
      "execution_count": 0,
      "outputs": []
    },
    {
      "cell_type": "code",
      "metadata": {
        "id": "u6ml04o3ZPFZ",
        "colab_type": "code",
        "colab": {}
      },
      "source": [
        "columns_day=calendar_train['weekday'].unique().tolist()"
      ],
      "execution_count": 0,
      "outputs": []
    },
    {
      "cell_type": "code",
      "metadata": {
        "id": "lomz2hZeciPt",
        "colab_type": "code",
        "colab": {}
      },
      "source": [
        "day_sales = {i:0 for i in columns_day}"
      ],
      "execution_count": 0,
      "outputs": []
    },
    {
      "cell_type": "code",
      "metadata": {
        "id": "83s7HBvKc_Nh",
        "colab_type": "code",
        "colab": {}
      },
      "source": [
        "def weekday(a):\n",
        "  b = a['weekday']\n",
        "  day_sales[b]+=dict_days[a['d']]"
      ],
      "execution_count": 0,
      "outputs": []
    },
    {
      "cell_type": "code",
      "metadata": {
        "id": "dUsOvDcIde_u",
        "colab_type": "code",
        "colab": {}
      },
      "source": [
        "calendar_train.apply(lambda x:weekday(x),axis=1)"
      ],
      "execution_count": 0,
      "outputs": []
    },
    {
      "cell_type": "code",
      "metadata": {
        "id": "vjnMPA68d-J1",
        "colab_type": "code",
        "colab": {}
      },
      "source": [
        "a=day_sales.keys()"
      ],
      "execution_count": 0,
      "outputs": []
    },
    {
      "cell_type": "code",
      "metadata": {
        "id": "YykucX86eBbn",
        "colab_type": "code",
        "colab": {}
      },
      "source": [
        "np.array(a)"
      ],
      "execution_count": 0,
      "outputs": []
    },
    {
      "cell_type": "code",
      "metadata": {
        "id": "ZqQep6M5dnzB",
        "colab_type": "code",
        "colab": {
          "base_uri": "https://localhost:8080/",
          "height": 293
        },
        "outputId": "ffa3aa0d-53fc-4004-8827-4c31e1cc6092"
      },
      "source": [
        "plt.figure(figsize=(6,4))\n",
        "plt.scatter(day_sales.keys(),day_sales.values(),label='Household')\n",
        "plt.legend()"
      ],
      "execution_count": 146,
      "outputs": [
        {
          "output_type": "execute_result",
          "data": {
            "text/plain": [
              "<matplotlib.collections.PathCollection at 0x7fe1e8576198>"
            ]
          },
          "metadata": {
            "tags": []
          },
          "execution_count": 146
        },
        {
          "output_type": "display_data",
          "data": {
            "image/png": "[encoded data removed]",
            "text/plain": [
              "<Figure size 432x288 with 1 Axes>"
            ]
          },
          "metadata": {
            "tags": []
          }
        }
      ]
    },
    {
      "cell_type": "markdown",
      "metadata": {
        "id": "tBm8A4vI4ubm",
        "colab_type": "text"
      },
      "source": [
        "Sales of Household items is high over weekends and low on weekdays indicating effect of weekday on sales."
      ]
    },
    {
      "cell_type": "code",
      "metadata": {
        "id": "982Xdj6pe8er",
        "colab_type": "code",
        "colab": {
          "base_uri": "https://localhost:8080/",
          "height": 34
        },
        "outputId": "eafc5632-af8b-45b3-f3d9-aa01d0fb4d7a"
      },
      "source": [
        "sales_train_df['cat_id'].unique()"
      ],
      "execution_count": 147,
      "outputs": [
        {
          "output_type": "execute_result",
          "data": {
            "text/plain": [
              "array(['HOBBIES', 'HOUSEHOLD', 'FOODS'], dtype=object)"
            ]
          },
          "metadata": {
            "tags": []
          },
          "execution_count": 147
        }
      ]
    },
    {
      "cell_type": "code",
      "metadata": {
        "id": "_KVXPu4DexRN",
        "colab_type": "code",
        "colab": {}
      },
      "source": [
        "sales_train_df.apply(lambda row : total_sales(row,'FOODS'),axis=1)"
      ],
      "execution_count": 0,
      "outputs": []
    },
    {
      "cell_type": "code",
      "metadata": {
        "id": "o11R6EaOhRpJ",
        "colab_type": "code",
        "colab": {}
      },
      "source": [
        "calendar_train.apply(lambda x:weekday(x),axis=1)"
      ],
      "execution_count": 0,
      "outputs": []
    },
    {
      "cell_type": "code",
      "metadata": {
        "id": "U4vvAjJihfr7",
        "colab_type": "code",
        "colab": {}
      },
      "source": [
        "day_sales"
      ],
      "execution_count": 0,
      "outputs": []
    },
    {
      "cell_type": "code",
      "metadata": {
        "id": "Y8ZFgNodhjE_",
        "colab_type": "code",
        "colab": {
          "base_uri": "https://localhost:8080/",
          "height": 293
        },
        "outputId": "eabdfd13-1acd-4c3c-a238-c70898c4a90c"
      },
      "source": [
        "plt.figure(figsize=(6,4))\n",
        "plt.scatter(day_sales.keys(),day_sales.values())"
      ],
      "execution_count": 154,
      "outputs": [
        {
          "output_type": "execute_result",
          "data": {
            "text/plain": [
              "<matplotlib.collections.PathCollection at 0x7fe1ebd55ef0>"
            ]
          },
          "metadata": {
            "tags": []
          },
          "execution_count": 154
        },
        {
          "output_type": "display_data",
          "data": {
            "image/png": "[encoded data removed]",
            "text/plain": [
              "<Figure size 432x288 with 1 Axes>"
            ]
          },
          "metadata": {
            "tags": []
          }
        }
      ]
    },
    {
      "cell_type": "markdown",
      "metadata": {
        "id": "zQoPgxfi5ADX",
        "colab_type": "text"
      },
      "source": [
        "Sales of Food items is high over weekends and low on weekdays indicating effect of weekday on sales."
      ]
    },
    {
      "cell_type": "code",
      "metadata": {
        "id": "IX_CfsVbhzs0",
        "colab_type": "code",
        "colab": {}
      },
      "source": [
        "sales_train_df.apply(lambda row : total_sales(row,'HOBBIES'),axis=1)"
      ],
      "execution_count": 0,
      "outputs": []
    },
    {
      "cell_type": "code",
      "metadata": {
        "id": "RKYptHP_i1Pl",
        "colab_type": "code",
        "colab": {}
      },
      "source": [
        "calendar_train.apply(lambda x:weekday(x),axis=1)"
      ],
      "execution_count": 0,
      "outputs": []
    },
    {
      "cell_type": "code",
      "metadata": {
        "id": "uX_ozZShi6IJ",
        "colab_type": "code",
        "colab": {
          "base_uri": "https://localhost:8080/",
          "height": 293
        },
        "outputId": "fdfb8ee9-a42d-4f80-c7d0-8a76986ae240"
      },
      "source": [
        "plt.figure(figsize=(6,4))\n",
        "plt.scatter(day_sales.keys(),day_sales.values(),label='Hobbies')\n",
        "plt.legend()"
      ],
      "execution_count": 169,
      "outputs": [
        {
          "output_type": "execute_result",
          "data": {
            "text/plain": [
              "<matplotlib.legend.Legend at 0x7fe1e8341780>"
            ]
          },
          "metadata": {
            "tags": []
          },
          "execution_count": 169
        },
        {
          "output_type": "display_data",
          "data": {
            "image/png": "[encoded data removed]",
            "text/plain": [
              "<Figure size 432x288 with 1 Axes>"
            ]
          },
          "metadata": {
            "tags": []
          }
        }
      ]
    },
    {
      "cell_type": "markdown",
      "metadata": {
        "id": "jx5xrnq75Ezc",
        "colab_type": "text"
      },
      "source": [
        "Sales of Hobbies items is high over weekends and low on weekdays indicating effect of weekday on sales."
      ]
    },
    {
      "cell_type": "code",
      "metadata": {
        "id": "zUSvkFeXkgud",
        "colab_type": "code",
        "colab": {}
      },
      "source": [
        "events = calendar_train['event_name_1'].unique().tolist()"
      ],
      "execution_count": 0,
      "outputs": []
    },
    {
      "cell_type": "code",
      "metadata": {
        "id": "ppzMVfYnmH-S",
        "colab_type": "code",
        "colab": {}
      },
      "source": [
        "events=events[1:]"
      ],
      "execution_count": 0,
      "outputs": []
    },
    {
      "cell_type": "code",
      "metadata": {
        "id": "zti56xFOknfK",
        "colab_type": "code",
        "colab": {}
      },
      "source": [
        "events_dict = {i:0 for i in events}"
      ],
      "execution_count": 0,
      "outputs": []
    },
    {
      "cell_type": "code",
      "metadata": {
        "id": "YHLarx0Njp1X",
        "colab_type": "code",
        "colab": {}
      },
      "source": [
        "def event_sales(a):\n",
        "  b = a['event_name_1']\n",
        "  if(b!=0):\n",
        "    events_dict[b]+=dict_days[a['d']]"
      ],
      "execution_count": 0,
      "outputs": []
    },
    {
      "cell_type": "code",
      "metadata": {
        "id": "tut69yNAlRR-",
        "colab_type": "code",
        "colab": {}
      },
      "source": [
        "calendar_train.apply(lambda x: event_sales(x),axis=1)"
      ],
      "execution_count": 0,
      "outputs": []
    },
    {
      "cell_type": "code",
      "metadata": {
        "id": "N3cQY5A3lwEK",
        "colab_type": "code",
        "colab": {}
      },
      "source": [
        "events_dict"
      ],
      "execution_count": 0,
      "outputs": []
    },
    {
      "cell_type": "code",
      "metadata": {
        "id": "18DBKXBpl3h6",
        "colab_type": "code",
        "colab": {
          "base_uri": "https://localhost:8080/",
          "height": 500
        },
        "outputId": "84df17a7-1e68-4edb-fbe0-efb4fdefbf5c"
      },
      "source": [
        "plt.figure(figsize=(10,8))\n",
        "plt.scatter(events_dict.keys(),events_dict.values(),label='Hobbies')\n",
        "plt.legend()"
      ],
      "execution_count": 189,
      "outputs": [
        {
          "output_type": "execute_result",
          "data": {
            "text/plain": [
              "<matplotlib.legend.Legend at 0x7fe1e7eae400>"
            ]
          },
          "metadata": {
            "tags": []
          },
          "execution_count": 189
        },
        {
          "output_type": "display_data",
          "data": {
            "image/png": "[encoded data removed]",
            "text/plain": [
              "<Figure size 720x576 with 1 Axes>"
            ]
          },
          "metadata": {
            "tags": []
          }
        }
      ]
    },
    {
      "cell_type": "code",
      "metadata": {
        "id": "BVslh7QKqJVY",
        "colab_type": "code",
        "colab": {}
      },
      "source": [
        "count_event=[]\n",
        "count_normal=[]"
      ],
      "execution_count": 0,
      "outputs": []
    },
    {
      "cell_type": "code",
      "metadata": {
        "id": "xgB87f9ypNXH",
        "colab_type": "code",
        "colab": {}
      },
      "source": [
        "def event_sales(a,house,food,hobbie,m,n,o):\n",
        "  b=a['event_name_1']\n",
        "  if(b!=0):\n",
        "    m['event_day']+=house[a['d']]\n",
        "    n['event_day']+=food[a['d']]\n",
        "    o['event_day']+=hobbie[a['d']]\n",
        "    count_event.append(1)\n",
        "  if(b==0):\n",
        "    m['normal_day']+=house[a['d']]\n",
        "    n['normal_day']+=food[a['d']]\n",
        "    o['normal_day']+=hobbie[a['d']]\n",
        "    count_normal.append(1)"
      ],
      "execution_count": 0,
      "outputs": []
    },
    {
      "cell_type": "code",
      "metadata": {
        "id": "zpeinZEYw7L5",
        "colab_type": "code",
        "colab": {}
      },
      "source": [
        "calendar_train"
      ],
      "execution_count": 0,
      "outputs": []
    },
    {
      "cell_type": "code",
      "metadata": {
        "id": "etCkIDiZqDXU",
        "colab_type": "code",
        "colab": {
          "base_uri": "https://localhost:8080/",
          "height": 34
        },
        "outputId": "85c76068-a183-4235-e7db-dc119c718228"
      },
      "source": [
        "events_day"
      ],
      "execution_count": 112,
      "outputs": [
        {
          "output_type": "execute_result",
          "data": {
            "text/plain": [
              "{'event_day': 0, 'normal_day': 0}"
            ]
          },
          "metadata": {
            "tags": []
          },
          "execution_count": 112
        }
      ]
    },
    {
      "cell_type": "code",
      "metadata": {
        "id": "jMmbzu9PrMmZ",
        "colab_type": "code",
        "colab": {}
      },
      "source": [
        "normalize_sales = {'event_day':0,'normal_day':0}"
      ],
      "execution_count": 0,
      "outputs": []
    },
    {
      "cell_type": "code",
      "metadata": {
        "id": "JL04yCHLrZbv",
        "colab_type": "code",
        "colab": {}
      },
      "source": [
        "normalize_sales['event_day'] = events_day['event_day']/len(count_event)\n",
        "normalize_sales['normal_day'] = events_day['normal_day']/len(count_normal)"
      ],
      "execution_count": 0,
      "outputs": []
    },
    {
      "cell_type": "code",
      "metadata": {
        "id": "TSHBWpfLrq7j",
        "colab_type": "code",
        "colab": {
          "base_uri": "https://localhost:8080/",
          "height": 34
        },
        "outputId": "fd0b136b-5d77-4700-d8eb-85eee06bcfa2"
      },
      "source": [
        "normalize_sales"
      ],
      "execution_count": 59,
      "outputs": [
        {
          "output_type": "execute_result",
          "data": {
            "text/plain": [
              "{'event_day': 7022.733766233766, 'normal_day': 7617.492325184764}"
            ]
          },
          "metadata": {
            "tags": []
          },
          "execution_count": 59
        }
      ]
    },
    {
      "cell_type": "code",
      "metadata": {
        "id": "Al5HPU262PIm",
        "colab_type": "code",
        "colab": {}
      },
      "source": [
        "calendar_train['event_name_1'].unique()"
      ],
      "execution_count": 0,
      "outputs": []
    },
    {
      "cell_type": "code",
      "metadata": {
        "id": "OYMGzHNGwyFY",
        "colab_type": "code",
        "colab": {}
      },
      "source": [
        "def event_sales_christmas(a,house,food,hobbie,m,n,o):\n",
        "  b=a['event_name_1']\n",
        "  if(b!=0 and b!='Christmas'):\n",
        "    m['event_day']+=house[a['d']]\n",
        "    n['event_day']+=food[a['d']]\n",
        "    o['event_day']+=hobbie[a['d']]\n",
        "    count_event.append(1)\n",
        "  if(b==0):\n",
        "    m['normal_day']+=house[a['d']]\n",
        "    n['normal_day']+=food[a['d']]\n",
        "    o['normal_day']+=hobbie[a['d']]\n",
        "    count_normal.append(1)"
      ],
      "execution_count": 0,
      "outputs": []
    },
    {
      "cell_type": "code",
      "metadata": {
        "id": "J5lvg_j72dvy",
        "colab_type": "code",
        "colab": {}
      },
      "source": [
        "calendar_train.apply(lambda x:event_sales_christmas(x,),axis=1)"
      ],
      "execution_count": 0,
      "outputs": []
    },
    {
      "cell_type": "code",
      "metadata": {
        "id": "f8i8HDbT2qhN",
        "colab_type": "code",
        "colab": {}
      },
      "source": [
        "normalize_sales_chris['event_day'] = events_day['event_day']/len(count_event)\n",
        "normalize_sales_chris['normal_day'] = events_day['normal_day']/len(count_normal)"
      ],
      "execution_count": 0,
      "outputs": []
    },
    {
      "cell_type": "code",
      "metadata": {
        "id": "Ui8xEQ1j2wP0",
        "colab_type": "code",
        "colab": {
          "base_uri": "https://localhost:8080/",
          "height": 34
        },
        "outputId": "febc7221-eb0f-46c0-e60e-baee1c6d119a"
      },
      "source": [
        "normalize_sales_chris"
      ],
      "execution_count": 93,
      "outputs": [
        {
          "output_type": "execute_result",
          "data": {
            "text/plain": [
              "{'event_day': 7258.3892617449665, 'normal_day': 7617.492325184764}"
            ]
          },
          "metadata": {
            "tags": []
          },
          "execution_count": 93
        }
      ]
    },
    {
      "cell_type": "markdown",
      "metadata": {
        "id": "1WIgNU3s5Ofc",
        "colab_type": "text"
      },
      "source": [
        "Average sales of hobbies on event day is less than average sales on normal days indicating no effect of events on sales."
      ]
    },
    {
      "cell_type": "code",
      "metadata": {
        "id": "Oc3w1rbM4rpC",
        "colab_type": "code",
        "colab": {}
      },
      "source": [
        "dict_days_household = {i:0 for i in data_days}"
      ],
      "execution_count": 0,
      "outputs": []
    },
    {
      "cell_type": "code",
      "metadata": {
        "id": "yaemhnbR8cdH",
        "colab_type": "code",
        "colab": {}
      },
      "source": [
        "dict_days_hobbies = {i:0 for i in data_days}"
      ],
      "execution_count": 0,
      "outputs": []
    },
    {
      "cell_type": "code",
      "metadata": {
        "id": "_K3CqVJn-oW-",
        "colab_type": "code",
        "colab": {}
      },
      "source": [
        "dict_days_food = {i:0 for i in data_days}"
      ],
      "execution_count": 0,
      "outputs": []
    },
    {
      "cell_type": "code",
      "metadata": {
        "id": "mcLU37yW_nNH",
        "colab_type": "code",
        "colab": {}
      },
      "source": [
        "sales_train_df.apply(lambda row : total_sales(row,dict_days_household,dict_days_food,dict_days_hobbies),axis=1)"
      ],
      "execution_count": 0,
      "outputs": []
    },
    {
      "cell_type": "code",
      "metadata": {
        "id": "lTtZCKq-C1Dr",
        "colab_type": "code",
        "colab": {}
      },
      "source": [
        "events_day_hobbies = {'event_day':0,'normal_day':0}"
      ],
      "execution_count": 0,
      "outputs": []
    },
    {
      "cell_type": "code",
      "metadata": {
        "id": "kf_vlUs6DIxR",
        "colab_type": "code",
        "colab": {}
      },
      "source": [
        "events_day_household = {'event_day':0,'normal_day':0}"
      ],
      "execution_count": 0,
      "outputs": []
    },
    {
      "cell_type": "code",
      "metadata": {
        "id": "lFO52o3NDJdT",
        "colab_type": "code",
        "colab": {}
      },
      "source": [
        "events_day_food = {'event_day':0,'normal_day':0}"
      ],
      "execution_count": 0,
      "outputs": []
    },
    {
      "cell_type": "code",
      "metadata": {
        "id": "0pzm5QSJD0DO",
        "colab_type": "code",
        "colab": {}
      },
      "source": [
        "calendar_train.apply(lambda x:event_sales(x,dict_days_household,dict_days_food,dict_days_hobbies,events_day_household,events_day_food,events_day_hobbies),axis=1)"
      ],
      "execution_count": 0,
      "outputs": []
    },
    {
      "cell_type": "code",
      "metadata": {
        "id": "C5CL2nAVEx9I",
        "colab_type": "code",
        "colab": {}
      },
      "source": [
        "normalize_sales_house = {'event_day':0,'normal_day':0}\n",
        "normalize_sales_food = {'event_day':0,'normal_day':0}\n",
        "normalize_sales_hobbie = {'event_day':0,'normal_day':0}"
      ],
      "execution_count": 0,
      "outputs": []
    },
    {
      "cell_type": "code",
      "metadata": {
        "id": "Edz0V7FxFgxt",
        "colab_type": "code",
        "colab": {}
      },
      "source": [
        "normalize_sales_house['event_day'] = events_day_household['event_day']/len(count_event)\n",
        "normalize_sales_house['normal_day'] = events_day_household['normal_day']/len(count_normal)\n",
        "normalize_sales_food['event_day'] = events_day_food['event_day']/len(count_event)\n",
        "normalize_sales_food['normal_day'] = events_day_food['normal_day']/len(count_normal)\n",
        "normalize_sales_hobbie['event_day'] = events_day_hobbies['event_day']/len(count_event)\n",
        "normalize_sales_hobbie['normal_day'] = events_day_hobbies['normal_day']/len(count_normal)"
      ],
      "execution_count": 0,
      "outputs": []
    },
    {
      "cell_type": "code",
      "metadata": {
        "id": "kwpZC9LLF8fu",
        "colab_type": "code",
        "colab": {
          "base_uri": "https://localhost:8080/",
          "height": 34
        },
        "outputId": "8d60728a-a713-47d5-f025-4075c1f88402"
      },
      "source": [
        "normalize_sales_house"
      ],
      "execution_count": 137,
      "outputs": [
        {
          "output_type": "execute_result",
          "data": {
            "text/plain": [
              "{'event_day': 7022.733766233766, 'normal_day': 7617.492325184764}"
            ]
          },
          "metadata": {
            "tags": []
          },
          "execution_count": 137
        }
      ]
    },
    {
      "cell_type": "code",
      "metadata": {
        "id": "LMY9uPUwF_LI",
        "colab_type": "code",
        "colab": {
          "base_uri": "https://localhost:8080/",
          "height": 34
        },
        "outputId": "cb47e323-9cd1-410b-c6a1-880ace8dbd86"
      },
      "source": [
        "normalize_sales_food"
      ],
      "execution_count": 138,
      "outputs": [
        {
          "output_type": "execute_result",
          "data": {
            "text/plain": [
              "{'event_day': 22716.428571428572, 'normal_day': 23645.030699260944}"
            ]
          },
          "metadata": {
            "tags": []
          },
          "execution_count": 138
        }
      ]
    },
    {
      "cell_type": "code",
      "metadata": {
        "id": "Zhg0jubPGBlN",
        "colab_type": "code",
        "colab": {
          "base_uri": "https://localhost:8080/",
          "height": 34
        },
        "outputId": "d85a56f7-1a36-488b-cec3-f9b96b4b42a4"
      },
      "source": [
        "normalize_sales_hobbie"
      ],
      "execution_count": 139,
      "outputs": [
        {
          "output_type": "execute_result",
          "data": {
            "text/plain": [
              "{'event_day': 2915.987012987013, 'normal_day': 3226.6844798180787}"
            ]
          },
          "metadata": {
            "tags": []
          },
          "execution_count": 139
        }
      ]
    },
    {
      "cell_type": "code",
      "metadata": {
        "id": "l7l3JjCdGF9H",
        "colab_type": "code",
        "colab": {}
      },
      "source": [
        "calendar_train.apply(lambda x:event_sales_christmas(x,dict_days_household,dict_days_food,dict_days_hobbies,events_day_household,events_day_food,events_day_hobbies),axis=1)"
      ],
      "execution_count": 0,
      "outputs": []
    },
    {
      "cell_type": "code",
      "metadata": {
        "id": "UY09BPjUGm4X",
        "colab_type": "code",
        "colab": {}
      },
      "source": [
        "normalize_sales_chris_house = {'event_day':0,'normal_day':0}\n",
        "normalize_sales_chris_food = {'event_day':0,'normal_day':0}\n",
        "normalize_sales_chris_hobbie = {'event_day':0,'normal_day':0}"
      ],
      "execution_count": 0,
      "outputs": []
    },
    {
      "cell_type": "code",
      "metadata": {
        "id": "ikR_Ak8iGtay",
        "colab_type": "code",
        "colab": {}
      },
      "source": [
        "normalize_sales_chris_house['event_day'] = events_day_household['event_day']/len(count_event)\n",
        "normalize_sales_chris_house['normal_day'] = events_day_household['normal_day']/len(count_normal)\n",
        "normalize_sales_chris_food['event_day'] = events_day_food['event_day']/len(count_event)\n",
        "normalize_sales_chris_food['normal_day'] = events_day_food['normal_day']/len(count_normal)\n",
        "normalize_sales_chris_hobbie['event_day'] = events_day_hobbies['event_day']/len(count_event)\n",
        "normalize_sales_chris_hobbie['normal_day'] = events_day_hobbies['normal_day']/len(count_normal)"
      ],
      "execution_count": 0,
      "outputs": []
    },
    {
      "cell_type": "code",
      "metadata": {
        "id": "xN-9GYoEG-em",
        "colab_type": "code",
        "colab": {
          "base_uri": "https://localhost:8080/",
          "height": 34
        },
        "outputId": "513640cd-a555-4f0d-83de-4965bc4e1cd1"
      },
      "source": [
        "normalize_sales_chris_house"
      ],
      "execution_count": 148,
      "outputs": [
        {
          "output_type": "execute_result",
          "data": {
            "text/plain": [
              "{'event_day': 7258.3892617449665, 'normal_day': 7617.492325184764}"
            ]
          },
          "metadata": {
            "tags": []
          },
          "execution_count": 148
        }
      ]
    },
    {
      "cell_type": "code",
      "metadata": {
        "id": "_iONq3pNHB5n",
        "colab_type": "code",
        "colab": {
          "base_uri": "https://localhost:8080/",
          "height": 34
        },
        "outputId": "8d1214d8-ceb8-465b-e0b1-4e7512929996"
      },
      "source": [
        "normalize_sales_chris_food"
      ],
      "execution_count": 149,
      "outputs": [
        {
          "output_type": "execute_result",
          "data": {
            "text/plain": [
              "{'event_day': 23478.208053691276, 'normal_day': 23645.030699260944}"
            ]
          },
          "metadata": {
            "tags": []
          },
          "execution_count": 149
        }
      ]
    },
    {
      "cell_type": "code",
      "metadata": {
        "id": "JPwoQsH3HEt1",
        "colab_type": "code",
        "colab": {
          "base_uri": "https://localhost:8080/",
          "height": 34
        },
        "outputId": "40f262c2-28bc-42a7-9dda-7eaebe53488d"
      },
      "source": [
        "normalize_sales_chris_hobbie"
      ],
      "execution_count": 150,
      "outputs": [
        {
          "output_type": "execute_result",
          "data": {
            "text/plain": [
              "{'event_day': 3013.8389261744965, 'normal_day': 3226.6844798180787}"
            ]
          },
          "metadata": {
            "tags": []
          },
          "execution_count": 150
        }
      ]
    },
    {
      "cell_type": "code",
      "metadata": {
        "id": "eboUP6IQPcp6",
        "colab_type": "code",
        "colab": {}
      },
      "source": [
        "pre_event_day_house={'preEvent':0,'normal':0}\n",
        "pre_event_day_food={'preEvent':0,'normal':0}\n",
        "pre_event_day_hobbie={'preEvent':0,'normal':0}"
      ],
      "execution_count": 0,
      "outputs": []
    },
    {
      "cell_type": "code",
      "metadata": {
        "id": "AkdB0euBPzOT",
        "colab_type": "code",
        "colab": {}
      },
      "source": [
        "count_pre=[]\n",
        "count_normal=[]\n",
        "counted_already=[]"
      ],
      "execution_count": 0,
      "outputs": []
    },
    {
      "cell_type": "code",
      "metadata": {
        "id": "kzL_aQ4cHKPM",
        "colab_type": "code",
        "colab": {}
      },
      "source": [
        "def pre_event(a,house,food,hobbie,x,y,z):\n",
        "  b=a['event_name_1']\n",
        "  if(b!=0):\n",
        "    m=a['d']\n",
        "    n=m.split(\"_\")\n",
        "    if(int(n[1])>1 and int(n[1])>4):\n",
        "      for i in range(int(n[1])-1,int(n[1])-4,-1):\n",
        "        x['preEvent']+=house['d_'+str(i)]\n",
        "        y['preEvent']+=food['d_'+str(i)]\n",
        "        z['preEvent']+=hobbie['d_'+str(i)]\n",
        "        count_pre.append(1)\n",
        "        counted_already.append('d_'+str(i))\n",
        "  if(b==0 and a['d'] not in counted_already):\n",
        "    x['normal']+=house[a['d']]\n",
        "    y['normal']+=food[a['d']]\n",
        "    z['normal']+=hobbie[a['d']]\n",
        "    count_normal.append(1)"
      ],
      "execution_count": 0,
      "outputs": []
    },
    {
      "cell_type": "code",
      "metadata": {
        "id": "TksKyw7-Uat3",
        "colab_type": "code",
        "colab": {}
      },
      "source": [
        "calendar_train.apply(lambda x:pre_event(x,dict_days_household,dict_days_food,dict_days_hobbies,pre_event_day_house,pre_event_day_food,pre_event_day_hobbie),axis=1)"
      ],
      "execution_count": 0,
      "outputs": []
    },
    {
      "cell_type": "code",
      "metadata": {
        "id": "iNmIRbAXYXgh",
        "colab_type": "code",
        "colab": {}
      },
      "source": [
        "normalize_sales_house_pre = {'pre_event_day':0,'normal_day':0}\n",
        "normalize_sales_food_pre = {'pre_event_day':0,'normal_day':0}\n",
        "normalize_sales_hobbie_pre = {'pre_event_day':0,'normal_day':0}"
      ],
      "execution_count": 0,
      "outputs": []
    },
    {
      "cell_type": "code",
      "metadata": {
        "id": "3DnIQ7SnYrnA",
        "colab_type": "code",
        "colab": {}
      },
      "source": [
        "normalize_sales_house_pre['pre_event_day'] = pre_event_day_house['preEvent']/len(count_pre)\n",
        "normalize_sales_house_pre['normal_day'] = pre_event_day_house['normal']/len(count_normal)\n",
        "normalize_sales_food_pre['pre_event_day'] = pre_event_day_food['preEvent']/len(count_pre)\n",
        "normalize_sales_food_pre['normal_day'] = pre_event_day_food['normal']/len(count_normal)\n",
        "normalize_sales_hobbie_pre['pre_event_day'] = pre_event_day_hobbie['preEvent']/len(count_pre)\n",
        "normalize_sales_hobbie_pre['normal_day'] = pre_event_day_hobbie['normal']/len(count_normal)"
      ],
      "execution_count": 0,
      "outputs": []
    },
    {
      "cell_type": "code",
      "metadata": {
        "id": "OYCE_jifZgWP",
        "colab_type": "code",
        "colab": {
          "base_uri": "https://localhost:8080/",
          "height": 34
        },
        "outputId": "f0abc3f6-e714-44cd-d785-b2a55d4333ba"
      },
      "source": [
        "normalize_sales_house_pre"
      ],
      "execution_count": 253,
      "outputs": [
        {
          "output_type": "execute_result",
          "data": {
            "text/plain": [
              "{'normal_day': 7617.492325184764, 'pre_event_day': 7816.805194805195}"
            ]
          },
          "metadata": {
            "tags": []
          },
          "execution_count": 253
        }
      ]
    },
    {
      "cell_type": "code",
      "metadata": {
        "id": "WB2PtscZZo0i",
        "colab_type": "code",
        "colab": {
          "base_uri": "https://localhost:8080/",
          "height": 34
        },
        "outputId": "23bcaea3-50b3-4b0a-9a41-4476db5bdf51"
      },
      "source": [
        "normalize_sales_food_pre"
      ],
      "execution_count": 254,
      "outputs": [
        {
          "output_type": "execute_result",
          "data": {
            "text/plain": [
              "{'normal_day': 23645.030699260944, 'pre_event_day': 24722.969696969696}"
            ]
          },
          "metadata": {
            "tags": []
          },
          "execution_count": 254
        }
      ]
    },
    {
      "cell_type": "code",
      "metadata": {
        "id": "MgfW2xhuZtK2",
        "colab_type": "code",
        "colab": {
          "base_uri": "https://localhost:8080/",
          "height": 34
        },
        "outputId": "8f5f5265-1da2-482c-f8ba-a94b80e85ab8"
      },
      "source": [
        "normalize_sales_hobbie_pre"
      ],
      "execution_count": 255,
      "outputs": [
        {
          "output_type": "execute_result",
          "data": {
            "text/plain": [
              "{'normal_day': 3226.6844798180787, 'pre_event_day': 3335.5411255411254}"
            ]
          },
          "metadata": {
            "tags": []
          },
          "execution_count": 255
        }
      ]
    },
    {
      "cell_type": "code",
      "metadata": {
        "id": "epEtmjhrc13s",
        "colab_type": "code",
        "colab": {}
      },
      "source": [
        "sales_event_house=[]\n",
        "sales_event_food=[]\n",
        "sales_event_hobbie=[]\n",
        "sales_normal_house=[]\n",
        "sales_normal_food=[]\n",
        "sales_normal_hobbie=[]"
      ],
      "execution_count": 0,
      "outputs": []
    },
    {
      "cell_type": "code",
      "metadata": {
        "id": "qt9uQIytkHqw",
        "colab_type": "code",
        "colab": {}
      },
      "source": [
        "def pre_event_sales(a,house,food,hobbie,x,y,z,p,q,r):\n",
        "  b=a['event_name_1']\n",
        "  if(b!=0):\n",
        "    m=a['d']\n",
        "    n=m.split(\"_\")\n",
        "    if(int(n[1])>3):\n",
        "      for i in range(int(n[1])-1,int(n[1])-3,-1):\n",
        "        x.append(house['d_'+str(i)])\n",
        "        y.append(food['d_'+str(i)])\n",
        "        z.append(hobbie['d_'+str(i)])\n",
        "        \n",
        "        counted_already.append('d_'+str(i))\n",
        "  if(b==0 and a['d'] not in counted_already):\n",
        "    p.append(house[a['d']])\n",
        "    q.append(food[a['d']])\n",
        "    r.append(hobbie[a['d']])\n",
        "    "
      ],
      "execution_count": 0,
      "outputs": []
    },
    {
      "cell_type": "code",
      "metadata": {
        "id": "e9pMKrH8k5EZ",
        "colab_type": "code",
        "colab": {}
      },
      "source": [
        "calendar_train.apply(lambda x:pre_event_sales(x,dict_days_household,dict_days_food,dict_days_hobbies,sales_event_house,sales_event_food,sales_event_hobbie,sales_normal_house,sales_normal_food,sales_normal_hobbie),axis=1)"
      ],
      "execution_count": 0,
      "outputs": []
    },
    {
      "cell_type": "code",
      "metadata": {
        "id": "WS5jbh0SljBT",
        "colab_type": "code",
        "colab": {
          "base_uri": "https://localhost:8080/",
          "height": 34
        },
        "outputId": "0e58ac66-4be9-4cc3-8eb3-998eadfe90b7"
      },
      "source": [
        "stats.ttest_ind(sales_event_house,sales_normal_house,equal_var=False)"
      ],
      "execution_count": 302,
      "outputs": [
        {
          "output_type": "execute_result",
          "data": {
            "text/plain": [
              "Ttest_indResult(statistic=2.072432030106592, pvalue=0.03869870771626844)"
            ]
          },
          "metadata": {
            "tags": []
          },
          "execution_count": 302
        }
      ]
    },
    {
      "cell_type": "code",
      "metadata": {
        "id": "T6OGOgcvl9GG",
        "colab_type": "code",
        "colab": {
          "base_uri": "https://localhost:8080/",
          "height": 34
        },
        "outputId": "86dc972b-6417-4d7f-8046-ff5c3974428f"
      },
      "source": [
        "stats.ttest_ind(sales_event_food,sales_normal_food,equal_var=False)"
      ],
      "execution_count": 303,
      "outputs": [
        {
          "output_type": "execute_result",
          "data": {
            "text/plain": [
              "Ttest_indResult(statistic=5.370039091833143, pvalue=1.180318325724673e-07)"
            ]
          },
          "metadata": {
            "tags": []
          },
          "execution_count": 303
        }
      ]
    },
    {
      "cell_type": "code",
      "metadata": {
        "id": "1JrAJ1VemF8S",
        "colab_type": "code",
        "colab": {
          "base_uri": "https://localhost:8080/",
          "height": 34
        },
        "outputId": "754ace9a-171a-4c65-8f8b-67deecf8dc6d"
      },
      "source": [
        "stats.ttest_ind(sales_event_hobbie,sales_normal_hobbie,equal_var=False)"
      ],
      "execution_count": 304,
      "outputs": [
        {
          "output_type": "execute_result",
          "data": {
            "text/plain": [
              "Ttest_indResult(statistic=3.7699389041230424, pvalue=0.0001817705764869698)"
            ]
          },
          "metadata": {
            "tags": []
          },
          "execution_count": 304
        }
      ]
    },
    {
      "cell_type": "code",
      "metadata": {
        "id": "EC0Y7fwhmgNh",
        "colab_type": "code",
        "colab": {}
      },
      "source": [
        "mean_event=sum(sales_event_house)/len(sales_event_house)"
      ],
      "execution_count": 0,
      "outputs": []
    },
    {
      "cell_type": "code",
      "metadata": {
        "id": "ygS0GspEm8kW",
        "colab_type": "code",
        "colab": {}
      },
      "source": [
        "mean_normal=sum(sales_normal_house)/len(sales_normal_house)"
      ],
      "execution_count": 0,
      "outputs": []
    },
    {
      "cell_type": "code",
      "metadata": {
        "id": "50Q4zZHxnEi7",
        "colab_type": "code",
        "colab": {}
      },
      "source": [
        "std_event = statistics.stdev(sales_event_house)\n",
        "std_normal = statistics.stdev(sales_normal_house)"
      ],
      "execution_count": 0,
      "outputs": []
    },
    {
      "cell_type": "code",
      "metadata": {
        "id": "R4IBJ9B5no7Z",
        "colab_type": "code",
        "colab": {}
      },
      "source": [
        "a=(std_event**2/len(sales_event_house))+(std_normal**2/len(sales_normal_house))"
      ],
      "execution_count": 0,
      "outputs": []
    },
    {
      "cell_type": "code",
      "metadata": {
        "id": "m1Gc8I8DoAp6",
        "colab_type": "code",
        "colab": {}
      },
      "source": [
        "b=mean_event-mean_normal"
      ],
      "execution_count": 0,
      "outputs": []
    },
    {
      "cell_type": "code",
      "metadata": {
        "id": "G4RQYjXYoFrw",
        "colab_type": "code",
        "colab": {}
      },
      "source": [
        "c=math.sqrt(a)"
      ],
      "execution_count": 0,
      "outputs": []
    },
    {
      "cell_type": "code",
      "metadata": {
        "id": "ZWCd8-8UoQSf",
        "colab_type": "code",
        "colab": {}
      },
      "source": [
        "b/c"
      ],
      "execution_count": 0,
      "outputs": []
    },
    {
      "cell_type": "code",
      "metadata": {
        "id": "xDc5aLrAsP0C",
        "colab_type": "code",
        "colab": {}
      },
      "source": [
        "sunday=[]\n",
        "saturday=[]\n",
        "monday=[]\n",
        "Tuesday=[]\n",
        "Wednesday=[]\n",
        "Thursday=[]\n",
        "friday=[]\n"
      ],
      "execution_count": 0,
      "outputs": []
    },
    {
      "cell_type": "code",
      "metadata": {
        "id": "6wERia5Kst5-",
        "colab_type": "code",
        "colab": {}
      },
      "source": [
        "calendar_train"
      ],
      "execution_count": 0,
      "outputs": []
    },
    {
      "cell_type": "code",
      "metadata": {
        "id": "vbnzZdfGqVwO",
        "colab_type": "code",
        "colab": {}
      },
      "source": [
        "def weekdays_count(a,n,c,d,e,f,g,h,m):\n",
        "  b = a['weekday']\n",
        "  if(b=='Sunday'):\n",
        "    n.append(m[a['d']])\n",
        "  if(b=='Monday'):\n",
        "    c.append(m[a['d']])\n",
        "  if(b=='Tuesday'):\n",
        "    d.append(m[a['d']])\n",
        "  if(b=='Wednesday'):\n",
        "    e.append(m[a['d']])\n",
        "  if(b=='Thursday'):\n",
        "    f.append(m[a['d']])\n",
        "  if(b=='Friday'):\n",
        "    g.append(m[a['d']])\n",
        "  if(b=='Saturday'):\n",
        "    h.append(m[a['d']])"
      ],
      "execution_count": 0,
      "outputs": []
    },
    {
      "cell_type": "code",
      "metadata": {
        "id": "7yPwQsBKt4-9",
        "colab_type": "code",
        "colab": {}
      },
      "source": [
        "calendar_train.apply(lambda x:weekdays_count(x,sunday,monday,Tuesday,Wednesday,Thursday,friday,saturday,dict_days_household),axis=1)"
      ],
      "execution_count": 0,
      "outputs": []
    },
    {
      "cell_type": "code",
      "metadata": {
        "id": "lyjj0zXouWTw",
        "colab_type": "code",
        "colab": {
          "base_uri": "https://localhost:8080/",
          "height": 34
        },
        "outputId": "cf07575f-9401-4d3f-cf81-06025d729309"
      },
      "source": [
        "stats.f_oneway(sunday,monday,Tuesday,Wednesday,Thursday,friday,saturday)"
      ],
      "execution_count": 312,
      "outputs": [
        {
          "output_type": "execute_result",
          "data": {
            "text/plain": [
              "F_onewayResult(statistic=141.21212323790752, pvalue=2.6164795327585133e-148)"
            ]
          },
          "metadata": {
            "tags": []
          },
          "execution_count": 312
        }
      ]
    },
    {
      "cell_type": "code",
      "metadata": {
        "id": "0iP6wDeXvhiP",
        "colab_type": "code",
        "colab": {}
      },
      "source": [
        "stores = sales_train_df['store_id'].unique().tolist()\n",
        "stores"
      ],
      "execution_count": 0,
      "outputs": []
    },
    {
      "cell_type": "code",
      "metadata": {
        "id": "_ITgi0833Kel",
        "colab_type": "code",
        "colab": {}
      },
      "source": [
        "store_ca_1 = []"
      ],
      "execution_count": 0,
      "outputs": []
    },
    {
      "cell_type": "code",
      "metadata": {
        "id": "hTIj-QX84Ofd",
        "colab_type": "code",
        "colab": {}
      },
      "source": [
        "def store_dep(a,c,e):\n",
        "  data_store = sales_train_df[sales_train_df['store_id']==a]\n",
        "  b = data_store[data_store['cat_id']==c]\n",
        "  d=b.iloc[:,6:]\n",
        "  for i in data_days:\n",
        "    e.append(sum(d[i]))\n",
        "  return e"
      ],
      "execution_count": 0,
      "outputs": []
    },
    {
      "cell_type": "code",
      "metadata": {
        "id": "n9KpisFc9Qgf",
        "colab_type": "code",
        "colab": {}
      },
      "source": [
        "len(data_days)"
      ],
      "execution_count": 0,
      "outputs": []
    },
    {
      "cell_type": "code",
      "metadata": {
        "id": "2o_605569mH7",
        "colab_type": "code",
        "colab": {}
      },
      "source": [
        "column=['day','sales']"
      ],
      "execution_count": 0,
      "outputs": []
    },
    {
      "cell_type": "code",
      "metadata": {
        "id": "VbQFoHiO9gFO",
        "colab_type": "code",
        "colab": {}
      },
      "source": [
        "store_ca_house = pd.DataFrame(columns=column)"
      ],
      "execution_count": 0,
      "outputs": []
    },
    {
      "cell_type": "code",
      "metadata": {
        "id": "pQxyxYtf9uK4",
        "colab_type": "code",
        "colab": {}
      },
      "source": [
        "store_ca_house['day'] = data_days\n",
        "store_ca_house['sales'] = store_ca_1"
      ],
      "execution_count": 0,
      "outputs": []
    },
    {
      "cell_type": "code",
      "metadata": {
        "id": "WVQnz7qX9-Mr",
        "colab_type": "code",
        "colab": {}
      },
      "source": [
        "def store_item(a,c,b,m):\n",
        "  store_item=pd.DataFrame(columns=b)\n",
        "  (store_item[b[0]],store_item[b[1]]) = (data_days,store_dep(a,c,m)) \n",
        "  store_item_sales = {i[1]:i[2] for i in store_item.itertuples()}\n",
        "  return store_item_sales"
      ],
      "execution_count": 0,
      "outputs": []
    },
    {
      "cell_type": "code",
      "metadata": {
        "id": "te9Ze4EmWol3",
        "colab_type": "code",
        "colab": {}
      },
      "source": [
        "def weekday_store_item(a,b,c,d,e,f,g,h):\n",
        "  calendar_train.apply(lambda x:weekdays_count(x,a,b,c,d,e,f,g,h),axis=1)"
      ],
      "execution_count": 0,
      "outputs": []
    },
    {
      "cell_type": "code",
      "metadata": {
        "id": "U8WXbtuexU6_",
        "colab_type": "code",
        "colab": {}
      },
      "source": [
        "(sunday,saturday,monday,tuesday,wednesday,thursday,friday)=([],[],[],[],[],[],[])"
      ],
      "execution_count": 0,
      "outputs": []
    },
    {
      "cell_type": "code",
      "metadata": {
        "id": "-b4Gqmr24BOH",
        "colab_type": "code",
        "colab": {}
      },
      "source": [
        "sales_store_item = store_item('CA_1','HOUSEHOLD',column,store_ca_1)"
      ],
      "execution_count": 0,
      "outputs": []
    },
    {
      "cell_type": "code",
      "metadata": {
        "id": "dmhygut9XS1s",
        "colab_type": "code",
        "colab": {}
      },
      "source": [
        "weekday_store_item(sunday,monday,tuesday,wednesday,thursday,friday,saturday,sales_store_item)"
      ],
      "execution_count": 0,
      "outputs": []
    },
    {
      "cell_type": "code",
      "metadata": {
        "id": "tdma_C3W8CpE",
        "colab_type": "code",
        "colab": {}
      },
      "source": [
        "a=[]\n",
        "b=[sunday,monday,tuesday,wednesday,thursday,friday,saturday]\n",
        "for i in b:\n",
        "  a.append(sum(i))"
      ],
      "execution_count": 0,
      "outputs": []
    },
    {
      "cell_type": "code",
      "metadata": {
        "id": "sZSVemRl_e_f",
        "colab_type": "code",
        "colab": {
          "base_uri": "https://localhost:8080/",
          "height": 283
        },
        "outputId": "b4a1307f-9ff6-4806-966f-6fa8643312bb"
      },
      "source": [
        "plt.scatter(range(7),a)"
      ],
      "execution_count": 88,
      "outputs": [
        {
          "output_type": "execute_result",
          "data": {
            "text/plain": [
              "<matplotlib.collections.PathCollection at 0x7f7f27392630>"
            ]
          },
          "metadata": {
            "tags": []
          },
          "execution_count": 88
        },
        {
          "output_type": "display_data",
          "data": {
            "image/png": "[encoded data removed]",
            "text/plain": [
              "<Figure size 432x288 with 1 Axes>"
            ]
          },
          "metadata": {
            "tags": []
          }
        }
      ]
    },
    {
      "cell_type": "code",
      "metadata": {
        "id": "H9Ej9l74AEhi",
        "colab_type": "code",
        "colab": {
          "base_uri": "https://localhost:8080/",
          "height": 34
        },
        "outputId": "a3a250b7-1eea-4f0d-df9c-a844d16ef42e"
      },
      "source": [
        "stats.f_oneway(sunday,saturday,monday,tuesday,wednesday,thursday,friday)"
      ],
      "execution_count": 90,
      "outputs": [
        {
          "output_type": "execute_result",
          "data": {
            "text/plain": [
              "F_onewayResult(statistic=180.28522974953884, pvalue=5.458417609697598e-182)"
            ]
          },
          "metadata": {
            "tags": []
          },
          "execution_count": 90
        }
      ]
    },
    {
      "cell_type": "code",
      "metadata": {
        "id": "znzC233hANXT",
        "colab_type": "code",
        "colab": {
          "base_uri": "https://localhost:8080/",
          "height": 282
        },
        "outputId": "58db053b-f25c-4b54-c465-24ac8eb0b567"
      },
      "source": [
        "sns.distplot(sunday,bins=20)"
      ],
      "execution_count": 91,
      "outputs": [
        {
          "output_type": "execute_result",
          "data": {
            "text/plain": [
              "<matplotlib.axes._subplots.AxesSubplot at 0x7f7f20fd1470>"
            ]
          },
          "metadata": {
            "tags": []
          },
          "execution_count": 91
        },
        {
          "output_type": "display_data",
          "data": {
            "image/png": "[encoded data removed]",
            "text/plain": [
              "<Figure size 432x288 with 1 Axes>"
            ]
          },
          "metadata": {
            "tags": []
          }
        }
      ]
    },
    {
      "cell_type": "code",
      "metadata": {
        "id": "-OAR_yP_AcTy",
        "colab_type": "code",
        "colab": {
          "base_uri": "https://localhost:8080/",
          "height": 282
        },
        "outputId": "a7e54185-27eb-4162-cc13-284248a2a25c"
      },
      "source": [
        "sns.distplot(monday,bins=20)"
      ],
      "execution_count": 92,
      "outputs": [
        {
          "output_type": "execute_result",
          "data": {
            "text/plain": [
              "<matplotlib.axes._subplots.AxesSubplot at 0x7f7f20ef0a90>"
            ]
          },
          "metadata": {
            "tags": []
          },
          "execution_count": 92
        },
        {
          "output_type": "display_data",
          "data": {
            "image/png": "[encoded data removed]",
            "text/plain": [
              "<Figure size 432x288 with 1 Axes>"
            ]
          },
          "metadata": {
            "tags": []
          }
        }
      ]
    },
    {
      "cell_type": "code",
      "metadata": {
        "id": "n6KSkL6XAnnE",
        "colab_type": "code",
        "colab": {
          "base_uri": "https://localhost:8080/",
          "height": 282
        },
        "outputId": "c3a418b0-9bca-458a-c23c-527ee7773e0a"
      },
      "source": [
        "sns.distplot(wednesday,bins=20)"
      ],
      "execution_count": 93,
      "outputs": [
        {
          "output_type": "execute_result",
          "data": {
            "text/plain": [
              "<matplotlib.axes._subplots.AxesSubplot at 0x7f7f20e888d0>"
            ]
          },
          "metadata": {
            "tags": []
          },
          "execution_count": 93
        },
        {
          "output_type": "display_data",
          "data": {
            "image/png": "[encoded data removed]",
            "text/plain": [
              "<Figure size 432x288 with 1 Axes>"
            ]
          },
          "metadata": {
            "tags": []
          }
        }
      ]
    },
    {
      "cell_type": "code",
      "metadata": {
        "id": "n4CMhwVtAvIJ",
        "colab_type": "code",
        "colab": {
          "base_uri": "https://localhost:8080/",
          "height": 282
        },
        "outputId": "ab14647e-45d8-45aa-eadc-a4a369d12229"
      },
      "source": [
        "sns.distplot(friday,bins=20)"
      ],
      "execution_count": 94,
      "outputs": [
        {
          "output_type": "execute_result",
          "data": {
            "text/plain": [
              "<matplotlib.axes._subplots.AxesSubplot at 0x7f7f20e81ef0>"
            ]
          },
          "metadata": {
            "tags": []
          },
          "execution_count": 94
        },
        {
          "output_type": "display_data",
          "data": {
            "image/png": "[encoded data removed]",
            "text/plain": [
              "<Figure size 432x288 with 1 Axes>"
            ]
          },
          "metadata": {
            "tags": []
          }
        }
      ]
    },
    {
      "cell_type": "code",
      "metadata": {
        "id": "pB673K7AA1SW",
        "colab_type": "code",
        "colab": {}
      },
      "source": [
        "def pre_event_store(a,y,z,x,p,k):\n",
        "  b=a['event_name_1']\n",
        "  \n",
        "  if(b!=0):\n",
        "    m=a['d']\n",
        "    n=m.split(\"_\")\n",
        "    if(int(n[1])>k):\n",
        "      for i in range(int(n[1])-1,int(n[1])-k,-1):\n",
        "        x.append(y['d_'+str(i)])\n",
        "        \n",
        "        \n",
        "        z.append('d_'+str(i))\n",
        "  if(b==0 and a['d'] not in z):\n",
        "    p.append(y[a['d']])\n",
        "  return x,p"
      ],
      "execution_count": 0,
      "outputs": []
    },
    {
      "cell_type": "code",
      "metadata": {
        "id": "NA9ZPe08EaoY",
        "colab_type": "code",
        "colab": {
          "base_uri": "https://localhost:8080/",
          "height": 153
        },
        "outputId": "cff821aa-3d1a-481f-e35c-0ebc050ab5ea"
      },
      "source": [
        "for i in range(2,10):\n",
        "  counter=[]\n",
        "  sales_event=[]\n",
        "  sales_normal=[]\n",
        "  calendar_train.apply(lambda x:pre_event_store(x,sales_store_item,counter,sales_event,sales_normal,i),axis=1)\n",
        "  print(i,stats.ttest_ind(sales_event,sales_normal,equal_var=True))\n",
        "  "
      ],
      "execution_count": 113,
      "outputs": [
        {
          "output_type": "stream",
          "text": [
            "2 Ttest_indResult(statistic=1.7646028117131285, pvalue=0.07779026407562639)\n",
            "3 Ttest_indResult(statistic=1.9779327541588294, pvalue=0.04806903602211168)\n",
            "4 Ttest_indResult(statistic=1.2177723534136127, pvalue=0.22343996778798994)\n",
            "5 Ttest_indResult(statistic=0.6642763441298901, pvalue=0.506577997578894)\n",
            "6 Ttest_indResult(statistic=-0.24311872771861384, pvalue=0.8079331559719424)\n",
            "7 Ttest_indResult(statistic=-1.371035484775751, pvalue=0.17047864772952961)\n",
            "8 Ttest_indResult(statistic=-1.7511138675316626, pvalue=0.08003444008083208)\n",
            "9 Ttest_indResult(statistic=-0.9281630753791611, pvalue=0.35339812960612427)\n"
          ],
          "name": "stdout"
        }
      ]
    },
    {
      "cell_type": "code",
      "metadata": {
        "id": "t7SW5fLJJ24C",
        "colab_type": "code",
        "colab": {}
      },
      "source": [
        "store_ca_food=[]"
      ],
      "execution_count": 0,
      "outputs": []
    },
    {
      "cell_type": "code",
      "metadata": {
        "id": "zWWklEhGJcWz",
        "colab_type": "code",
        "colab": {}
      },
      "source": [
        "sales_store_food=store_item('CA_1','FOODS',column,store_ca_food)"
      ],
      "execution_count": 0,
      "outputs": []
    },
    {
      "cell_type": "code",
      "metadata": {
        "id": "g9TYKdxMJ80-",
        "colab_type": "code",
        "colab": {}
      },
      "source": [
        "def tests(a):\n",
        "  for i in range(2,10):\n",
        "    counter=[]\n",
        "    sales_event=[]\n",
        "    sales_normal=[]\n",
        "    calendar_train.apply(lambda x:pre_event_store(x,a,counter,sales_event,sales_normal,i),axis=1)\n",
        "    print(i,stats.ttest_ind(sales_event,sales_normal,equal_var=True))"
      ],
      "execution_count": 0,
      "outputs": []
    },
    {
      "cell_type": "code",
      "metadata": {
        "id": "5u-kNYGDKeF8",
        "colab_type": "code",
        "colab": {
          "base_uri": "https://localhost:8080/",
          "height": 153
        },
        "outputId": "7f1918e9-cbd5-4e01-a4b2-fd48a1056180"
      },
      "source": [
        "tests(sales_store_food)"
      ],
      "execution_count": 122,
      "outputs": [
        {
          "output_type": "stream",
          "text": [
            "2 Ttest_indResult(statistic=5.198312986684556, pvalue=2.226019809718375e-07)\n",
            "3 Ttest_indResult(statistic=5.8631632826340665, pvalue=5.2744513361502e-09)\n",
            "4 Ttest_indResult(statistic=4.749079544014694, pvalue=2.173925003144479e-06)\n",
            "5 Ttest_indResult(statistic=3.8217160969063646, pvalue=0.00013593316561740925)\n",
            "6 Ttest_indResult(statistic=2.361944781377764, pvalue=0.01825478402720322)\n",
            "7 Ttest_indResult(statistic=0.7938912804475562, pvalue=0.4273289863070058)\n",
            "8 Ttest_indResult(statistic=0.3375752616510638, pvalue=0.7357082791489007)\n",
            "9 Ttest_indResult(statistic=1.3174365141564222, pvalue=0.18779359460336842)\n"
          ],
          "name": "stdout"
        }
      ]
    },
    {
      "cell_type": "code",
      "metadata": {
        "id": "nqW5ufs0KImu",
        "colab_type": "code",
        "colab": {}
      },
      "source": [
        "store_ca_hobbie=[]\n",
        "sales_store_hobbie=store_item('CA_1','HOBBIES',column,store_ca_hobbie)"
      ],
      "execution_count": 0,
      "outputs": []
    },
    {
      "cell_type": "code",
      "metadata": {
        "id": "nxVkvhbEKVfw",
        "colab_type": "code",
        "colab": {
          "base_uri": "https://localhost:8080/",
          "height": 153
        },
        "outputId": "378f0715-6f43-4e85-b38d-aeacb0bf5299"
      },
      "source": [
        "tests(sales_store_hobbie)"
      ],
      "execution_count": 126,
      "outputs": [
        {
          "output_type": "stream",
          "text": [
            "2 Ttest_indResult(statistic=2.3067287958461358, pvalue=0.021176430948264994)\n",
            "3 Ttest_indResult(statistic=3.059426710102123, pvalue=0.002246118144651067)\n",
            "4 Ttest_indResult(statistic=2.4066008437358652, pvalue=0.016183008808474775)\n",
            "5 Ttest_indResult(statistic=1.9511212733766115, pvalue=0.05116014978680113)\n",
            "6 Ttest_indResult(statistic=1.0402013253075961, pvalue=0.2983458879173756)\n",
            "7 Ttest_indResult(statistic=-0.18467514114277161, pvalue=0.8534978131267766)\n",
            "8 Ttest_indResult(statistic=-1.2939403796817053, pvalue=0.19579141577491396)\n",
            "9 Ttest_indResult(statistic=-0.9590588239847474, pvalue=0.3376068892788554)\n"
          ],
          "name": "stdout"
        }
      ]
    },
    {
      "cell_type": "code",
      "metadata": {
        "id": "ZhRRmk6KkVol",
        "colab_type": "code",
        "colab": {
          "base_uri": "https://localhost:8080/",
          "height": 34
        },
        "outputId": "a5d712cd-42b5-416b-8eba-09b5b086a2a8"
      },
      "source": [
        "calendar_train['snap_CA']"
      ],
      "execution_count": 15,
      "outputs": [
        {
          "output_type": "execute_result",
          "data": {
            "text/plain": [
              "array([0, 1])"
            ]
          },
          "metadata": {
            "tags": []
          },
          "execution_count": 15
        }
      ]
    },
    {
      "cell_type": "code",
      "metadata": {
        "id": "F54L7Q1BiNiH",
        "colab_type": "code",
        "colab": {}
      },
      "source": [
        "def snap_sales(a,y,s,m,n):\n",
        "  b = a['snap_'+s]\n",
        "  if(b==1):\n",
        "    m.append(y[a['d']])\n",
        "  else:\n",
        "    n.append(y[a['d']])\n"
      ],
      "execution_count": 0,
      "outputs": []
    },
    {
      "cell_type": "code",
      "metadata": {
        "id": "TBR8eWo0l5d5",
        "colab_type": "code",
        "colab": {}
      },
      "source": [
        "store_ca=[]"
      ],
      "execution_count": 0,
      "outputs": []
    },
    {
      "cell_type": "code",
      "metadata": {
        "id": "l4Qp9WNpls8R",
        "colab_type": "code",
        "colab": {}
      },
      "source": [
        "sales_store_ca_food = store_item('CA_1','FOODS',column,store_ca)"
      ],
      "execution_count": 0,
      "outputs": []
    },
    {
      "cell_type": "code",
      "metadata": {
        "id": "wJNChTrqmKFY",
        "colab_type": "code",
        "colab": {}
      },
      "source": [
        "sales_snap=[]\n",
        "sales_normal=[]"
      ],
      "execution_count": 0,
      "outputs": []
    },
    {
      "cell_type": "code",
      "metadata": {
        "id": "x5aHDvT5mRTq",
        "colab_type": "code",
        "colab": {}
      },
      "source": [
        "calendar_train.apply(lambda x:snap_sales(x,sales_store_ca_food,'CA',sales_snap,sales_normal),axis=1)"
      ],
      "execution_count": 0,
      "outputs": []
    },
    {
      "cell_type": "code",
      "metadata": {
        "id": "6dFxR8Utmz4F",
        "colab_type": "code",
        "colab": {
          "base_uri": "https://localhost:8080/",
          "height": 34
        },
        "outputId": "a082cbf3-3b76-44ae-b522-252d48df38a6"
      },
      "source": [
        "stats.ttest_ind(sales_snap,sales_normal,equal_var=False)"
      ],
      "execution_count": 27,
      "outputs": [
        {
          "output_type": "execute_result",
          "data": {
            "text/plain": [
              "Ttest_indResult(statistic=9.910573178454083, pvalue=2.33202280371929e-22)"
            ]
          },
          "metadata": {
            "tags": []
          },
          "execution_count": 27
        }
      ]
    },
    {
      "cell_type": "code",
      "metadata": {
        "id": "pL6McCZdnaFF",
        "colab_type": "code",
        "colab": {}
      },
      "source": [
        "store_ca_household=[]"
      ],
      "execution_count": 0,
      "outputs": []
    },
    {
      "cell_type": "code",
      "metadata": {
        "id": "wuXiZ6lGnJRV",
        "colab_type": "code",
        "colab": {}
      },
      "source": [
        "sales_store_ca_household = store_item('CA_1','HOUSEHOLD',column,store_ca_household)"
      ],
      "execution_count": 0,
      "outputs": []
    },
    {
      "cell_type": "code",
      "metadata": {
        "id": "GYmdkOOenhM7",
        "colab_type": "code",
        "colab": {}
      },
      "source": [
        "sales_snap_house=[]\n",
        "sales_normal_house=[]"
      ],
      "execution_count": 0,
      "outputs": []
    },
    {
      "cell_type": "code",
      "metadata": {
        "id": "mZqqo9Rgnvs4",
        "colab_type": "code",
        "colab": {}
      },
      "source": [
        "calendar_train.apply(lambda x:snap_sales(x,sales_store_ca_household,'CA',sales_snap_house,sales_normal_house),axis=1)"
      ],
      "execution_count": 0,
      "outputs": []
    },
    {
      "cell_type": "code",
      "metadata": {
        "id": "g48cjcOaoHsx",
        "colab_type": "code",
        "colab": {
          "base_uri": "https://localhost:8080/",
          "height": 34
        },
        "outputId": "9d89036c-c020-4219-f0e5-ffedbbdda872"
      },
      "source": [
        "stats.ttest_ind(sales_snap_house,sales_normal_house,equal_var=True)"
      ],
      "execution_count": 36,
      "outputs": [
        {
          "output_type": "execute_result",
          "data": {
            "text/plain": [
              "Ttest_indResult(statistic=3.052454417975919, pvalue=0.002301057077616091)"
            ]
          },
          "metadata": {
            "tags": []
          },
          "execution_count": 36
        }
      ]
    },
    {
      "cell_type": "code",
      "metadata": {
        "id": "xjpPQz7BoU3K",
        "colab_type": "code",
        "colab": {}
      },
      "source": [
        "store_ca_hobbie=[]"
      ],
      "execution_count": 0,
      "outputs": []
    },
    {
      "cell_type": "code",
      "metadata": {
        "id": "mkmCY1DNobQB",
        "colab_type": "code",
        "colab": {}
      },
      "source": [
        "sales_store_ca_hobbie = store_item('CA_1','HOBBIES',column,store_ca_hobbie)"
      ],
      "execution_count": 0,
      "outputs": []
    },
    {
      "cell_type": "code",
      "metadata": {
        "id": "hombB4P7onZF",
        "colab_type": "code",
        "colab": {}
      },
      "source": [
        "sales_snap_hobbie=[]\n",
        "sales_normal_hobbie=[]"
      ],
      "execution_count": 0,
      "outputs": []
    },
    {
      "cell_type": "code",
      "metadata": {
        "id": "gtCu2oOOouR2",
        "colab_type": "code",
        "colab": {}
      },
      "source": [
        "calendar_train.apply(lambda x:snap_sales(x,sales_store_ca_hobbie,'CA',sales_snap_hobbie,sales_normal_hobbie),axis=1)"
      ],
      "execution_count": 0,
      "outputs": []
    },
    {
      "cell_type": "code",
      "metadata": {
        "id": "dVWL9_IBo4wp",
        "colab_type": "code",
        "colab": {
          "base_uri": "https://localhost:8080/",
          "height": 34
        },
        "outputId": "afe20c6d-2624-4f9e-fb4a-016253fb459a"
      },
      "source": [
        "stats.ttest_ind(sales_snap_hobbie,sales_normal_hobbie,equal_var=True)"
      ],
      "execution_count": 43,
      "outputs": [
        {
          "output_type": "execute_result",
          "data": {
            "text/plain": [
              "Ttest_indResult(statistic=3.422429752071544, pvalue=0.0006337203630461699)"
            ]
          },
          "metadata": {
            "tags": []
          },
          "execution_count": 43
        }
      ]
    },
    {
      "cell_type": "code",
      "metadata": {
        "id": "Nc0YCTcXwmxq",
        "colab_type": "code",
        "colab": {}
      },
      "source": [
        "store_tx_household=[]"
      ],
      "execution_count": 0,
      "outputs": []
    },
    {
      "cell_type": "code",
      "metadata": {
        "id": "G8NMNRF5o-RZ",
        "colab_type": "code",
        "colab": {}
      },
      "source": [
        "sales_tx_household = store_item('TX_1','HOUSEHOLD',column,store_tx_household)"
      ],
      "execution_count": 0,
      "outputs": []
    },
    {
      "cell_type": "code",
      "metadata": {
        "id": "T2LPdCkExbRE",
        "colab_type": "code",
        "colab": {}
      },
      "source": [
        "sales_snap_household_tx=[]\n",
        "sales_normal_household_tx=[]"
      ],
      "execution_count": 0,
      "outputs": []
    },
    {
      "cell_type": "code",
      "metadata": {
        "id": "-xWcjVAqxmPt",
        "colab_type": "code",
        "colab": {}
      },
      "source": [
        "calendar_train.apply(lambda x:snap_sales(x,sales_tx_household,'TX',sales_snap_household_tx,sales_normal_household_tx),axis=1)"
      ],
      "execution_count": 0,
      "outputs": []
    },
    {
      "cell_type": "code",
      "metadata": {
        "id": "jBbeubbux4zO",
        "colab_type": "code",
        "colab": {
          "base_uri": "https://localhost:8080/",
          "height": 34
        },
        "outputId": "6d2c7952-ee74-4c90-fcbe-6f61e7324463"
      },
      "source": [
        "stats.ttest_ind(sales_snap_household_tx,sales_normal_household_tx,equal_var=False)"
      ],
      "execution_count": 37,
      "outputs": [
        {
          "output_type": "execute_result",
          "data": {
            "text/plain": [
              "Ttest_indResult(statistic=2.0629636524747252, pvalue=0.039323844559423636)"
            ]
          },
          "metadata": {
            "tags": []
          },
          "execution_count": 37
        }
      ]
    },
    {
      "cell_type": "code",
      "metadata": {
        "id": "pSCmxvIEyIER",
        "colab_type": "code",
        "colab": {}
      },
      "source": [
        "store_tx_food=[]"
      ],
      "execution_count": 0,
      "outputs": []
    },
    {
      "cell_type": "code",
      "metadata": {
        "id": "CiQnK9u0yira",
        "colab_type": "code",
        "colab": {}
      },
      "source": [
        "sales_tx_food = store_item('TX_1','FOODS',column,store_tx_food)"
      ],
      "execution_count": 0,
      "outputs": []
    },
    {
      "cell_type": "code",
      "metadata": {
        "id": "JMrrqX0kyo8x",
        "colab_type": "code",
        "colab": {}
      },
      "source": [
        "sales_snap_food_tx=[]\n",
        "sales_normal_food_tx=[]"
      ],
      "execution_count": 0,
      "outputs": []
    },
    {
      "cell_type": "code",
      "metadata": {
        "id": "FDtLtioryzMv",
        "colab_type": "code",
        "colab": {}
      },
      "source": [
        "calendar_train.apply(lambda x:snap_sales(x,sales_tx_food,'TX',sales_snap_food_tx,sales_normal_food_tx),axis=1)"
      ],
      "execution_count": 0,
      "outputs": []
    },
    {
      "cell_type": "code",
      "metadata": {
        "id": "OR1sq1BdzASp",
        "colab_type": "code",
        "colab": {
          "base_uri": "https://localhost:8080/",
          "height": 34
        },
        "outputId": "6cbb95ce-e8fa-477d-e319-f53521a0d911"
      },
      "source": [
        "stats.ttest_ind(sales_snap_food_tx,sales_normal_food_tx,equal_var=False)"
      ],
      "execution_count": 48,
      "outputs": [
        {
          "output_type": "execute_result",
          "data": {
            "text/plain": [
              "Ttest_indResult(statistic=17.898644682221708, pvalue=3.012731986030727e-64)"
            ]
          },
          "metadata": {
            "tags": []
          },
          "execution_count": 48
        }
      ]
    },
    {
      "cell_type": "code",
      "metadata": {
        "id": "roZoYKNlzJDS",
        "colab_type": "code",
        "colab": {}
      },
      "source": [
        "store_wi_food=[]"
      ],
      "execution_count": 0,
      "outputs": []
    },
    {
      "cell_type": "code",
      "metadata": {
        "id": "MXhzj3MCzOxn",
        "colab_type": "code",
        "colab": {}
      },
      "source": [
        "sales_wi_food = store_item('WI_1','FOODS',column,store_wi_food)"
      ],
      "execution_count": 0,
      "outputs": []
    },
    {
      "cell_type": "code",
      "metadata": {
        "id": "qFd9d2R1zVkW",
        "colab_type": "code",
        "colab": {}
      },
      "source": [
        "sales_snap_food_wi=[]\n",
        "sales_normal_food_wi=[]"
      ],
      "execution_count": 0,
      "outputs": []
    },
    {
      "cell_type": "code",
      "metadata": {
        "id": "otyQ-fhDza8O",
        "colab_type": "code",
        "colab": {}
      },
      "source": [
        "calendar_train.apply(lambda x:snap_sales(x,sales_wi_food,'WI',sales_snap_food_wi,sales_normal_food_wi),axis=1)"
      ],
      "execution_count": 0,
      "outputs": []
    },
    {
      "cell_type": "code",
      "metadata": {
        "id": "AI22fZu-zq0q",
        "colab_type": "code",
        "colab": {
          "base_uri": "https://localhost:8080/",
          "height": 34
        },
        "outputId": "fe2aa1dc-c282-455c-fc47-a01cdf3030d3"
      },
      "source": [
        "stats.ttest_ind(sales_snap_food_wi,sales_normal_food_wi,equal_var=False)"
      ],
      "execution_count": 54,
      "outputs": [
        {
          "output_type": "execute_result",
          "data": {
            "text/plain": [
              "Ttest_indResult(statistic=3.2146123154860105, pvalue=0.0013410436954393523)"
            ]
          },
          "metadata": {
            "tags": []
          },
          "execution_count": 54
        }
      ]
    },
    {
      "cell_type": "code",
      "metadata": {
        "id": "braAkoY7z0Tq",
        "colab_type": "code",
        "colab": {}
      },
      "source": [
        "store_wi_house=[]"
      ],
      "execution_count": 0,
      "outputs": []
    },
    {
      "cell_type": "code",
      "metadata": {
        "id": "71kQESU6z3hZ",
        "colab_type": "code",
        "colab": {}
      },
      "source": [
        "sales_wi_house = store_item('WI_1','HOUSEHOLD',column,store_wi_house)"
      ],
      "execution_count": 0,
      "outputs": []
    },
    {
      "cell_type": "code",
      "metadata": {
        "id": "i7Wp3LDU0BWt",
        "colab_type": "code",
        "colab": {}
      },
      "source": [
        "sales_snap_house_wi=[]\n",
        "sales_normal_house_wi=[]"
      ],
      "execution_count": 0,
      "outputs": []
    },
    {
      "cell_type": "code",
      "metadata": {
        "id": "Xwq4PTw30KdM",
        "colab_type": "code",
        "colab": {}
      },
      "source": [
        "calendar_train.apply(lambda x:snap_sales(x,sales_wi_house,'WI',sales_snap_house_wi,sales_normal_house_wi),axis=1)"
      ],
      "execution_count": 0,
      "outputs": []
    },
    {
      "cell_type": "code",
      "metadata": {
        "id": "ZDz9gU9J0TfG",
        "colab_type": "code",
        "colab": {
          "base_uri": "https://localhost:8080/",
          "height": 34
        },
        "outputId": "3e75af72-27ad-43dd-d1e8-40b31699281b"
      },
      "source": [
        "stats.ttest_ind(sales_snap_house_wi,sales_normal_house_wi,equal_var=False)"
      ],
      "execution_count": 62,
      "outputs": [
        {
          "output_type": "execute_result",
          "data": {
            "text/plain": [
              "Ttest_indResult(statistic=0.8798088482604033, pvalue=0.3791307473590202)"
            ]
          },
          "metadata": {
            "tags": []
          },
          "execution_count": 62
        }
      ]
    },
    {
      "cell_type": "code",
      "metadata": {
        "id": "p6mjJNmu0jul",
        "colab_type": "code",
        "colab": {}
      },
      "source": [
        "store_wi_hobbie=[]"
      ],
      "execution_count": 0,
      "outputs": []
    },
    {
      "cell_type": "code",
      "metadata": {
        "id": "qVPief860u-W",
        "colab_type": "code",
        "colab": {}
      },
      "source": [
        "sales_wi_hobbie = store_item('WI_1','HOBBIES',column,store_wi_hobbie)"
      ],
      "execution_count": 0,
      "outputs": []
    },
    {
      "cell_type": "code",
      "metadata": {
        "id": "95I61Q5j02xT",
        "colab_type": "code",
        "colab": {}
      },
      "source": [
        "sales_snap_hobbie_wi=[]\n",
        "sales_normal_hobbie_wi=[]"
      ],
      "execution_count": 0,
      "outputs": []
    },
    {
      "cell_type": "code",
      "metadata": {
        "id": "OksH-w-L06yk",
        "colab_type": "code",
        "colab": {}
      },
      "source": [
        "calendar_train.apply(lambda x:snap_sales(x,sales_wi_hobbie,'WI',sales_snap_hobbie_wi,sales_normal_hobbie_wi),axis=1)"
      ],
      "execution_count": 0,
      "outputs": []
    },
    {
      "cell_type": "code",
      "metadata": {
        "id": "N4XGvWnA1Atd",
        "colab_type": "code",
        "colab": {
          "base_uri": "https://localhost:8080/",
          "height": 34
        },
        "outputId": "97d61ad7-60b0-4825-9a58-43abe65f373d"
      },
      "source": [
        "stats.ttest_ind(sales_snap_hobbie_wi,sales_normal_hobbie_wi,equal_var=False)"
      ],
      "execution_count": 67,
      "outputs": [
        {
          "output_type": "execute_result",
          "data": {
            "text/plain": [
              "Ttest_indResult(statistic=0.5233458891255773, pvalue=0.6008210275925401)"
            ]
          },
          "metadata": {
            "tags": []
          },
          "execution_count": 67
        }
      ]
    },
    {
      "cell_type": "code",
      "metadata": {
        "id": "KNozLhVc1GOq",
        "colab_type": "code",
        "colab": {
          "base_uri": "https://localhost:8080/",
          "height": 153
        },
        "outputId": "08482f87-04eb-4174-936b-dbd6e9a9468d"
      },
      "source": [
        "for i in range(2,10):\n",
        "  counter=[]\n",
        "  sales_event=[]\n",
        "  sales_normal=[]\n",
        "  calendar_train.apply(lambda x:pre_event_store(x,sales_wi_hobbie,counter,sales_event,sales_normal,i),axis=1)\n",
        "  print(i,stats.ttest_ind(sales_event,sales_normal,equal_var=True))"
      ],
      "execution_count": 70,
      "outputs": [
        {
          "output_type": "stream",
          "text": [
            "2 Ttest_indResult(statistic=3.355019683396371, pvalue=0.0008091170589787031)\n",
            "3 Ttest_indResult(statistic=4.425474273465133, pvalue=1.012433471610293e-05)\n",
            "4 Ttest_indResult(statistic=3.454566125264823, pvalue=0.0005615292984663208)\n",
            "5 Ttest_indResult(statistic=2.8354339775077024, pvalue=0.004615113679631488)\n",
            "6 Ttest_indResult(statistic=2.336559980310921, pvalue=0.01953984491213715)\n",
            "7 Ttest_indResult(statistic=0.9752856164732879, pvalue=0.329506591838975)\n",
            "8 Ttest_indResult(statistic=0.059797475982497725, pvalue=0.9523211505331574)\n",
            "9 Ttest_indResult(statistic=0.6524633953032768, pvalue=0.5141525873142692)\n"
          ],
          "name": "stdout"
        }
      ]
    },
    {
      "cell_type": "code",
      "metadata": {
        "id": "m_C1FP7P1w2s",
        "colab_type": "code",
        "colab": {
          "base_uri": "https://localhost:8080/",
          "height": 153
        },
        "outputId": "3a1d4d78-b097-4aad-f2f1-82153d48a5b5"
      },
      "source": [
        "for i in range(2,10):\n",
        "  counter=[]\n",
        "  sales_event=[]\n",
        "  sales_normal=[]\n",
        "  calendar_train.apply(lambda x:pre_event_store(x,sales_wi_food,counter,sales_event,sales_normal,i),axis=1)\n",
        "  print(i,stats.ttest_ind(sales_event,sales_normal,equal_var=True))"
      ],
      "execution_count": 87,
      "outputs": [
        {
          "output_type": "stream",
          "text": [
            "2 Ttest_indResult(statistic=2.9733830227114657, pvalue=0.002982224343874872)\n",
            "3 Ttest_indResult(statistic=3.56728391426782, pvalue=0.0003689171824927014)\n",
            "4 Ttest_indResult(statistic=3.0096243809435386, pvalue=0.0026451643109776856)\n",
            "5 Ttest_indResult(statistic=2.566594875699356, pvalue=0.010331082128951228)\n",
            "6 Ttest_indResult(statistic=1.9877571946883235, pvalue=0.04694630455464324)\n",
            "7 Ttest_indResult(statistic=1.001624104735868, pvalue=0.3166155664435687)\n",
            "8 Ttest_indResult(statistic=0.4465111026637243, pvalue=0.6552621978189545)\n",
            "9 Ttest_indResult(statistic=1.1050037395347732, pvalue=0.26924714607714023)\n"
          ],
          "name": "stdout"
        }
      ]
    },
    {
      "cell_type": "code",
      "metadata": {
        "id": "t_Q9n7uk16ag",
        "colab_type": "code",
        "colab": {
          "base_uri": "https://localhost:8080/",
          "height": 153
        },
        "outputId": "78a90222-7837-4427-e706-31b408a75565"
      },
      "source": [
        "for i in range(2,10):\n",
        "  counter=[]\n",
        "  sales_event=[]\n",
        "  sales_normal=[]\n",
        "  calendar_train.apply(lambda x:pre_event_store(x,sales_wi_house,counter,sales_event,sales_normal,i),axis=1)\n",
        "  print(i,stats.ttest_ind(sales_event,sales_normal,equal_var=True))"
      ],
      "execution_count": 75,
      "outputs": [
        {
          "output_type": "stream",
          "text": [
            "2 Ttest_indResult(statistic=2.506155546144367, pvalue=0.012287701564688018)\n",
            "3 Ttest_indResult(statistic=3.099560943693848, pvalue=0.0019642160222478294)\n",
            "4 Ttest_indResult(statistic=2.38747641552632, pvalue=0.017047734879682665)\n",
            "5 Ttest_indResult(statistic=2.0877905495958897, pvalue=0.036923135646915836)\n",
            "6 Ttest_indResult(statistic=1.5178615015255297, pvalue=0.12917440493356047)\n",
            "7 Ttest_indResult(statistic=0.19636411299665243, pvalue=0.8443400658267065)\n",
            "8 Ttest_indResult(statistic=-0.6662017863444115, pvalue=0.5053363368707022)\n",
            "9 Ttest_indResult(statistic=0.04920994418651758, pvalue=0.9607552832382781)\n"
          ],
          "name": "stdout"
        }
      ]
    },
    {
      "cell_type": "code",
      "metadata": {
        "id": "KlXjdwtr2WOL",
        "colab_type": "code",
        "colab": {
          "base_uri": "https://localhost:8080/",
          "height": 153
        },
        "outputId": "55923831-361a-4a49-8403-4da1d75bb2d6"
      },
      "source": [
        "for i in range(2,10):\n",
        "  counter=[]\n",
        "  sales_event=[]\n",
        "  sales_normal=[]\n",
        "  calendar_train.apply(lambda x:pre_event_store(x,sales_tx_food,counter,sales_event,sales_normal,i),axis=1)\n",
        "  print(i,stats.ttest_ind(sales_event,sales_normal,equal_var=True))"
      ],
      "execution_count": 92,
      "outputs": [
        {
          "output_type": "stream",
          "text": [
            "2 Ttest_indResult(statistic=5.308437945211881, pvalue=1.234366519797787e-07)\n",
            "3 Ttest_indResult(statistic=5.645769462781493, pvalue=1.871450007110569e-08)\n",
            "4 Ttest_indResult(statistic=4.152795693595269, pvalue=3.408620107909705e-05)\n",
            "5 Ttest_indResult(statistic=3.302392490168577, pvalue=0.0009728591219026856)\n",
            "6 Ttest_indResult(statistic=1.8841996483514079, pvalue=0.05965267282394571)\n",
            "7 Ttest_indResult(statistic=0.6814320119824445, pvalue=0.4956570285285815)\n",
            "8 Ttest_indResult(statistic=0.4184205628255746, pvalue=0.675671348121791)\n",
            "9 Ttest_indResult(statistic=1.3721517791182505, pvalue=0.17011943453972111)\n"
          ],
          "name": "stdout"
        }
      ]
    },
    {
      "cell_type": "code",
      "metadata": {
        "id": "ZjG-qpEV3NVS",
        "colab_type": "code",
        "colab": {
          "base_uri": "https://localhost:8080/",
          "height": 153
        },
        "outputId": "c0310e8a-5512-4053-b0e2-fb2d557d33bd"
      },
      "source": [
        "for i in range(2,10):\n",
        "  counter=[]\n",
        "  sales_event=[]\n",
        "  sales_normal=[]\n",
        "  calendar_train.apply(lambda x:pre_event_store(x,sales_tx_household,counter,sales_event,sales_normal,i),axis=1)\n",
        "  print(i,stats.ttest_ind(sales_event,sales_normal,equal_var=True))"
      ],
      "execution_count": 93,
      "outputs": [
        {
          "output_type": "stream",
          "text": [
            "2 Ttest_indResult(statistic=3.377314665459677, pvalue=0.0007466499359810518)\n",
            "3 Ttest_indResult(statistic=3.579724388815157, pvalue=0.00035189553355776797)\n",
            "4 Ttest_indResult(statistic=2.455159812875151, pvalue=0.014158427261337182)\n",
            "5 Ttest_indResult(statistic=2.1397312602904766, pvalue=0.03247821317926702)\n",
            "6 Ttest_indResult(statistic=1.2486095407961684, pvalue=0.21192358338267547)\n",
            "7 Ttest_indResult(statistic=0.30080702462055703, pvalue=0.7635849764311183)\n",
            "8 Ttest_indResult(statistic=-0.08854203694836331, pvalue=0.9294521286967573)\n",
            "9 Ttest_indResult(statistic=0.603465053230362, pvalue=0.5462452699705951)\n"
          ],
          "name": "stdout"
        }
      ]
    },
    {
      "cell_type": "code",
      "metadata": {
        "id": "k_Am2rPi3TRJ",
        "colab_type": "code",
        "colab": {}
      },
      "source": [
        "store_tx_hobbie=[]\n",
        "sales_tx_hobbie = store_item('TX_1','HOBBIES',column,store_tx_hobbie)"
      ],
      "execution_count": 0,
      "outputs": []
    },
    {
      "cell_type": "code",
      "metadata": {
        "id": "wQZd4pXV4ca1",
        "colab_type": "code",
        "colab": {
          "base_uri": "https://localhost:8080/",
          "height": 153
        },
        "outputId": "5c8b2818-8636-4229-ae7d-31898fd6f29e"
      },
      "source": [
        "for i in range(2,10):\n",
        "  counter=[]\n",
        "  sales_event=[]\n",
        "  sales_normal=[]\n",
        "  calendar_train.apply(lambda x:pre_event_store(x,sales_tx_hobbie,counter,sales_event,sales_normal,i),axis=1)\n",
        "  print(i,stats.ttest_ind(sales_event,sales_normal,equal_var=True))"
      ],
      "execution_count": 96,
      "outputs": [
        {
          "output_type": "stream",
          "text": [
            "2 Ttest_indResult(statistic=2.1721033545616972, pvalue=0.029970458843651147)\n",
            "3 Ttest_indResult(statistic=2.2892624675128683, pvalue=0.022164609539931313)\n",
            "4 Ttest_indResult(statistic=1.9271293317760263, pvalue=0.05409104675637019)\n",
            "5 Ttest_indResult(statistic=1.402791282666402, pvalue=0.16080990363360934)\n",
            "6 Ttest_indResult(statistic=0.673140959005049, pvalue=0.5009191723460337)\n",
            "7 Ttest_indResult(statistic=-0.007015740747103034, pvalue=0.9944028166677596)\n",
            "8 Ttest_indResult(statistic=-0.47845287835556305, pvalue=0.6323647994036783)\n",
            "9 Ttest_indResult(statistic=0.21196805059344692, pvalue=0.8321464509517833)\n"
          ],
          "name": "stdout"
        }
      ]
    },
    {
      "cell_type": "markdown",
      "metadata": {
        "id": "sJdTXQkW4jCX",
        "colab_type": "text"
      },
      "source": [
        "Events\n",
        "1. For CA - HouseHold - 2 days\n",
        "            Food      - 5 days\n",
        "            Hobbies   - 4 days\n",
        "\n",
        "2. For TX - HouseHold - 4 days\n",
        "            Food      - 4 days\n",
        "            Hobbies   - 2 days\n",
        "\n",
        "3. For WI - HouseHold - 4 days\n",
        "            Food      - 5 days\n",
        "            Hobbies   - 5 days"
      ]
    },
    {
      "cell_type": "markdown",
      "metadata": {
        "id": "94P0oDX66USa",
        "colab_type": "text"
      },
      "source": [
        "Snap Sales\n",
        "1. For CA - HouseHold - yes\n",
        "            Food      - yes\n",
        "            Hobbie   - yes\n",
        "\n",
        "2. For TX - Household - yes\n",
        "            Food - yes\n",
        "            Hobbie - no\n",
        "\n",
        "3. For WI - HouseHold - no\n",
        "            Food - yes\n",
        "            Hobbie - no"
      ]
    },
    {
      "cell_type": "code",
      "metadata": {
        "id": "Op3ZIUP-7CLU",
        "colab_type": "code",
        "colab": {}
      },
      "source": [
        "def post_event_store(a,y,z,x,p,k):\n",
        "  b=a['event_name_1']\n",
        "  \n",
        "  if(b!=0):\n",
        "    m=a['d']\n",
        "    n=m.split(\"_\")\n",
        "    if(int(n[1])<=1914-k):\n",
        "      for i in range(int(n[1])+1,int(n[1])+k,1):\n",
        "        x.append(y['d_'+str(i)])\n",
        "        \n",
        "        \n",
        "        z.append('d_'+str(i))\n",
        "  if(b==0 and a['d'] not in z):\n",
        "    p.append(y[a['d']])\n",
        "  return x,p"
      ],
      "execution_count": 0,
      "outputs": []
    },
    {
      "cell_type": "code",
      "metadata": {
        "id": "8qGhj-XECOo2",
        "colab_type": "code",
        "colab": {}
      },
      "source": [
        "calendar_train = calendar_train.reindex(columns=calendar_train.columns.tolist()+['number'])"
      ],
      "execution_count": 0,
      "outputs": []
    },
    {
      "cell_type": "code",
      "metadata": {
        "id": "5iKjBSrtCy0T",
        "colab_type": "code",
        "colab": {}
      },
      "source": [
        "calendar_train['number'] = range(1,1914)"
      ],
      "execution_count": 0,
      "outputs": []
    },
    {
      "cell_type": "code",
      "metadata": {
        "id": "uO1FacFHC6N3",
        "colab_type": "code",
        "colab": {}
      },
      "source": [
        "len(calendar_train)"
      ],
      "execution_count": 0,
      "outputs": []
    },
    {
      "cell_type": "code",
      "metadata": {
        "id": "Nkc4kO6W7-2t",
        "colab_type": "code",
        "colab": {}
      },
      "source": [
        "def tests_post(a):\n",
        "  for i in range(2,30):\n",
        "    counter=[]\n",
        "    sales_event=[]\n",
        "    sales_normal=[]\n",
        "    calendar_train.apply(lambda x:post_event_store(x,a,counter,sales_event,sales_normal,i),axis=1)\n",
        "    print(i,stats.ttest_ind(sales_event,sales_normal,equal_var=True))"
      ],
      "execution_count": 0,
      "outputs": []
    },
    {
      "cell_type": "code",
      "metadata": {
        "id": "AiGNrDRJ8N5N",
        "colab_type": "code",
        "colab": {
          "base_uri": "https://localhost:8080/",
          "height": 153
        },
        "outputId": "d9390de3-d179-4a42-9354-316bd32af0c3"
      },
      "source": [
        "tests_post(sales_store_item)"
      ],
      "execution_count": 126,
      "outputs": [
        {
          "output_type": "stream",
          "text": [
            "2 Ttest_indResult(statistic=-3.0937649536388476, pvalue=0.0020073130140609782)\n",
            "3 Ttest_indResult(statistic=-3.7664082576229356, pvalue=0.0001709851641991277)\n",
            "4 Ttest_indResult(statistic=-3.6040436827041717, pvalue=0.00032178187727185226)\n",
            "5 Ttest_indResult(statistic=-3.7007348935337108, pvalue=0.00022129066554750878)\n",
            "6 Ttest_indResult(statistic=-2.9360191703253036, pvalue=0.0033648960703091734)\n",
            "7 Ttest_indResult(statistic=-1.5569235215166406, pvalue=0.11965268271820338)\n",
            "8 Ttest_indResult(statistic=-1.4279221167372524, pvalue=0.15347110841583161)\n",
            "9 Ttest_indResult(statistic=-2.303518075264277, pvalue=0.021348997291625323)\n"
          ],
          "name": "stdout"
        }
      ]
    },
    {
      "cell_type": "code",
      "metadata": {
        "id": "yS60uTZp9ESY",
        "colab_type": "code",
        "colab": {
          "base_uri": "https://localhost:8080/",
          "height": 153
        },
        "outputId": "f06d1e4a-6618-4a8d-bd38-db7e06629c02"
      },
      "source": [
        "tests_post(sales_store_hobbie)"
      ],
      "execution_count": 127,
      "outputs": [
        {
          "output_type": "stream",
          "text": [
            "2 Ttest_indResult(statistic=-1.818031788769953, pvalue=0.06922862759749207)\n",
            "3 Ttest_indResult(statistic=-1.4919735529722387, pvalue=0.13588288292106998)\n",
            "4 Ttest_indResult(statistic=-1.7723248556133535, pvalue=0.07650892576368329)\n",
            "5 Ttest_indResult(statistic=-1.7124945163199086, pvalue=0.08697387421353721)\n",
            "6 Ttest_indResult(statistic=-0.5304297169044117, pvalue=0.5958766386015137)\n",
            "7 Ttest_indResult(statistic=0.2747806183595771, pvalue=0.7835142147302412)\n",
            "8 Ttest_indResult(statistic=-0.35765432891445614, pvalue=0.7206399243901374)\n",
            "9 Ttest_indResult(statistic=-1.029267091984237, pvalue=0.3034751909123321)\n"
          ],
          "name": "stdout"
        }
      ]
    },
    {
      "cell_type": "code",
      "metadata": {
        "id": "sBrXPXoyDhAW",
        "colab_type": "code",
        "colab": {
          "base_uri": "https://localhost:8080/",
          "height": 493
        },
        "outputId": "6b44019d-3f98-4240-b5d1-22468162207e"
      },
      "source": [
        "tests_post(sales_store_ca_food)"
      ],
      "execution_count": 103,
      "outputs": [
        {
          "output_type": "stream",
          "text": [
            "2 Ttest_indResult(statistic=-4.723556639548173, pvalue=2.500702132770237e-06)\n",
            "3 Ttest_indResult(statistic=-5.754706246353642, pvalue=1.0194325787914014e-08)\n",
            "4 Ttest_indResult(statistic=-5.667910856107889, pvalue=1.6788316890985973e-08)\n",
            "5 Ttest_indResult(statistic=-5.40914143640266, pvalue=7.159802323202938e-08)\n",
            "6 Ttest_indResult(statistic=-4.102272520106129, pvalue=4.265673233278707e-05)\n",
            "7 Ttest_indResult(statistic=-2.203826361544699, pvalue=0.027654312952227922)\n",
            "8 Ttest_indResult(statistic=-2.181069475817689, pvalue=0.02929493576701209)\n",
            "9 Ttest_indResult(statistic=-3.5371064889085977, pvalue=0.0004134962148511252)\n",
            "10 Ttest_indResult(statistic=-4.651396457859746, pvalue=3.4993048244749096e-06)\n",
            "11 Ttest_indResult(statistic=-5.259716144535269, pvalue=1.5819973592451917e-07)\n",
            "12 Ttest_indResult(statistic=-5.360037709514137, pvalue=9.153600990819225e-08)\n",
            "13 Ttest_indResult(statistic=-3.9089167681896053, pvalue=9.529849943683245e-05)\n",
            "14 Ttest_indResult(statistic=-2.2027929320421973, pvalue=0.0277009850695122)\n",
            "15 Ttest_indResult(statistic=-2.3316944060263793, pvalue=0.019793234558134153)\n",
            "16 Ttest_indResult(statistic=-3.1637055061910706, pvalue=0.0015750766551377265)\n",
            "17 Ttest_indResult(statistic=-3.6604748483936005, pvalue=0.0002563772172884023)\n",
            "18 Ttest_indResult(statistic=-3.8426993503634814, pvalue=0.0001242684681602049)\n",
            "19 Ttest_indResult(statistic=-3.820686873022497, pvalue=0.00013572922270275965)\n",
            "20 Ttest_indResult(statistic=-3.074773931118459, pvalue=0.0021245059443840437)\n",
            "21 Ttest_indResult(statistic=-2.2270487438842803, pvalue=0.026011030410147132)\n",
            "22 Ttest_indResult(statistic=-2.176453925872942, pvalue=0.02958912030352472)\n",
            "23 Ttest_indResult(statistic=-2.701810634073108, pvalue=0.006928869857609638)\n",
            "24 Ttest_indResult(statistic=-3.0115544480600684, pvalue=0.002616673038131723)\n",
            "25 Ttest_indResult(statistic=-3.2839157709383864, pvalue=0.0010329239787863918)\n",
            "26 Ttest_indResult(statistic=-3.2841279232470706, pvalue=0.001031832649870863)\n",
            "27 Ttest_indResult(statistic=-2.569727898893548, pvalue=0.010212721683005613)\n",
            "28 Ttest_indResult(statistic=-1.8337044470640518, pvalue=0.06676768622006364)\n",
            "29 Ttest_indResult(statistic=-1.8900190475591239, pvalue=0.058821170175097484)\n"
          ],
          "name": "stdout"
        }
      ]
    },
    {
      "cell_type": "code",
      "metadata": {
        "id": "eYr2R7_0EIxy",
        "colab_type": "code",
        "colab": {
          "base_uri": "https://localhost:8080/",
          "height": 153
        },
        "outputId": "eecbbd48-a0ce-4528-f61b-2af51d93caa8"
      },
      "source": [
        "tests_post(sales_tx_household)"
      ],
      "execution_count": 141,
      "outputs": [
        {
          "output_type": "stream",
          "text": [
            "2 Ttest_indResult(statistic=-1.8165236854166495, pvalue=0.06945953899626875)\n",
            "3 Ttest_indResult(statistic=-2.1043261320551987, pvalue=0.03548960220237543)\n",
            "4 Ttest_indResult(statistic=-1.8917413523711177, pvalue=0.05868503908816342)\n",
            "5 Ttest_indResult(statistic=-1.819913860032672, pvalue=0.06893435979361358)\n",
            "6 Ttest_indResult(statistic=-0.8620665251053014, pvalue=0.388760796945518)\n",
            "7 Ttest_indResult(statistic=0.3261649596061232, pvalue=0.7443349312685195)\n",
            "8 Ttest_indResult(statistic=0.5327561373990167, pvalue=0.5942618539182548)\n",
            "9 Ttest_indResult(statistic=-0.3609876707753859, pvalue=0.7181457327740416)\n"
          ],
          "name": "stdout"
        }
      ]
    },
    {
      "cell_type": "code",
      "metadata": {
        "id": "_I4_lj8sEnlh",
        "colab_type": "code",
        "colab": {
          "base_uri": "https://localhost:8080/",
          "height": 153
        },
        "outputId": "8d62c6e1-c6db-491c-fee1-9551c59e662a"
      },
      "source": [
        "tests_post(sales_tx_food)"
      ],
      "execution_count": 142,
      "outputs": [
        {
          "output_type": "stream",
          "text": [
            "2 Ttest_indResult(statistic=-2.988627035246287, pvalue=0.0028410151322510453)\n",
            "3 Ttest_indResult(statistic=-4.093105555528806, pvalue=4.4463228894039225e-05)\n",
            "4 Ttest_indResult(statistic=-4.467275120470482, pvalue=8.412318976293655e-06)\n",
            "5 Ttest_indResult(statistic=-4.75562005965533, pvalue=2.1321640164607567e-06)\n",
            "6 Ttest_indResult(statistic=-3.753206874559595, pvalue=0.00017988368191120815)\n",
            "7 Ttest_indResult(statistic=-2.0019637960849743, pvalue=0.04542841294473184)\n",
            "8 Ttest_indResult(statistic=-1.279282594675988, pvalue=0.20094662615376227)\n",
            "9 Ttest_indResult(statistic=-2.497384517258326, pvalue=0.012588921465804575)\n"
          ],
          "name": "stdout"
        }
      ]
    },
    {
      "cell_type": "code",
      "metadata": {
        "id": "qFnN2KWIEs4P",
        "colab_type": "code",
        "colab": {
          "base_uri": "https://localhost:8080/",
          "height": 153
        },
        "outputId": "f82e3477-8a6c-44e0-e8d9-4e2480fb6607"
      },
      "source": [
        "tests_post(sales_tx_hobbie)"
      ],
      "execution_count": 143,
      "outputs": [
        {
          "output_type": "stream",
          "text": [
            "2 Ttest_indResult(statistic=-2.249024909536599, pvalue=0.0246337035833413)\n",
            "3 Ttest_indResult(statistic=-2.6710395543366907, pvalue=0.007630401225746689)\n",
            "4 Ttest_indResult(statistic=-2.2293022412780106, pvalue=0.0259161712707205)\n",
            "5 Ttest_indResult(statistic=-2.458197304111913, pvalue=0.014055119010385137)\n",
            "6 Ttest_indResult(statistic=-1.6686171675533592, pvalue=0.09535969830565345)\n",
            "7 Ttest_indResult(statistic=-1.032515760526432, pvalue=0.30195999919193783)\n",
            "8 Ttest_indResult(statistic=-0.45961563697738633, pvalue=0.6458423133503521)\n",
            "9 Ttest_indResult(statistic=-1.6212875358217536, pvalue=0.10510924728825995)\n"
          ],
          "name": "stdout"
        }
      ]
    },
    {
      "cell_type": "code",
      "metadata": {
        "id": "sstryY5rEzEs",
        "colab_type": "code",
        "colab": {
          "base_uri": "https://localhost:8080/",
          "height": 153
        },
        "outputId": "08906789-e553-4014-9cc9-10ab3e18b2d5"
      },
      "source": [
        "tests_post(sales_wi_house)"
      ],
      "execution_count": 144,
      "outputs": [
        {
          "output_type": "stream",
          "text": [
            "2 Ttest_indResult(statistic=-2.6687325918964233, pvalue=0.007683495947166212)\n",
            "3 Ttest_indResult(statistic=-2.606095638702855, pvalue=0.00923430651951711)\n",
            "4 Ttest_indResult(statistic=-1.8558131988143456, pvalue=0.06364271837650372)\n",
            "5 Ttest_indResult(statistic=-1.419303868658734, pvalue=0.1559796400543253)\n",
            "6 Ttest_indResult(statistic=-0.06805172538812751, pvalue=0.9457516915106355)\n",
            "7 Ttest_indResult(statistic=0.769306769864982, pvalue=0.4418054047736488)\n",
            "8 Ttest_indResult(statistic=0.5072724600348995, pvalue=0.612019839879755)\n",
            "9 Ttest_indResult(statistic=-0.3672287494494576, pvalue=0.7134861717055399)\n"
          ],
          "name": "stdout"
        }
      ]
    },
    {
      "cell_type": "code",
      "metadata": {
        "id": "Y_ypSfiyE3OA",
        "colab_type": "code",
        "colab": {
          "base_uri": "https://localhost:8080/",
          "height": 153
        },
        "outputId": "2f80806c-dbc0-4ff1-aaaf-29c11a116a3f"
      },
      "source": [
        "tests_post(sales_wi_food)"
      ],
      "execution_count": 145,
      "outputs": [
        {
          "output_type": "stream",
          "text": [
            "2 Ttest_indResult(statistic=-2.5168837041080683, pvalue=0.011927731953576761)\n",
            "3 Ttest_indResult(statistic=-2.5889962510104074, pvalue=0.009703863544639584)\n",
            "4 Ttest_indResult(statistic=-2.1259891410990184, pvalue=0.03363926382906131)\n",
            "5 Ttest_indResult(statistic=-1.9529085789922704, pvalue=0.0509816750973863)\n",
            "6 Ttest_indResult(statistic=-1.0523897651905603, pvalue=0.29275593394129945)\n",
            "7 Ttest_indResult(statistic=-0.23135459000048145, pvalue=0.8170638769625502)\n",
            "8 Ttest_indResult(statistic=-0.2884780856821119, pvalue=0.773010831744374)\n",
            "9 Ttest_indResult(statistic=-0.7042936883758665, pvalue=0.48132961992979983)\n"
          ],
          "name": "stdout"
        }
      ]
    },
    {
      "cell_type": "code",
      "metadata": {
        "id": "zEc6QXtVE9lH",
        "colab_type": "code",
        "colab": {
          "base_uri": "https://localhost:8080/",
          "height": 153
        },
        "outputId": "d9c2cf02-4030-4b27-9e4b-42dd4c2ed7c9"
      },
      "source": [
        "tests_post(sales_wi_hobbie)"
      ],
      "execution_count": 146,
      "outputs": [
        {
          "output_type": "stream",
          "text": [
            "2 Ttest_indResult(statistic=-3.5906794983903763, pvalue=0.0003388329691748935)\n",
            "3 Ttest_indResult(statistic=-2.2621865758945168, pvalue=0.023805732497182597)\n",
            "4 Ttest_indResult(statistic=-1.571385002830411, pvalue=0.11626812397881188)\n",
            "5 Ttest_indResult(statistic=-1.8492316403400932, pvalue=0.06458449014809359)\n",
            "6 Ttest_indResult(statistic=-0.1614120671068029, pvalue=0.8717861975843586)\n",
            "7 Ttest_indResult(statistic=0.8750301048450881, pvalue=0.38166646034630103)\n",
            "8 Ttest_indResult(statistic=-0.2989117882170984, pvalue=0.76503854758542)\n",
            "9 Ttest_indResult(statistic=-1.342736722536292, pvalue=0.17950538632533575)\n"
          ],
          "name": "stdout"
        }
      ]
    },
    {
      "cell_type": "code",
      "metadata": {
        "id": "zQoo81mAFNYw",
        "colab_type": "code",
        "colab": {}
      },
      "source": [
        "def pre_snap_sales(a,y,s,z,x,p,k):\n",
        "  b = a['snap_'+s]\n",
        "  if(b==1):\n",
        "    m=a['d']\n",
        "    n=m.split(\"_\")\n",
        "    if(int(n[1])>k):\n",
        "      for i in range(int(n[1])-1,int(n[1])-k,-1):\n",
        "        \n",
        "        x.append(y['d_'+str(i)])\n",
        "        z.append('d_'+str(i))\n",
        "  if(b==0 and a['d'] not in z):\n",
        "    p.append(y[a['d']])\n",
        "  "
      ],
      "execution_count": 0,
      "outputs": []
    },
    {
      "cell_type": "code",
      "metadata": {
        "id": "0Mc1_GKBG8jn",
        "colab_type": "code",
        "colab": {}
      },
      "source": [
        "def tests_pre_snap(a,b):\n",
        "  for i in range(2,40):\n",
        "    counter=[]\n",
        "    sales_snap=[]\n",
        "    sales_normal=[]\n",
        "    calendar_train.apply(lambda x:pre_snap_sales(x,a,b,counter,sales_snap,sales_normal,i),axis=1)\n",
        "    print(i,stats.ttest_ind(sales_snap,sales_normal,equal_var=True))"
      ],
      "execution_count": 0,
      "outputs": []
    },
    {
      "cell_type": "code",
      "metadata": {
        "id": "sdCZIIuyHZc3",
        "colab_type": "code",
        "colab": {
          "base_uri": "https://localhost:8080/",
          "height": 493
        },
        "outputId": "75ed4f66-a82d-418e-b09b-92021a112a6d"
      },
      "source": [
        "tests_pre_snap(sales_store_ca_household,'CA')"
      ],
      "execution_count": 88,
      "outputs": [
        {
          "output_type": "stream",
          "text": [
            "2 Ttest_indResult(statistic=2.9988599551227275, pvalue=0.0027449065411851077)\n",
            "3 Ttest_indResult(statistic=3.6370013179338923, pvalue=0.00028131586517376333)\n",
            "4 Ttest_indResult(statistic=3.8388662850680304, pvalue=0.00012601941795045498)\n",
            "5 Ttest_indResult(statistic=3.8314707662502854, pvalue=0.0001294413687558842)\n",
            "6 Ttest_indResult(statistic=3.7423994151880713, pvalue=0.00018458804087480762)\n",
            "7 Ttest_indResult(statistic=3.6468021136298936, pvalue=0.0002682064867467276)\n",
            "8 Ttest_indResult(statistic=3.457408804536031, pvalue=0.0005494129445072902)\n",
            "9 Ttest_indResult(statistic=3.155414992084151, pvalue=0.0016102795318504877)\n",
            "10 Ttest_indResult(statistic=2.8281514503957657, pvalue=0.004695283497930169)\n",
            "11 Ttest_indResult(statistic=2.4803326607571736, pvalue=0.013147759763988767)\n",
            "12 Ttest_indResult(statistic=2.2172565747537507, pvalue=0.026633177444305375)\n",
            "13 Ttest_indResult(statistic=2.008379709888717, pvalue=0.04463373101008337)\n",
            "14 Ttest_indResult(statistic=1.8154302167108742, pvalue=0.06948987211208442)\n",
            "15 Ttest_indResult(statistic=1.6935667392046572, pvalue=0.09037890853622321)\n",
            "16 Ttest_indResult(statistic=1.608460263280457, pvalue=0.10776424666836867)\n",
            "17 Ttest_indResult(statistic=1.5430360743381135, pvalue=0.12285027312271914)\n",
            "18 Ttest_indResult(statistic=1.5239856826857634, pvalue=0.127539038604706)\n",
            "19 Ttest_indResult(statistic=1.5025016502925834, pvalue=0.1329929829267655)\n",
            "20 Ttest_indResult(statistic=1.4683512005052721, pvalue=0.1420329316821856)\n",
            "21 Ttest_indResult(statistic=1.4483880298458383, pvalue=0.14753147770476732)\n",
            "22 Ttest_indResult(statistic=1.4172377711267015, pvalue=0.15643520693108995)\n",
            "23 Ttest_indResult(statistic=1.3855492512052692, pvalue=0.1659052933632272)\n",
            "24 Ttest_indResult(statistic=1.3459125343681086, pvalue=0.17835035904362528)\n",
            "25 Ttest_indResult(statistic=1.3129456988475599, pvalue=0.18921988903680076)\n",
            "26 Ttest_indResult(statistic=1.2801855735481507, pvalue=0.2004975741857809)\n",
            "27 Ttest_indResult(statistic=1.2523776242855564, pvalue=0.2104491271669661)\n",
            "28 Ttest_indResult(statistic=1.2412128250043466, pvalue=0.21454329451471715)\n",
            "29 Ttest_indResult(statistic=1.2609728441988497, pvalue=0.2073344125463741)\n"
          ],
          "name": "stdout"
        }
      ]
    },
    {
      "cell_type": "code",
      "metadata": {
        "id": "pjC3N8ONIb6k",
        "colab_type": "code",
        "colab": {
          "base_uri": "https://localhost:8080/",
          "height": 663
        },
        "outputId": "4ffc6573-1322-42a1-8731-661e822f1da8"
      },
      "source": [
        "tests_pre_snap(sales_store_ca_food,'CA')"
      ],
      "execution_count": 108,
      "outputs": [
        {
          "output_type": "stream",
          "text": [
            "2 Ttest_indResult(statistic=8.642651268398676, pvalue=1.1402517892205795e-17)\n",
            "3 Ttest_indResult(statistic=9.908863887243719, pvalue=9.787551539352045e-23)\n",
            "4 Ttest_indResult(statistic=9.969287764054014, pvalue=4.526377027231963e-23)\n",
            "5 Ttest_indResult(statistic=9.49595437966213, pvalue=3.741674261877276e-21)\n",
            "6 Ttest_indResult(statistic=8.82720808123367, pvalue=1.5205585439129434e-18)\n",
            "7 Ttest_indResult(statistic=8.101168821066972, pvalue=6.771772048579433e-16)\n",
            "8 Ttest_indResult(statistic=7.1752299250081135, pvalue=8.146615835916216e-13)\n",
            "9 Ttest_indResult(statistic=6.230993518608989, pvalue=4.93566288802608e-10)\n",
            "10 Ttest_indResult(statistic=5.3428873683291895, pvalue=9.440831714602168e-08)\n",
            "11 Ttest_indResult(statistic=4.5293201376548415, pvalue=6.0088679005418785e-06)\n",
            "12 Ttest_indResult(statistic=3.8699181527202597, pvalue=0.0001097250972776583)\n",
            "13 Ttest_indResult(statistic=3.3307024792258946, pvalue=0.0008698689340022375)\n",
            "14 Ttest_indResult(statistic=2.915455585962057, pvalue=0.0035601386180609423)\n",
            "15 Ttest_indResult(statistic=2.627259036519775, pvalue=0.008620764586605604)\n",
            "16 Ttest_indResult(statistic=2.4260396428167015, pvalue=0.015281207211139087)\n",
            "17 Ttest_indResult(statistic=2.3019715812620256, pvalue=0.021355029682296762)\n",
            "18 Ttest_indResult(statistic=2.2812789362517836, pvalue=0.02254964978089649)\n",
            "19 Ttest_indResult(statistic=2.274029073823358, pvalue=0.02298119455007891)\n",
            "20 Ttest_indResult(statistic=2.273290173880517, pvalue=0.023024863432001007)\n",
            "21 Ttest_indResult(statistic=2.309238630249433, pvalue=0.020945164911040093)\n",
            "22 Ttest_indResult(statistic=2.3995386844305284, pvalue=0.016428457253291416)\n",
            "23 Ttest_indResult(statistic=2.559648182094417, pvalue=0.010487582968352489)\n",
            "24 Ttest_indResult(statistic=2.769401688844351, pvalue=0.00562259501887223)\n",
            "25 Ttest_indResult(statistic=3.0240225844235535, pvalue=0.0024982926203304862)\n",
            "26 Ttest_indResult(statistic=3.3079432042725885, pvalue=0.0009418150019266788)\n",
            "27 Ttest_indResult(statistic=3.609109936545466, pvalue=0.0003081114520120967)\n",
            "28 Ttest_indResult(statistic=3.929347185598051, pvalue=8.549460604171173e-05)\n",
            "29 Ttest_indResult(statistic=4.2842953380265225, pvalue=1.8423784710752936e-05)\n",
            "30 Ttest_indResult(statistic=4.666187671638974, pvalue=3.089034789225598e-06)\n",
            "31 Ttest_indResult(statistic=5.0425585952559775, pvalue=4.633863079747313e-07)\n",
            "32 Ttest_indResult(statistic=5.398439244281758, pvalue=6.797106039485089e-08)\n",
            "33 Ttest_indResult(statistic=5.6785987425719044, pvalue=1.3759176859659807e-08)\n",
            "34 Ttest_indResult(statistic=5.882969589519376, pvalue=4.089011863613858e-09)\n",
            "35 Ttest_indResult(statistic=6.009805281660246, pvalue=1.88640332684869e-09)\n",
            "36 Ttest_indResult(statistic=6.074300499229744, pvalue=1.2650075429658736e-09)\n",
            "37 Ttest_indResult(statistic=6.076434757605855, pvalue=1.2478346260896924e-09)\n",
            "38 Ttest_indResult(statistic=6.02892146543727, pvalue=1.6747148687195878e-09)\n",
            "39 Ttest_indResult(statistic=5.886819140964331, pvalue=3.988195044333869e-09)\n"
          ],
          "name": "stdout"
        }
      ]
    },
    {
      "cell_type": "code",
      "metadata": {
        "id": "fyjNJkevI16Z",
        "colab_type": "code",
        "colab": {
          "base_uri": "https://localhost:8080/",
          "height": 493
        },
        "outputId": "22613cc4-5db5-4c0b-85d6-dc0130b4cf55"
      },
      "source": [
        "tests_pre_snap(sales_store_hobbie,'CA')"
      ],
      "execution_count": 68,
      "outputs": [
        {
          "output_type": "stream",
          "text": [
            "2 Ttest_indResult(statistic=4.082807440683998, pvalue=4.586935378923426e-05)\n",
            "3 Ttest_indResult(statistic=4.41647984775476, pvalue=1.036749721288887e-05)\n",
            "4 Ttest_indResult(statistic=4.470821165031928, pvalue=8.01959266360998e-06)\n",
            "5 Ttest_indResult(statistic=4.495561632406158, pvalue=7.116208834095468e-06)\n",
            "6 Ttest_indResult(statistic=4.3921457002449165, pvalue=1.1453635673649703e-05)\n",
            "7 Ttest_indResult(statistic=4.318845471870053, pvalue=1.5952700862619814e-05)\n",
            "8 Ttest_indResult(statistic=4.079864915746475, pvalue=4.5619800350787656e-05)\n",
            "9 Ttest_indResult(statistic=3.747765257622632, pvalue=0.0001798746054910933)\n",
            "10 Ttest_indResult(statistic=3.390383029448498, pvalue=0.0007015461844718083)\n",
            "11 Ttest_indResult(statistic=2.9675539491456027, pvalue=0.0030105482761259416)\n",
            "12 Ttest_indResult(statistic=2.595148492409002, pvalue=0.009470819807388684)\n",
            "13 Ttest_indResult(statistic=2.288406440255256, pvalue=0.022136090389837913)\n",
            "14 Ttest_indResult(statistic=2.0988364457286313, pvalue=0.035856430137989725)\n",
            "15 Ttest_indResult(statistic=1.935971651467093, pvalue=0.052897774852970945)\n",
            "16 Ttest_indResult(statistic=1.7955680159414158, pvalue=0.07259019045615478)\n",
            "17 Ttest_indResult(statistic=1.7007273398991252, pvalue=0.0890205009923163)\n",
            "18 Ttest_indResult(statistic=1.7044692560371926, pvalue=0.08831842380099926)\n",
            "19 Ttest_indResult(statistic=1.7022920058159166, pvalue=0.08872443882060295)\n",
            "20 Ttest_indResult(statistic=1.6849450652237656, pvalue=0.09202197839233255)\n",
            "21 Ttest_indResult(statistic=1.6708647344920446, pvalue=0.09477027959938455)\n",
            "22 Ttest_indResult(statistic=1.6654181608954017, pvalue=0.09585035181722013)\n",
            "23 Ttest_indResult(statistic=1.6707230302853902, pvalue=0.09479653344390392)\n",
            "24 Ttest_indResult(statistic=1.6433446456846248, pvalue=0.10033109886860848)\n",
            "25 Ttest_indResult(statistic=1.6233101446469287, pvalue=0.10454190518724596)\n",
            "26 Ttest_indResult(statistic=1.6176814223412719, pvalue=0.1057493967655776)\n",
            "27 Ttest_indResult(statistic=1.6198598254260939, pvalue=0.10527988898522903)\n",
            "28 Ttest_indResult(statistic=1.6148327549306845, pvalue=0.10636384214271269)\n",
            "29 Ttest_indResult(statistic=1.6340389785357847, pvalue=0.10226700951865954)\n"
          ],
          "name": "stdout"
        }
      ]
    },
    {
      "cell_type": "code",
      "metadata": {
        "id": "TRl1BAIcQrxb",
        "colab_type": "code",
        "colab": {}
      },
      "source": [
        "def post_snap_sales(a,y,s,z,x,p,k):\n",
        "  b = a['snap_'+s]\n",
        "  if(b==1):\n",
        "    m=a['d']\n",
        "    n=m.split(\"_\")\n",
        "    if(int(n[1])<=1914-k):\n",
        "      for i in range(int(n[1])-1,int(n[1])+k,1):\n",
        "        x.append(y['d_'+str(i)])\n",
        "        z.append('d_'+str(i))\n",
        "  if(b==0 and a['d'] not in z):\n",
        "    p.append(y[a['d']])"
      ],
      "execution_count": 0,
      "outputs": []
    },
    {
      "cell_type": "code",
      "metadata": {
        "id": "ZaE6OafxRMXv",
        "colab_type": "code",
        "colab": {}
      },
      "source": [
        "def test_post_snap(a,b):\n",
        "  for i in range(2,30):\n",
        "    counter=[]\n",
        "    sales_snap=[]\n",
        "    sales_normal=[]\n",
        "    calendar_train.apply(lambda x:post_snap_sales(x,a,b,counter,sales_snap,sales_normal,i),axis=1)\n",
        "    print(i,stats.ttest_ind(sales_snap,sales_normal,equal_var=True))"
      ],
      "execution_count": 0,
      "outputs": []
    },
    {
      "cell_type": "code",
      "metadata": {
        "id": "CdtQHPRXRgRk",
        "colab_type": "code",
        "colab": {
          "base_uri": "https://localhost:8080/",
          "height": 493
        },
        "outputId": "323d12eb-b0ce-42c3-f12d-ef3e771cc4a8"
      },
      "source": [
        "tests_pre_snap(sales_tx_household,'TX')"
      ],
      "execution_count": 69,
      "outputs": [
        {
          "output_type": "stream",
          "text": [
            "2 Ttest_indResult(statistic=1.585206747457708, pvalue=0.11304380079096668)\n",
            "3 Ttest_indResult(statistic=1.8459411331116908, pvalue=0.06499390428699234)\n",
            "4 Ttest_indResult(statistic=1.6763126283504906, pvalue=0.09375929653758988)\n",
            "5 Ttest_indResult(statistic=1.64393041090774, pvalue=0.10026160021661266)\n",
            "6 Ttest_indResult(statistic=1.5636474200756019, pvalue=0.11796306278167658)\n",
            "7 Ttest_indResult(statistic=1.5639043935803725, pvalue=0.1178957604897268)\n",
            "8 Ttest_indResult(statistic=1.2419019175398343, pvalue=0.21431900499042805)\n",
            "9 Ttest_indResult(statistic=1.2884506593181055, pvalue=0.19763224114637754)\n",
            "10 Ttest_indResult(statistic=1.1161323983575016, pvalue=0.2644010764052195)\n",
            "11 Ttest_indResult(statistic=1.1753561509713362, pvalue=0.23988656862070856)\n",
            "12 Ttest_indResult(statistic=1.1653893344788797, pvalue=0.24389313123529244)\n",
            "13 Ttest_indResult(statistic=1.1330398015481034, pvalue=0.2572264589891983)\n",
            "14 Ttest_indResult(statistic=1.0637324862437785, pvalue=0.2874755809714706)\n",
            "15 Ttest_indResult(statistic=1.149121806350931, pvalue=0.25053165887490375)\n",
            "16 Ttest_indResult(statistic=1.0663782177545575, pvalue=0.28627565567471863)\n",
            "17 Ttest_indResult(statistic=1.0432513722657695, pvalue=0.2968531898596525)\n",
            "18 Ttest_indResult(statistic=1.0430877682979263, pvalue=0.2969279131922992)\n",
            "19 Ttest_indResult(statistic=0.9966255309105104, pvalue=0.3189647718775972)\n",
            "20 Ttest_indResult(statistic=0.9627579893228408, pvalue=0.3356860038094057)\n",
            "21 Ttest_indResult(statistic=1.038090979005632, pvalue=0.29924525199163443)\n",
            "22 Ttest_indResult(statistic=1.0542551431160916, pvalue=0.2917831904923384)\n",
            "23 Ttest_indResult(statistic=1.120105886800329, pvalue=0.2626859519964237)\n",
            "24 Ttest_indResult(statistic=1.142137004695015, pvalue=0.25341399717023116)\n",
            "25 Ttest_indResult(statistic=1.1733490432411913, pvalue=0.2406725163067812)\n",
            "26 Ttest_indResult(statistic=1.1815398496351988, pvalue=0.23740447975427367)\n",
            "27 Ttest_indResult(statistic=1.203322991672802, pvalue=0.22886716258583079)\n",
            "28 Ttest_indResult(statistic=1.2046021576366064, pvalue=0.2283722169287874)\n",
            "29 Ttest_indResult(statistic=1.2199911550530185, pvalue=0.22248316517477576)\n"
          ],
          "name": "stdout"
        }
      ]
    },
    {
      "cell_type": "code",
      "metadata": {
        "id": "KY3g_AIJR5O9",
        "colab_type": "code",
        "colab": {
          "base_uri": "https://localhost:8080/",
          "height": 493
        },
        "outputId": "e6eeaa2e-56d2-472b-f006-1ef10a9c932e"
      },
      "source": [
        "tests_pre_snap(sales_tx_food,'TX')"
      ],
      "execution_count": 70,
      "outputs": [
        {
          "output_type": "stream",
          "text": [
            "2 Ttest_indResult(statistic=15.37366788569931, pvalue=4.554239745513455e-51)\n",
            "3 Ttest_indResult(statistic=16.334460816588624, pvalue=1.1899946276589655e-57)\n",
            "4 Ttest_indResult(statistic=15.110903244495102, pvalue=3.83567264772342e-50)\n",
            "5 Ttest_indResult(statistic=15.076110425512836, pvalue=4.0077574231822197e-50)\n",
            "6 Ttest_indResult(statistic=13.99339415377419, pvalue=1.1096497842275345e-43)\n",
            "7 Ttest_indResult(statistic=13.833872754767867, pvalue=7.838989221312667e-43)\n",
            "8 Ttest_indResult(statistic=12.320550878728548, pvalue=1.7482171536660998e-34)\n",
            "9 Ttest_indResult(statistic=11.85893220473236, pvalue=3.956058874399448e-32)\n",
            "10 Ttest_indResult(statistic=10.80308017766666, pvalue=5.247214152527843e-27)\n",
            "11 Ttest_indResult(statistic=10.377192737868615, pvalue=4.508506790002443e-25)\n",
            "12 Ttest_indResult(statistic=9.473181647447237, pvalue=3.427077923931613e-21)\n",
            "13 Ttest_indResult(statistic=8.838307796843232, pvalue=1.1468496218038468e-18)\n",
            "14 Ttest_indResult(statistic=7.990442130566232, pvalue=1.4928289088417e-15)\n",
            "15 Ttest_indResult(statistic=7.580947909588443, pvalue=3.7169101576418983e-14)\n",
            "16 Ttest_indResult(statistic=6.930947016297259, pvalue=4.409637782658112e-12)\n",
            "17 Ttest_indResult(statistic=6.610982126269021, pvalue=3.981805673045843e-11)\n",
            "18 Ttest_indResult(statistic=6.322028426687516, pvalue=2.669781695047719e-10)\n",
            "19 Ttest_indResult(statistic=6.12734569097253, pvalue=9.192658424604967e-10)\n",
            "20 Ttest_indResult(statistic=6.1085799415981334, pvalue=1.0324618362770192e-09)\n",
            "21 Ttest_indResult(statistic=6.253757327408845, pvalue=4.120882953546968e-10)\n",
            "22 Ttest_indResult(statistic=6.398755473335941, pvalue=1.6132119198895273e-10)\n",
            "23 Ttest_indResult(statistic=6.6556692285252534, pvalue=2.9145117848820655e-11)\n",
            "24 Ttest_indResult(statistic=6.919213033148367, pvalue=4.712086594306309e-12)\n",
            "25 Ttest_indResult(statistic=7.204730940386155, pvalue=6.062840708939239e-13)\n",
            "26 Ttest_indResult(statistic=7.566280970795131, pvalue=4.0319252670259026e-14)\n",
            "27 Ttest_indResult(statistic=7.887798180490496, pvalue=3.2504841713990625e-15)\n",
            "28 Ttest_indResult(statistic=8.25334842375074, pvalue=1.641783863122683e-16)\n",
            "29 Ttest_indResult(statistic=8.62013414496757, pvalue=7.196877869550929e-18)\n"
          ],
          "name": "stdout"
        }
      ]
    },
    {
      "cell_type": "code",
      "metadata": {
        "id": "YOVll3GwSCjG",
        "colab_type": "code",
        "colab": {
          "base_uri": "https://localhost:8080/",
          "height": 493
        },
        "outputId": "23380001-63fd-40be-f9d2-316df4198764"
      },
      "source": [
        "tests_pre_snap(sales_tx_hobbie,'TX')"
      ],
      "execution_count": 71,
      "outputs": [
        {
          "output_type": "stream",
          "text": [
            "2 Ttest_indResult(statistic=1.1499245861340845, pvalue=0.250283147346628)\n",
            "3 Ttest_indResult(statistic=1.3142577175877632, pvalue=0.18885454819513345)\n",
            "4 Ttest_indResult(statistic=1.1056382449492683, pvalue=0.268953178441321)\n",
            "5 Ttest_indResult(statistic=0.9993398642630933, pvalue=0.31768471146207966)\n",
            "6 Ttest_indResult(statistic=0.9045337962380813, pvalue=0.3657555791186651)\n",
            "7 Ttest_indResult(statistic=0.9143268720146022, pvalue=0.36058394591229004)\n",
            "8 Ttest_indResult(statistic=0.7545476003861448, pvalue=0.45054869091956484)\n",
            "9 Ttest_indResult(statistic=0.7463138341238796, pvalue=0.4555032272109295)\n",
            "10 Ttest_indResult(statistic=0.6593378652047732, pvalue=0.5096989925288429)\n",
            "11 Ttest_indResult(statistic=0.768275881685462, pvalue=0.4423455437600411)\n",
            "12 Ttest_indResult(statistic=0.756967929839413, pvalue=0.4490894137887048)\n",
            "13 Ttest_indResult(statistic=0.7437204030614274, pvalue=0.45706424590593175)\n",
            "14 Ttest_indResult(statistic=0.6859323297461375, pvalue=0.4927716792022536)\n",
            "15 Ttest_indResult(statistic=0.7334850536027283, pvalue=0.46327884516972584)\n",
            "16 Ttest_indResult(statistic=0.6572354034331747, pvalue=0.5110430495058007)\n",
            "17 Ttest_indResult(statistic=0.6322903294152059, pvalue=0.5272093928361796)\n",
            "18 Ttest_indResult(statistic=0.6576482576077423, pvalue=0.5107763450114114)\n",
            "19 Ttest_indResult(statistic=0.6083419024360527, pvalue=0.5429713138640608)\n",
            "20 Ttest_indResult(statistic=0.5894609861279727, pvalue=0.5555618097930912)\n",
            "21 Ttest_indResult(statistic=0.6653001160909666, pvalue=0.5058692854838582)\n",
            "22 Ttest_indResult(statistic=0.6621965842224935, pvalue=0.5078554701880384)\n",
            "23 Ttest_indResult(statistic=0.6761727119398788, pvalue=0.4989410579445839)\n",
            "24 Ttest_indResult(statistic=0.6882889167671898, pvalue=0.49128073908046876)\n",
            "25 Ttest_indResult(statistic=0.7135104221975463, pvalue=0.4755398888167912)\n",
            "26 Ttest_indResult(statistic=0.6894638433837303, pvalue=0.49054061257658954)\n",
            "27 Ttest_indResult(statistic=0.7105001327077849, pvalue=0.47740324309144266)\n",
            "28 Ttest_indResult(statistic=0.6855120068156524, pvalue=0.4930294112158815)\n",
            "29 Ttest_indResult(statistic=0.7226445332888208, pvalue=0.4699070748484563)\n"
          ],
          "name": "stdout"
        }
      ]
    },
    {
      "cell_type": "code",
      "metadata": {
        "id": "9RnIhBkNSMZg",
        "colab_type": "code",
        "colab": {
          "base_uri": "https://localhost:8080/",
          "height": 493
        },
        "outputId": "016dbd78-0522-42f9-c7c2-0ed121785db9"
      },
      "source": [
        "tests_pre_snap(sales_wi_food,'WI')"
      ],
      "execution_count": 72,
      "outputs": [
        {
          "output_type": "stream",
          "text": [
            "2 Ttest_indResult(statistic=3.0134114153735916, pvalue=0.0026087954880643564)\n",
            "3 Ttest_indResult(statistic=3.174789493243702, pvalue=0.0015138207550961483)\n",
            "4 Ttest_indResult(statistic=3.4720354006364214, pvalue=0.0005222845894981861)\n",
            "5 Ttest_indResult(statistic=3.2195275542931054, pvalue=0.0012932958836042417)\n",
            "6 Ttest_indResult(statistic=3.0890486715474927, pvalue=0.0020189002131641297)\n",
            "7 Ttest_indResult(statistic=3.0710481901452042, pvalue=0.0021431788528736735)\n",
            "8 Ttest_indResult(statistic=2.873709426480413, pvalue=0.004070398013310746)\n",
            "9 Ttest_indResult(statistic=2.6503927950562103, pvalue=0.008058132866793443)\n",
            "10 Ttest_indResult(statistic=2.50799274130939, pvalue=0.012162750853357872)\n",
            "11 Ttest_indResult(statistic=2.4152490157130173, pvalue=0.015746302545432266)\n",
            "12 Ttest_indResult(statistic=2.2710188605481596, pvalue=0.023169973053630815)\n",
            "13 Ttest_indResult(statistic=2.120341997501191, pvalue=0.03400335353122148)\n",
            "14 Ttest_indResult(statistic=2.0342434328848973, pvalue=0.041953384117682846)\n",
            "15 Ttest_indResult(statistic=1.878371856068625, pvalue=0.06035770909750305)\n",
            "16 Ttest_indResult(statistic=1.694939321243492, pvalue=0.09011464877588381)\n",
            "17 Ttest_indResult(statistic=1.6253141779776867, pvalue=0.10412225186898483)\n",
            "18 Ttest_indResult(statistic=1.5426653753990014, pvalue=0.12293742089346174)\n",
            "19 Ttest_indResult(statistic=1.4486848999857278, pvalue=0.14744960548921693)\n",
            "20 Ttest_indResult(statistic=1.4186024215806632, pvalue=0.1560377387025383)\n",
            "21 Ttest_indResult(statistic=1.375345448730772, pvalue=0.169045915352524)\n",
            "22 Ttest_indResult(statistic=1.367306248269726, pvalue=0.17154993030413707)\n",
            "23 Ttest_indResult(statistic=1.3896176677024765, pvalue=0.16466491419156107)\n",
            "24 Ttest_indResult(statistic=1.4067030843784916, pvalue=0.15953467979270805)\n",
            "25 Ttest_indResult(statistic=1.4631624844761821, pvalue=0.14344165260022462)\n",
            "26 Ttest_indResult(statistic=1.503430508176556, pvalue=0.13274621212249801)\n",
            "27 Ttest_indResult(statistic=1.5143291179077585, pvalue=0.12995992472981718)\n",
            "28 Ttest_indResult(statistic=1.5652542808265848, pvalue=0.11754027308871577)\n",
            "29 Ttest_indResult(statistic=1.6178864644737503, pvalue=0.10570344227386548)\n"
          ],
          "name": "stdout"
        }
      ]
    },
    {
      "cell_type": "code",
      "metadata": {
        "id": "B_wH-pxrST5R",
        "colab_type": "code",
        "colab": {
          "base_uri": "https://localhost:8080/",
          "height": 493
        },
        "outputId": "6c708f4c-675b-4cca-d4a2-08aeeaac456a"
      },
      "source": [
        "tests_pre_snap(sales_wi_house,'WI')"
      ],
      "execution_count": 73,
      "outputs": [
        {
          "output_type": "stream",
          "text": [
            "2 Ttest_indResult(statistic=0.766226726877603, pvalue=0.4436125811042676)\n",
            "3 Ttest_indResult(statistic=1.110237317693805, pvalue=0.2669809576508976)\n",
            "4 Ttest_indResult(statistic=1.300891018913395, pvalue=0.1933746171634521)\n",
            "5 Ttest_indResult(statistic=1.2842307732561498, pvalue=0.1991284376793509)\n",
            "6 Ttest_indResult(statistic=1.3695106773037387, pvalue=0.17090060669821852)\n",
            "7 Ttest_indResult(statistic=1.3667024847687477, pvalue=0.1717727005270277)\n",
            "8 Ttest_indResult(statistic=1.3765884613784156, pvalue=0.1686884630636936)\n",
            "9 Ttest_indResult(statistic=1.3341637885588087, pvalue=0.18219411852491743)\n",
            "10 Ttest_indResult(statistic=1.241516206166806, pvalue=0.2144537297748105)\n",
            "11 Ttest_indResult(statistic=1.3142496775295722, pvalue=0.18879915515929072)\n",
            "12 Ttest_indResult(statistic=1.3182030212196298, pvalue=0.18747012553215153)\n",
            "13 Ttest_indResult(statistic=1.248425073834484, pvalue=0.21190654744846332)\n",
            "14 Ttest_indResult(statistic=1.3116984238968674, pvalue=0.1896520122310024)\n",
            "15 Ttest_indResult(statistic=1.2813232824874563, pvalue=0.20010813842573535)\n",
            "16 Ttest_indResult(statistic=1.1502709884874984, pvalue=0.2500567628496663)\n",
            "17 Ttest_indResult(statistic=1.1343790902391289, pvalue=0.256658535739829)\n",
            "18 Ttest_indResult(statistic=1.0726608057317102, pvalue=0.2834441378869934)\n",
            "19 Ttest_indResult(statistic=0.9511636270352547, pvalue=0.34153891993721996)\n",
            "20 Ttest_indResult(statistic=0.8909861822094977, pvalue=0.37295225179255576)\n",
            "21 Ttest_indResult(statistic=0.8093077163546463, pvalue=0.4183516332477185)\n",
            "22 Ttest_indResult(statistic=0.733601194699292, pvalue=0.463203358600203)\n",
            "23 Ttest_indResult(statistic=0.6833516376393473, pvalue=0.4943948593272175)\n",
            "24 Ttest_indResult(statistic=0.6502399225836187, pvalue=0.5155465000292987)\n",
            "25 Ttest_indResult(statistic=0.6269391365393768, pvalue=0.5307076610057552)\n",
            "26 Ttest_indResult(statistic=0.5781242105509811, pvalue=0.5631877438610706)\n",
            "27 Ttest_indResult(statistic=0.533602094136833, pvalue=0.5936234401966163)\n",
            "28 Ttest_indResult(statistic=0.49465725588922854, pvalue=0.6208479083328593)\n",
            "29 Ttest_indResult(statistic=0.45401929514475564, pvalue=0.6498200548610487)\n"
          ],
          "name": "stdout"
        }
      ]
    },
    {
      "cell_type": "code",
      "metadata": {
        "id": "hmJS-4p7SdhH",
        "colab_type": "code",
        "colab": {
          "base_uri": "https://localhost:8080/",
          "height": 493
        },
        "outputId": "bd09835c-29d2-47b3-d948-7a39e87f7f66"
      },
      "source": [
        "tests_pre_snap(sales_wi_hobbie,'WI')"
      ],
      "execution_count": 74,
      "outputs": [
        {
          "output_type": "stream",
          "text": [
            "2 Ttest_indResult(statistic=0.5890684339187412, pvalue=0.5558677312341258)\n",
            "3 Ttest_indResult(statistic=1.1208982457987988, pvalue=0.26241605773302346)\n",
            "4 Ttest_indResult(statistic=1.202781527226156, pvalue=0.22913579077757326)\n",
            "5 Ttest_indResult(statistic=1.0621092054829377, pvalue=0.2882440598509342)\n",
            "6 Ttest_indResult(statistic=1.1920041174163718, pvalue=0.2333156533301835)\n",
            "7 Ttest_indResult(statistic=1.1689189909190487, pvalue=0.24248535127094994)\n",
            "8 Ttest_indResult(statistic=1.0043625351457666, pvalue=0.31524249346735567)\n",
            "9 Ttest_indResult(statistic=0.9496252173763752, pvalue=0.3423359072288178)\n",
            "10 Ttest_indResult(statistic=0.8561003400307766, pvalue=0.39196948188132297)\n",
            "11 Ttest_indResult(statistic=0.8186632921062487, pvalue=0.41300246390293294)\n",
            "12 Ttest_indResult(statistic=0.8215786315266297, pvalue=0.41133909116515244)\n",
            "13 Ttest_indResult(statistic=0.7568288989310936, pvalue=0.44917135943775977)\n",
            "14 Ttest_indResult(statistic=0.732451102553232, pvalue=0.46391043883332594)\n",
            "15 Ttest_indResult(statistic=0.6649901653597848, pvalue=0.5060712356353406)\n",
            "16 Ttest_indResult(statistic=0.5096441859069433, pvalue=0.6103107740577872)\n",
            "17 Ttest_indResult(statistic=0.42801781209177825, pvalue=0.6686459386838914)\n",
            "18 Ttest_indResult(statistic=0.3466347339604176, pvalue=0.7288716104623958)\n",
            "19 Ttest_indResult(statistic=0.22453729716020882, pvalue=0.8223427611451781)\n",
            "20 Ttest_indResult(statistic=0.20653282694756536, pvalue=0.8363777986935179)\n",
            "21 Ttest_indResult(statistic=0.17233127742883597, pvalue=0.8631795349087202)\n",
            "22 Ttest_indResult(statistic=0.09491960413328739, pvalue=0.9243799595749896)\n",
            "23 Ttest_indResult(statistic=0.07528069186586747, pvalue=0.939992352501315)\n",
            "24 Ttest_indResult(statistic=0.08835498906720111, pvalue=0.9295956296130771)\n",
            "25 Ttest_indResult(statistic=0.08780982381848967, pvalue=0.9300288774147847)\n",
            "26 Ttest_indResult(statistic=0.06411165879329225, pvalue=0.9488820549964931)\n",
            "27 Ttest_indResult(statistic=0.057687719852376196, pvalue=0.9539980151347947)\n",
            "28 Ttest_indResult(statistic=0.053526660662221066, pvalue=0.9573128625425115)\n",
            "29 Ttest_indResult(statistic=0.03349759704129539, pvalue=0.9732781291420327)\n"
          ],
          "name": "stdout"
        }
      ]
    },
    {
      "cell_type": "code",
      "metadata": {
        "id": "H9MUZo2OSo8i",
        "colab_type": "code",
        "colab": {
          "base_uri": "https://localhost:8080/",
          "height": 493
        },
        "outputId": "44a013e4-d2bd-4750-9103-d8315c91b28f"
      },
      "source": [
        "test_post_snap(sales_store_ca_food,'CA')"
      ],
      "execution_count": 77,
      "outputs": [
        {
          "output_type": "stream",
          "text": [
            "2 Ttest_indResult(statistic=12.200439377991774, pvalue=2.731371192192084e-33)\n",
            "3 Ttest_indResult(statistic=13.109959609428092, pvalue=3.073707406658956e-38)\n",
            "4 Ttest_indResult(statistic=13.312261273995938, pvalue=1.6514064296537297e-39)\n",
            "5 Ttest_indResult(statistic=13.062783287898332, pvalue=2.987800106378852e-38)\n",
            "6 Ttest_indResult(statistic=12.685361353066076, pvalue=2.7513400053854127e-36)\n",
            "7 Ttest_indResult(statistic=12.218687953323847, pvalue=7.012966996680223e-34)\n",
            "8 Ttest_indResult(statistic=11.56258069699667, pvalue=1.3631871276023e-30)\n",
            "9 Ttest_indResult(statistic=10.901356585286454, pvalue=1.96835166250206e-27)\n",
            "10 Ttest_indResult(statistic=10.261614712845676, pvalue=1.5634824263030991e-24)\n",
            "11 Ttest_indResult(statistic=9.764106207447357, pvalue=2.1743360811897057e-22)\n",
            "12 Ttest_indResult(statistic=9.30606569985058, pvalue=1.6758886139164125e-20)\n",
            "13 Ttest_indResult(statistic=8.897775334414375, pvalue=6.843394427036679e-19)\n",
            "14 Ttest_indResult(statistic=8.523650782040294, pvalue=1.7877961384944122e-17)\n",
            "15 Ttest_indResult(statistic=7.880851866783068, pvalue=3.595779209507249e-15)\n",
            "16 Ttest_indResult(statistic=6.222632364307764, pvalue=5.077088399002446e-10)\n",
            "17 Ttest_indResult(statistic=5.257181973892471, pvalue=1.4903347808707342e-07)\n",
            "18 Ttest_indResult(statistic=4.149867578121805, pvalue=3.350631512736578e-05)\n",
            "19 Ttest_indResult(statistic=2.798829135256334, pvalue=0.005136980228442423)\n",
            "20 Ttest_indResult(statistic=1.137755953394345, pvalue=0.25524404820046426)\n",
            "21 Ttest_indResult(statistic=-0.030378796073326168, pvalue=0.9757654166693073)\n",
            "22 Ttest_indResult(statistic=0.016349212433221204, pvalue=0.9869560348845721)\n",
            "23 Ttest_indResult(statistic=0.0006993314240782122, pvalue=0.9994420240494655)\n",
            "24 Ttest_indResult(statistic=-0.009520088685459215, pvalue=0.9924043103685025)\n",
            "25 Ttest_indResult(statistic=-0.777611979323437, pvalue=0.43680965357682944)\n",
            "26 Ttest_indResult(statistic=-0.7720062181905921, pvalue=0.4401220514112848)\n",
            "27 Ttest_indResult(statistic=-0.7580804896029328, pvalue=0.4484134611049133)\n",
            "28 Ttest_indResult(statistic=-0.7359923502966813, pvalue=0.4617452887951249)\n",
            "29 Ttest_indResult(statistic=-0.7065028648984504, pvalue=0.4798846190370222)\n"
          ],
          "name": "stdout"
        }
      ]
    },
    {
      "cell_type": "code",
      "metadata": {
        "id": "RmtZYLLtSvaj",
        "colab_type": "code",
        "colab": {
          "base_uri": "https://localhost:8080/",
          "height": 493
        },
        "outputId": "26c4c5ac-e5ac-4c31-fdca-ae0dfcd2f392"
      },
      "source": [
        "test_post_snap(sales_store_ca_hobbie,'CA')"
      ],
      "execution_count": 78,
      "outputs": [
        {
          "output_type": "stream",
          "text": [
            "2 Ttest_indResult(statistic=3.8061715166331953, pvalue=0.00014455432529851078)\n",
            "3 Ttest_indResult(statistic=3.7493068160449776, pvalue=0.00018062162985958759)\n",
            "4 Ttest_indResult(statistic=3.28080252666756, pvalue=0.0010449524284527436)\n",
            "5 Ttest_indResult(statistic=2.9636342937066145, pvalue=0.003057453684923222)\n",
            "6 Ttest_indResult(statistic=2.7084256703187206, pvalue=0.006784572263497908)\n",
            "7 Ttest_indResult(statistic=2.8096043123864143, pvalue=0.004978379503815521)\n",
            "8 Ttest_indResult(statistic=2.536491345108871, pvalue=0.01122259960665718)\n",
            "9 Ttest_indResult(statistic=2.540394674971574, pvalue=0.011096002701944217)\n",
            "10 Ttest_indResult(statistic=2.7113881388800083, pvalue=0.006716534814900844)\n",
            "11 Ttest_indResult(statistic=2.7166827965378504, pvalue=0.00660894128020723)\n",
            "12 Ttest_indResult(statistic=3.1070278524913104, pvalue=0.0018962846774302812)\n",
            "13 Ttest_indResult(statistic=3.2763960297461487, pvalue=0.0010555212935906772)\n",
            "14 Ttest_indResult(statistic=3.559203077142129, pvalue=0.0003738404343405367)\n",
            "15 Ttest_indResult(statistic=3.0704398649267177, pvalue=0.002143258537452211)\n",
            "16 Ttest_indResult(statistic=2.079589476546777, pvalue=0.0375876379429467)\n",
            "17 Ttest_indResult(statistic=1.552456960379383, pvalue=0.1205818206848588)\n",
            "18 Ttest_indResult(statistic=1.3949230538768669, pvalue=0.16306598681312465)\n",
            "19 Ttest_indResult(statistic=1.2211434924042943, pvalue=0.22205559661968777)\n",
            "20 Ttest_indResult(statistic=-0.7880150233624732, pvalue=0.43070275071264263)\n",
            "21 Ttest_indResult(statistic=-0.7823593137721434, pvalue=0.4340175346507309)\n",
            "22 Ttest_indResult(statistic=-0.4944833204413802, pvalue=0.620972807960911)\n",
            "23 Ttest_indResult(statistic=-0.4977897849417126, pvalue=0.6186398674225907)\n",
            "24 Ttest_indResult(statistic=-0.49722954039869643, pvalue=0.6190345266049022)\n",
            "25 Ttest_indResult(statistic=-2.1646305252930795, pvalue=0.030431191488398363)\n",
            "26 Ttest_indResult(statistic=-2.144899124820241, pvalue=0.031975798948560986)\n",
            "27 Ttest_indResult(statistic=-2.123465711774493, pvalue=0.033729458930801655)\n",
            "28 Ttest_indResult(statistic=-2.101659683067533, pvalue=0.035597457826935554)\n",
            "29 Ttest_indResult(statistic=-2.080880973849969, pvalue=0.037458909963807595)\n"
          ],
          "name": "stdout"
        }
      ]
    },
    {
      "cell_type": "code",
      "metadata": {
        "id": "ZtdEn9MXS0Qg",
        "colab_type": "code",
        "colab": {
          "base_uri": "https://localhost:8080/",
          "height": 493
        },
        "outputId": "56bd279d-8711-432b-e8bc-bc76d41c8f56"
      },
      "source": [
        "test_post_snap(sales_store_ca_household,'CA')"
      ],
      "execution_count": 91,
      "outputs": [
        {
          "output_type": "stream",
          "text": [
            "2 Ttest_indResult(statistic=3.709524579651016, pvalue=0.0002112819145574649)\n",
            "3 Ttest_indResult(statistic=3.476324971750103, pvalue=0.000514223062948889)\n",
            "4 Ttest_indResult(statistic=3.1135708819021777, pvalue=0.001860695997848766)\n",
            "5 Ttest_indResult(statistic=2.742776896227359, pvalue=0.006114769848956617)\n",
            "6 Ttest_indResult(statistic=2.5356443800584922, pvalue=0.011252153958546438)\n",
            "7 Ttest_indResult(statistic=2.401331487529967, pvalue=0.016366056775816536)\n",
            "8 Ttest_indResult(statistic=2.2297981880108484, pvalue=0.02579481460663587)\n",
            "9 Ttest_indResult(statistic=2.1730770007875817, pvalue=0.029807582699440095)\n",
            "10 Ttest_indResult(statistic=2.121960690427744, pvalue=0.03387311424179513)\n",
            "11 Ttest_indResult(statistic=2.296672873085878, pvalue=0.021662491332205904)\n",
            "12 Ttest_indResult(statistic=2.52373157121913, pvalue=0.011629154700585904)\n",
            "13 Ttest_indResult(statistic=2.5649710484593204, pvalue=0.010333911877319295)\n",
            "14 Ttest_indResult(statistic=2.7459923965095063, pvalue=0.006043697659188434)\n",
            "15 Ttest_indResult(statistic=2.5646227597014493, pvalue=0.010342606503822592)\n",
            "16 Ttest_indResult(statistic=1.783979103340889, pvalue=0.07445454305986873)\n",
            "17 Ttest_indResult(statistic=1.5305181712445397, pvalue=0.12591583693890668)\n",
            "18 Ttest_indResult(statistic=1.149606163262993, pvalue=0.2503287914822573)\n",
            "19 Ttest_indResult(statistic=0.808748889060272, pvalue=0.4186747852580375)\n",
            "20 Ttest_indResult(statistic=-0.04417717950080203, pvalue=0.9647638397261644)\n",
            "21 Ttest_indResult(statistic=0.15574223539928847, pvalue=0.8762384880593801)\n",
            "22 Ttest_indResult(statistic=1.7728260468783639, pvalue=0.07627877486935912)\n",
            "23 Ttest_indResult(statistic=1.7664231415898901, pvalue=0.07734531769857425)\n",
            "24 Ttest_indResult(statistic=1.7620764756960101, pvalue=0.07807605282947286)\n",
            "25 Ttest_indResult(statistic=-2.195079625653111, pvalue=0.02817208011220037)\n",
            "26 Ttest_indResult(statistic=-2.1813699393207373, pvalue=0.02916991752027691)\n",
            "27 Ttest_indResult(statistic=-2.166101812785657, pvalue=0.030316961741993213)\n",
            "28 Ttest_indResult(statistic=-2.150201804127486, pvalue=0.03155253784196636)\n",
            "29 Ttest_indResult(statistic=-2.1347110250638455, pvalue=0.032797643868376275)\n"
          ],
          "name": "stdout"
        }
      ]
    },
    {
      "cell_type": "code",
      "metadata": {
        "id": "MQvwoZo1S70V",
        "colab_type": "code",
        "colab": {
          "base_uri": "https://localhost:8080/",
          "height": 493
        },
        "outputId": "c585b61a-bade-44ce-90ea-56417aed1bab"
      },
      "source": [
        "test_post_snap(sales_tx_food,'TX')"
      ],
      "execution_count": 80,
      "outputs": [
        {
          "output_type": "stream",
          "text": [
            "2 Ttest_indResult(statistic=17.372221315463296, pvalue=2.1970150357358942e-63)\n",
            "3 Ttest_indResult(statistic=18.76236638408732, pvalue=5.676964582570739e-74)\n",
            "4 Ttest_indResult(statistic=18.061111894680593, pvalue=1.3152268440939322e-69)\n",
            "5 Ttest_indResult(statistic=18.160202722119706, pvalue=8.675273181258319e-71)\n",
            "6 Ttest_indResult(statistic=17.551103131104835, pvalue=1.0073081343232763e-66)\n",
            "7 Ttest_indResult(statistic=17.53102900858542, pvalue=8.012701753325392e-67)\n",
            "8 Ttest_indResult(statistic=16.64740933966492, pvalue=9.134936225324181e-61)\n",
            "9 Ttest_indResult(statistic=16.128408277683633, pvalue=2.4065753233183322e-57)\n",
            "10 Ttest_indResult(statistic=15.323278694237427, pvalue=4.061034882350742e-52)\n",
            "11 Ttest_indResult(statistic=12.811143285567598, pvalue=3.5830157381587826e-37)\n",
            "12 Ttest_indResult(statistic=11.750420041466993, pvalue=1.2943742483078223e-31)\n",
            "13 Ttest_indResult(statistic=10.13490648220176, pvalue=5.317356195649486e-24)\n",
            "14 Ttest_indResult(statistic=7.874606085550075, pvalue=3.817927366275226e-15)\n",
            "15 Ttest_indResult(statistic=5.2331661972881385, pvalue=1.7019314107313804e-07)\n",
            "16 Ttest_indResult(statistic=2.654041847067566, pvalue=0.007965914350047627)\n",
            "17 Ttest_indResult(statistic=0.5307269573950814, pvalue=0.5956190929740444)\n",
            "18 Ttest_indResult(statistic=1.274016565889537, pvalue=0.2026838610481495)\n",
            "19 Ttest_indResult(statistic=1.2369507601611558, pvalue=0.21612986155968275)\n",
            "20 Ttest_indResult(statistic=1.2088122463900943, pvalue=0.2267579221163037)\n",
            "21 Ttest_indResult(statistic=0.4026990596445727, pvalue=0.687176215006512)\n",
            "22 Ttest_indResult(statistic=1.1768833468290099, pvalue=0.23926253885048107)\n",
            "23 Ttest_indResult(statistic=0.3761096035549682, pvalue=0.7068410004008425)\n",
            "24 Ttest_indResult(statistic=1.1564365687668219, pvalue=0.24752116563510776)\n",
            "25 Ttest_indResult(statistic=-1.251665324733291, pvalue=0.21071071432641053)\n",
            "26 Ttest_indResult(statistic=-1.239898892375443, pvalue=0.21503082879228147)\n",
            "27 Ttest_indResult(statistic=-0.8236404501917216, pvalue=0.41015561102402853)\n",
            "28 Ttest_indResult(statistic=-0.8060604285488491, pvalue=0.4202190412145822)\n",
            "29 Ttest_indResult(statistic=-0.784669754141211, pvalue=0.43265755233913517)\n"
          ],
          "name": "stdout"
        }
      ]
    },
    {
      "cell_type": "code",
      "metadata": {
        "id": "of_NzIGzTBof",
        "colab_type": "code",
        "colab": {
          "base_uri": "https://localhost:8080/",
          "height": 493
        },
        "outputId": "a05af31f-be8d-4326-98c7-9c1da800a423"
      },
      "source": [
        "test_post_snap(sales_tx_household,'TX')"
      ],
      "execution_count": 81,
      "outputs": [
        {
          "output_type": "stream",
          "text": [
            "2 Ttest_indResult(statistic=2.210279677105496, pvalue=0.027190092012350106)\n",
            "3 Ttest_indResult(statistic=2.293029101324451, pvalue=0.021922018200297145)\n",
            "4 Ttest_indResult(statistic=2.3012759726741967, pvalue=0.021438122922145173)\n",
            "5 Ttest_indResult(statistic=2.5296903580399963, pvalue=0.011455750215497105)\n",
            "6 Ttest_indResult(statistic=2.851905494962924, pvalue=0.0043659160024755676)\n",
            "7 Ttest_indResult(statistic=3.1767502237419007, pvalue=0.001498418734868346)\n",
            "8 Ttest_indResult(statistic=3.4266339789823594, pvalue=0.0006155359148252671)\n",
            "9 Ttest_indResult(statistic=3.8306676873575967, pvalue=0.00012907184593539993)\n",
            "10 Ttest_indResult(statistic=3.900960117048653, pvalue=9.67496413539082e-05)\n",
            "11 Ttest_indResult(statistic=2.615074798165479, pvalue=0.008939243953264618)\n",
            "12 Ttest_indResult(statistic=2.6967376659009346, pvalue=0.007017237959418365)\n",
            "13 Ttest_indResult(statistic=2.445003126257329, pvalue=0.014505543669894217)\n",
            "14 Ttest_indResult(statistic=1.9563957043716966, pvalue=0.050449685394674114)\n",
            "15 Ttest_indResult(statistic=0.9065076533658486, pvalue=0.3646902460368653)\n",
            "16 Ttest_indResult(statistic=0.7752770936177493, pvalue=0.4381941774429231)\n",
            "17 Ttest_indResult(statistic=0.8010246061729976, pvalue=0.42313530929093424)\n",
            "18 Ttest_indResult(statistic=2.057844294556389, pvalue=0.03962806838558436)\n",
            "19 Ttest_indResult(statistic=2.051975939819559, pvalue=0.0401939119714199)\n",
            "20 Ttest_indResult(statistic=2.0477203652484595, pvalue=0.040608325049689295)\n",
            "21 Ttest_indResult(statistic=0.7831057077426723, pvalue=0.4335792352820871)\n",
            "22 Ttest_indResult(statistic=2.0470106191386135, pvalue=0.04067609918692641)\n",
            "23 Ttest_indResult(statistic=0.7780438507820052, pvalue=0.4365560483777742)\n",
            "24 Ttest_indResult(statistic=2.042107971768235, pvalue=0.04115838548383233)\n",
            "25 Ttest_indResult(statistic=-2.0137576365206913, pvalue=0.044052219775381915)\n",
            "26 Ttest_indResult(statistic=-2.014184931129372, pvalue=0.04400668799399956)\n",
            "27 Ttest_indResult(statistic=-1.525582396617891, pvalue=0.1271327782037263)\n",
            "28 Ttest_indResult(statistic=-1.522111270046789, pvalue=0.1279994049298975)\n",
            "29 Ttest_indResult(statistic=-1.5191905546147713, pvalue=0.12873211038490304)\n"
          ],
          "name": "stdout"
        }
      ]
    },
    {
      "cell_type": "code",
      "metadata": {
        "id": "NyQbnVytTH7Y",
        "colab_type": "code",
        "colab": {
          "base_uri": "https://localhost:8080/",
          "height": 493
        },
        "outputId": "736a0bbf-cc36-4b03-e95e-6301143b41f3"
      },
      "source": [
        "test_post_snap(sales_tx_hobbie,'TX')"
      ],
      "execution_count": 82,
      "outputs": [
        {
          "output_type": "stream",
          "text": [
            "2 Ttest_indResult(statistic=0.9709779933839612, pvalue=0.33166780126242146)\n",
            "3 Ttest_indResult(statistic=1.1510013256177432, pvalue=0.24983248993810867)\n",
            "4 Ttest_indResult(statistic=0.9773467145943814, pvalue=0.3284692384165284)\n",
            "5 Ttest_indResult(statistic=1.167286844807445, pvalue=0.2431665767440645)\n",
            "6 Ttest_indResult(statistic=1.250063576634663, pvalue=0.21134233963319876)\n",
            "7 Ttest_indResult(statistic=1.0575100359754268, pvalue=0.2903299857652166)\n",
            "8 Ttest_indResult(statistic=1.4538818658153219, pvalue=0.14603545277911717)\n",
            "9 Ttest_indResult(statistic=1.7064894718853345, pvalue=0.08796761790655594)\n",
            "10 Ttest_indResult(statistic=1.6359686427053062, pvalue=0.10189312770055733)\n",
            "11 Ttest_indResult(statistic=0.3623372881811766, pvalue=0.7171105475841983)\n",
            "12 Ttest_indResult(statistic=1.1150065616636942, pvalue=0.2648818613506703)\n",
            "13 Ttest_indResult(statistic=1.1706330766560467, pvalue=0.24177959583160863)\n",
            "14 Ttest_indResult(statistic=0.407945284307973, pvalue=0.6833236267597131)\n",
            "15 Ttest_indResult(statistic=-0.45963079986087574, pvalue=0.6457917831552812)\n",
            "16 Ttest_indResult(statistic=0.41446812365128577, pvalue=0.6785401504780094)\n",
            "17 Ttest_indResult(statistic=-0.731321990919345, pvalue=0.464598626078074)\n",
            "18 Ttest_indResult(statistic=0.44339281941883874, pvalue=0.6574901544726994)\n",
            "19 Ttest_indResult(statistic=0.4394015873221709, pvalue=0.660378584186909)\n",
            "20 Ttest_indResult(statistic=0.43519424296174947, pvalue=0.6634289781126087)\n",
            "21 Ttest_indResult(statistic=-0.7401346120194306, pvalue=0.4592316192587389)\n",
            "22 Ttest_indResult(statistic=0.43448087195389085, pvalue=0.6639461323809555)\n",
            "23 Ttest_indResult(statistic=-0.7399918569308521, pvalue=0.4593170963728953)\n",
            "24 Ttest_indResult(statistic=0.4290064659225155, pvalue=0.6679247194670725)\n",
            "25 Ttest_indResult(statistic=-2.9587906381816413, pvalue=0.0030931518431873747)\n",
            "26 Ttest_indResult(statistic=-2.959458418140423, pvalue=0.00308628090611725)\n",
            "27 Ttest_indResult(statistic=-2.676115057284964, pvalue=0.007455352997120262)\n",
            "28 Ttest_indResult(statistic=-2.671485811046568, pvalue=0.007558667083126218)\n",
            "29 Ttest_indResult(statistic=-2.6682971882728737, pvalue=0.007630512523552944)\n"
          ],
          "name": "stdout"
        }
      ]
    },
    {
      "cell_type": "code",
      "metadata": {
        "id": "q3uzb84JTP51",
        "colab_type": "code",
        "colab": {
          "base_uri": "https://localhost:8080/",
          "height": 493
        },
        "outputId": "3eae52d3-7bee-483f-850b-45355c902d8b"
      },
      "source": [
        "test_post_snap(sales_wi_food,'WI')"
      ],
      "execution_count": 83,
      "outputs": [
        {
          "output_type": "stream",
          "text": [
            "2 Ttest_indResult(statistic=3.639681309952524, pvalue=0.00027919543177533216)\n",
            "3 Ttest_indResult(statistic=3.375060472093505, pvalue=0.0007480750960775642)\n",
            "4 Ttest_indResult(statistic=3.4280234585563036, pvalue=0.00061530411657599)\n",
            "5 Ttest_indResult(statistic=3.455578725728493, pvalue=0.0005549309986146147)\n",
            "6 Ttest_indResult(statistic=3.277523555558279, pvalue=0.0010551794690434944)\n",
            "7 Ttest_indResult(statistic=3.28305782572513, pvalue=0.0010338482276006655)\n",
            "8 Ttest_indResult(statistic=3.1812660925299054, pvalue=0.0014742958153103696)\n",
            "9 Ttest_indResult(statistic=3.129551186080556, pvalue=0.0017588698573848826)\n",
            "10 Ttest_indResult(statistic=2.9344701468650136, pvalue=0.0033524127302712804)\n",
            "11 Ttest_indResult(statistic=2.015375634811045, pvalue=0.04390179079901704)\n",
            "12 Ttest_indResult(statistic=1.5884784989958018, pvalue=0.11221832392637796)\n",
            "13 Ttest_indResult(statistic=1.2764203512544012, pvalue=0.20184208654193067)\n",
            "14 Ttest_indResult(statistic=0.6502563001503854, pvalue=0.515543292235499)\n",
            "15 Ttest_indResult(statistic=-0.03721415046531455, pvalue=0.9703150343793638)\n",
            "16 Ttest_indResult(statistic=-0.4018860062110182, pvalue=0.6877764171813416)\n",
            "17 Ttest_indResult(statistic=0.1114602526915543, pvalue=0.911253480785793)\n",
            "18 Ttest_indResult(statistic=0.4954016834998443, pvalue=0.6203262956817295)\n",
            "19 Ttest_indResult(statistic=1.5832163313913432, pvalue=0.11339883339097358)\n",
            "20 Ttest_indResult(statistic=1.5776530595164253, pvalue=0.11467071735624393)\n",
            "21 Ttest_indResult(statistic=0.4808218827621573, pvalue=0.6306511476683424)\n",
            "22 Ttest_indResult(statistic=1.5743422693906464, pvalue=0.11543145714676918)\n",
            "23 Ttest_indResult(statistic=1.570607576889332, pvalue=0.11629597679452014)\n",
            "24 Ttest_indResult(statistic=-3.0761579650334983, pvalue=0.0021006687757980317)\n",
            "25 Ttest_indResult(statistic=-3.075258321449019, pvalue=0.002106859681203167)\n",
            "26 Ttest_indResult(statistic=-3.0669198195101917, pvalue=0.002166348450338519)\n",
            "27 Ttest_indResult(statistic=-2.539857234103439, pvalue=0.01109872860425373)\n",
            "28 Ttest_indResult(statistic=-2.532298824308509, pvalue=0.011340469368421162)\n",
            "29 Ttest_indResult(statistic=-2.5169152662758187, pvalue=0.0118473500294351)\n"
          ],
          "name": "stdout"
        }
      ]
    },
    {
      "cell_type": "code",
      "metadata": {
        "id": "Uq0_VGcyTVpA",
        "colab_type": "code",
        "colab": {
          "base_uri": "https://localhost:8080/",
          "height": 493
        },
        "outputId": "ad636455-8f99-4855-d689-618b57e21dfd"
      },
      "source": [
        "test_post_snap(sales_wi_house,'WI')"
      ],
      "execution_count": 84,
      "outputs": [
        {
          "output_type": "stream",
          "text": [
            "2 Ttest_indResult(statistic=0.9476714604736539, pvalue=0.34339959857968483)\n",
            "3 Ttest_indResult(statistic=0.5579445433685395, pvalue=0.5769269712352163)\n",
            "4 Ttest_indResult(statistic=0.32801488378042154, pvalue=0.7429208468168835)\n",
            "5 Ttest_indResult(statistic=0.438092865179514, pvalue=0.6613430621193426)\n",
            "6 Ttest_indResult(statistic=0.2727201543267794, pvalue=0.7850808710458064)\n",
            "7 Ttest_indResult(statistic=0.21298884290542636, pvalue=0.831344243502996)\n",
            "8 Ttest_indResult(statistic=0.20635460867929015, pvalue=0.8365213891318718)\n",
            "9 Ttest_indResult(statistic=0.19962346103837092, pvalue=0.8417816295929492)\n",
            "10 Ttest_indResult(statistic=-0.02535670687579841, pvalue=0.9797711911221618)\n",
            "11 Ttest_indResult(statistic=-1.0276547421757158, pvalue=0.3041462245519989)\n",
            "12 Ttest_indResult(statistic=-1.154100824168138, pvalue=0.2484938581491114)\n",
            "13 Ttest_indResult(statistic=-1.299842882030988, pvalue=0.19369032343522674)\n",
            "14 Ttest_indResult(statistic=-1.8478780721950676, pvalue=0.06465280188957884)\n",
            "15 Ttest_indResult(statistic=-2.1992883685180526, pvalue=0.027881323954372476)\n",
            "16 Ttest_indResult(statistic=-2.249977276326254, pvalue=0.024471802892211167)\n",
            "17 Ttest_indResult(statistic=-1.247255764760659, pvalue=0.21233112465832002)\n",
            "18 Ttest_indResult(statistic=0.9025655494722219, pvalue=0.3667758669930963)\n",
            "19 Ttest_indResult(statistic=2.1579874749684516, pvalue=0.0309488178398701)\n",
            "20 Ttest_indResult(statistic=2.151337482571114, pvalue=0.03146873170427214)\n",
            "21 Ttest_indResult(statistic=0.9032600612494615, pvalue=0.36640454117122956)\n",
            "22 Ttest_indResult(statistic=2.151619471630706, pvalue=0.031444778956587684)\n",
            "23 Ttest_indResult(statistic=2.147107960553954, pvalue=0.03180146741548015)\n",
            "24 Ttest_indResult(statistic=-2.5106463269869894, pvalue=0.012061544683972693)\n",
            "25 Ttest_indResult(statistic=-2.5035035223884305, pvalue=0.012307236505708218)\n",
            "26 Ttest_indResult(statistic=-2.4954790990003346, pvalue=0.012588627163637362)\n",
            "27 Ttest_indResult(statistic=-1.9345633783555207, pvalue=0.05306071408785035)\n",
            "28 Ttest_indResult(statistic=-1.9272166037248928, pvalue=0.05396892903567588)\n",
            "29 Ttest_indResult(statistic=-1.9193621219433221, pvalue=0.05495431968408598)\n"
          ],
          "name": "stdout"
        }
      ]
    },
    {
      "cell_type": "code",
      "metadata": {
        "id": "kUO0HHpaTcCX",
        "colab_type": "code",
        "colab": {
          "base_uri": "https://localhost:8080/",
          "height": 493
        },
        "outputId": "26154b8c-68f3-4243-ef8a-adc2c0959a32"
      },
      "source": [
        "test_post_snap(sales_wi_hobbie,'WI')"
      ],
      "execution_count": 85,
      "outputs": [
        {
          "output_type": "stream",
          "text": [
            "2 Ttest_indResult(statistic=1.4298684192774747, pvalue=0.1528951214172917)\n",
            "3 Ttest_indResult(statistic=1.0607633271179049, pvalue=0.28888918996901364)\n",
            "4 Ttest_indResult(statistic=0.5238172404932907, pvalue=0.6004402085667623)\n",
            "5 Ttest_indResult(statistic=0.7768392784072103, pvalue=0.4373003891599757)\n",
            "6 Ttest_indResult(statistic=0.762708668515578, pvalue=0.4456771907395255)\n",
            "7 Ttest_indResult(statistic=0.7713292239364488, pvalue=0.4405478244345531)\n",
            "8 Ttest_indResult(statistic=0.6542835149471775, pvalue=0.512955899227369)\n",
            "9 Ttest_indResult(statistic=0.7062070596611233, pvalue=0.4800859379954686)\n",
            "10 Ttest_indResult(statistic=0.31948359300477386, pvalue=0.7493697002889221)\n",
            "11 Ttest_indResult(statistic=-0.5684025765706391, pvalue=0.5697790796160123)\n",
            "12 Ttest_indResult(statistic=-0.6220724280874625, pvalue=0.5339122533241143)\n",
            "13 Ttest_indResult(statistic=-1.0391519076382492, pvalue=0.2987638610279403)\n",
            "14 Ttest_indResult(statistic=-1.5964338334384363, pvalue=0.11042710753456134)\n",
            "15 Ttest_indResult(statistic=-2.3769537342965763, pvalue=0.01747587724027659)\n",
            "16 Ttest_indResult(statistic=-2.058531498782616, pvalue=0.039564707150903676)\n",
            "17 Ttest_indResult(statistic=-1.0405335321803102, pvalue=0.2981156857311133)\n",
            "18 Ttest_indResult(statistic=-1.5478332085119546, pvalue=0.12169062494963402)\n",
            "19 Ttest_indResult(statistic=-0.6874736881680162, pvalue=0.4917977215793251)\n",
            "20 Ttest_indResult(statistic=-0.6838984613828105, pvalue=0.4940520018526616)\n",
            "21 Ttest_indResult(statistic=-1.5299079873580783, pvalue=0.1260637161902625)\n",
            "22 Ttest_indResult(statistic=-0.6786166527562012, pvalue=0.4973922629618469)\n",
            "23 Ttest_indResult(statistic=-0.6785761129538677, pvalue=0.4974174747694461)\n",
            "24 Ttest_indResult(statistic=-2.9727495849948804, pvalue=0.002956173443228208)\n",
            "25 Ttest_indResult(statistic=-2.9662649691358793, pvalue=0.0030189998349483852)\n",
            "26 Ttest_indResult(statistic=-2.957185381423371, pvalue=0.0031091122812289657)\n",
            "27 Ttest_indResult(statistic=-2.762444691340089, pvalue=0.005743282861172806)\n",
            "28 Ttest_indResult(statistic=-2.7585873216949444, pvalue=0.005811251832122259)\n",
            "29 Ttest_indResult(statistic=-2.7501193364158216, pvalue=0.005963307140482658)\n"
          ],
          "name": "stdout"
        }
      ]
    },
    {
      "cell_type": "code",
      "metadata": {
        "id": "RPKSgidCqVMG",
        "colab_type": "code",
        "colab": {}
      },
      "source": [
        "calendar_train"
      ],
      "execution_count": 0,
      "outputs": []
    },
    {
      "cell_type": "code",
      "metadata": {
        "id": "dXwXF5YNrbWN",
        "colab_type": "code",
        "colab": {}
      },
      "source": [
        "def season_sales(a,y,winter,spring,summer,autumn):\n",
        "  b=a['month']\n",
        "  if(b in [12,1,2]):\n",
        "    winter.append(y[a['d']])\n",
        "  if(b in [3,4,5]):\n",
        "    spring.append(y[a['d']])\n",
        "  if(b in [6,7,8]):\n",
        "    summer.append(y[a['d']])\n",
        "  else:\n",
        "    autumn.append(y[a['d']])"
      ],
      "execution_count": 0,
      "outputs": []
    },
    {
      "cell_type": "code",
      "metadata": {
        "id": "Xj16jWaJtbVH",
        "colab_type": "code",
        "colab": {}
      },
      "source": [
        "def test_season(a):\n",
        "  winter=[]\n",
        "  spring=[]\n",
        "  summer=[]\n",
        "  autumn=[]\n",
        "  calendar_train.apply(lambda x:season_sales(x,a,winter,spring,summer,autumn),axis=1)\n",
        "  print(stats.f_oneway(winter,summer,spring,autumn),statistics.mean(winter),statistics.mean(spring),statistics.mean(summer),statistics.mean(autumn))"
      ],
      "execution_count": 0,
      "outputs": []
    },
    {
      "cell_type": "code",
      "metadata": {
        "id": "J0HAMy32t3CQ",
        "colab_type": "code",
        "colab": {
          "base_uri": "https://localhost:8080/",
          "height": 34
        },
        "outputId": "7fc5f7be-3c7c-4fd9-f676-3483e029641b"
      },
      "source": [
        "test_season(sales_store_ca_household)"
      ],
      "execution_count": 103,
      "outputs": [
        {
          "output_type": "stream",
          "text": [
            "F_onewayResult(statistic=10.406610193989405, pvalue=8.261913402439124e-07) 710.2463768115942 740.7417475728155 800.9673913043479 737.9662766689607\n"
          ],
          "name": "stdout"
        }
      ]
    },
    {
      "cell_type": "code",
      "metadata": {
        "id": "ad4f5hjJuzNK",
        "colab_type": "code",
        "colab": {
          "base_uri": "https://localhost:8080/",
          "height": 34
        },
        "outputId": "37a6a8e7-0ae8-4198-dd43-ebfbf6ed749f"
      },
      "source": [
        "test_season(sales_store_ca_food)"
      ],
      "execution_count": 104,
      "outputs": [
        {
          "output_type": "stream",
          "text": [
            "F_onewayResult(statistic=10.46504430586066, pvalue=7.595418246548117e-07) 2711.2981366459626 2786.6019417475727 2948.1065217391306 2769.9236063317276\n"
          ],
          "name": "stdout"
        }
      ]
    },
    {
      "cell_type": "code",
      "metadata": {
        "id": "2v4oZNkpvA70",
        "colab_type": "code",
        "colab": {
          "base_uri": "https://localhost:8080/",
          "height": 34
        },
        "outputId": "c534eacd-905a-45e1-de30-5777d587e9ff"
      },
      "source": [
        "test_season(sales_store_ca_hobbie)"
      ],
      "execution_count": 105,
      "outputs": [
        {
          "output_type": "stream",
          "text": [
            "F_onewayResult(statistic=0.6987654202090006, pvalue=0.5527424356501904) 456.51966873706004 461.40388349514564 464.8782608695652 456.1830695113558\n"
          ],
          "name": "stdout"
        }
      ]
    },
    {
      "cell_type": "code",
      "metadata": {
        "id": "4o5fx0PTvF-N",
        "colab_type": "code",
        "colab": {
          "base_uri": "https://localhost:8080/",
          "height": 34
        },
        "outputId": "9629a77d-a6e6-487c-cb70-8eb07c4ea23c"
      },
      "source": [
        "test_season(sales_tx_household)"
      ],
      "execution_count": 106,
      "outputs": [
        {
          "output_type": "stream",
          "text": [
            "F_onewayResult(statistic=0.15862293559759524, pvalue=0.924150727044782) 718.7287784679089 726.7106796116504 728.1434782608695 724.7439779766001\n"
          ],
          "name": "stdout"
        }
      ]
    },
    {
      "cell_type": "code",
      "metadata": {
        "id": "12uzraRivLnH",
        "colab_type": "code",
        "colab": {
          "base_uri": "https://localhost:8080/",
          "height": 34
        },
        "outputId": "617d9d13-c08d-4dbc-8931-19fae63d257b"
      },
      "source": [
        "test_season(sales_tx_food)"
      ],
      "execution_count": 107,
      "outputs": [
        {
          "output_type": "stream",
          "text": [
            "F_onewayResult(statistic=22.156256087037377, pvalue=3.4983951994749356e-14) 1894.3105590062112 1970.3223300970874 2094.5521739130436 1937.1748107364074\n"
          ],
          "name": "stdout"
        }
      ]
    },
    {
      "cell_type": "code",
      "metadata": {
        "id": "WMQ0xwQ3vQRN",
        "colab_type": "code",
        "colab": {
          "base_uri": "https://localhost:8080/",
          "height": 34
        },
        "outputId": "48094749-5f5b-4919-92ce-281f596cad60"
      },
      "source": [
        "test_season(sales_tx_hobbie)"
      ],
      "execution_count": 108,
      "outputs": [
        {
          "output_type": "stream",
          "text": [
            "F_onewayResult(statistic=2.1761936124099646, pvalue=0.088783976921764) 219.8095238095238 228.126213592233 228.9608695652174 222.82312456985548\n"
          ],
          "name": "stdout"
        }
      ]
    },
    {
      "cell_type": "code",
      "metadata": {
        "id": "eap2APuGvUsW",
        "colab_type": "code",
        "colab": {
          "base_uri": "https://localhost:8080/",
          "height": 34
        },
        "outputId": "3c12513a-ba5e-4798-8739-aa58121835bf"
      },
      "source": [
        "test_season(sales_wi_house)"
      ],
      "execution_count": 109,
      "outputs": [
        {
          "output_type": "stream",
          "text": [
            "F_onewayResult(statistic=0.1685835900930931, pvalue=0.9176167191900383) 553.3747412008281 555.3533980582524 556.2173913043479 550.0027529249828\n"
          ],
          "name": "stdout"
        }
      ]
    },
    {
      "cell_type": "code",
      "metadata": {
        "id": "rDiKDhsmvabe",
        "colab_type": "code",
        "colab": {
          "base_uri": "https://localhost:8080/",
          "height": 34
        },
        "outputId": "85f57d3f-c535-42ea-e7d4-1625227530d8"
      },
      "source": [
        "test_season(sales_wi_food)"
      ],
      "execution_count": 110,
      "outputs": [
        {
          "output_type": "stream",
          "text": [
            "F_onewayResult(statistic=5.881345945063984, pvalue=0.0005333933297760862) 1924.2629399585921 1751.0504854368933 1746.3260869565217 1813.518238128011\n"
          ],
          "name": "stdout"
        }
      ]
    },
    {
      "cell_type": "code",
      "metadata": {
        "id": "y6k88dUtvfZ4",
        "colab_type": "code",
        "colab": {
          "base_uri": "https://localhost:8080/",
          "height": 34
        },
        "outputId": "643239f7-3f4b-4215-ac26-fa69ad532d18"
      },
      "source": [
        "test_season(sales_wi_hobbie)"
      ],
      "execution_count": 111,
      "outputs": [
        {
          "output_type": "stream",
          "text": [
            "F_onewayResult(statistic=1.0851634770195024, pvalue=0.354064172918927) 348.43064182194615 351.59805825242717 339.29347826086956 343.8547832071576\n"
          ],
          "name": "stdout"
        }
      ]
    },
    {
      "cell_type": "code",
      "metadata": {
        "id": "bCw30y_YvweZ",
        "colab_type": "code",
        "colab": {}
      },
      "source": [
        "calendar_train"
      ],
      "execution_count": 0,
      "outputs": []
    },
    {
      "cell_type": "code",
      "metadata": {
        "id": "K5XtdIEBvopM",
        "colab_type": "code",
        "colab": {}
      },
      "source": [
        "def month_sales(a,y,j,f,mar,ap,ma,june,july,aug,sep,oc,nov,dec):\n",
        "  b=a['month']\n",
        "  if(b==1):\n",
        "    j.append(y[a['d']])\n",
        "  if(b==2):\n",
        "    f.append(y[a['d']])\n",
        "  if(b==3):\n",
        "    mar.append(y[a['d']])\n",
        "  if(b==4):\n",
        "    ap.append(y[a['d']])\n",
        "  if(b==5):\n",
        "    ma.append(y[a['d']])\n",
        "  if(b==6):\n",
        "    june.append(y[a['d']])\n",
        "  if(b==7):\n",
        "    july.append(y[a['d']])\n",
        "  if(b==8):\n",
        "    aug.append(y[a['d']])\n",
        "  if(b==9):\n",
        "    sep.append(y[a['d']])\n",
        "  if(b==10):\n",
        "    oc.append(y[a['d']])\n",
        "  if(b==11):\n",
        "    nov.append(y[a['d']])\n",
        "  if(b==12):\n",
        "    dec.append(y[a['d']])"
      ],
      "execution_count": 0,
      "outputs": []
    },
    {
      "cell_type": "code",
      "metadata": {
        "id": "_kZc-B3pxzhu",
        "colab_type": "code",
        "colab": {}
      },
      "source": [
        "def mean(a):\n",
        "  return statistics.mean(a)"
      ],
      "execution_count": 0,
      "outputs": []
    },
    {
      "cell_type": "code",
      "metadata": {
        "id": "wHN0b3WOwvsM",
        "colab_type": "code",
        "colab": {}
      },
      "source": [
        "def test_month(a):\n",
        "  (january,february,march,april,may,june,july,august,september,october,november,december)=([],[],[],[],[],[],[],[],[],[],[],[])\n",
        "  calendar_train.apply(lambda x:month_sales(x,a,january,february,march,april,may,june,july,august,september,october,november,december),axis=1)\n",
        "  print(stats.f_oneway(january,february,march,april,may,june,july,august,september,october,november,december),mean(january),mean(february),mean(march),mean(april),mean(may),mean(june),mean(july),mean(august),mean(september),mean(october),mean(november),mean(december))"
      ],
      "execution_count": 0,
      "outputs": []
    },
    {
      "cell_type": "code",
      "metadata": {
        "id": "Zp-ZZPFgxnYx",
        "colab_type": "code",
        "colab": {
          "base_uri": "https://localhost:8080/",
          "height": 54
        },
        "outputId": "bc78d961-da0c-4f71-c433-dfa37cb56aa7"
      },
      "source": [
        "test_month(sales_store_ca_household)"
      ],
      "execution_count": 122,
      "outputs": [
        {
          "output_type": "stream",
          "text": [
            "F_onewayResult(statistic=3.654852784905799, pvalue=3.753342058900895e-05) 718.0696202531645 718.5941176470589 741.6935483870968 761.2126436781609 716.6193548387097 782.24 800.341935483871 819.7161290322581 790.82 769.2 732.5666666666667 693.1161290322581\n"
          ],
          "name": "stdout"
        }
      ]
    },
    {
      "cell_type": "code",
      "metadata": {
        "id": "7_-6LNWxyP8o",
        "colab_type": "code",
        "colab": {
          "base_uri": "https://localhost:8080/",
          "height": 54
        },
        "outputId": "5dd994e1-578e-45b5-b4f0-cb6c5900a84e"
      },
      "source": [
        "test_month(sales_store_ca_food)"
      ],
      "execution_count": 123,
      "outputs": [
        {
          "output_type": "stream",
          "text": [
            "F_onewayResult(statistic=3.4626918425437125, pvalue=8.44854330697738e-05) 2716.6835443037976 2715.752941176471 2744.8494623655915 2829.9885057471265 2788 2909.74 2921.6 3011.7419354838707 2909.713333333333 2821.509677419355 2708.34 2700.9225806451614\n"
          ],
          "name": "stdout"
        }
      ]
    },
    {
      "cell_type": "code",
      "metadata": {
        "id": "NW9MPTWSyX1-",
        "colab_type": "code",
        "colab": {
          "base_uri": "https://localhost:8080/",
          "height": 54
        },
        "outputId": "64e31262-c7ea-40ed-8cf8-47dba5c4b055"
      },
      "source": [
        "test_month(sales_store_ca_hobbie)"
      ],
      "execution_count": 124,
      "outputs": [
        {
          "output_type": "stream",
          "text": [
            "F_onewayResult(statistic=1.771530772453395, pvalue=0.05374278741738414) 442.99367088607596 466.56470588235294 453.3440860215054 479.8965517241379 450.31612903225806 476.4 459.16129032258067 459.4451612903226 436.64 466.56129032258065 445.99333333333334 459.2903225806452\n"
          ],
          "name": "stdout"
        }
      ]
    },
    {
      "cell_type": "code",
      "metadata": {
        "id": "DZ3kOSUQydIf",
        "colab_type": "code",
        "colab": {
          "base_uri": "https://localhost:8080/",
          "height": 54
        },
        "outputId": "0de95d29-7939-4f29-f957-cbd1bad1f62c"
      },
      "source": [
        "test_month(sales_tx_household)"
      ],
      "execution_count": 125,
      "outputs": [
        {
          "output_type": "stream",
          "text": [
            "F_onewayResult(statistic=2.7587531262820764, pvalue=0.0014858610096733034) 686.9810126582279 767.0411764705882 760.1666666666666 732.1609195402299 680.4451612903226 724.3866666666667 709.5290322580645 750.3935483870968 756.44 719.258064516129 711.3333333333334 698.1032258064516\n"
          ],
          "name": "stdout"
        }
      ]
    },
    {
      "cell_type": "code",
      "metadata": {
        "id": "A4tN7CvCyjnC",
        "colab_type": "code",
        "colab": {
          "base_uri": "https://localhost:8080/",
          "height": 54
        },
        "outputId": "6af76eac-ca04-4143-979f-2662d1024ed6"
      },
      "source": [
        "test_month(sales_tx_food)"
      ],
      "execution_count": 126,
      "outputs": [
        {
          "output_type": "stream",
          "text": [
            "F_onewayResult(statistic=7.757744929278501, pvalue=2.8645622092644044e-13) 1886.8544303797469 1912.5235294117647 1932.5483870967741 2006.655172413793 1974.8645161290322 2085.4066666666668 2066.367741935484 2131.5870967741935 2042.9 1951.7870967741935 1840.5666666666666 1881.9354838709678\n"
          ],
          "name": "stdout"
        }
      ]
    },
    {
      "cell_type": "code",
      "metadata": {
        "id": "lTH928ULywWa",
        "colab_type": "code",
        "colab": {
          "base_uri": "https://localhost:8080/",
          "height": 54
        },
        "outputId": "21b66560-7804-4246-e6e4-2de67df0777c"
      },
      "source": [
        "test_month(sales_tx_hobbie)"
      ],
      "execution_count": 127,
      "outputs": [
        {
          "output_type": "stream",
          "text": [
            "F_onewayResult(statistic=2.1321262041274087, pvalue=0.0156928697440056) 211.44303797468353 228.91764705882352 222.48387096774192 234.51149425287358 227.7290322580645 233.06 229.8967741935484 224.05806451612904 210.13333333333333 222.26451612903224 227.58666666666667 218.3483870967742\n"
          ],
          "name": "stdout"
        }
      ]
    },
    {
      "cell_type": "code",
      "metadata": {
        "id": "A3nvGkJ-yzhn",
        "colab_type": "code",
        "colab": {
          "base_uri": "https://localhost:8080/",
          "height": 54
        },
        "outputId": "78153c80-0d4c-4a3b-b58f-757f594d7f90"
      },
      "source": [
        "test_month(sales_wi_house)"
      ],
      "execution_count": 128,
      "outputs": [
        {
          "output_type": "stream",
          "text": [
            "F_onewayResult(statistic=2.437284162590174, pvalue=0.0051246811003897485) 557.2594936708861 576.064705882353 582.7795698924731 563.5057471264367 513.2903225806451 538.8733333333333 551.5419354838709 577.6774193548387 551.3533333333334 514.9612903225807 555.6333333333333 524.5290322580645\n"
          ],
          "name": "stdout"
        }
      ]
    },
    {
      "cell_type": "code",
      "metadata": {
        "id": "8F6F-81Cy4L4",
        "colab_type": "code",
        "colab": {
          "base_uri": "https://localhost:8080/",
          "height": 54
        },
        "outputId": "8a8863e1-534d-4750-a440-6da270930268"
      },
      "source": [
        "test_month(sales_wi_food)"
      ],
      "execution_count": 129,
      "outputs": [
        {
          "output_type": "stream",
          "text": [
            "F_onewayResult(statistic=2.876594795426382, pvalue=0.0009319244892077187) 1946.9177215189873 1846.729411764706 1812.0967741935483 1766.0172413793102 1660.9935483870968 1771.1 1756.6193548387096 1712.058064516129 1709.5066666666667 1713.425806451613 1878.8333333333333 1986.2064516129033\n"
          ],
          "name": "stdout"
        }
      ]
    },
    {
      "cell_type": "code",
      "metadata": {
        "id": "jj-AL4Gxy74J",
        "colab_type": "code",
        "colab": {
          "base_uri": "https://localhost:8080/",
          "height": 54
        },
        "outputId": "dc6106eb-0e99-40f7-f5f8-0bcc5c8d777a"
      },
      "source": [
        "test_month(sales_wi_hobbie)"
      ],
      "execution_count": 130,
      "outputs": [
        {
          "output_type": "stream",
          "text": [
            "F_onewayResult(statistic=2.7154551280218855, pvalue=0.001760859430537447) 338.65822784810126 349.86470588235295 352.2043010752688 362.0057471264368 339.18709677419355 357.7866666666667 337.81935483870967 322.8709677419355 309.74 339.5806451612903 341.06666666666666 356.81935483870967\n"
          ],
          "name": "stdout"
        }
      ]
    },
    {
      "cell_type": "code",
      "metadata": {
        "id": "JoouLvjKzA-j",
        "colab_type": "code",
        "colab": {}
      },
      "source": [
        "def sales_days(a,y,m,n,o,p):\n",
        "  b=a['date']\n",
        "  c=b.split(\"-\")\n",
        "  if(1<=int(c[2])<9):\n",
        "    m.append(y[a['d']])\n",
        "  if(9<=int(c[2])<17):\n",
        "    n.append(y[a['d']])\n",
        "  if(17<=int(c[2])<25):\n",
        "    o.append(y[a['d']])\n",
        "  else:\n",
        "    p.append(y[a['d']])"
      ],
      "execution_count": 0,
      "outputs": []
    },
    {
      "cell_type": "code",
      "metadata": {
        "id": "M52E8uCn3h-Y",
        "colab_type": "code",
        "colab": {}
      },
      "source": [
        "def test_days(a):\n",
        "  (first,second,third,fourth) = ([],[],[],[])\n",
        "  calendar_train.apply(lambda x:sales_days(x,a,first,second,third,fourth),axis=1)\n",
        "  print(stats.f_oneway(first,second,third,fourth))"
      ],
      "execution_count": 0,
      "outputs": []
    },
    {
      "cell_type": "code",
      "metadata": {
        "id": "Xbqmo6563-8o",
        "colab_type": "code",
        "colab": {
          "base_uri": "https://localhost:8080/",
          "height": 34
        },
        "outputId": "ddc8d90c-3a41-4881-cb4e-3ee720a32b19"
      },
      "source": [
        "test_days(sales_store_ca_household)"
      ],
      "execution_count": 140,
      "outputs": [
        {
          "output_type": "stream",
          "text": [
            "F_onewayResult(statistic=2.471897448245173, pvalue=0.05998205002236604)\n"
          ],
          "name": "stdout"
        }
      ]
    },
    {
      "cell_type": "code",
      "metadata": {
        "id": "-VrPHzFU4E_U",
        "colab_type": "code",
        "colab": {
          "base_uri": "https://localhost:8080/",
          "height": 34
        },
        "outputId": "2534ab6f-0699-4f8e-f408-a5b274cc5e2d"
      },
      "source": [
        "test_days(sales_store_ca_food)"
      ],
      "execution_count": 141,
      "outputs": [
        {
          "output_type": "stream",
          "text": [
            "F_onewayResult(statistic=16.236014271250635, pvalue=1.8256808113447818e-10)\n"
          ],
          "name": "stdout"
        }
      ]
    },
    {
      "cell_type": "code",
      "metadata": {
        "id": "F-MlPB114J-6",
        "colab_type": "code",
        "colab": {
          "base_uri": "https://localhost:8080/",
          "height": 34
        },
        "outputId": "5cbcc6fa-d643-4701-c2e9-c39be05e0eab"
      },
      "source": [
        "test_days(sales_store_ca_hobbie)"
      ],
      "execution_count": 142,
      "outputs": [
        {
          "output_type": "stream",
          "text": [
            "F_onewayResult(statistic=2.8930733908049797, pvalue=0.034049522818021705)\n"
          ],
          "name": "stdout"
        }
      ]
    },
    {
      "cell_type": "code",
      "metadata": {
        "id": "Hf6ksk5a4O3n",
        "colab_type": "code",
        "colab": {
          "base_uri": "https://localhost:8080/",
          "height": 34
        },
        "outputId": "433d170e-601c-42ed-e902-3c50bb1988c8"
      },
      "source": [
        "test_days(sales_tx_household)"
      ],
      "execution_count": 143,
      "outputs": [
        {
          "output_type": "stream",
          "text": [
            "F_onewayResult(statistic=0.7911841520592814, pvalue=0.49868159692237835)\n"
          ],
          "name": "stdout"
        }
      ]
    },
    {
      "cell_type": "code",
      "metadata": {
        "id": "wYqxQE_F4Tsz",
        "colab_type": "code",
        "colab": {
          "base_uri": "https://localhost:8080/",
          "height": 34
        },
        "outputId": "9882eafa-67cd-40dc-de4d-bf133407a739"
      },
      "source": [
        "test_days(sales_tx_food)"
      ],
      "execution_count": 145,
      "outputs": [
        {
          "output_type": "stream",
          "text": [
            "F_onewayResult(statistic=31.675886350096928, pvalue=3.8239103133206e-20)\n"
          ],
          "name": "stdout"
        }
      ]
    },
    {
      "cell_type": "code",
      "metadata": {
        "id": "K_3Ip8k84ZIR",
        "colab_type": "code",
        "colab": {
          "base_uri": "https://localhost:8080/",
          "height": 34
        },
        "outputId": "8edcb5da-abff-42ee-fac5-a63acb66e71f"
      },
      "source": [
        "test_days(sales_tx_hobbie)"
      ],
      "execution_count": 146,
      "outputs": [
        {
          "output_type": "stream",
          "text": [
            "F_onewayResult(statistic=0.15363720254648075, pvalue=0.9273819443951006)\n"
          ],
          "name": "stdout"
        }
      ]
    },
    {
      "cell_type": "code",
      "metadata": {
        "id": "PrxanyV24dOt",
        "colab_type": "code",
        "colab": {
          "base_uri": "https://localhost:8080/",
          "height": 34
        },
        "outputId": "0f5576c2-79bb-425e-b085-3cf06e8fd0ea"
      },
      "source": [
        "test_days(sales_wi_house)"
      ],
      "execution_count": 147,
      "outputs": [
        {
          "output_type": "stream",
          "text": [
            "F_onewayResult(statistic=0.33417460393025, pvalue=0.8006413783220793)\n"
          ],
          "name": "stdout"
        }
      ]
    },
    {
      "cell_type": "code",
      "metadata": {
        "id": "Pc0EID3s4hs5",
        "colab_type": "code",
        "colab": {
          "base_uri": "https://localhost:8080/",
          "height": 34
        },
        "outputId": "cee5b2d7-b0d8-4d11-80cd-2bf5a7754b67"
      },
      "source": [
        "test_days(sales_wi_food)"
      ],
      "execution_count": 148,
      "outputs": [
        {
          "output_type": "stream",
          "text": [
            "F_onewayResult(statistic=1.3290159310087062, pvalue=0.26308752674409586)\n"
          ],
          "name": "stdout"
        }
      ]
    },
    {
      "cell_type": "code",
      "metadata": {
        "id": "TacC0hGW4oKV",
        "colab_type": "code",
        "colab": {
          "base_uri": "https://localhost:8080/",
          "height": 34
        },
        "outputId": "646acd2e-95ec-4a1b-e7e4-28f571d24554"
      },
      "source": [
        "test_days(sales_wi_hobbie)"
      ],
      "execution_count": 150,
      "outputs": [
        {
          "output_type": "stream",
          "text": [
            "F_onewayResult(statistic=0.54753660865209, pvalue=0.6498080621040208)\n"
          ],
          "name": "stdout"
        }
      ]
    },
    {
      "cell_type": "code",
      "metadata": {
        "id": "TLfS3cNZ5AeI",
        "colab_type": "code",
        "colab": {}
      },
      "source": [
        "year = calendar_train['year'].unique().tolist()"
      ],
      "execution_count": 0,
      "outputs": []
    },
    {
      "cell_type": "code",
      "metadata": {
        "id": "0JVl8pSv7GMs",
        "colab_type": "code",
        "colab": {}
      },
      "source": [
        "def year_sales(a,y,m,n,o,p,q,r):\n",
        "  b=a['year']\n",
        "  if(b==year[0]):\n",
        "    m.append(y[a['d']])\n",
        "  if(b==year[1]):\n",
        "    n.append(y[a['d']])\n",
        "  if(b==year[2]):\n",
        "    o.append(y[a['d']])\n",
        "  if(b==year[3]):\n",
        "    p.append(y[a['d']])\n",
        "  if(b==year[4]):\n",
        "    q.append(y[a['d']])\n",
        "  if(b==year[5]):\n",
        "    r.append(y[a['d']])\n",
        "  "
      ],
      "execution_count": 0,
      "outputs": []
    },
    {
      "cell_type": "code",
      "metadata": {
        "id": "MvhyRlhW8OuN",
        "colab_type": "code",
        "colab": {}
      },
      "source": [
        "def test_year(a):\n",
        "  (m,n,o,p,q,r) = ([],[],[],[],[],[])\n",
        "  calendar_train.apply(lambda x:year_sales(x,a,m,n,o,p,q,r),axis=1)\n",
        "  print(stats.f_oneway(m,n,o,p,q,r),mean(m),mean(n),mean(o),mean(p),mean(q),mean(r))"
      ],
      "execution_count": 0,
      "outputs": []
    },
    {
      "cell_type": "code",
      "metadata": {
        "id": "TfjdcIbE8zms",
        "colab_type": "code",
        "colab": {
          "base_uri": "https://localhost:8080/",
          "height": 54
        },
        "outputId": "930ac7b6-e479-4d7c-f1ae-55ccbac5abc8"
      },
      "source": [
        "test_year(sales_store_ca_household)"
      ],
      "execution_count": 168,
      "outputs": [
        {
          "output_type": "stream",
          "text": [
            "F_onewayResult(statistic=308.5122564291048, pvalue=2.3949718784566065e-242) 486.02967359050444 607.5081967213115 779.7397260273973 827.2246575342466 970.827397260274 988.4869565217391\n"
          ],
          "name": "stdout"
        }
      ]
    },
    {
      "cell_type": "code",
      "metadata": {
        "id": "ayeH_AMf9mX-",
        "colab_type": "code",
        "colab": {
          "base_uri": "https://localhost:8080/",
          "height": 54
        },
        "outputId": "ee20cc8b-7636-48e2-d425-0ca3463496f7"
      },
      "source": [
        "test_year(sales_store_ca_food)"
      ],
      "execution_count": 169,
      "outputs": [
        {
          "output_type": "stream",
          "text": [
            "F_onewayResult(statistic=66.84619341751892, pvalue=1.7211767980334215e-64) 2239.207715133531 2869.8224043715845 2973.1753424657536 3018.304109589041 2891.5972602739726 2900.3217391304347\n"
          ],
          "name": "stdout"
        }
      ]
    },
    {
      "cell_type": "code",
      "metadata": {
        "id": "SVx_tyL49r4L",
        "colab_type": "code",
        "colab": {
          "base_uri": "https://localhost:8080/",
          "height": 54
        },
        "outputId": "97edffb2-77c0-43ab-b337-cb50fd3b5c0f"
      },
      "source": [
        "test_year(sales_store_ca_hobbie)"
      ],
      "execution_count": 170,
      "outputs": [
        {
          "output_type": "stream",
          "text": [
            "F_onewayResult(statistic=112.67097274731364, pvalue=1.5991610307131034e-104) 422.51632047477744 365.379781420765 462.2630136986301 477.56986301369864 539.9397260273972 525.6\n"
          ],
          "name": "stdout"
        }
      ]
    },
    {
      "cell_type": "code",
      "metadata": {
        "id": "uJhOb_8b9wXg",
        "colab_type": "code",
        "colab": {
          "base_uri": "https://localhost:8080/",
          "height": 54
        },
        "outputId": "8485b98c-6684-41f5-c339-c71a9289889c"
      },
      "source": [
        "test_year(sales_tx_household)"
      ],
      "execution_count": 171,
      "outputs": [
        {
          "output_type": "stream",
          "text": [
            "F_onewayResult(statistic=368.87158385855673, pvalue=5.129057413472617e-277) 444.86053412462905 653.0655737704918 783.3808219178082 751.413698630137 907.4767123287671 935.9130434782609\n"
          ],
          "name": "stdout"
        }
      ]
    },
    {
      "cell_type": "code",
      "metadata": {
        "id": "Xy6K1Kkp91lx",
        "colab_type": "code",
        "colab": {
          "base_uri": "https://localhost:8080/",
          "height": 54
        },
        "outputId": "5fd977d1-335a-4e38-a440-1eaed6561d1c"
      },
      "source": [
        "test_year(sales_tx_food)"
      ],
      "execution_count": 172,
      "outputs": [
        {
          "output_type": "stream",
          "text": [
            "F_onewayResult(statistic=30.819685550532547, pvalue=3.0648595501016898e-30) 1741.3857566765578 2067.3251366120217 2021.868493150685 2053.309589041096 1966.4465753424658 1995.895652173913\n"
          ],
          "name": "stdout"
        }
      ]
    },
    {
      "cell_type": "code",
      "metadata": {
        "id": "5WQ_tACS95eU",
        "colab_type": "code",
        "colab": {
          "base_uri": "https://localhost:8080/",
          "height": 54
        },
        "outputId": "4ed20f6c-2483-4710-8ebc-ee1e6f094b0a"
      },
      "source": [
        "test_year(sales_tx_hobbie)"
      ],
      "execution_count": 173,
      "outputs": [
        {
          "output_type": "stream",
          "text": [
            "F_onewayResult(statistic=154.97680740752804, pvalue=2.167315722008838e-138) 186.32344213649853 187.01639344262296 223.70958904109588 224.21917808219177 280.1890410958904 278.97391304347826\n"
          ],
          "name": "stdout"
        }
      ]
    },
    {
      "cell_type": "code",
      "metadata": {
        "id": "wy4OiwV49838",
        "colab_type": "code",
        "colab": {
          "base_uri": "https://localhost:8080/",
          "height": 54
        },
        "outputId": "43322d2d-d387-4edb-f404-19ff2d3566fd"
      },
      "source": [
        "test_year(sales_wi_house)"
      ],
      "execution_count": 174,
      "outputs": [
        {
          "output_type": "stream",
          "text": [
            "F_onewayResult(statistic=260.20036692287243, pvalue=2.393042091996528e-212) 372.49554896142433 467.07923497267757 528.4657534246576 595.4246575342465 717.0876712328767 752.8260869565217\n"
          ],
          "name": "stdout"
        }
      ]
    },
    {
      "cell_type": "code",
      "metadata": {
        "id": "o5uY5sEj-ALq",
        "colab_type": "code",
        "colab": {
          "base_uri": "https://localhost:8080/",
          "height": 54
        },
        "outputId": "494f7068-ddd8-48a3-f4ba-03715f3d8f54"
      },
      "source": [
        "test_year(sales_wi_food)"
      ],
      "execution_count": 175,
      "outputs": [
        {
          "output_type": "stream",
          "text": [
            "F_onewayResult(statistic=606.9553114533361, pvalue=0.0) 902.5281899109792 1239.4863387978141 1944.676712328767 2204.567123287671 2371.268493150685 2613.573913043478\n"
          ],
          "name": "stdout"
        }
      ]
    },
    {
      "cell_type": "code",
      "metadata": {
        "id": "O6cAeIlu-FCP",
        "colab_type": "code",
        "colab": {
          "base_uri": "https://localhost:8080/",
          "height": 54
        },
        "outputId": "00b84111-1ede-4f7e-840c-f3766ba0932e"
      },
      "source": [
        "test_year(sales_wi_hobbie)"
      ],
      "execution_count": 176,
      "outputs": [
        {
          "output_type": "stream",
          "text": [
            "F_onewayResult(statistic=68.70487992641657, pvalue=3.4462397315620876e-66) 327.4124629080119 275.3688524590164 324.3753424657534 361.15616438356165 404.586301369863 405.9130434782609\n"
          ],
          "name": "stdout"
        }
      ]
    },
    {
      "cell_type": "code",
      "metadata": {
        "id": "0g3Ug0ooh6xC",
        "colab_type": "code",
        "colab": {}
      },
      "source": [
        "def snap_sales(a,s,y,m,n):\n",
        "  b=a['snap_'+s]\n",
        "  if(b==1):\n",
        "    m.append(y[a['d']])\n",
        "  else:\n",
        "    n.append(y[a['d']])"
      ],
      "execution_count": 0,
      "outputs": []
    },
    {
      "cell_type": "code",
      "metadata": {
        "id": "XzkcU7ZaiMYa",
        "colab_type": "code",
        "colab": {}
      },
      "source": [
        "def event_sales(a,y,m,n):\n",
        "  b=a['event_name_1']\n",
        "  if(b!=0):\n",
        "    m.append(y[a['d']])\n",
        "  else:\n",
        "    n.append(y[a['d']])"
      ],
      "execution_count": 0,
      "outputs": []
    },
    {
      "cell_type": "code",
      "metadata": {
        "id": "DtGguxo3if8C",
        "colab_type": "code",
        "colab": {}
      },
      "source": [
        "def test_snap(a,b):\n",
        "  (snap,normal) = ([],[])\n",
        "  calendar_train.apply(lambda x:snap_sales(x,b,a,snap,normal),axis=1)\n",
        "  print(stats.ttest_ind(snap,normal,equal_var=False))"
      ],
      "execution_count": 0,
      "outputs": []
    },
    {
      "cell_type": "code",
      "metadata": {
        "id": "AFSlC5d0i8zf",
        "colab_type": "code",
        "colab": {}
      },
      "source": [
        "def test_event(a):\n",
        "  (event,normal)=([],[])\n",
        "  calendar_train.apply(lambda x:event_sales(x,a,event,normal),axis=1)\n",
        "  print(stats.ttest_ind(event,normal,equal_var=False))"
      ],
      "execution_count": 0,
      "outputs": []
    },
    {
      "cell_type": "code",
      "metadata": {
        "id": "4wwVaqEXoK44",
        "colab_type": "code",
        "colab": {
          "base_uri": "https://localhost:8080/",
          "height": 34
        },
        "outputId": "d9f73038-a6ba-4484-a0f4-05d5e8be1405"
      },
      "source": [
        "test_event(sales_store_ca_household)"
      ],
      "execution_count": 41,
      "outputs": [
        {
          "output_type": "stream",
          "text": [
            "Ttest_indResult(statistic=-2.74011176206507, pvalue=0.006768274954071859)\n"
          ],
          "name": "stdout"
        }
      ]
    },
    {
      "cell_type": "code",
      "metadata": {
        "id": "NY6cH3aToRWS",
        "colab_type": "code",
        "colab": {
          "base_uri": "https://localhost:8080/",
          "height": 34
        },
        "outputId": "267f6f6e-7b00-44c9-a7d2-97a8cf454660"
      },
      "source": [
        "test_event(sales_store_ca_food)"
      ],
      "execution_count": 42,
      "outputs": [
        {
          "output_type": "stream",
          "text": [
            "Ttest_indResult(statistic=-2.210696059450693, pvalue=0.02837305650560974)\n"
          ],
          "name": "stdout"
        }
      ]
    },
    {
      "cell_type": "code",
      "metadata": {
        "id": "7xiUuJotoWQO",
        "colab_type": "code",
        "colab": {
          "base_uri": "https://localhost:8080/",
          "height": 34
        },
        "outputId": "b17a999c-26c9-4442-a422-53dd40360a7f"
      },
      "source": [
        "test_event(sales_store_ca_hobbie)"
      ],
      "execution_count": 43,
      "outputs": [
        {
          "output_type": "stream",
          "text": [
            "Ttest_indResult(statistic=-4.707391312110446, pvalue=5.087987768519336e-06)\n"
          ],
          "name": "stdout"
        }
      ]
    },
    {
      "cell_type": "code",
      "metadata": {
        "id": "oSRAky3ZocBj",
        "colab_type": "code",
        "colab": {
          "base_uri": "https://localhost:8080/",
          "height": 34
        },
        "outputId": "c08a8b7a-51ea-4a10-a892-f14693cc388b"
      },
      "source": [
        "test_event(sales_tx_household)"
      ],
      "execution_count": 44,
      "outputs": [
        {
          "output_type": "stream",
          "text": [
            "Ttest_indResult(statistic=-1.090210833521166, pvalue=0.277127712528917)\n"
          ],
          "name": "stdout"
        }
      ]
    },
    {
      "cell_type": "code",
      "metadata": {
        "id": "TyacVk8KohWY",
        "colab_type": "code",
        "colab": {
          "base_uri": "https://localhost:8080/",
          "height": 34
        },
        "outputId": "a03974cc-8ac0-43c5-8205-1c5ea86f2cbf"
      },
      "source": [
        "test_event(sales_tx_food)"
      ],
      "execution_count": 45,
      "outputs": [
        {
          "output_type": "stream",
          "text": [
            "Ttest_indResult(statistic=0.8059783064652628, pvalue=0.4214087828622609)\n"
          ],
          "name": "stdout"
        }
      ]
    },
    {
      "cell_type": "code",
      "metadata": {
        "id": "dkoSySVxomRH",
        "colab_type": "code",
        "colab": {
          "base_uri": "https://localhost:8080/",
          "height": 34
        },
        "outputId": "3b1cb907-4193-463e-fac6-213819f65e48"
      },
      "source": [
        "test_event(sales_tx_hobbie)"
      ],
      "execution_count": 46,
      "outputs": [
        {
          "output_type": "stream",
          "text": [
            "Ttest_indResult(statistic=-1.6824060240044794, pvalue=0.094278888197576)\n"
          ],
          "name": "stdout"
        }
      ]
    },
    {
      "cell_type": "code",
      "metadata": {
        "id": "l-1BRSVmorjr",
        "colab_type": "code",
        "colab": {
          "base_uri": "https://localhost:8080/",
          "height": 34
        },
        "outputId": "4adfb9ac-2de2-4e52-c932-e9cacf16215e"
      },
      "source": [
        "test_event(sales_wi_food)"
      ],
      "execution_count": 47,
      "outputs": [
        {
          "output_type": "stream",
          "text": [
            "Ttest_indResult(statistic=-2.4923640772726787, pvalue=0.01359224002632045)\n"
          ],
          "name": "stdout"
        }
      ]
    },
    {
      "cell_type": "code",
      "metadata": {
        "id": "A5j99d-Yov5B",
        "colab_type": "code",
        "colab": {
          "base_uri": "https://localhost:8080/",
          "height": 34
        },
        "outputId": "ab244532-8381-4de4-b0b6-cfdefab84347"
      },
      "source": [
        "test_event(sales_wi_house)"
      ],
      "execution_count": 48,
      "outputs": [
        {
          "output_type": "stream",
          "text": [
            "Ttest_indResult(statistic=-4.082190480220763, pvalue=6.735888411693606e-05)\n"
          ],
          "name": "stdout"
        }
      ]
    },
    {
      "cell_type": "code",
      "metadata": {
        "id": "U_ksLSgHo3nJ",
        "colab_type": "code",
        "colab": {
          "base_uri": "https://localhost:8080/",
          "height": 34
        },
        "outputId": "e2eb0bfd-fdd3-425d-ddf4-8e7688e89825"
      },
      "source": [
        "test_event(sales_wi_hobbie)"
      ],
      "execution_count": 49,
      "outputs": [
        {
          "output_type": "stream",
          "text": [
            "Ttest_indResult(statistic=-5.604643454407631, pvalue=7.588820406055404e-08)\n"
          ],
          "name": "stdout"
        }
      ]
    },
    {
      "cell_type": "code",
      "metadata": {
        "id": "0o5-oSdeo-DS",
        "colab_type": "code",
        "colab": {
          "base_uri": "https://localhost:8080/",
          "height": 34
        },
        "outputId": "e22b5631-2f2b-470d-ce96-5ae5381d9a88"
      },
      "source": [
        "test_snap(sales_store_ca_food,'CA')"
      ],
      "execution_count": 51,
      "outputs": [
        {
          "output_type": "stream",
          "text": [
            "Ttest_indResult(statistic=9.910573178454083, pvalue=2.33202280371929e-22)\n"
          ],
          "name": "stdout"
        }
      ]
    },
    {
      "cell_type": "code",
      "metadata": {
        "id": "NEn3bNWwpKtP",
        "colab_type": "code",
        "colab": {
          "base_uri": "https://localhost:8080/",
          "height": 34
        },
        "outputId": "065760ff-4242-475b-af9d-54c3c5867de0"
      },
      "source": [
        "test_snap(sales_store_ca_household,'CA')"
      ],
      "execution_count": 52,
      "outputs": [
        {
          "output_type": "stream",
          "text": [
            "Ttest_indResult(statistic=3.0483536055708225, pvalue=0.0023494694845764886)\n"
          ],
          "name": "stdout"
        }
      ]
    },
    {
      "cell_type": "code",
      "metadata": {
        "id": "pGknni-gpQSK",
        "colab_type": "code",
        "colab": {
          "base_uri": "https://localhost:8080/",
          "height": 34
        },
        "outputId": "55bd4f1d-41e6-4663-c6e4-f51de392b873"
      },
      "source": [
        "test_snap(sales_store_ca_hobbie,'CA')"
      ],
      "execution_count": 53,
      "outputs": [
        {
          "output_type": "stream",
          "text": [
            "Ttest_indResult(statistic=3.343155976509487, pvalue=0.0008543719501395245)\n"
          ],
          "name": "stdout"
        }
      ]
    },
    {
      "cell_type": "code",
      "metadata": {
        "id": "ZfSn3WNppWfe",
        "colab_type": "code",
        "colab": {
          "base_uri": "https://localhost:8080/",
          "height": 34
        },
        "outputId": "21b6f2e8-c2b1-417c-f439-19076719bd03"
      },
      "source": [
        "test_snap(sales_tx_household,'TX')"
      ],
      "execution_count": 54,
      "outputs": [
        {
          "output_type": "stream",
          "text": [
            "Ttest_indResult(statistic=2.0629636524747252, pvalue=0.039323844559423636)\n"
          ],
          "name": "stdout"
        }
      ]
    },
    {
      "cell_type": "code",
      "metadata": {
        "id": "LIWgSUunpbDB",
        "colab_type": "code",
        "colab": {
          "base_uri": "https://localhost:8080/",
          "height": 34
        },
        "outputId": "3055f269-5187-451d-cbae-40f616d32fab"
      },
      "source": [
        "test_snap(sales_tx_food,'TX')"
      ],
      "execution_count": 55,
      "outputs": [
        {
          "output_type": "stream",
          "text": [
            "Ttest_indResult(statistic=17.898644682221708, pvalue=3.012731986030727e-64)\n"
          ],
          "name": "stdout"
        }
      ]
    },
    {
      "cell_type": "code",
      "metadata": {
        "id": "PyVDLiJApf6Q",
        "colab_type": "code",
        "colab": {
          "base_uri": "https://localhost:8080/",
          "height": 34
        },
        "outputId": "3091c03d-358e-4c2d-d6ec-816677a14098"
      },
      "source": [
        "test_snap(sales_tx_hobbie,'TX')"
      ],
      "execution_count": 56,
      "outputs": [
        {
          "output_type": "stream",
          "text": [
            "Ttest_indResult(statistic=1.5144059912184007, pvalue=0.13017629136509573)\n"
          ],
          "name": "stdout"
        }
      ]
    },
    {
      "cell_type": "code",
      "metadata": {
        "id": "-StN_R9ups37",
        "colab_type": "code",
        "colab": {
          "base_uri": "https://localhost:8080/",
          "height": 34
        },
        "outputId": "b7e0e4ee-e2a2-4e3e-c080-c8c3b76c23cd"
      },
      "source": [
        "test_snap(sales_wi_house,'WI')"
      ],
      "execution_count": 57,
      "outputs": [
        {
          "output_type": "stream",
          "text": [
            "Ttest_indResult(statistic=0.8798088482604033, pvalue=0.3791307473590202)\n"
          ],
          "name": "stdout"
        }
      ]
    },
    {
      "cell_type": "code",
      "metadata": {
        "id": "t3D8R73Tpxw1",
        "colab_type": "code",
        "colab": {
          "base_uri": "https://localhost:8080/",
          "height": 34
        },
        "outputId": "3dca20aa-14ca-4526-dbc5-e2a64aec7754"
      },
      "source": [
        "test_snap(sales_wi_food,'WI')"
      ],
      "execution_count": 58,
      "outputs": [
        {
          "output_type": "stream",
          "text": [
            "Ttest_indResult(statistic=3.2146123154860105, pvalue=0.0013410436954393523)\n"
          ],
          "name": "stdout"
        }
      ]
    },
    {
      "cell_type": "code",
      "metadata": {
        "id": "oKe8kEmTp27W",
        "colab_type": "code",
        "colab": {
          "base_uri": "https://localhost:8080/",
          "height": 34
        },
        "outputId": "ad9a75ac-cd05-4339-8799-8bbf78631653"
      },
      "source": [
        "test_snap(sales_wi_hobbie,'WI')"
      ],
      "execution_count": 60,
      "outputs": [
        {
          "output_type": "stream",
          "text": [
            "Ttest_indResult(statistic=0.5233458891255773, pvalue=0.6008210275925401)\n"
          ],
          "name": "stdout"
        }
      ]
    },
    {
      "cell_type": "code",
      "metadata": {
        "id": "UxS1AAWm-t7W",
        "colab_type": "code",
        "colab": {}
      },
      "source": [
        "column_ca_house = ['sales','monday','tuesday','wednesday','thursday','friday','saturday','sunday','is_weekend','is_weekday','summer','spring','winter','autumn','0-8','8-16','16-24','24-','pre_1','pre_2','post_1','post-2','post-3','post-4','post-5','is_event','is_snap','year']"
      ],
      "execution_count": 0,
      "outputs": []
    },
    {
      "cell_type": "code",
      "metadata": {
        "id": "Zq0rGPXNP0Uf",
        "colab_type": "code",
        "colab": {}
      },
      "source": [
        "for i in range(1,15):\n",
        "  column_ca_house.append('pre_snap_'+str(i))\n",
        "  column_ca_house.append('post_snap_'+str(i))"
      ],
      "execution_count": 0,
      "outputs": []
    },
    {
      "cell_type": "code",
      "metadata": {
        "id": "T4FTCOukQJxj",
        "colab_type": "code",
        "colab": {}
      },
      "source": [
        "column_ca_house"
      ],
      "execution_count": 0,
      "outputs": []
    },
    {
      "cell_type": "code",
      "metadata": {
        "id": "RvoCVSaCQNmK",
        "colab_type": "code",
        "colab": {}
      },
      "source": [
        "column_ca_food = ['sales','monday','tuesday','wednesday','thursday','friday','saturday','sunday','is_weekend','is_weekday','summer','spring','winter','autumn','0-8','8-16','16-24','24-','is_event','is_snap','year']"
      ],
      "execution_count": 0,
      "outputs": []
    },
    {
      "cell_type": "code",
      "metadata": {
        "id": "fk1aOJi4R2yS",
        "colab_type": "code",
        "colab": {}
      },
      "source": [
        "for i in range(1,27):\n",
        "  column_ca_food.append('post_event_'+str(i))"
      ],
      "execution_count": 0,
      "outputs": []
    },
    {
      "cell_type": "code",
      "metadata": {
        "id": "fnTYWy2QSDyZ",
        "colab_type": "code",
        "colab": {}
      },
      "source": [
        "for i in range(1,6):\n",
        "  column_ca_food.append('pre_event_'+str(i))"
      ],
      "execution_count": 0,
      "outputs": []
    },
    {
      "cell_type": "code",
      "metadata": {
        "id": "K5Hn7YsxSYru",
        "colab_type": "code",
        "colab": {}
      },
      "source": [
        "for i in range(1,19):\n",
        "  column_ca_food.append('post_snap_'+str(i))"
      ],
      "execution_count": 0,
      "outputs": []
    },
    {
      "cell_type": "code",
      "metadata": {
        "id": "pA-KeEChSgvR",
        "colab_type": "code",
        "colab": {}
      },
      "source": [
        "for i in range(1,18):\n",
        "  column_ca_food.append('pre_snap_'+str(i))"
      ],
      "execution_count": 0,
      "outputs": []
    },
    {
      "cell_type": "code",
      "metadata": {
        "id": "n32zN2EITAHR",
        "colab_type": "code",
        "colab": {}
      },
      "source": [
        "column_ca_food"
      ],
      "execution_count": 0,
      "outputs": []
    }
  ]
}