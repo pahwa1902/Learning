{
  "nbformat": 4,
  "nbformat_minor": 0,
  "metadata": {
    "colab": {
      "name": "VehicleLoanDefault.ipynb",
      "provenance": [],
      "include_colab_link": true
    },
    "kernelspec": {
      "name": "python3",
      "display_name": "Python 3"
    }
  },
  "cells": [
    {
      "cell_type": "markdown",
      "metadata": {
        "id": "view-in-github",
        "colab_type": "text"
      },
      "source": [
        "<a href=\"https://colab.research.google.com/github/pahwa1902/Learning/blob/master/VehicleLoanDefault.ipynb\" target=\"_parent\"><img src=\"https://colab.research.google.com/assets/colab-badge.svg\" alt=\"Open In Colab\"/></a>"
      ]
    },
    {
      "cell_type": "code",
      "metadata": {
        "id": "-6pBTBFRRIE9",
        "outputId": "9eed0fb5-9b49-4732-e1ca-56c6eab769fc",
        "colab": {
          "base_uri": "https://localhost:8080/",
          "height": 34
        }
      },
      "source": [
        "from google.colab import drive\n",
        "drive.mount('/content/drive')"
      ],
      "execution_count": 270,
      "outputs": [
        {
          "output_type": "stream",
          "text": [
            "Drive already mounted at /content/drive; to attempt to forcibly remount, call drive.mount(\"/content/drive\", force_remount=True).\n"
          ],
          "name": "stdout"
        }
      ]
    },
    {
      "cell_type": "code",
      "metadata": {
        "id": "28HHQebWRSUl"
      },
      "source": [
        "import pandas as pd\n",
        "import numpy as np\n",
        "import matplotlib.pyplot as plt\n",
        "from sklearn import preprocessing, ensemble\n",
        "from sklearn.metrics import accuracy_score, precision_score, classification_report, f1_score\n",
        "from sklearn import linear_model\n",
        "from sklearn.tree import DecisionTreeClassifier\n",
        "from sklearn import svm\n",
        "import random\n",
        "from sklearn.feature_extraction import FeatureHasher\n",
        "import tensorflow as tf\n",
        "import seaborn as sns\n",
        "from scipy import stats"
      ],
      "execution_count": 271,
      "outputs": []
    },
    {
      "cell_type": "code",
      "metadata": {
        "id": "b6d5FPARRUaI"
      },
      "source": [
        "train_data = pd.read_csv('/content/drive/My Drive/LoanData/train.csv')\n",
        "test_data = pd.read_csv('/content/drive/My Drive/LoanData/test_bqCt9Pv.csv')"
      ],
      "execution_count": 627,
      "outputs": []
    },
    {
      "cell_type": "code",
      "metadata": {
        "id": "XRnrWZURxkMO",
        "outputId": "ac12cc57-c988-4682-b15f-f59e30f810c5",
        "colab": {
          "base_uri": "https://localhost:8080/",
          "height": 316
        }
      },
      "source": [
        "label_dist = train_data.groupby('loan_default').size()\n",
        "plt.pie(label_dist,labels=['not_default','default'])"
      ],
      "execution_count": 110,
      "outputs": [
        {
          "output_type": "execute_result",
          "data": {
            "text/plain": [
              "([<matplotlib.patches.Wedge at 0x7f7321cb8588>,\n",
              "  <matplotlib.patches.Wedge at 0x7f7321cb8ac8>],\n",
              " [Text(-0.85398028147408, 0.6933380696698049, 'not_default'),\n",
              "  Text(0.8539802814740799, -0.693338069669805, 'default')])"
            ]
          },
          "metadata": {
            "tags": []
          },
          "execution_count": 110
        },
        {
          "output_type": "display_data",
          "data": {
            "image/png": "[encoded data removed]",
            "text/plain": [
              "<Figure size 432x288 with 1 Axes>"
            ]
          },
          "metadata": {
            "tags": []
          }
        }
      ]
    },
    {
      "cell_type": "code",
      "metadata": {
        "id": "EV7kp0cERWiu",
        "outputId": "9aabf182-2428-4d56-a233-b741dd472f9e",
        "colab": {
          "base_uri": "https://localhost:8080/",
          "height": 255
        }
      },
      "source": [
        "train_data.columns"
      ],
      "execution_count": null,
      "outputs": [
        {
          "output_type": "execute_result",
          "data": {
            "text/plain": [
              "Index(['UniqueID', 'disbursed_amount', 'asset_cost', 'ltv', 'branch_id',\n",
              "       'supplier_id', 'manufacturer_id', 'Current_pincode_ID', 'Date.of.Birth',\n",
              "       'Employment.Type', 'DisbursalDate', 'State_ID', 'Employee_code_ID',\n",
              "       'MobileNo_Avl_Flag', 'Aadhar_flag', 'PAN_flag', 'VoterID_flag',\n",
              "       'Driving_flag', 'Passport_flag', 'PERFORM_CNS.SCORE',\n",
              "       'PERFORM_CNS.SCORE.DESCRIPTION', 'PRI.NO.OF.ACCTS', 'PRI.ACTIVE.ACCTS',\n",
              "       'PRI.OVERDUE.ACCTS', 'PRI.CURRENT.BALANCE', 'PRI.SANCTIONED.AMOUNT',\n",
              "       'PRI.DISBURSED.AMOUNT', 'SEC.NO.OF.ACCTS', 'SEC.ACTIVE.ACCTS',\n",
              "       'SEC.OVERDUE.ACCTS', 'SEC.CURRENT.BALANCE', 'SEC.SANCTIONED.AMOUNT',\n",
              "       'SEC.DISBURSED.AMOUNT', 'PRIMARY.INSTAL.AMT', 'SEC.INSTAL.AMT',\n",
              "       'NEW.ACCTS.IN.LAST.SIX.MONTHS', 'DELINQUENT.ACCTS.IN.LAST.SIX.MONTHS',\n",
              "       'AVERAGE.ACCT.AGE', 'CREDIT.HISTORY.LENGTH', 'NO.OF_INQUIRIES',\n",
              "       'loan_default'],\n",
              "      dtype='object')"
            ]
          },
          "metadata": {
            "tags": []
          },
          "execution_count": 4
        }
      ]
    },
    {
      "cell_type": "code",
      "metadata": {
        "id": "b7ySKLVbQk7C"
      },
      "source": [
        "Bins_Pincode = 20\n",
        "Length = len(train_data)\n",
        "divide_flag = True\n",
        "Scale = 100\n",
        "Bucket = 5"
      ],
      "execution_count": 274,
      "outputs": []
    },
    {
      "cell_type": "code",
      "metadata": {
        "id": "JUPEiievpiKA"
      },
      "source": [
        "def generate_features(x,b,column):\n",
        "  data_value = str(x[b])\n",
        "  column.append(data_value)"
      ],
      "execution_count": 275,
      "outputs": []
    },
    {
      "cell_type": "code",
      "metadata": {
        "id": "rQby967Aq1HF"
      },
      "source": [
        "def feature_hashing(data,train,b):\n",
        "  data_column = []\n",
        "  data.apply(lambda x:generate_features(x,b,data_column),axis=1)\n",
        "  if (train):\n",
        "    h = FeatureHasher(n_features=Bucket,input_type='string')\n",
        "    hash_values = h.fit_transform(data_column)\n",
        "    \n",
        "  else:\n",
        "    hash_values = h.transform(data_column)\n",
        "  new_data = pd.concat([data,assign_hash(hash_values)],axis=1)\n",
        "  return new_data"
      ],
      "execution_count": 276,
      "outputs": []
    },
    {
      "cell_type": "code",
      "metadata": {
        "id": "zLieUNuQuHoA"
      },
      "source": [
        "def assign_hash(hash_values):\n",
        "  \n",
        "  hash_dict = {\"hashing-\"+str(i):hash_values[:,i].toarray().reshape(-1,) for i in range(Bucket)}\n",
        "  hash_df = pd.DataFrame(hash_dict)\n",
        "  return hash_df"
      ],
      "execution_count": 277,
      "outputs": []
    },
    {
      "cell_type": "code",
      "metadata": {
        "id": "R9r9agUgLe_t"
      },
      "source": [
        "def replace_pin_data(x,value,data):\n",
        "  if (x in value):\n",
        "    data.append(1)\n",
        "  else:\n",
        "    data.append(0)"
      ],
      "execution_count": 278,
      "outputs": []
    },
    {
      "cell_type": "code",
      "metadata": {
        "id": "D3NMtHHTNyo5"
      },
      "source": [
        "def binpincode(data,column):\n",
        "  \n",
        "  pindata,b = pd.cut(data[column],Bins_Pincode,retbins=True)\n",
        "  bin = pindata.unique()\n",
        "  for i in range(len(bin)):\n",
        "    data_column=[]\n",
        "    data = data.reindex(columns=data.columns.tolist()+[\"pincode_bin_\"+str(i)])\n",
        "    data[column].apply(lambda x:replace_pin_data(x,bin[i],data_column))\n",
        "    data[\"pincode_bin_\"+str(i)] = data_column\n",
        "  return data"
      ],
      "execution_count": 279,
      "outputs": []
    },
    {
      "cell_type": "code",
      "metadata": {
        "id": "_nGvikP3gUSS",
        "outputId": "2cf6ee98-c772-49c9-8f43-bd31820322b8",
        "colab": {
          "base_uri": "https://localhost:8080/",
          "height": 316
        }
      },
      "source": [
        "train_data['Employment.Type'].unique()\n",
        "emp_data=train_data.groupby('Employment.Type').size()\n",
        "plt.pie(emp_data,labels=['Salaried','Self Employed'])"
      ],
      "execution_count": 192,
      "outputs": [
        {
          "output_type": "execute_result",
          "data": {
            "text/plain": [
              "([<matplotlib.patches.Wedge at 0x7efd40304ef0>,\n",
              "  <matplotlib.patches.Wedge at 0x7efd4065b470>],\n",
              " [Text(0.2265383130050059, 1.0764201748113262, 'Salaried'),\n",
              "  Text(-0.22653831300500626, -1.0764201748113262, 'Self Employed')])"
            ]
          },
          "metadata": {
            "tags": []
          },
          "execution_count": 192
        },
        {
          "output_type": "display_data",
          "data": {
            "image/png": "[encoded data removed]",
            "text/plain": [
              "<Figure size 432x288 with 1 Axes>"
            ]
          },
          "metadata": {
            "tags": []
          }
        }
      ]
    },
    {
      "cell_type": "code",
      "metadata": {
        "id": "2CaN9YPdrZJT"
      },
      "source": [
        "def date2days(data):\n",
        "  value = data.split()\n",
        "  \n",
        "  year = value[0]\n",
        "  year_value = int(year[0])\n",
        "  \n",
        "  if(len(value)>1):\n",
        "    month = value[1]\n",
        "    month_value = int(month[0])\n",
        "  else:\n",
        "    month_value = 0\n",
        "  days = (year_value*365 + (month_value//2)*30 + (month_value-(month_value//2))*31)\n",
        "  if(days>0):\n",
        "    return days\n",
        "  else:\n",
        "    return 1\n",
        "  \n"
      ],
      "execution_count": 280,
      "outputs": []
    },
    {
      "cell_type": "code",
      "metadata": {
        "id": "yRMt1ysGsZon"
      },
      "source": [
        "def transformdate(initial_data,column):\n",
        "  initial_data[column]=initial_data[column].apply(lambda x:date2days(x))\n",
        "  return initial_data"
      ],
      "execution_count": 281,
      "outputs": []
    },
    {
      "cell_type": "code",
      "metadata": {
        "id": "ITwRJ5rzqeUZ"
      },
      "source": [
        "def add_column(columns,data):\n",
        "  data=data.reindex(columns=data.columns.tolist()+columns)\n",
        "  return data"
      ],
      "execution_count": 282,
      "outputs": []
    },
    {
      "cell_type": "code",
      "metadata": {
        "id": "uVx498cExy3f"
      },
      "source": [
        "def replace_cat_data(x,value,data):\n",
        "  if(x==value):\n",
        "    data.append(1)\n",
        "  else:\n",
        "    data.append(0)"
      ],
      "execution_count": 283,
      "outputs": []
    },
    {
      "cell_type": "code",
      "metadata": {
        "id": "Mmlu1WPIrYDC"
      },
      "source": [
        "def cat2int(initial_data,columns):\n",
        "  for j in columns:\n",
        "    values = initial_data[j].unique().tolist()\n",
        "    data = add_column(values,initial_data)\n",
        "    for i in values:\n",
        "      data_column = []\n",
        "      data[j].apply(lambda x:replace_cat_data(x,i,data_column))\n",
        "      data[i] = data_column\n",
        "  return data"
      ],
      "execution_count": 284,
      "outputs": []
    },
    {
      "cell_type": "code",
      "metadata": {
        "id": "46uiyUWrlKIs"
      },
      "source": [
        "def div(x,column,a,b):\n",
        "  if(x[a]!=0 and x[b]!=0):\n",
        "    column.append(x[a]/x[b])\n",
        "  else:\n",
        "    column.append(1/Length)"
      ],
      "execution_count": 285,
      "outputs": []
    },
    {
      "cell_type": "code",
      "metadata": {
        "id": "m14ZeVMv3lW_"
      },
      "source": [
        "def divide_columns(a,b,result,initial_data):\n",
        "  if(divide_flag):\n",
        "    data = add_column([result],initial_data)\n",
        "    data[result] = (data[a]+1)/(data[b]+Length)\n",
        "  else:\n",
        "    data_column=[]\n",
        "    data.apply(div(data_column,a,b),axis=1)\n",
        "    data[result] = data_column\n",
        "  return data"
      ],
      "execution_count": 286,
      "outputs": []
    },
    {
      "cell_type": "code",
      "metadata": {
        "id": "pNnS3Jpm7QI5"
      },
      "source": [
        "def total_columns(a,b,result,initial_data):\n",
        "  data = add_column([result],initial_data)\n",
        "  data[result] = data[a]+data[b]\n",
        "  return data"
      ],
      "execution_count": 287,
      "outputs": []
    },
    {
      "cell_type": "code",
      "metadata": {
        "id": "NHxcsYcrKTcn"
      },
      "source": [
        "def difference_columns(a,b,result,initial_data):\n",
        "  data = add_column([result],initial_data)\n",
        "  data[result] = data[a]-data[b]\n",
        "  return data"
      ],
      "execution_count": 288,
      "outputs": []
    },
    {
      "cell_type": "code",
      "metadata": {
        "id": "NyrlqjFdefFo"
      },
      "source": [
        "def sqrttransform(columns,data):\n",
        "  for i in columns:\n",
        "    data[i] = np.sqrt(data[i])\n",
        "  return data"
      ],
      "execution_count": 553,
      "outputs": []
    },
    {
      "cell_type": "code",
      "metadata": {
        "id": "BDcSjANVHU3y"
      },
      "source": [
        "remove_columns = ['UniqueID','branch_id','supplier_id','manufacturer_id','Employee_code_ID','DisbursalDate','Date.of.Birth','DisbursalDate','State_ID','Current_pincode_ID','Employment.Type','PERFORM_CNS.SCORE.DESCRIPTION']\n",
        "categorical_columns = ['Employment.Type','PERFORM_CNS.SCORE.DESCRIPTION','State_ID']\n",
        "sqrt_columns = ['ltv','Age in days','AVERAGE.ACCT.AGE','CREDIT.HISTORY.LENGTH', 'NO.OF_INQUIRIES','DELINQUENT.ACCTS.IN.LAST.SIX.MONTHS','NEW.ACCTS.IN.LAST.SIX.MONTHS','PERFORM_CNS.SCORE','PRI.ACTIVE.ACCTS','PRI.OVERDUE.ACCTS','Proportion of active accounts',\n",
        "                'Proportion of inquries in credit history','Proportion of overdue accounts','total_active_accounts','total_overdue_accounts']\n"
      ],
      "execution_count": 628,
      "outputs": []
    },
    {
      "cell_type": "code",
      "metadata": {
        "id": "ebVClKVrLaoQ"
      },
      "source": [
        "final_train_label = train_data.pop('loan_default')"
      ],
      "execution_count": 629,
      "outputs": []
    },
    {
      "cell_type": "code",
      "metadata": {
        "id": "idYVgbfp70Y0"
      },
      "source": [
        "def transform_data(initial_data,train):\n",
        "  \n",
        "  data = cat2int(initial_data,categorical_columns)\n",
        "  \n",
        "  data = divide_columns('PRI.ACTIVE.ACCTS','PRI.NO.OF.ACCTS','Proportion of active accounts',data)\n",
        "  data = divide_columns('PRI.OVERDUE.ACCTS', 'PRI.ACTIVE.ACCTS','Proportion of overdue accounts',data)\n",
        "  \n",
        "  data = divide_columns('PRI.CURRENT.BALANCE','PRI.ACTIVE.ACCTS','Balance per account',data)\n",
        " \n",
        "  data = divide_columns('PRI.DISBURSED.AMOUNT','PRI.SANCTIONED.AMOUNT','Proportion of sanction amount disbursed',data)\n",
        "\n",
        "  data = total_columns('SEC.ACTIVE.ACCTS','PRI.ACTIVE.ACCTS','total_active_accounts',data)\n",
        "  data = total_columns('SEC.OVERDUE.ACCTS','PRI.OVERDUE.ACCTS','total_overdue_accounts',data)\n",
        "  data = total_columns('SEC.CURRENT.BALANCE','PRI.CURRENT.BALANCE','total_current_balance',data)\n",
        "  data = total_columns('SEC.DISBURSED.AMOUNT','PRI.DISBURSED.AMOUNT','total_disbursed_amount',data)\n",
        "  \n",
        "  data = difference_columns('DELINQUENT.ACCTS.IN.LAST.SIX.MONTHS','NEW.ACCTS.IN.LAST.SIX.MONTHS','Proportion of deliquent account',data)\n",
        "  \n",
        "  data = transformdate(data,'CREDIT.HISTORY.LENGTH')\n",
        "  data = divide_columns('NO.OF_INQUIRIES','CREDIT.HISTORY.LENGTH','Proportion of inquries in credit history',data)\n",
        "  \n",
        "  data = transformdate(data,'AVERAGE.ACCT.AGE')\n",
        "  data = difference_columns('CREDIT.HISTORY.LENGTH','AVERAGE.ACCT.AGE','difference in average account age and credit history',data)\n",
        "  \n",
        "  data['DisbursalDate'] = pd.to_datetime(data['DisbursalDate'])\n",
        "  data['Date.of.Birth'] = pd.to_datetime(data['Date.of.Birth'])\n",
        "  \n",
        "  data = difference_columns('DisbursalDate','Date.of.Birth','Age in days',data)\n",
        "  data['Age in days'] = data['Age in days'].dt.days\n",
        "  #data = feature_hashing(data,train,'Current_pincode_ID')\n",
        "  if(train):\n",
        "    negative_age = data[data['Age in days']<=0].index\n",
        "    data.drop(negative_age,axis=0,inplace=True)\n",
        "  else:\n",
        "    negative_age=[]\n",
        "  data = sqrttransform(sqrt_columns,data)\n",
        "  data = binpincode(data,'Current_pincode_ID')\n",
        "  data = data.drop(remove_columns,axis=1)\n",
        "  \n",
        "  return data, negative_age"
      ],
      "execution_count": 630,
      "outputs": []
    },
    {
      "cell_type": "code",
      "metadata": {
        "id": "bktWZZhGQywV"
      },
      "source": [
        "min_max_scaler = preprocessing.MinMaxScaler()"
      ],
      "execution_count": null,
      "outputs": []
    },
    {
      "cell_type": "code",
      "metadata": {
        "id": "AjEVlHGCQiWR"
      },
      "source": [
        "def normalize(data,columns):\n",
        "  for i in columns:\n",
        "    data[i] = ((data[i]-min(data[i]))/(max(data[i])-min(data[i])))*Scale\n",
        "  return data"
      ],
      "execution_count": 584,
      "outputs": []
    },
    {
      "cell_type": "code",
      "metadata": {
        "id": "r36NCS_Ppfjg"
      },
      "source": [
        "normalize_columns = ['disbursed_amount', 'asset_cost', 'ltv','PERFORM_CNS.SCORE','PRI.NO.OF.ACCTS', 'PRI.ACTIVE.ACCTS','PRI.OVERDUE.ACCTS', 'PRI.CURRENT.BALANCE', 'PRI.SANCTIONED.AMOUNT','PRI.DISBURSED.AMOUNT', 'SEC.NO.OF.ACCTS', 'SEC.ACTIVE.ACCTS','SEC.OVERDUE.ACCTS', 'SEC.CURRENT.BALANCE', 'SEC.SANCTIONED.AMOUNT','SEC.DISBURSED.AMOUNT', 'PRIMARY.INSTAL.AMT', 'SEC.INSTAL.AMT','NEW.ACCTS.IN.LAST.SIX.MONTHS', 'DELINQUENT.ACCTS.IN.LAST.SIX.MONTHS','AVERAGE.ACCT.AGE', 'CREDIT.HISTORY.LENGTH', 'NO.OF_INQUIRIES','total_active_accounts','total_overdue_accounts','total_current_balance','total_disbursed_amount','total_disbursed_amount','Proportion of inquries in credit history','difference in average account age and credit history','Age in days','Proportion of active accounts','Proportion of overdue accounts','Balance per account','Proportion of sanction amount disbursed']"
      ],
      "execution_count": 585,
      "outputs": []
    },
    {
      "cell_type": "code",
      "metadata": {
        "id": "XxOEUMflRNN7"
      },
      "source": [
        "final_train_data, negative_agedays = transform_data(train_data,True)\n"
      ],
      "execution_count": 631,
      "outputs": []
    },
    {
      "cell_type": "code",
      "metadata": {
        "id": "P-kpbCjoTVHw"
      },
      "source": [
        "final_train_label.drop(negative_agedays,axis=0,inplace=True)"
      ],
      "execution_count": 632,
      "outputs": []
    },
    {
      "cell_type": "code",
      "metadata": {
        "id": "US362ptcc-O8",
        "outputId": "99311b24-ef2a-4999-c1e0-da5ef205838e",
        "colab": {
          "base_uri": "https://localhost:8080/",
          "height": 350
        }
      },
      "source": [
        "sns.distplot(final_train_data['AVERAGE.ACCT.AGE'],label='account age')"
      ],
      "execution_count": 571,
      "outputs": [
        {
          "output_type": "stream",
          "text": [
            "/usr/local/lib/python3.6/dist-packages/seaborn/distributions.py:2551: FutureWarning: `distplot` is a deprecated function and will be removed in a future version. Please adapt your code to use either `displot` (a figure-level function with similar flexibility) or `histplot` (an axes-level function for histograms).\n",
            "  warnings.warn(msg, FutureWarning)\n"
          ],
          "name": "stderr"
        },
        {
          "output_type": "execute_result",
          "data": {
            "text/plain": [
              "<matplotlib.axes._subplots.AxesSubplot at 0x7efd1b026f60>"
            ]
          },
          "metadata": {
            "tags": []
          },
          "execution_count": 571
        },
        {
          "output_type": "display_data",
          "data": {
            "image/png": "[encoded data removed]",
            "text/plain": [
              "<Figure size 432x288 with 1 Axes>"
            ]
          },
          "metadata": {
            "tags": [],
            "needs_background": "light"
          }
        }
      ]
    },
    {
      "cell_type": "code",
      "metadata": {
        "id": "b8x-tnU5djrF",
        "outputId": "943944b7-43b9-4e45-c5b1-506cf1a5ab91",
        "colab": {
          "base_uri": "https://localhost:8080/",
          "height": 350
        }
      },
      "source": [
        "sns.distplot(final_train_data['CREDIT.HISTORY.LENGTH'],label='credit_history_length')"
      ],
      "execution_count": 565,
      "outputs": [
        {
          "output_type": "stream",
          "text": [
            "/usr/local/lib/python3.6/dist-packages/seaborn/distributions.py:2551: FutureWarning: `distplot` is a deprecated function and will be removed in a future version. Please adapt your code to use either `displot` (a figure-level function with similar flexibility) or `histplot` (an axes-level function for histograms).\n",
            "  warnings.warn(msg, FutureWarning)\n"
          ],
          "name": "stderr"
        },
        {
          "output_type": "execute_result",
          "data": {
            "text/plain": [
              "<matplotlib.axes._subplots.AxesSubplot at 0x7efd194f32b0>"
            ]
          },
          "metadata": {
            "tags": []
          },
          "execution_count": 565
        },
        {
          "output_type": "display_data",
          "data": {
            "image/png": "[encoded data removed]",
            "text/plain": [
              "<Figure size 432x288 with 1 Axes>"
            ]
          },
          "metadata": {
            "tags": [],
            "needs_background": "light"
          }
        }
      ]
    },
    {
      "cell_type": "code",
      "metadata": {
        "id": "iTr8x_9Nd0I1",
        "outputId": "db2c277b-09b6-4f1f-8ab7-c4de2aa702fb",
        "colab": {
          "base_uri": "https://localhost:8080/",
          "height": 350
        }
      },
      "source": [
        "sns.distplot(final_train_data['DELINQUENT.ACCTS.IN.LAST.SIX.MONTHS'],label='Deliquenet accounts')"
      ],
      "execution_count": 221,
      "outputs": [
        {
          "output_type": "stream",
          "text": [
            "/usr/local/lib/python3.6/dist-packages/seaborn/distributions.py:2551: FutureWarning: `distplot` is a deprecated function and will be removed in a future version. Please adapt your code to use either `displot` (a figure-level function with similar flexibility) or `histplot` (an axes-level function for histograms).\n",
            "  warnings.warn(msg, FutureWarning)\n"
          ],
          "name": "stderr"
        },
        {
          "output_type": "execute_result",
          "data": {
            "text/plain": [
              "<matplotlib.axes._subplots.AxesSubplot at 0x7efd40389390>"
            ]
          },
          "metadata": {
            "tags": []
          },
          "execution_count": 221
        },
        {
          "output_type": "display_data",
          "data": {
            "image/png": "[encoded data removed]",
            "text/plain": [
              "<Figure size 432x288 with 1 Axes>"
            ]
          },
          "metadata": {
            "tags": [],
            "needs_background": "light"
          }
        }
      ]
    },
    {
      "cell_type": "code",
      "metadata": {
        "id": "dx3BN_tCd93K",
        "outputId": "d6fa14c3-1a7d-47b4-c969-42719863c217",
        "colab": {
          "base_uri": "https://localhost:8080/",
          "height": 350
        }
      },
      "source": [
        "sns.distplot(final_train_data['difference in average account age and credit history'],label='difference in account age and credit history')"
      ],
      "execution_count": 222,
      "outputs": [
        {
          "output_type": "stream",
          "text": [
            "/usr/local/lib/python3.6/dist-packages/seaborn/distributions.py:2551: FutureWarning: `distplot` is a deprecated function and will be removed in a future version. Please adapt your code to use either `displot` (a figure-level function with similar flexibility) or `histplot` (an axes-level function for histograms).\n",
            "  warnings.warn(msg, FutureWarning)\n"
          ],
          "name": "stderr"
        },
        {
          "output_type": "execute_result",
          "data": {
            "text/plain": [
              "<matplotlib.axes._subplots.AxesSubplot at 0x7efd401936a0>"
            ]
          },
          "metadata": {
            "tags": []
          },
          "execution_count": 222
        },
        {
          "output_type": "display_data",
          "data": {
            "image/png": "[encoded data removed]",
            "text/plain": [
              "<Figure size 432x288 with 1 Axes>"
            ]
          },
          "metadata": {
            "tags": [],
            "needs_background": "light"
          }
        }
      ]
    },
    {
      "cell_type": "code",
      "metadata": {
        "id": "qda1cQr-eSDb",
        "outputId": "f2780b6e-68bb-4c78-f28a-4ab300789d2d",
        "colab": {
          "base_uri": "https://localhost:8080/",
          "height": 350
        }
      },
      "source": [
        "sns.distplot(final_train_data['ltv'],label='ltv')"
      ],
      "execution_count": 223,
      "outputs": [
        {
          "output_type": "stream",
          "text": [
            "/usr/local/lib/python3.6/dist-packages/seaborn/distributions.py:2551: FutureWarning: `distplot` is a deprecated function and will be removed in a future version. Please adapt your code to use either `displot` (a figure-level function with similar flexibility) or `histplot` (an axes-level function for histograms).\n",
            "  warnings.warn(msg, FutureWarning)\n"
          ],
          "name": "stderr"
        },
        {
          "output_type": "execute_result",
          "data": {
            "text/plain": [
              "<matplotlib.axes._subplots.AxesSubplot at 0x7efd3ffebac8>"
            ]
          },
          "metadata": {
            "tags": []
          },
          "execution_count": 223
        },
        {
          "output_type": "display_data",
          "data": {
            "image/png": "[encoded data removed]",
            "text/plain": [
              "<Figure size 432x288 with 1 Axes>"
            ]
          },
          "metadata": {
            "tags": [],
            "needs_background": "light"
          }
        }
      ]
    },
    {
      "cell_type": "code",
      "metadata": {
        "id": "asDBnRpuee0D",
        "outputId": "53b0563e-9349-4cca-e47e-fae50ebb3752",
        "colab": {
          "base_uri": "https://localhost:8080/",
          "height": 350
        }
      },
      "source": [
        "sns.distplot(final_train_data['NEW.ACCTS.IN.LAST.SIX.MONTHS'])"
      ],
      "execution_count": 226,
      "outputs": [
        {
          "output_type": "stream",
          "text": [
            "/usr/local/lib/python3.6/dist-packages/seaborn/distributions.py:2551: FutureWarning: `distplot` is a deprecated function and will be removed in a future version. Please adapt your code to use either `displot` (a figure-level function with similar flexibility) or `histplot` (an axes-level function for histograms).\n",
            "  warnings.warn(msg, FutureWarning)\n"
          ],
          "name": "stderr"
        },
        {
          "output_type": "execute_result",
          "data": {
            "text/plain": [
              "<matplotlib.axes._subplots.AxesSubplot at 0x7efd4050af60>"
            ]
          },
          "metadata": {
            "tags": []
          },
          "execution_count": 226
        },
        {
          "output_type": "display_data",
          "data": {
            "image/png": "[encoded data removed]",
            "text/plain": [
              "<Figure size 432x288 with 1 Axes>"
            ]
          },
          "metadata": {
            "tags": [],
            "needs_background": "light"
          }
        }
      ]
    },
    {
      "cell_type": "code",
      "metadata": {
        "id": "203lOcBmexZU",
        "outputId": "9ed8cde7-b10c-44bf-b489-534e9012ae68",
        "colab": {
          "base_uri": "https://localhost:8080/",
          "height": 353
        }
      },
      "source": [
        "sns.distplot(final_train_data['NO.OF_INQUIRIES'])"
      ],
      "execution_count": 227,
      "outputs": [
        {
          "output_type": "stream",
          "text": [
            "/usr/local/lib/python3.6/dist-packages/seaborn/distributions.py:2551: FutureWarning: `distplot` is a deprecated function and will be removed in a future version. Please adapt your code to use either `displot` (a figure-level function with similar flexibility) or `histplot` (an axes-level function for histograms).\n",
            "  warnings.warn(msg, FutureWarning)\n"
          ],
          "name": "stderr"
        },
        {
          "output_type": "execute_result",
          "data": {
            "text/plain": [
              "<matplotlib.axes._subplots.AxesSubplot at 0x7efd29f1d8d0>"
            ]
          },
          "metadata": {
            "tags": []
          },
          "execution_count": 227
        },
        {
          "output_type": "display_data",
          "data": {
            "image/png": "[encoded data removed]",
            "text/plain": [
              "<Figure size 432x288 with 1 Axes>"
            ]
          },
          "metadata": {
            "tags": [],
            "needs_background": "light"
          }
        }
      ]
    },
    {
      "cell_type": "code",
      "metadata": {
        "id": "GLoJAJd-e7Xn",
        "outputId": "8efc69c4-3543-4a4a-b4c7-a4f26a834a2c",
        "colab": {
          "base_uri": "https://localhost:8080/",
          "height": 351
        }
      },
      "source": [
        "sns.distplot(final_train_data['PERFORM_CNS.SCORE'])"
      ],
      "execution_count": 478,
      "outputs": [
        {
          "output_type": "stream",
          "text": [
            "/usr/local/lib/python3.6/dist-packages/seaborn/distributions.py:2551: FutureWarning: `distplot` is a deprecated function and will be removed in a future version. Please adapt your code to use either `displot` (a figure-level function with similar flexibility) or `histplot` (an axes-level function for histograms).\n",
            "  warnings.warn(msg, FutureWarning)\n"
          ],
          "name": "stderr"
        },
        {
          "output_type": "execute_result",
          "data": {
            "text/plain": [
              "<matplotlib.axes._subplots.AxesSubplot at 0x7efd286aa748>"
            ]
          },
          "metadata": {
            "tags": []
          },
          "execution_count": 478
        },
        {
          "output_type": "display_data",
          "data": {
            "image/png": "[encoded data removed]",
            "text/plain": [
              "<Figure size 432x288 with 1 Axes>"
            ]
          },
          "metadata": {
            "tags": [],
            "needs_background": "light"
          }
        }
      ]
    },
    {
      "cell_type": "code",
      "metadata": {
        "id": "XPt2n1HpXAg_",
        "outputId": "a9ce32d6-12b9-414c-bb2a-61ecb7d0a502",
        "colab": {
          "base_uri": "https://localhost:8080/",
          "height": 352
        }
      },
      "source": [
        "sns.distplot(final_train_data['Age in days'])"
      ],
      "execution_count": 575,
      "outputs": [
        {
          "output_type": "stream",
          "text": [
            "/usr/local/lib/python3.6/dist-packages/seaborn/distributions.py:2551: FutureWarning: `distplot` is a deprecated function and will be removed in a future version. Please adapt your code to use either `displot` (a figure-level function with similar flexibility) or `histplot` (an axes-level function for histograms).\n",
            "  warnings.warn(msg, FutureWarning)\n"
          ],
          "name": "stderr"
        },
        {
          "output_type": "execute_result",
          "data": {
            "text/plain": [
              "<matplotlib.axes._subplots.AxesSubplot at 0x7efd1d5a5400>"
            ]
          },
          "metadata": {
            "tags": []
          },
          "execution_count": 575
        },
        {
          "output_type": "display_data",
          "data": {
            "image/png": "[encoded data removed]",
            "text/plain": [
              "<Figure size 432x288 with 1 Axes>"
            ]
          },
          "metadata": {
            "tags": [],
            "needs_background": "light"
          }
        }
      ]
    },
    {
      "cell_type": "code",
      "metadata": {
        "id": "J255gNmRr5_Z"
      },
      "source": [
        "normalized_data = normalize(final_train_data,normalize_columns)"
      ],
      "execution_count": 633,
      "outputs": []
    },
    {
      "cell_type": "code",
      "metadata": {
        "id": "_iQImZN6va4b"
      },
      "source": [
        "data_length = int(0.95*len(normalized_data))\n",
        "train_normalize_data = normalized_data[:data_length]\n",
        "train_label = final_train_label[:data_length]\n",
        "\n",
        "validate_normalize_data = normalized_data[data_length:]\n",
        "valid_label = final_train_label[data_length:]"
      ],
      "execution_count": 634,
      "outputs": []
    },
    {
      "cell_type": "code",
      "metadata": {
        "id": "pMxzeNOQwLz6"
      },
      "source": [
        "logistic = linear_model.LogisticRegression(class_weight={1:4,0:1})\n"
      ],
      "execution_count": 635,
      "outputs": []
    },
    {
      "cell_type": "code",
      "metadata": {
        "id": "AxWmJojFwSPk"
      },
      "source": [
        "logistic.fit(train_normalize_data,train_label)"
      ],
      "execution_count": null,
      "outputs": []
    },
    {
      "cell_type": "code",
      "metadata": {
        "id": "XuP37kiww8Ix"
      },
      "source": [
        "predict = logistic.predict(validate_normalize_data)"
      ],
      "execution_count": 637,
      "outputs": []
    },
    {
      "cell_type": "code",
      "metadata": {
        "id": "uND9O3TlxB5V",
        "outputId": "46fa6cf8-8dcd-499e-dfc3-f715bf62af81",
        "colab": {
          "base_uri": "https://localhost:8080/",
          "height": 34
        }
      },
      "source": [
        "f1_score(predict,valid_label)"
      ],
      "execution_count": 638,
      "outputs": [
        {
          "output_type": "execute_result",
          "data": {
            "text/plain": [
              "0.41381700554528655"
            ]
          },
          "metadata": {
            "tags": []
          },
          "execution_count": 638
        }
      ]
    },
    {
      "cell_type": "code",
      "metadata": {
        "id": "wjT0DL_oBA98",
        "outputId": "c25f9c02-6173-4c68-f0bd-1dfd89cb80f0",
        "colab": {
          "base_uri": "https://localhost:8080/",
          "height": 170
        }
      },
      "source": [
        "print(classification_report(predict,valid_label))"
      ],
      "execution_count": 655,
      "outputs": [
        {
          "output_type": "stream",
          "text": [
            "              precision    recall  f1-score   support\n",
            "\n",
            "           0       0.46      0.84      0.59      4360\n",
            "           1       0.71      0.29      0.41      6148\n",
            "\n",
            "    accuracy                           0.52     10508\n",
            "   macro avg       0.58      0.56      0.50     10508\n",
            "weighted avg       0.61      0.52      0.49     10508\n",
            "\n"
          ],
          "name": "stdout"
        }
      ]
    },
    {
      "cell_type": "code",
      "metadata": {
        "id": "o8n0rkdTKNqJ",
        "outputId": "64339255-99c3-4271-95a8-07dd6aaec41a",
        "colab": {
          "base_uri": "https://localhost:8080/",
          "height": 51
        }
      },
      "source": [
        "final_test_data = transform_data(test_data,False)"
      ],
      "execution_count": 640,
      "outputs": [
        {
          "output_type": "stream",
          "text": [
            "/usr/local/lib/python3.6/dist-packages/pandas/core/series.py:726: RuntimeWarning: invalid value encountered in sqrt\n",
            "  result = getattr(ufunc, method)(*inputs, **kwargs)\n"
          ],
          "name": "stderr"
        }
      ]
    },
    {
      "cell_type": "code",
      "metadata": {
        "id": "4H3ClVS1qzR7"
      },
      "source": [
        "final_test_data"
      ],
      "execution_count": null,
      "outputs": []
    },
    {
      "cell_type": "code",
      "metadata": {
        "id": "rOYDN2hgMq8P"
      },
      "source": [
        "predict_test = logistic.predict(final_test_data)"
      ],
      "execution_count": null,
      "outputs": []
    },
    {
      "cell_type": "code",
      "metadata": {
        "id": "F58QlwZkM1qX"
      },
      "source": [
        "test_data = test_data.reindex(columns=final_test_data.columns.tolist()+['loan_default'])"
      ],
      "execution_count": 457,
      "outputs": []
    },
    {
      "cell_type": "code",
      "metadata": {
        "id": "zu_DLt1SM9Fs"
      },
      "source": [
        "test_data['loan_default'] = predict_test"
      ],
      "execution_count": null,
      "outputs": []
    },
    {
      "cell_type": "code",
      "metadata": {
        "id": "LAOHH0MRNJ7e"
      },
      "source": [
        "final_test_data.to_csv('test_data.csv')"
      ],
      "execution_count": 452,
      "outputs": []
    },
    {
      "cell_type": "code",
      "metadata": {
        "id": "bUEFY9OrOT6P",
        "outputId": "07901736-ce78-42be-fa78-4d59abc338bb",
        "colab": {
          "base_uri": "https://localhost:8080/",
          "height": 17
        }
      },
      "source": [
        "from google.colab import files\n",
        "files.download('test_data.csv')"
      ],
      "execution_count": 453,
      "outputs": [
        {
          "output_type": "display_data",
          "data": {
            "application/javascript": [
              "\n",
              "    async function download(id, filename, size) {\n",
              "      if (!google.colab.kernel.accessAllowed) {\n",
              "        return;\n",
              "      }\n",
              "      const div = document.createElement('div');\n",
              "      const label = document.createElement('label');\n",
              "      label.textContent = `Downloading \"${filename}\": `;\n",
              "      div.appendChild(label);\n",
              "      const progress = document.createElement('progress');\n",
              "      progress.max = size;\n",
              "      div.appendChild(progress);\n",
              "      document.body.appendChild(div);\n",
              "\n",
              "      const buffers = [];\n",
              "      let downloaded = 0;\n",
              "\n",
              "      const channel = await google.colab.kernel.comms.open(id);\n",
              "      // Send a message to notify the kernel that we're ready.\n",
              "      channel.send({})\n",
              "\n",
              "      for await (const message of channel.messages) {\n",
              "        // Send a message to notify the kernel that we're ready.\n",
              "        channel.send({})\n",
              "        if (message.buffers) {\n",
              "          for (const buffer of message.buffers) {\n",
              "            buffers.push(buffer);\n",
              "            downloaded += buffer.byteLength;\n",
              "            progress.value = downloaded;\n",
              "          }\n",
              "        }\n",
              "      }\n",
              "      const blob = new Blob(buffers, {type: 'application/binary'});\n",
              "      const a = document.createElement('a');\n",
              "      a.href = window.URL.createObjectURL(blob);\n",
              "      a.download = filename;\n",
              "      div.appendChild(a);\n",
              "      a.click();\n",
              "      div.remove();\n",
              "    }\n",
              "  "
            ],
            "text/plain": [
              "<IPython.core.display.Javascript object>"
            ]
          },
          "metadata": {
            "tags": []
          }
        },
        {
          "output_type": "display_data",
          "data": {
            "application/javascript": [
              "download(\"download_d5eb63d8-f3bf-4ca9-bad8-e4bde383b5c8\", \"test_data.csv\", 70607135)"
            ],
            "text/plain": [
              "<IPython.core.display.Javascript object>"
            ]
          },
          "metadata": {
            "tags": []
          }
        }
      ]
    }
  ]
}