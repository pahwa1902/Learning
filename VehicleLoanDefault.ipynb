{
  "nbformat": 4,
  "nbformat_minor": 0,
  "metadata": {
    "colab": {
      "name": "VehicleLoanDefault.ipynb",
      "provenance": [],
      "include_colab_link": true
    },
    "kernelspec": {
      "name": "python3",
      "display_name": "Python 3"
    }
  },
  "cells": [
    {
      "cell_type": "markdown",
      "metadata": {
        "id": "view-in-github",
        "colab_type": "text"
      },
      "source": [
        "<a href=\"https://colab.research.google.com/github/pahwa1902/Learning/blob/master/VehicleLoanDefault.ipynb\" target=\"_parent\"><img src=\"https://colab.research.google.com/assets/colab-badge.svg\" alt=\"Open In Colab\"/></a>"
      ]
    },
    {
      "cell_type": "code",
      "metadata": {
        "id": "-6pBTBFRRIE9",
        "outputId": "6e5ce40b-e3e0-4618-fef6-124ac4bfa9c5",
        "colab": {
          "base_uri": "https://localhost:8080/",
          "height": 34
        }
      },
      "source": [
        "from google.colab import drive\n",
        "drive.mount('/content/drive')"
      ],
      "execution_count": 52,
      "outputs": [
        {
          "output_type": "stream",
          "text": [
            "Drive already mounted at /content/drive; to attempt to forcibly remount, call drive.mount(\"/content/drive\", force_remount=True).\n"
          ],
          "name": "stdout"
        }
      ]
    },
    {
      "cell_type": "code",
      "metadata": {
        "id": "28HHQebWRSUl"
      },
      "source": [
        "import pandas as pd\n",
        "import numpy as np\n",
        "import matplotlib.pyplot as plt\n",
        "from sklearn import preprocessing, ensemble\n",
        "from sklearn.metrics import accuracy_score, precision_score, classification_report, f1_score\n",
        "from sklearn import linear_model\n",
        "from sklearn.tree import DecisionTreeClassifier\n",
        "from sklearn import svm\n",
        "import random"
      ],
      "execution_count": 164,
      "outputs": []
    },
    {
      "cell_type": "code",
      "metadata": {
        "id": "b6d5FPARRUaI"
      },
      "source": [
        "train_data = pd.read_csv('/content/drive/My Drive/LoanData/train.csv')\n",
        "test_data = pd.read_csv('/content/drive/My Drive/LoanData/test_bqCt9Pv.csv')"
      ],
      "execution_count": 239,
      "outputs": []
    },
    {
      "cell_type": "code",
      "metadata": {
        "id": "MXxeCJOaVUbD"
      },
      "source": [
        "train_data = train_data.sample(frac=1)"
      ],
      "execution_count": 240,
      "outputs": []
    },
    {
      "cell_type": "code",
      "metadata": {
        "id": "XRnrWZURxkMO",
        "outputId": "b34723bd-4023-4e59-e8c4-96f1a6944f58",
        "colab": {
          "base_uri": "https://localhost:8080/",
          "height": 316
        }
      },
      "source": [
        "label_dist = train_data.groupby('loan_default').size()\n",
        "plt.pie(label_dist,labels=['not_default','default'])"
      ],
      "execution_count": 97,
      "outputs": [
        {
          "output_type": "execute_result",
          "data": {
            "text/plain": [
              "([<matplotlib.patches.Wedge at 0x7f2181183be0>,\n",
              "  <matplotlib.patches.Wedge at 0x7f218118d160>],\n",
              " [Text(-0.85398028147408, 0.6933380696698049, 'not_default'),\n",
              "  Text(0.8539802814740799, -0.693338069669805, 'default')])"
            ]
          },
          "metadata": {
            "tags": []
          },
          "execution_count": 97
        },
        {
          "output_type": "display_data",
          "data": {
            "image/png": "[encoded data removed]",
            "text/plain": [
              "<Figure size 432x288 with 1 Axes>"
            ]
          },
          "metadata": {
            "tags": []
          }
        }
      ]
    },
    {
      "cell_type": "code",
      "metadata": {
        "id": "EV7kp0cERWiu",
        "outputId": "9aabf182-2428-4d56-a233-b741dd472f9e",
        "colab": {
          "base_uri": "https://localhost:8080/",
          "height": 255
        }
      },
      "source": [
        "train_data.columns"
      ],
      "execution_count": 4,
      "outputs": [
        {
          "output_type": "execute_result",
          "data": {
            "text/plain": [
              "Index(['UniqueID', 'disbursed_amount', 'asset_cost', 'ltv', 'branch_id',\n",
              "       'supplier_id', 'manufacturer_id', 'Current_pincode_ID', 'Date.of.Birth',\n",
              "       'Employment.Type', 'DisbursalDate', 'State_ID', 'Employee_code_ID',\n",
              "       'MobileNo_Avl_Flag', 'Aadhar_flag', 'PAN_flag', 'VoterID_flag',\n",
              "       'Driving_flag', 'Passport_flag', 'PERFORM_CNS.SCORE',\n",
              "       'PERFORM_CNS.SCORE.DESCRIPTION', 'PRI.NO.OF.ACCTS', 'PRI.ACTIVE.ACCTS',\n",
              "       'PRI.OVERDUE.ACCTS', 'PRI.CURRENT.BALANCE', 'PRI.SANCTIONED.AMOUNT',\n",
              "       'PRI.DISBURSED.AMOUNT', 'SEC.NO.OF.ACCTS', 'SEC.ACTIVE.ACCTS',\n",
              "       'SEC.OVERDUE.ACCTS', 'SEC.CURRENT.BALANCE', 'SEC.SANCTIONED.AMOUNT',\n",
              "       'SEC.DISBURSED.AMOUNT', 'PRIMARY.INSTAL.AMT', 'SEC.INSTAL.AMT',\n",
              "       'NEW.ACCTS.IN.LAST.SIX.MONTHS', 'DELINQUENT.ACCTS.IN.LAST.SIX.MONTHS',\n",
              "       'AVERAGE.ACCT.AGE', 'CREDIT.HISTORY.LENGTH', 'NO.OF_INQUIRIES',\n",
              "       'loan_default'],\n",
              "      dtype='object')"
            ]
          },
          "metadata": {
            "tags": []
          },
          "execution_count": 4
        }
      ]
    },
    {
      "cell_type": "code",
      "metadata": {
        "id": "b7ySKLVbQk7C"
      },
      "source": [
        "Bins_Pincode = 20\n",
        "Length = len(train_data)\n",
        "divide_flag = True\n",
        "Scale = 100"
      ],
      "execution_count": 55,
      "outputs": []
    },
    {
      "cell_type": "code",
      "metadata": {
        "id": "R9r9agUgLe_t"
      },
      "source": [
        "def replace_pin_data(x,value,data):\n",
        "  if (x in value):\n",
        "    data.append(1)\n",
        "  else:\n",
        "    data.append(0)"
      ],
      "execution_count": 56,
      "outputs": []
    },
    {
      "cell_type": "code",
      "metadata": {
        "id": "D3NMtHHTNyo5"
      },
      "source": [
        "def binpincode(data,column):\n",
        "  \n",
        "  pindata,b = pd.cut(data[column],Bins_Pincode,retbins=True)\n",
        "  bin = pindata.unique()\n",
        "  for i in range(len(bin)):\n",
        "    data_column=[]\n",
        "    data = data.reindex(columns=data.columns.tolist()+[\"pincode_bin_\"+str(i)])\n",
        "    data[column].apply(lambda x:replace_pin_data(x,bin[i],data_column))\n",
        "    data[\"pincode_bin_\"+str(i)] = data_column\n",
        "  return data"
      ],
      "execution_count": 57,
      "outputs": []
    },
    {
      "cell_type": "code",
      "metadata": {
        "id": "_nGvikP3gUSS",
        "outputId": "42426485-7156-48df-fd28-548e70610baf",
        "colab": {
          "base_uri": "https://localhost:8080/",
          "height": 316
        }
      },
      "source": [
        "train_data['Employment.Type'].unique()\n",
        "emp_data=train_data.groupby('Employment.Type').size()\n",
        "plt.pie(emp_data,labels=['Salaried','Self Employed'])"
      ],
      "execution_count": 58,
      "outputs": [
        {
          "output_type": "execute_result",
          "data": {
            "text/plain": [
              "([<matplotlib.patches.Wedge at 0x7f218b50ec50>,\n",
              "  <matplotlib.patches.Wedge at 0x7f218b5091d0>],\n",
              " [Text(0.2265383130050059, 1.0764201748113262, 'Salaried'),\n",
              "  Text(-0.22653831300500626, -1.0764201748113262, 'Self Employed')])"
            ]
          },
          "metadata": {
            "tags": []
          },
          "execution_count": 58
        },
        {
          "output_type": "display_data",
          "data": {
            "image/png": "[encoded data removed]",
            "text/plain": [
              "<Figure size 432x288 with 1 Axes>"
            ]
          },
          "metadata": {
            "tags": []
          }
        }
      ]
    },
    {
      "cell_type": "code",
      "metadata": {
        "id": "2CaN9YPdrZJT"
      },
      "source": [
        "def date2days(data):\n",
        "  value = data.split()\n",
        "  \n",
        "  year = value[0]\n",
        "  year_value = int(year[0])\n",
        "  \n",
        "  if(len(value)>1):\n",
        "    month = value[1]\n",
        "    month_value = int(month[0])\n",
        "  else:\n",
        "    month_value = 0\n",
        "  days = (year_value*365 + (month_value//2)*30 + (month_value-(month_value//2))*31)\n",
        "  if(days>0):\n",
        "    return days\n",
        "  else:\n",
        "    return 1\n",
        "  \n"
      ],
      "execution_count": 59,
      "outputs": []
    },
    {
      "cell_type": "code",
      "metadata": {
        "id": "yRMt1ysGsZon"
      },
      "source": [
        "def transformdate(initial_data,column):\n",
        "  initial_data[column]=initial_data[column].apply(lambda x:date2days(x))\n",
        "  return initial_data"
      ],
      "execution_count": 60,
      "outputs": []
    },
    {
      "cell_type": "code",
      "metadata": {
        "id": "ITwRJ5rzqeUZ"
      },
      "source": [
        "def add_column(columns,data):\n",
        "  data=data.reindex(columns=data.columns.tolist()+columns)\n",
        "  return data"
      ],
      "execution_count": 61,
      "outputs": []
    },
    {
      "cell_type": "code",
      "metadata": {
        "id": "uVx498cExy3f"
      },
      "source": [
        "def replace_cat_data(x,value,data):\n",
        "  if(x==value):\n",
        "    data.append(1)\n",
        "  else:\n",
        "    data.append(0)"
      ],
      "execution_count": 62,
      "outputs": []
    },
    {
      "cell_type": "code",
      "metadata": {
        "id": "Mmlu1WPIrYDC"
      },
      "source": [
        "def cat2int(initial_data,columns):\n",
        "  for j in columns:\n",
        "    values = initial_data[j].unique().tolist()\n",
        "    data = add_column(values,initial_data)\n",
        "    for i in values:\n",
        "      data_column = []\n",
        "      data[j].apply(lambda x:replace_cat_data(x,i,data_column))\n",
        "      data[i] = data_column\n",
        "  return data"
      ],
      "execution_count": 63,
      "outputs": []
    },
    {
      "cell_type": "code",
      "metadata": {
        "id": "46uiyUWrlKIs"
      },
      "source": [
        "def div(x,column,a,b):\n",
        "  if(x[a]!=0 and x[b]!=0):\n",
        "    column.append(x[a]/x[b])\n",
        "  else:\n",
        "    column.append(1/Length)"
      ],
      "execution_count": 64,
      "outputs": []
    },
    {
      "cell_type": "code",
      "metadata": {
        "id": "m14ZeVMv3lW_"
      },
      "source": [
        "def divide_columns(a,b,result,initial_data):\n",
        "  if(divide_flag):\n",
        "    data = add_column([result],initial_data)\n",
        "    data[result] = (data[a]+1)/(data[b]+Length)\n",
        "  else:\n",
        "    data_column=[]\n",
        "    data.apply(div(data_column,a,b),axis=1)\n",
        "    data[result] = data_column\n",
        "  return data"
      ],
      "execution_count": 65,
      "outputs": []
    },
    {
      "cell_type": "code",
      "metadata": {
        "id": "pNnS3Jpm7QI5"
      },
      "source": [
        "def total_columns(a,b,result,initial_data):\n",
        "  data = add_column([result],initial_data)\n",
        "  data[result] = data[a]+data[b]\n",
        "  return data"
      ],
      "execution_count": 66,
      "outputs": []
    },
    {
      "cell_type": "code",
      "metadata": {
        "id": "NHxcsYcrKTcn"
      },
      "source": [
        "def difference_columns(a,b,result,initial_data):\n",
        "  data = add_column([result],initial_data)\n",
        "  data[result] = data[a]-data[b]\n",
        "  return data"
      ],
      "execution_count": 67,
      "outputs": []
    },
    {
      "cell_type": "code",
      "metadata": {
        "id": "BDcSjANVHU3y"
      },
      "source": [
        "remove_columns = ['UniqueID','branch_id','supplier_id','manufacturer_id','Employee_code_ID','DisbursalDate','Date.of.Birth','DisbursalDate','State_ID','Current_pincode_ID','Employment.Type','PERFORM_CNS.SCORE.DESCRIPTION']\n",
        "categorical_columns = ['Employment.Type','PERFORM_CNS.SCORE.DESCRIPTION','State_ID']\n"
      ],
      "execution_count": 238,
      "outputs": []
    },
    {
      "cell_type": "code",
      "metadata": {
        "id": "idYVgbfp70Y0"
      },
      "source": [
        "def transform_data(initial_data):\n",
        "  \n",
        "  label_data = initial_data.pop('loan_default')\n",
        "  \n",
        "\n",
        "  data = cat2int(initial_data,categorical_columns)\n",
        "  \n",
        "  data = divide_columns('PRI.ACTIVE.ACCTS','PRI.NO.OF.ACCTS','Proportion of active accounts',data)\n",
        "  data = divide_columns('PRI.OVERDUE.ACCTS', 'PRI.ACTIVE.ACCTS','Proportion of overdue accounts',data)\n",
        "  \n",
        "  data = divide_columns('PRI.CURRENT.BALANCE','PRI.ACTIVE.ACCTS','Balance per account',data)\n",
        " \n",
        "  data = divide_columns('PRI.DISBURSED.AMOUNT','PRI.SANCTIONED.AMOUNT','Proportion of sanction amount disbursed',data)\n",
        "\n",
        "  data = total_columns('SEC.ACTIVE.ACCTS','PRI.ACTIVE.ACCTS','total_active_accounts',data)\n",
        "  data = total_columns('SEC.OVERDUE.ACCTS','PRI.OVERDUE.ACCTS','total_overdue_accounts',data)\n",
        "  data = total_columns('SEC.CURRENT.BALANCE','PRI.CURRENT.BALANCE','total_current_balance',data)\n",
        "  data = total_columns('SEC.DISBURSED.AMOUNT','PRI.DISBURSED.AMOUNT','total_disbursed_amount',data)\n",
        "  \n",
        "  data = difference_columns('DELINQUENT.ACCTS.IN.LAST.SIX.MONTHS','NEW.ACCTS.IN.LAST.SIX.MONTHS','Proportion of deliquent account',data)\n",
        "  \n",
        "  data = transformdate(data,'CREDIT.HISTORY.LENGTH')\n",
        "  data = divide_columns('NO.OF_INQUIRIES','CREDIT.HISTORY.LENGTH','Proportion of inquries in credit history',data)\n",
        "  \n",
        "  data = transformdate(data,'AVERAGE.ACCT.AGE')\n",
        "  data = difference_columns('CREDIT.HISTORY.LENGTH','AVERAGE.ACCT.AGE','difference in average account age and credit history',data)\n",
        "  \n",
        "  data['DisbursalDate'] = pd.to_datetime(data['DisbursalDate'])\n",
        "  data['Date.of.Birth'] = pd.to_datetime(data['Date.of.Birth'])\n",
        "  \n",
        "  data = difference_columns('DisbursalDate','Date.of.Birth','Age in days',data)\n",
        "  data['Age in days'] = data['Age in days'].dt.days\n",
        "  #data = binpincode(data,'Current_pincode_ID')\n",
        "  \n",
        "  data = data.drop(remove_columns,axis=1)\n",
        "  \n",
        "  return data, label_data"
      ],
      "execution_count": 217,
      "outputs": []
    },
    {
      "cell_type": "code",
      "metadata": {
        "id": "bktWZZhGQywV"
      },
      "source": [
        "min_max_scaler = preprocessing.MinMaxScaler()"
      ],
      "execution_count": 18,
      "outputs": []
    },
    {
      "cell_type": "code",
      "metadata": {
        "id": "AjEVlHGCQiWR"
      },
      "source": [
        "def normalize(data,columns):\n",
        "  for i in columns:\n",
        "    data[i] = ((data[i]-min(data[i]))/(max(data[i])-min(data[i])))*Scale\n",
        "  return data"
      ],
      "execution_count": 99,
      "outputs": []
    },
    {
      "cell_type": "code",
      "metadata": {
        "id": "r36NCS_Ppfjg"
      },
      "source": [
        "normalize_columns = ['disbursed_amount', 'asset_cost', 'ltv','PERFORM_CNS.SCORE','PRI.NO.OF.ACCTS', 'PRI.ACTIVE.ACCTS','PRI.OVERDUE.ACCTS', 'PRI.CURRENT.BALANCE', 'PRI.SANCTIONED.AMOUNT','PRI.DISBURSED.AMOUNT', 'SEC.NO.OF.ACCTS', 'SEC.ACTIVE.ACCTS','SEC.OVERDUE.ACCTS', 'SEC.CURRENT.BALANCE', 'SEC.SANCTIONED.AMOUNT','SEC.DISBURSED.AMOUNT', 'PRIMARY.INSTAL.AMT', 'SEC.INSTAL.AMT','NEW.ACCTS.IN.LAST.SIX.MONTHS', 'DELINQUENT.ACCTS.IN.LAST.SIX.MONTHS','AVERAGE.ACCT.AGE', 'CREDIT.HISTORY.LENGTH', 'NO.OF_INQUIRIES','total_active_accounts','total_overdue_accounts','total_current_balance','total_disbursed_amount','total_disbursed_amount','Proportion of inquries in credit history','difference in average account age and credit history','Age in days','Proportion of active accounts','Proportion of overdue accounts','Balance per account','Proportion of sanction amount disbursed']"
      ],
      "execution_count": 143,
      "outputs": []
    },
    {
      "cell_type": "code",
      "metadata": {
        "id": "XxOEUMflRNN7"
      },
      "source": [
        "final_train_data, final_train_label = transform_data(train_data)\n"
      ],
      "execution_count": 241,
      "outputs": []
    },
    {
      "cell_type": "code",
      "metadata": {
        "id": "FxSKtsydoesq"
      },
      "source": [
        "final_train_data.head()"
      ],
      "execution_count": null,
      "outputs": []
    },
    {
      "cell_type": "code",
      "metadata": {
        "id": "J255gNmRr5_Z"
      },
      "source": [
        "normalized_data = normalize(final_train_data,normalize_columns)"
      ],
      "execution_count": 242,
      "outputs": []
    },
    {
      "cell_type": "code",
      "metadata": {
        "id": "_iQImZN6va4b"
      },
      "source": [
        "data_length = int(0.95*len(normalized_data))\n",
        "train_normalize_data = normalized_data[:data_length]\n",
        "train_label = final_train_label[:data_length]\n",
        "\n",
        "validate_normalize_data = normalized_data[data_length:]\n",
        "valid_label = final_train_label[data_length:]"
      ],
      "execution_count": 243,
      "outputs": []
    },
    {
      "cell_type": "code",
      "metadata": {
        "id": "pMxzeNOQwLz6"
      },
      "source": [
        "logistic = linear_model.LogisticRegression(class_weight={1:4,0:1})\n"
      ],
      "execution_count": 244,
      "outputs": []
    },
    {
      "cell_type": "code",
      "metadata": {
        "id": "AxWmJojFwSPk"
      },
      "source": [
        "logistic.fit(train_normalize_data,train_label)"
      ],
      "execution_count": null,
      "outputs": []
    },
    {
      "cell_type": "code",
      "metadata": {
        "id": "XuP37kiww8Ix"
      },
      "source": [
        "predict = logistic.predict(validate_normalize_data)"
      ],
      "execution_count": 246,
      "outputs": []
    },
    {
      "cell_type": "code",
      "metadata": {
        "id": "9LOadzLsUgbL"
      },
      "source": [
        "predict_train = logistic.predict(train_normalize_data)"
      ],
      "execution_count": 247,
      "outputs": []
    },
    {
      "cell_type": "code",
      "metadata": {
        "id": "Gn02Kjw_UxPG",
        "outputId": "335fb90b-22c2-4e1f-ba10-7bfc5c4e56b9",
        "colab": {
          "base_uri": "https://localhost:8080/",
          "height": 34
        }
      },
      "source": [
        "f1_score(predict_train,train_label)"
      ],
      "execution_count": 248,
      "outputs": [
        {
          "output_type": "execute_result",
          "data": {
            "text/plain": [
              "0.39039096040151183"
            ]
          },
          "metadata": {
            "tags": []
          },
          "execution_count": 248
        }
      ]
    },
    {
      "cell_type": "code",
      "metadata": {
        "id": "uND9O3TlxB5V",
        "outputId": "2539a813-b5aa-4454-c0e7-0c27f81f60f8",
        "colab": {
          "base_uri": "https://localhost:8080/",
          "height": 34
        }
      },
      "source": [
        "f1_score(predict,valid_label)"
      ],
      "execution_count": 249,
      "outputs": [
        {
          "output_type": "execute_result",
          "data": {
            "text/plain": [
              "0.390775415212102"
            ]
          },
          "metadata": {
            "tags": []
          },
          "execution_count": 249
        }
      ]
    },
    {
      "cell_type": "code",
      "metadata": {
        "id": "wjT0DL_oBA98",
        "outputId": "eb197ad3-43b9-4cb1-baf9-850baa3f80ca",
        "colab": {
          "base_uri": "https://localhost:8080/",
          "height": 170
        }
      },
      "source": [
        "print(classification_report(predict,valid_label))"
      ],
      "execution_count": 213,
      "outputs": [
        {
          "output_type": "stream",
          "text": [
            "              precision    recall  f1-score   support\n",
            "\n",
            "           0       0.46      0.86      0.60      4879\n",
            "           1       0.72      0.27      0.39      6779\n",
            "\n",
            "    accuracy                           0.52     11658\n",
            "   macro avg       0.59      0.56      0.49     11658\n",
            "weighted avg       0.61      0.52      0.48     11658\n",
            "\n"
          ],
          "name": "stdout"
        }
      ]
    }
  ]
}